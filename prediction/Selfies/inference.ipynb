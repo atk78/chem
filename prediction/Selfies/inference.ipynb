{
 "cells": [
  {
   "cell_type": "code",
   "execution_count": 1,
   "metadata": {},
   "outputs": [
    {
     "name": "stdout",
     "output_type": "stream",
     "text": [
      "***SMILES_X for inference starts...***\n",
      "\n",
      "\n",
      "***Checking the SMILES list for inference***\n",
      "\n",
      "The SMILES below are incerrect and could not be verified via RDKit.\n",
      "ABC\n",
      "DEF\n",
      "Prediction Result\n",
      "                   SMILES Predicted Value(mean) Predicted Value(std)\n",
      "0  COc1ccc(C(=O)N(C)C)cc1            -11.048002               0.1431\n",
      "1            CS(=O)(=O)Cl             -4.806752             0.236777\n",
      "2                C=CC(C)C              1.478165             0.040989\n",
      "3              CCc1cnccn1             -5.554611             0.097737\n"
     ]
    }
   ],
   "source": [
    "from src import inference\n",
    "import pandas as pd\n",
    "\n",
    "\n",
    "inference.main(\n",
    "    data_name=\"FreeSolv\",\n",
    "    smiles_list=[\n",
    "        \"COc1ccc(C(=O)N(C)C)cc1\",  # -11.01\n",
    "        \"CS(=O)(=O)Cl\",            # -4.87\n",
    "        \"C=CC(C)C\",                # 1.83\n",
    "        \"CCc1cnccn1\",              # -5.45\n",
    "        \"ABC\",\n",
    "        \"DEF\",\n",
    "    ],\n",
    "    augmentation=True,\n",
    ")"
   ]
  },
  {
   "cell_type": "code",
   "execution_count": null,
   "metadata": {},
   "outputs": [],
   "source": []
  }
 ],
 "metadata": {
  "kernelspec": {
   "display_name": ".venv",
   "language": "python",
   "name": "python3"
  },
  "language_info": {
   "codemirror_mode": {
    "name": "ipython",
    "version": 3
   },
   "file_extension": ".py",
   "mimetype": "text/x-python",
   "name": "python",
   "nbconvert_exporter": "python",
   "pygments_lexer": "ipython3",
   "version": "3.11.8"
  }
 },
 "nbformat": 4,
 "nbformat_minor": 2
}
