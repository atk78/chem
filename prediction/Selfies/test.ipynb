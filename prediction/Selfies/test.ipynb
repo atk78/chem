{
 "cells": [
  {
   "cell_type": "code",
   "execution_count": 21,
   "metadata": {},
   "outputs": [],
   "source": [
    "import pandas as pd\n",
    "import selfies as sf\n",
    "\n",
    "df = pd.read_csv(\"data/FreeSolv_SAMPL.csv\")\n",
    "df = df[[\"smiles\", \"expt\"]]\n",
    "smiles = df[\"smiles\"]"
   ]
  },
  {
   "cell_type": "code",
   "execution_count": 56,
   "metadata": {},
   "outputs": [
    {
     "data": {
      "text/plain": [
       "['[N+1]',\n",
       " '[#Branch1]',\n",
       " '[Br]',\n",
       " '[N]',\n",
       " '[F]',\n",
       " '[=Branch2]',\n",
       " '[=N]',\n",
       " '[Branch2]',\n",
       " '[#C]',\n",
       " '[=C]',\n",
       " '[=O]',\n",
       " '[NH1]',\n",
       " '[C@H1]',\n",
       " '[Cl]',\n",
       " '[C@]',\n",
       " '[=Ring1]',\n",
       " '[\\\\Cl]',\n",
       " '[\\\\C]',\n",
       " '[S+2]',\n",
       " '[/Cl]',\n",
       " '[/N]',\n",
       " '[C]',\n",
       " '[=N+1]',\n",
       " '[Ring2]',\n",
       " '[P]',\n",
       " '[Ring1]',\n",
       " '[O-1]',\n",
       " '[I]',\n",
       " '[#Branch2]',\n",
       " '[O]',\n",
       " '[=S]',\n",
       " '[/C]',\n",
       " '[C@@H1]',\n",
       " '[=Branch1]',\n",
       " '[S]',\n",
       " '[Branch1]',\n",
       " '[#N]',\n",
       " '[C@@]']"
      ]
     },
     "execution_count": 56,
     "metadata": {},
     "output_type": "execute_result"
    }
   ],
   "source": [
    "selfies_list = []\n",
    "for s in smiles:\n",
    "    selfies = sf.encoder(s).split(sep=\"][\")\n",
    "    selfies[0] = selfies[0][1:]\n",
    "    selfies[-1] = selfies[-1][:-1]\n",
    "    selfies_list.extend(selfies)\n",
    "\n",
    "selfies_list = [f\"[{selfies_i}]\" for selfies_i in set(selfies_list)]\n",
    "selfies_list"
   ]
  },
  {
   "cell_type": "code",
   "execution_count": null,
   "metadata": {},
   "outputs": [],
   "source": []
  }
 ],
 "metadata": {
  "kernelspec": {
   "display_name": ".venv",
   "language": "python",
   "name": "python3"
  },
  "language_info": {
   "codemirror_mode": {
    "name": "ipython",
    "version": 3
   },
   "file_extension": ".py",
   "mimetype": "text/x-python",
   "name": "python",
   "nbconvert_exporter": "python",
   "pygments_lexer": "ipython3",
   "version": "3.11.8"
  }
 },
 "nbformat": 4,
 "nbformat_minor": 2
}
