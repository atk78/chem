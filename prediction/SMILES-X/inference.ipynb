{
 "cells": [
  {
   "cell_type": "code",
   "execution_count": 1,
   "metadata": {},
   "outputs": [
    {
     "name": "stdout",
     "output_type": "stream",
     "text": [
      "***SMILES_X for inference starts...***\n",
      "\n",
      "\n",
      "***Checking the SMILES list for inference***\n",
      "\n",
      "The SMILES below are incerrect and could not be verified via RDKit.\n",
      "ABC\n",
      "DEF\n",
      "Setup Polymer Tokens.\n",
      "***Data augmentation is True***\n",
      "\n",
      "Enumerated SMILES:\n",
      "Prediction Result\n",
      "                                              SMILES Predicted Value(mean)  \\\n",
      "0                                                *C*            -53.690994   \n",
      "1                                        *CC(*)CCCCC            -60.851486   \n",
      "2  *CC(*)C(=O)OCC(F)(F)C(F)(F)OC(F)(F)C(F)(F)C(F)...            -72.383286   \n",
      "3                                     *CC(*)c1ccccc1            110.462791   \n",
      "\n",
      "  Predicted Value(std)  \n",
      "0             0.357174  \n",
      "1              9.13024  \n",
      "2              4.37831  \n",
      "3             8.292583  \n"
     ]
    }
   ],
   "source": [
    "from src import inference\n",
    "import pandas as pd\n",
    "\n",
    "df = pd.read_csv(\"data/processed/Tg.csv\")\n",
    "smiles = df[\"smiles\"].to_list()\n",
    "\n",
    "inference.main(\n",
    "    data_name=\"Tg_2000\",\n",
    "    smiles_list=[\"*C*\", \"*CC(*)CCCCC\", '*CC(*)C(=O)OCC(F)(F)C(F)(F)OC(F)(F)C(F)(F)C(F)(F)C(F)(F)F','*CC(*)c1ccccc1','ABC','DEF'],\n",
    "    augmentation=True,\n",
    "    outputs_dir=\"outputs\"\n",
    ")"
   ]
  },
  {
   "cell_type": "code",
   "execution_count": null,
   "metadata": {},
   "outputs": [],
   "source": []
  }
 ],
 "metadata": {
  "kernelspec": {
   "display_name": ".venv",
   "language": "python",
   "name": "python3"
  },
  "language_info": {
   "codemirror_mode": {
    "name": "ipython",
    "version": 3
   },
   "file_extension": ".py",
   "mimetype": "text/x-python",
   "name": "python",
   "nbconvert_exporter": "python",
   "pygments_lexer": "ipython3",
   "version": "3.11.8"
  }
 },
 "nbformat": 4,
 "nbformat_minor": 2
}
