{
 "cells": [
  {
   "cell_type": "code",
   "execution_count": 1,
   "metadata": {},
   "outputs": [
    {
     "name": "stdout",
     "output_type": "stream",
     "text": [
      "shape: (5, 2)\n",
      "┌────────────────────────┬────────┐\n",
      "│ smiles                 ┆ expt   │\n",
      "│ ---                    ┆ ---    │\n",
      "│ str                    ┆ f64    │\n",
      "╞════════════════════════╪════════╡\n",
      "│ COc1ccc(C(=O)N(C)C)cc1 ┆ -11.01 │\n",
      "│ CS(=O)(=O)Cl           ┆ -4.87  │\n",
      "│ C=CC(C)C               ┆ 1.83   │\n",
      "│ CCc1cnccn1             ┆ -5.45  │\n",
      "│ CCCCCCCO               ┆ -4.21  │\n",
      "└────────────────────────┴────────┘\n",
      "2024-04-24 12:54:09 | INFO |    OS: Windows\n"
     ]
    },
    {
     "name": "stderr",
     "output_type": "stream",
     "text": [
      "Seed set to 42\n"
     ]
    },
    {
     "name": "stdout",
     "output_type": "stream",
     "text": [
      "2024-04-24 12:54:09 | INFO |    precision is 16\n",
      "2024-04-24 12:54:09 | INFO |    ***Sampling and splitting of the dataset.***\n",
      "2024-04-24 12:54:09 | INFO |    Train/valid/test splits:0.80/0.10/0.10\n",
      "2024-04-24 12:54:09 | INFO |    Setup Molecule Tokens.\n",
      "2024-04-24 12:54:09 | INFO |    ***Data augmentation is True.***\n",
      "2024-04-24 12:54:09 | INFO |    Augmented SMILES data size:\n"
     ]
    },
    {
     "name": "stderr",
     "output_type": "stream",
     "text": [
      "100%|██████████| 4345/4345 [00:00<00:00, 278084.24it/s]\n",
      "100%|██████████| 517/517 [00:00<00:00, 32673.70it/s]\n",
      "100%|██████████| 493/493 [00:00<?, ?it/s]"
     ]
    },
    {
     "name": "stdout",
     "output_type": "stream",
     "text": [
      "2024-04-24 12:54:09 | INFO |    Training set\t| 4345\n",
      "2024-04-24 12:54:09 | INFO |    Validation set\t| 517\n",
      "2024-04-24 12:54:09 | INFO |    Test set\t| 493\n",
      "2024-04-24 12:54:09 | INFO |    Number of tokens only present in a training set: 34\n",
      "2024-04-24 12:54:09 | INFO |    Number of tokens only present in a validation set: 26\n",
      "2024-04-24 12:54:09 | INFO |    Is the validation set a subset of the training set: True\n",
      "2024-04-24 12:54:09 | INFO |    What are the tokens by which they differ: set()\n",
      "2024-04-24 12:54:09 | INFO |    Number of tokens only present in a test set: 24\n",
      "2024-04-24 12:54:09 | INFO |    Is the test set a subset of the training set: True\n",
      "2024-04-24 12:54:09 | INFO |    What are the tokens by which they differ: set()\n",
      "2024-04-24 12:54:09 | INFO |    Is the test set a subset of the validation set: False\n",
      "2024-04-24 12:54:09 | INFO |    What are the tokens by which they differ: {'3', '[C@]', '[C@@]', '-'}\n",
      "2024-04-24 12:54:09 | INFO |    Full vocabulary: ['sos', 'eos', 'n', 'N', '3', '[C@H]', '[C@@]', 'F', 'Br', '(', '[S+2]', '#', '[O-]', 'c', 'P', '[C@@H]', 'S', '[nH]', 'I', '2', ')', '-', 'C', '5', '4', '/', '\\\\', '1', 's', '=', '[N+]', 'Cl', '[C@]', 'O']\n",
      "2024-04-24 12:54:09 | INFO |    Of size: 34\n",
      "2024-04-24 12:54:09 | INFO |    Maximum length of tokenized SMILES: 52 tokens(termination spaces included)\n"
     ]
    },
    {
     "name": "stderr",
     "output_type": "stream",
     "text": [
      "\n",
      "Using 16bit Automatic Mixed Precision (AMP)\n",
      "GPU available: True (cuda), used: True\n",
      "TPU available: False, using: 0 TPU cores\n",
      "IPU available: False, using: 0 IPUs\n",
      "HPU available: False, using: 0 HPUs\n",
      "Missing logger folder: ../outputs/FreeSolv\\bayes_opt\n",
      "LOCAL_RANK: 0 - CUDA_VISIBLE_DEVICES: [0]\n",
      "\n",
      "  | Name          | Type             | Params\n",
      "---------------------------------------------------\n",
      "0 | train_metrics | MetricCollection | 0     \n",
      "1 | valid_metrics | MetricCollection | 0     \n",
      "2 | model         | SmilesX          | 152 K \n",
      "---------------------------------------------------\n",
      "152 K     Trainable params\n",
      "0         Non-trainable params\n",
      "152 K     Total params\n",
      "0.608     Total estimated model params size (MB)\n",
      "Epoch 1: 100%|██████████| 33/33 [00:03<00:00, 10.13it/s, loss=0.093, val_loss=0.042, val_r2=0.776]\n",
      "Epoch 2: 100%|██████████| 33/33 [00:00<00:00, 137.84it/s, loss=0.024, val_loss=0.016, val_r2=0.917]\n",
      "Epoch 3: 100%|██████████| 33/33 [00:00<00:00, 123.59it/s, loss=0.015, val_loss=0.013, val_r2=0.930]\n",
      "Epoch 4: 100%|██████████| 33/33 [00:00<00:00, 122.48it/s, loss=0.012, val_loss=0.011, val_r2=0.942]\n",
      "Epoch 5: 100%|██████████| 33/33 [00:00<00:00, 123.52it/s, loss=0.010, val_loss=0.010, val_r2=0.948]\n",
      "Epoch 6: 100%|██████████| 33/33 [00:00<00:00, 117.73it/s, loss=0.008, val_loss=0.009, val_r2=0.952]\n",
      "Epoch 7: 100%|██████████| 33/33 [00:00<00:00, 125.70it/s, loss=0.008, val_loss=0.010, val_r2=0.948]\n",
      "Epoch 8: 100%|██████████| 33/33 [00:00<00:00, 124.47it/s, loss=0.007, val_loss=0.009, val_r2=0.952]\n",
      "Epoch 9: 100%|██████████| 33/33 [00:00<00:00, 121.32it/s, loss=0.007, val_loss=0.009, val_r2=0.952]\n",
      "Epoch 10: 100%|██████████| 33/33 [00:00<00:00, 124.48it/s, loss=0.007, val_loss=0.009, val_r2=0.951]\n",
      "`Trainer.fit` stopped: `max_epochs=10` reached.\n"
     ]
    },
    {
     "name": "stdout",
     "output_type": "stream",
     "text": [
      "2024-04-24 12:54:27 | INFO |    Trial 0 finished with value: 0.009169378317892551 and parameters: {'n_lstm_units': 5, 'n_dense_units': 10, 'n_embedding_dim': 8, 'learning_rate': 0.0015751320499779737}. Best is trial 0 with value: 0.009169378317892551 and R2: 0.9511953592300415.\n"
     ]
    },
    {
     "name": "stderr",
     "output_type": "stream",
     "text": [
      "Using 16bit Automatic Mixed Precision (AMP)\n",
      "GPU available: True (cuda), used: True\n",
      "TPU available: False, using: 0 TPU cores\n",
      "IPU available: False, using: 0 IPUs\n",
      "HPU available: False, using: 0 HPUs\n",
      "LOCAL_RANK: 0 - CUDA_VISIBLE_DEVICES: [0]\n",
      "\n",
      "  | Name          | Type             | Params\n",
      "---------------------------------------------------\n",
      "0 | train_metrics | MetricCollection | 0     \n",
      "1 | valid_metrics | MetricCollection | 0     \n",
      "2 | model         | SmilesX          | 4.2 K \n",
      "---------------------------------------------------\n",
      "4.2 K     Trainable params\n",
      "0         Non-trainable params\n",
      "4.2 K     Total params\n",
      "0.017     Total estimated model params size (MB)\n",
      "Epoch 1: 100%|██████████| 33/33 [00:02<00:00, 12.00it/s, loss=0.095, val_loss=0.102, val_r2=0.455]\n",
      "Epoch 2: 100%|██████████| 33/33 [00:00<00:00, 109.94it/s, loss=0.054, val_loss=0.049, val_r2=0.738]\n",
      "Epoch 3: 100%|██████████| 33/33 [00:00<00:00, 109.43it/s, loss=0.037, val_loss=0.035, val_r2=0.814]\n",
      "Epoch 4: 100%|██████████| 33/33 [00:00<00:00, 131.97it/s, loss=0.026, val_loss=0.032, val_r2=0.831]\n",
      "Epoch 5: 100%|██████████| 33/33 [00:00<00:00, 140.91it/s, loss=0.020, val_loss=0.028, val_r2=0.849]\n",
      "Epoch 6: 100%|██████████| 33/33 [00:00<00:00, 123.93it/s, loss=0.017, val_loss=0.030, val_r2=0.841]\n",
      "Epoch 7: 100%|██████████| 33/33 [00:00<00:00, 132.24it/s, loss=0.016, val_loss=0.026, val_r2=0.861]\n",
      "Epoch 8: 100%|██████████| 33/33 [00:00<00:00, 131.36it/s, loss=0.015, val_loss=0.029, val_r2=0.844]\n",
      "Epoch 9: 100%|██████████| 33/33 [00:00<00:00, 124.05it/s, loss=0.015, val_loss=0.028, val_r2=0.853]\n",
      "Epoch 10: 100%|██████████| 33/33 [00:00<00:00, 132.11it/s, loss=0.014, val_loss=0.026, val_r2=0.864]\n",
      "`Trainer.fit` stopped: `max_epochs=10` reached.\n"
     ]
    },
    {
     "name": "stdout",
     "output_type": "stream",
     "text": [
      "2024-04-24 12:54:35 | INFO |    Trial 1 finished with value: 0.02560337446630001 and parameters: {'n_lstm_units': 4, 'n_dense_units': 4, 'n_embedding_dim': 3, 'learning_rate': 0.005399484409787433}. Best is trial 0 with value: 0.009169378317892551 and R2: 0.9511953592300415.\n"
     ]
    },
    {
     "name": "stderr",
     "output_type": "stream",
     "text": [
      "Using 16bit Automatic Mixed Precision (AMP)\n",
      "GPU available: True (cuda), used: True\n",
      "TPU available: False, using: 0 TPU cores\n",
      "IPU available: False, using: 0 IPUs\n",
      "HPU available: False, using: 0 HPUs\n",
      "LOCAL_RANK: 0 - CUDA_VISIBLE_DEVICES: [0]\n",
      "\n",
      "  | Name          | Type             | Params\n",
      "---------------------------------------------------\n",
      "0 | train_metrics | MetricCollection | 0     \n",
      "1 | valid_metrics | MetricCollection | 0     \n",
      "2 | model         | SmilesX          | 207 K \n",
      "---------------------------------------------------\n",
      "207 K     Trainable params\n",
      "0         Non-trainable params\n",
      "207 K     Total params\n",
      "0.832     Total estimated model params size (MB)\n",
      "Epoch 1: 100%|██████████| 33/33 [00:02<00:00, 11.72it/s, loss=0.124, val_loss=0.114, val_r2=0.391]\n",
      "Epoch 2: 100%|██████████| 33/33 [00:00<00:00, 123.53it/s, loss=0.058, val_loss=0.051, val_r2=0.727]\n",
      "Epoch 3: 100%|██████████| 33/33 [00:00<00:00, 120.80it/s, loss=0.027, val_loss=0.020, val_r2=0.893]\n",
      "Epoch 4: 100%|██████████| 33/33 [00:00<00:00, 130.46it/s, loss=0.020, val_loss=0.016, val_r2=0.912]\n",
      "Epoch 5: 100%|██████████| 33/33 [00:00<00:00, 134.47it/s, loss=0.015, val_loss=0.014, val_r2=0.925]\n",
      "Epoch 6: 100%|██████████| 33/33 [00:00<00:00, 141.43it/s, loss=0.012, val_loss=0.015, val_r2=0.923]\n",
      "Epoch 7: 100%|██████████| 33/33 [00:00<00:00, 127.82it/s, loss=0.010, val_loss=0.012, val_r2=0.936]\n",
      "Epoch 8: 100%|██████████| 33/33 [00:00<00:00, 126.01it/s, loss=0.009, val_loss=0.014, val_r2=0.927]\n",
      "Epoch 9: 100%|██████████| 33/33 [00:00<00:00, 131.55it/s, loss=0.008, val_loss=0.012, val_r2=0.938]\n",
      "Epoch 10: 100%|██████████| 33/33 [00:00<00:00, 132.54it/s, loss=0.008, val_loss=0.011, val_r2=0.940]\n",
      "`Trainer.fit` stopped: `max_epochs=10` reached.\n"
     ]
    },
    {
     "name": "stdout",
     "output_type": "stream",
     "text": [
      "2024-04-24 12:54:44 | INFO |    Trial 2 finished with value: 0.011291352100670338 and parameters: {'n_lstm_units': 7, 'n_dense_units': 8, 'n_embedding_dim': 3, 'learning_rate': 0.008706020878304856}. Best is trial 0 with value: 0.009169378317892551 and R2: 0.9511953592300415.\n"
     ]
    },
    {
     "name": "stderr",
     "output_type": "stream",
     "text": [
      "Using 16bit Automatic Mixed Precision (AMP)\n",
      "GPU available: True (cuda), used: True\n",
      "TPU available: False, using: 0 TPU cores\n",
      "IPU available: False, using: 0 IPUs\n",
      "HPU available: False, using: 0 HPUs\n",
      "LOCAL_RANK: 0 - CUDA_VISIBLE_DEVICES: [0]\n",
      "\n",
      "  | Name          | Type             | Params\n",
      "---------------------------------------------------\n",
      "0 | train_metrics | MetricCollection | 0     \n",
      "1 | valid_metrics | MetricCollection | 0     \n",
      "2 | model         | SmilesX          | 2.2 M \n",
      "---------------------------------------------------\n",
      "2.2 M     Trainable params\n",
      "0         Non-trainable params\n",
      "2.2 M     Total params\n",
      "8.752     Total estimated model params size (MB)\n",
      "Epoch 1: 100%|██████████| 33/33 [00:03<00:00, 10.74it/s, loss=0.101, val_loss=0.153, val_r2=0.184]\n",
      "Epoch 2: 100%|██████████| 33/33 [00:00<00:00, 82.65it/s, loss=0.088, val_loss=0.115, val_r2=0.387]\n",
      "Epoch 3: 100%|██████████| 33/33 [00:00<00:00, 82.36it/s, loss=0.060, val_loss=0.073, val_r2=0.611]\n",
      "Epoch 4: 100%|██████████| 33/33 [00:00<00:00, 78.69it/s, loss=0.050, val_loss=0.067, val_r2=0.642]\n",
      "Epoch 5: 100%|██████████| 33/33 [00:00<00:00, 79.47it/s, loss=0.045, val_loss=0.065, val_r2=0.653]\n",
      "Epoch 6: 100%|██████████| 33/33 [00:00<00:00, 81.60it/s, loss=0.043, val_loss=0.053, val_r2=0.717]\n",
      "Epoch 7: 100%|██████████| 33/33 [00:00<00:00, 81.68it/s, loss=0.037, val_loss=0.046, val_r2=0.754]\n",
      "Epoch 8: 100%|██████████| 33/33 [00:00<00:00, 81.28it/s, loss=0.033, val_loss=0.044, val_r2=0.766]\n",
      "Epoch 9: 100%|██████████| 33/33 [00:00<00:00, 82.67it/s, loss=0.031, val_loss=0.043, val_r2=0.771]\n",
      "Epoch 10: 100%|██████████| 33/33 [00:00<00:00, 79.36it/s, loss=0.030, val_loss=0.043, val_r2=0.770]\n",
      "`Trainer.fit` stopped: `max_epochs=10` reached.\n"
     ]
    },
    {
     "name": "stdout",
     "output_type": "stream",
     "text": [
      "2024-04-24 12:54:54 | INFO |    Trial 3 finished with value: 0.04327138513326645 and parameters: {'n_lstm_units': 9, 'n_dense_units': 4, 'n_embedding_dim': 4, 'learning_rate': 0.00023270677083837802}. Best is trial 0 with value: 0.009169378317892551 and R2: 0.9511953592300415.\n"
     ]
    },
    {
     "name": "stderr",
     "output_type": "stream",
     "text": [
      "Using 16bit Automatic Mixed Precision (AMP)\n",
      "GPU available: True (cuda), used: True\n",
      "TPU available: False, using: 0 TPU cores\n",
      "IPU available: False, using: 0 IPUs\n",
      "HPU available: False, using: 0 HPUs\n",
      "LOCAL_RANK: 0 - CUDA_VISIBLE_DEVICES: [0]\n",
      "\n",
      "  | Name          | Type             | Params\n",
      "---------------------------------------------------\n",
      "0 | train_metrics | MetricCollection | 0     \n",
      "1 | valid_metrics | MetricCollection | 0     \n",
      "2 | model         | SmilesX          | 36.0 K\n",
      "---------------------------------------------------\n",
      "36.0 K    Trainable params\n",
      "0         Non-trainable params\n",
      "36.0 K    Total params\n",
      "0.144     Total estimated model params size (MB)\n",
      "Epoch 1: 100%|██████████| 33/33 [00:02<00:00, 11.68it/s, loss=0.110, val_loss=0.168, val_r2=0.104]\n",
      "Epoch 2: 100%|██████████| 33/33 [00:00<00:00, 141.88it/s, loss=0.088, val_loss=0.129, val_r2=0.311]\n",
      "Epoch 3: 100%|██████████| 33/33 [00:00<00:00, 142.64it/s, loss=0.066, val_loss=0.077, val_r2=0.589]\n",
      "Epoch 4: 100%|██████████| 33/33 [00:00<00:00, 151.33it/s, loss=0.044, val_loss=0.053, val_r2=0.716]\n",
      "Epoch 5: 100%|██████████| 33/33 [00:00<00:00, 142.01it/s, loss=0.035, val_loss=0.042, val_r2=0.776]\n",
      "Epoch 6: 100%|██████████| 33/33 [00:00<00:00, 138.43it/s, loss=0.030, val_loss=0.033, val_r2=0.826]\n",
      "Epoch 7: 100%|██████████| 33/33 [00:00<00:00, 149.87it/s, loss=0.026, val_loss=0.029, val_r2=0.843]\n",
      "Epoch 8: 100%|██████████| 33/33 [00:00<00:00, 140.90it/s, loss=0.024, val_loss=0.027, val_r2=0.855]\n",
      "Epoch 9: 100%|██████████| 33/33 [00:00<00:00, 141.23it/s, loss=0.024, val_loss=0.026, val_r2=0.861]\n",
      "Epoch 10: 100%|██████████| 33/33 [00:00<00:00, 141.05it/s, loss=0.023, val_loss=0.026, val_r2=0.862]\n",
      "`Trainer.fit` stopped: `max_epochs=10` reached.\n"
     ]
    },
    {
     "name": "stdout",
     "output_type": "stream",
     "text": [
      "2024-04-24 12:55:02 | INFO |    Trial 4 finished with value: 0.02593272179365158 and parameters: {'n_lstm_units': 5, 'n_dense_units': 7, 'n_embedding_dim': 6, 'learning_rate': 0.0003823475224675188}. Best is trial 0 with value: 0.009169378317892551 and R2: 0.9511953592300415.\n"
     ]
    },
    {
     "name": "stderr",
     "output_type": "stream",
     "text": [
      "Using 16bit Automatic Mixed Precision (AMP)\n",
      "GPU available: True (cuda), used: True\n",
      "TPU available: False, using: 0 TPU cores\n",
      "IPU available: False, using: 0 IPUs\n",
      "HPU available: False, using: 0 HPUs\n",
      "LOCAL_RANK: 0 - CUDA_VISIBLE_DEVICES: [0]\n",
      "\n",
      "  | Name          | Type             | Params\n",
      "---------------------------------------------------\n",
      "0 | train_metrics | MetricCollection | 0     \n",
      "1 | valid_metrics | MetricCollection | 0     \n",
      "2 | model         | SmilesX          | 171 K \n",
      "---------------------------------------------------\n",
      "171 K     Trainable params\n",
      "0         Non-trainable params\n",
      "171 K     Total params\n",
      "0.685     Total estimated model params size (MB)\n",
      "Epoch 1: 100%|██████████| 33/33 [00:02<00:00, 11.25it/s, loss=0.094, val_loss=0.132, val_r2=0.299]\n",
      "Epoch 2: 100%|██████████| 33/33 [00:00<00:00, 122.79it/s, loss=0.056, val_loss=0.043, val_r2=0.769]\n",
      "Epoch 3: 100%|██████████| 33/33 [00:00<00:00, 131.88it/s, loss=0.033, val_loss=0.030, val_r2=0.839]\n",
      "Epoch 4: 100%|██████████| 33/33 [00:00<00:00, 130.83it/s, loss=0.026, val_loss=0.021, val_r2=0.889]\n",
      "Epoch 5: 100%|██████████| 33/33 [00:00<00:00, 130.47it/s, loss=0.023, val_loss=0.021, val_r2=0.888]\n",
      "Epoch 6: 100%|██████████| 33/33 [00:00<00:00, 132.37it/s, loss=0.021, val_loss=0.018, val_r2=0.902]\n",
      "Epoch 7: 100%|██████████| 33/33 [00:00<00:00, 141.14it/s, loss=0.020, val_loss=0.016, val_r2=0.915]\n",
      "Epoch 8: 100%|██████████| 33/33 [00:00<00:00, 123.06it/s, loss=0.019, val_loss=0.019, val_r2=0.898]\n",
      "Epoch 9: 100%|██████████| 33/33 [00:00<00:00, 131.49it/s, loss=0.019, val_loss=0.015, val_r2=0.918]\n",
      "Epoch 10: 100%|██████████| 33/33 [00:00<00:00, 125.44it/s, loss=0.018, val_loss=0.015, val_r2=0.918]\n",
      "`Trainer.fit` stopped: `max_epochs=10` reached.\n"
     ]
    },
    {
     "name": "stdout",
     "output_type": "stream",
     "text": [
      "2024-04-24 12:55:21 | INFO |    Trial 5 finished with value: 0.015372848138213158 and parameters: {'n_lstm_units': 7, 'n_dense_units': 4, 'n_embedding_dim': 5, 'learning_rate': 0.0005404103854647331}. Best is trial 0 with value: 0.009169378317892551 and R2: 0.9511953592300415.\n"
     ]
    },
    {
     "name": "stderr",
     "output_type": "stream",
     "text": [
      "Using 16bit Automatic Mixed Precision (AMP)\n",
      "GPU available: True (cuda), used: True\n",
      "TPU available: False, using: 0 TPU cores\n",
      "IPU available: False, using: 0 IPUs\n",
      "HPU available: False, using: 0 HPUs\n",
      "LOCAL_RANK: 0 - CUDA_VISIBLE_DEVICES: [0]\n",
      "\n",
      "  | Name          | Type             | Params\n",
      "---------------------------------------------------\n",
      "0 | train_metrics | MetricCollection | 0     \n",
      "1 | valid_metrics | MetricCollection | 0     \n",
      "2 | model         | SmilesX          | 109 K \n",
      "---------------------------------------------------\n",
      "109 K     Trainable params\n",
      "0         Non-trainable params\n",
      "109 K     Total params\n",
      "0.439     Total estimated model params size (MB)\n",
      "Epoch 1: 100%|██████████| 33/33 [00:02<00:00, 11.63it/s, loss=0.084, val_loss=0.081, val_r2=0.570]\n",
      "Epoch 2: 100%|██████████| 33/33 [00:00<00:00, 142.73it/s, loss=0.046, val_loss=0.044, val_r2=0.768]\n",
      "Epoch 3: 100%|██████████| 33/33 [00:00<00:00, 140.17it/s, loss=0.028, val_loss=0.024, val_r2=0.875]\n",
      "Epoch 4: 100%|██████████| 33/33 [00:00<00:00, 132.27it/s, loss=0.022, val_loss=0.021, val_r2=0.889]\n",
      "Epoch 5: 100%|██████████| 33/33 [00:00<00:00, 132.64it/s, loss=0.019, val_loss=0.017, val_r2=0.910]\n",
      "Epoch 6: 100%|██████████| 33/33 [00:00<00:00, 141.59it/s, loss=0.018, val_loss=0.014, val_r2=0.927]\n",
      "Epoch 7: 100%|██████████| 33/33 [00:00<00:00, 132.61it/s, loss=0.017, val_loss=0.013, val_r2=0.931]\n",
      "Epoch 8: 100%|██████████| 33/33 [00:00<00:00, 132.30it/s, loss=0.016, val_loss=0.012, val_r2=0.935]\n",
      "Epoch 9: 100%|██████████| 33/33 [00:00<00:00, 141.47it/s, loss=0.016, val_loss=0.012, val_r2=0.938]\n",
      "Epoch 10: 100%|██████████| 33/33 [00:00<00:00, 132.37it/s, loss=0.015, val_loss=0.012, val_r2=0.938]\n",
      "`Trainer.fit` stopped: `max_epochs=10` reached.\n"
     ]
    },
    {
     "name": "stdout",
     "output_type": "stream",
     "text": [
      "2024-04-24 12:55:30 | INFO |    Trial 6 finished with value: 0.011618832126259804 and parameters: {'n_lstm_units': 6, 'n_dense_units': 9, 'n_embedding_dim': 4, 'learning_rate': 0.0010677482709481358}. Best is trial 0 with value: 0.009169378317892551 and R2: 0.9511953592300415.\n"
     ]
    },
    {
     "name": "stderr",
     "output_type": "stream",
     "text": [
      "Using 16bit Automatic Mixed Precision (AMP)\n",
      "GPU available: True (cuda), used: True\n",
      "TPU available: False, using: 0 TPU cores\n",
      "IPU available: False, using: 0 IPUs\n",
      "HPU available: False, using: 0 HPUs\n",
      "LOCAL_RANK: 0 - CUDA_VISIBLE_DEVICES: [0]\n",
      "\n",
      "  | Name          | Type             | Params\n",
      "---------------------------------------------------\n",
      "0 | train_metrics | MetricCollection | 0     \n",
      "1 | valid_metrics | MetricCollection | 0     \n",
      "2 | model         | SmilesX          | 270 K \n",
      "---------------------------------------------------\n",
      "270 K     Trainable params\n",
      "0         Non-trainable params\n",
      "270 K     Total params\n",
      "1.083     Total estimated model params size (MB)\n",
      "Epoch 1: 100%|██████████| 33/33 [00:02<00:00, 11.23it/s, loss=0.098, val_loss=0.141, val_r2=0.252]\n",
      "Epoch 2: 100%|██████████| 33/33 [00:00<00:00, 125.07it/s, loss=0.073, val_loss=0.087, val_r2=0.538]\n",
      "Epoch 3: 100%|██████████| 33/33 [00:00<00:00, 131.92it/s, loss=0.048, val_loss=0.050, val_r2=0.731]\n",
      "Epoch 4: 100%|██████████| 33/33 [00:00<00:00, 124.27it/s, loss=0.034, val_loss=0.028, val_r2=0.851]\n",
      "Epoch 5: 100%|██████████| 33/33 [00:00<00:00, 124.41it/s, loss=0.025, val_loss=0.021, val_r2=0.886]\n",
      "Epoch 6: 100%|██████████| 33/33 [00:00<00:00, 132.21it/s, loss=0.021, val_loss=0.018, val_r2=0.903]\n",
      "Epoch 7: 100%|██████████| 33/33 [00:00<00:00, 131.86it/s, loss=0.020, val_loss=0.017, val_r2=0.909]\n",
      "Epoch 8: 100%|██████████| 33/33 [00:00<00:00, 130.44it/s, loss=0.018, val_loss=0.016, val_r2=0.916]\n",
      "Epoch 9: 100%|██████████| 33/33 [00:00<00:00, 123.90it/s, loss=0.018, val_loss=0.016, val_r2=0.916]\n",
      "Epoch 10: 100%|██████████| 33/33 [00:00<00:00, 130.18it/s, loss=0.018, val_loss=0.016, val_r2=0.917]\n",
      "`Trainer.fit` stopped: `max_epochs=10` reached.\n"
     ]
    },
    {
     "name": "stdout",
     "output_type": "stream",
     "text": [
      "2024-04-24 12:55:38 | INFO |    Trial 7 finished with value: 0.015575263649225235 and parameters: {'n_lstm_units': 7, 'n_dense_units': 3, 'n_embedding_dim': 7, 'learning_rate': 0.00021930485556643703}. Best is trial 0 with value: 0.009169378317892551 and R2: 0.9511953592300415.\n"
     ]
    },
    {
     "name": "stderr",
     "output_type": "stream",
     "text": [
      "Using 16bit Automatic Mixed Precision (AMP)\n",
      "GPU available: True (cuda), used: True\n",
      "TPU available: False, using: 0 TPU cores\n",
      "IPU available: False, using: 0 IPUs\n",
      "HPU available: False, using: 0 HPUs\n",
      "LOCAL_RANK: 0 - CUDA_VISIBLE_DEVICES: [0]\n",
      "\n",
      "  | Name          | Type             | Params\n",
      "---------------------------------------------------\n",
      "0 | train_metrics | MetricCollection | 0     \n",
      "1 | valid_metrics | MetricCollection | 0     \n",
      "2 | model         | SmilesX          | 122 K \n",
      "---------------------------------------------------\n",
      "122 K     Trainable params\n",
      "0         Non-trainable params\n",
      "122 K     Total params\n",
      "0.490     Total estimated model params size (MB)\n",
      "Epoch 1: 100%|██████████| 33/33 [00:02<00:00, 11.16it/s, loss=0.164, val_loss=0.074, val_r2=0.605]\n",
      "Epoch 2: 100%|██████████| 33/33 [00:00<00:00, 109.24it/s, loss=0.036, val_loss=0.036, val_r2=0.808]\n",
      "Epoch 3: 100%|██████████| 33/33 [00:00<00:00, 110.49it/s, loss=0.028, val_loss=0.022, val_r2=0.883]\n",
      "Epoch 4: 100%|██████████| 33/33 [00:00<00:00, 106.14it/s, loss=0.021, val_loss=0.020, val_r2=0.896]\n",
      "Epoch 5: 100%|██████████| 33/33 [00:00<00:00, 109.84it/s, loss=0.020, val_loss=0.021, val_r2=0.890]\n",
      "Epoch 6: 100%|██████████| 33/33 [00:00<00:00, 109.93it/s, loss=0.018, val_loss=0.020, val_r2=0.893]\n",
      "Epoch 7: 100%|██████████| 33/33 [00:00<00:00, 110.29it/s, loss=0.017, val_loss=0.020, val_r2=0.893]\n",
      "Epoch 8: 100%|██████████| 33/33 [00:00<00:00, 116.70it/s, loss=0.016, val_loss=0.019, val_r2=0.899]\n",
      "Epoch 9: 100%|██████████| 33/33 [00:00<00:00, 111.07it/s, loss=0.016, val_loss=0.019, val_r2=0.899]\n",
      "Epoch 10: 100%|██████████| 33/33 [00:00<00:00, 109.66it/s, loss=0.016, val_loss=0.019, val_r2=0.899]\n",
      "`Trainer.fit` stopped: `max_epochs=10` reached.\n"
     ]
    },
    {
     "name": "stdout",
     "output_type": "stream",
     "text": [
      "2024-04-24 12:55:47 | INFO |    Trial 8 finished with value: 0.01905537024140358 and parameters: {'n_lstm_units': 3, 'n_dense_units': 10, 'n_embedding_dim': 10, 'learning_rate': 0.004138040112561018}. Best is trial 0 with value: 0.009169378317892551 and R2: 0.9511953592300415.\n"
     ]
    },
    {
     "name": "stderr",
     "output_type": "stream",
     "text": [
      "Using 16bit Automatic Mixed Precision (AMP)\n",
      "GPU available: True (cuda), used: True\n",
      "TPU available: False, using: 0 TPU cores\n",
      "IPU available: False, using: 0 IPUs\n",
      "HPU available: False, using: 0 HPUs\n",
      "LOCAL_RANK: 0 - CUDA_VISIBLE_DEVICES: [0]\n",
      "\n",
      "  | Name          | Type             | Params\n",
      "---------------------------------------------------\n",
      "0 | train_metrics | MetricCollection | 0     \n",
      "1 | valid_metrics | MetricCollection | 0     \n",
      "2 | model         | SmilesX          | 84.0 K\n",
      "---------------------------------------------------\n",
      "84.0 K    Trainable params\n",
      "0         Non-trainable params\n",
      "84.0 K    Total params\n",
      "0.336     Total estimated model params size (MB)\n",
      "Epoch 1: 100%|██████████| 33/33 [00:02<00:00, 11.84it/s, loss=0.092, val_loss=0.114, val_r2=0.395]\n",
      "Epoch 2: 100%|██████████| 33/33 [00:00<00:00, 141.12it/s, loss=0.052, val_loss=0.048, val_r2=0.743]\n",
      "Epoch 3: 100%|██████████| 33/33 [00:00<00:00, 141.09it/s, loss=0.028, val_loss=0.026, val_r2=0.859]\n",
      "Epoch 4: 100%|██████████| 33/33 [00:00<00:00, 133.30it/s, loss=0.019, val_loss=0.019, val_r2=0.902]\n",
      "Epoch 5: 100%|██████████| 33/33 [00:00<00:00, 133.39it/s, loss=0.015, val_loss=0.016, val_r2=0.914]\n",
      "Epoch 6: 100%|██████████| 33/33 [00:00<00:00, 131.57it/s, loss=0.013, val_loss=0.013, val_r2=0.928]\n",
      "Epoch 7: 100%|██████████| 33/33 [00:00<00:00, 139.37it/s, loss=0.012, val_loss=0.012, val_r2=0.935]\n",
      "Epoch 8: 100%|██████████| 33/33 [00:00<00:00, 131.49it/s, loss=0.011, val_loss=0.012, val_r2=0.935]\n",
      "Epoch 9: 100%|██████████| 33/33 [00:00<00:00, 139.37it/s, loss=0.011, val_loss=0.012, val_r2=0.938]\n",
      "Epoch 10: 100%|██████████| 33/33 [00:00<00:00, 131.91it/s, loss=0.011, val_loss=0.012, val_r2=0.938]\n",
      "`Trainer.fit` stopped: `max_epochs=10` reached.\n"
     ]
    },
    {
     "name": "stdout",
     "output_type": "stream",
     "text": [
      "2024-04-24 12:55:56 | INFO |    Trial 9 finished with value: 0.01165803987532854 and parameters: {'n_lstm_units': 5, 'n_dense_units': 3, 'n_embedding_dim': 8, 'learning_rate': 0.0007591104805282694}. Best is trial 0 with value: 0.009169378317892551 and R2: 0.9511953592300415.\n"
     ]
    },
    {
     "name": "stderr",
     "output_type": "stream",
     "text": [
      "Using 16bit Automatic Mixed Precision (AMP)\n",
      "GPU available: True (cuda), used: True\n",
      "TPU available: False, using: 0 TPU cores\n",
      "IPU available: False, using: 0 IPUs\n",
      "HPU available: False, using: 0 HPUs\n",
      "LOCAL_RANK: 0 - CUDA_VISIBLE_DEVICES: [0]\n",
      "\n",
      "  | Name          | Type             | Params\n",
      "---------------------------------------------------\n",
      "0 | train_metrics | MetricCollection | 0     \n",
      "1 | valid_metrics | MetricCollection | 0     \n",
      "2 | model         | SmilesX          | 2.7 K \n",
      "---------------------------------------------------\n",
      "2.7 K     Trainable params\n",
      "0         Non-trainable params\n",
      "2.7 K     Total params\n",
      "0.011     Total estimated model params size (MB)\n",
      "Epoch 1: 100%|██████████| 33/33 [00:02<00:00, 11.91it/s, loss=0.086, val_loss=0.086, val_r2=0.543]\n",
      "Epoch 2: 100%|██████████| 33/33 [00:00<00:00, 140.62it/s, loss=0.041, val_loss=0.046, val_r2=0.753]\n",
      "Epoch 3: 100%|██████████| 33/33 [00:00<00:00, 141.67it/s, loss=0.028, val_loss=0.027, val_r2=0.855]\n",
      "Epoch 4: 100%|██████████| 33/33 [00:00<00:00, 140.21it/s, loss=0.024, val_loss=0.024, val_r2=0.873]\n",
      "Epoch 5: 100%|██████████| 33/33 [00:00<00:00, 140.64it/s, loss=0.021, val_loss=0.018, val_r2=0.902]\n",
      "Epoch 6: 100%|██████████| 33/33 [00:00<00:00, 141.95it/s, loss=0.019, val_loss=0.015, val_r2=0.921]\n",
      "Epoch 7: 100%|██████████| 33/33 [00:00<00:00, 141.61it/s, loss=0.018, val_loss=0.015, val_r2=0.923]\n",
      "Epoch 8: 100%|██████████| 33/33 [00:00<00:00, 151.59it/s, loss=0.017, val_loss=0.014, val_r2=0.925]\n",
      "Epoch 9: 100%|██████████| 33/33 [00:00<00:00, 140.56it/s, loss=0.017, val_loss=0.014, val_r2=0.926]\n",
      "Epoch 10: 100%|██████████| 33/33 [00:00<00:00, 141.32it/s, loss=0.017, val_loss=0.014, val_r2=0.925]\n",
      "`Trainer.fit` stopped: `max_epochs=10` reached.\n"
     ]
    },
    {
     "name": "stdout",
     "output_type": "stream",
     "text": [
      "2024-04-24 12:56:04 | INFO |    Trial 10 finished with value: 0.014053073711693287 and parameters: {'n_lstm_units': 3, 'n_dense_units': 6, 'n_embedding_dim': 3, 'learning_rate': 0.006586289317583112}. Best is trial 0 with value: 0.009169378317892551 and R2: 0.9511953592300415.\n"
     ]
    },
    {
     "name": "stderr",
     "output_type": "stream",
     "text": [
      "Using 16bit Automatic Mixed Precision (AMP)\n",
      "GPU available: True (cuda), used: True\n",
      "TPU available: False, using: 0 TPU cores\n",
      "IPU available: False, using: 0 IPUs\n",
      "HPU available: False, using: 0 HPUs\n",
      "LOCAL_RANK: 0 - CUDA_VISIBLE_DEVICES: [0]\n",
      "\n",
      "  | Name          | Type             | Params\n",
      "---------------------------------------------------\n",
      "0 | train_metrics | MetricCollection | 0     \n",
      "1 | valid_metrics | MetricCollection | 0     \n",
      "2 | model         | SmilesX          | 35.2 K\n",
      "---------------------------------------------------\n",
      "35.2 K    Trainable params\n",
      "0         Non-trainable params\n",
      "35.2 K    Total params\n",
      "0.141     Total estimated model params size (MB)\n",
      "Epoch 1: 100%|██████████| 33/33 [00:02<00:00, 11.64it/s, loss=0.088, val_loss=0.105, val_r2=0.443]\n",
      "Epoch 2: 100%|██████████| 33/33 [00:00<00:00, 140.69it/s, loss=0.041, val_loss=0.032, val_r2=0.827]\n",
      "Epoch 3: 100%|██████████| 33/33 [00:00<00:00, 133.18it/s, loss=0.025, val_loss=0.020, val_r2=0.894]\n",
      "Epoch 4: 100%|██████████| 33/33 [00:00<00:00, 142.06it/s, loss=0.021, val_loss=0.016, val_r2=0.914]\n",
      "Epoch 5: 100%|██████████| 33/33 [00:00<00:00, 141.12it/s, loss=0.019, val_loss=0.014, val_r2=0.925]\n",
      "Epoch 6: 100%|██████████| 33/33 [00:00<00:00, 141.28it/s, loss=0.017, val_loss=0.014, val_r2=0.927]\n",
      "Epoch 7: 100%|██████████| 33/33 [00:00<00:00, 142.22it/s, loss=0.016, val_loss=0.013, val_r2=0.932]\n",
      "Epoch 8: 100%|██████████| 33/33 [00:00<00:00, 141.56it/s, loss=0.016, val_loss=0.014, val_r2=0.928]\n",
      "Epoch 9: 100%|██████████| 33/33 [00:00<00:00, 133.09it/s, loss=0.015, val_loss=0.013, val_r2=0.933]\n",
      "Epoch 10: 100%|██████████| 33/33 [00:00<00:00, 131.89it/s, loss=0.015, val_loss=0.013, val_r2=0.931]\n",
      "`Trainer.fit` stopped: `max_epochs=10` reached.\n"
     ]
    },
    {
     "name": "stdout",
     "output_type": "stream",
     "text": [
      "2024-04-24 12:56:12 | INFO |    Trial 11 finished with value: 0.012890217825770378 and parameters: {'n_lstm_units': 5, 'n_dense_units': 8, 'n_embedding_dim': 5, 'learning_rate': 0.001096821720752952}. Best is trial 0 with value: 0.009169378317892551 and R2: 0.9511953592300415.\n"
     ]
    },
    {
     "name": "stderr",
     "output_type": "stream",
     "text": [
      "Using 16bit Automatic Mixed Precision (AMP)\n",
      "GPU available: True (cuda), used: True\n",
      "TPU available: False, using: 0 TPU cores\n",
      "IPU available: False, using: 0 IPUs\n",
      "HPU available: False, using: 0 HPUs\n",
      "LOCAL_RANK: 0 - CUDA_VISIBLE_DEVICES: [0]\n",
      "\n",
      "  | Name          | Type             | Params\n",
      "---------------------------------------------------\n",
      "0 | train_metrics | MetricCollection | 0     \n",
      "1 | valid_metrics | MetricCollection | 0     \n",
      "2 | model         | SmilesX          | 1.2 M \n",
      "---------------------------------------------------\n",
      "1.2 M     Trainable params\n",
      "0         Non-trainable params\n",
      "1.2 M     Total params\n",
      "4.891     Total estimated model params size (MB)\n",
      "Epoch 1: 100%|██████████| 33/33 [00:03<00:00, 10.98it/s, loss=0.299, val_loss=0.063, val_r2=0.665]\n",
      "Epoch 2: 100%|██████████| 33/33 [00:00<00:00, 95.55it/s, loss=0.030, val_loss=0.022, val_r2=0.882] \n",
      "Epoch 3: 100%|██████████| 33/33 [00:00<00:00, 98.82it/s, loss=0.017, val_loss=0.017, val_r2=0.911] \n",
      "Epoch 4: 100%|██████████| 33/33 [00:00<00:00, 100.43it/s, loss=0.013, val_loss=0.013, val_r2=0.931]\n",
      "Epoch 5: 100%|██████████| 33/33 [00:00<00:00, 100.30it/s, loss=0.011, val_loss=0.011, val_r2=0.940]\n",
      "Epoch 6: 100%|██████████| 33/33 [00:00<00:00, 97.72it/s, loss=0.010, val_loss=0.010, val_r2=0.945] \n",
      "Epoch 7: 100%|██████████| 33/33 [00:00<00:00, 97.87it/s, loss=0.009, val_loss=0.011, val_r2=0.943] \n",
      "Epoch 8: 100%|██████████| 33/33 [00:00<00:00, 98.19it/s, loss=0.008, val_loss=0.011, val_r2=0.939] \n",
      "Epoch 9: 100%|██████████| 33/33 [00:00<00:00, 102.90it/s, loss=0.008, val_loss=0.010, val_r2=0.945]\n",
      "Epoch 10: 100%|██████████| 33/33 [00:00<00:00, 102.93it/s, loss=0.008, val_loss=0.010, val_r2=0.945]\n",
      "`Trainer.fit` stopped: `max_epochs=10` reached.\n"
     ]
    },
    {
     "name": "stdout",
     "output_type": "stream",
     "text": [
      "2024-04-24 12:56:22 | INFO |    Trial 12 finished with value: 0.010415812954306602 and parameters: {'n_lstm_units': 7, 'n_dense_units': 4, 'n_embedding_dim': 10, 'learning_rate': 0.0035503048581283078}. Best is trial 0 with value: 0.009169378317892551 and R2: 0.9511953592300415.\n"
     ]
    },
    {
     "name": "stderr",
     "output_type": "stream",
     "text": [
      "Using 16bit Automatic Mixed Precision (AMP)\n",
      "GPU available: True (cuda), used: True\n",
      "TPU available: False, using: 0 TPU cores\n",
      "IPU available: False, using: 0 IPUs\n",
      "HPU available: False, using: 0 HPUs\n",
      "LOCAL_RANK: 0 - CUDA_VISIBLE_DEVICES: [0]\n",
      "\n",
      "  | Name          | Type             | Params\n",
      "---------------------------------------------------\n",
      "0 | train_metrics | MetricCollection | 0     \n",
      "1 | valid_metrics | MetricCollection | 0     \n",
      "2 | model         | SmilesX          | 11.6 M\n",
      "---------------------------------------------------\n",
      "11.6 M    Trainable params\n",
      "0         Non-trainable params\n",
      "11.6 M    Total params\n",
      "46.234    Total estimated model params size (MB)\n",
      "Epoch 1: 100%|██████████| 33/33 [00:03<00:00,  9.02it/s, loss=2075.452, val_loss=20.119, val_r2=-106.085]\n",
      "Epoch 2: 100%|██████████| 33/33 [00:00<00:00, 33.75it/s, loss=2.998, val_loss=2.601, val_r2=-12.844]\n",
      "Epoch 3: 100%|██████████| 33/33 [00:00<00:00, 33.53it/s, loss=1.026, val_loss=1.145, val_r2=-5.093]\n",
      "Epoch 4: 100%|██████████| 33/33 [00:00<00:00, 33.19it/s, loss=0.552, val_loss=1.703, val_r2=-8.066]\n",
      "Epoch 5: 100%|██████████| 33/33 [00:00<00:00, 33.51it/s, loss=0.401, val_loss=0.246, val_r2=-0.307]\n",
      "Epoch 6: 100%|██████████| 33/33 [00:00<00:00, 34.37it/s, loss=0.119, val_loss=0.072, val_r2=0.614]\n",
      "Epoch 7: 100%|██████████| 33/33 [00:00<00:00, 33.76it/s, loss=0.065, val_loss=0.069, val_r2=0.632]\n",
      "Epoch 8: 100%|██████████| 33/33 [00:00<00:00, 33.41it/s, loss=0.061, val_loss=0.068, val_r2=0.640]\n",
      "Epoch 9: 100%|██████████| 33/33 [00:00<00:00, 34.08it/s, loss=0.055, val_loss=0.068, val_r2=0.636]\n",
      "Epoch 10: 100%|██████████| 33/33 [00:00<00:00, 33.54it/s, loss=0.054, val_loss=0.065, val_r2=0.652]\n",
      "`Trainer.fit` stopped: `max_epochs=10` reached.\n"
     ]
    },
    {
     "name": "stdout",
     "output_type": "stream",
     "text": [
      "2024-04-24 12:56:38 | INFO |    Trial 13 finished with value: 0.06544338166713715 and parameters: {'n_lstm_units': 10, 'n_dense_units': 10, 'n_embedding_dim': 7, 'learning_rate': 0.0069782812651260325}. Best is trial 0 with value: 0.009169378317892551 and R2: 0.9511953592300415.\n"
     ]
    },
    {
     "name": "stderr",
     "output_type": "stream",
     "text": [
      "Using 16bit Automatic Mixed Precision (AMP)\n",
      "GPU available: True (cuda), used: True\n",
      "TPU available: False, using: 0 TPU cores\n",
      "IPU available: False, using: 0 IPUs\n",
      "HPU available: False, using: 0 HPUs\n",
      "LOCAL_RANK: 0 - CUDA_VISIBLE_DEVICES: [0]\n",
      "\n",
      "  | Name          | Type             | Params\n",
      "---------------------------------------------------\n",
      "0 | train_metrics | MetricCollection | 0     \n",
      "1 | valid_metrics | MetricCollection | 0     \n",
      "2 | model         | SmilesX          | 1.7 K \n",
      "---------------------------------------------------\n",
      "1.7 K     Trainable params\n",
      "0         Non-trainable params\n",
      "1.7 K     Total params\n",
      "0.007     Total estimated model params size (MB)\n",
      "Epoch 1: 100%|██████████| 33/33 [00:02<00:00, 12.13it/s, loss=0.102, val_loss=0.178, val_r2=0.052]\n",
      "Epoch 2: 100%|██████████| 33/33 [00:00<00:00, 109.80it/s, loss=0.098, val_loss=0.172, val_r2=0.083]\n",
      "Epoch 3: 100%|██████████| 33/33 [00:00<00:00, 117.57it/s, loss=0.095, val_loss=0.166, val_r2=0.114]\n",
      "Epoch 4: 100%|██████████| 33/33 [00:00<00:00, 141.49it/s, loss=0.092, val_loss=0.160, val_r2=0.149]\n",
      "Epoch 5: 100%|██████████| 33/33 [00:00<00:00, 132.98it/s, loss=0.087, val_loss=0.153, val_r2=0.184]\n",
      "Epoch 6: 100%|██████████| 33/33 [00:00<00:00, 124.48it/s, loss=0.086, val_loss=0.147, val_r2=0.216]\n",
      "Epoch 7: 100%|██████████| 33/33 [00:00<00:00, 132.30it/s, loss=0.084, val_loss=0.143, val_r2=0.239]\n",
      "Epoch 8: 100%|██████████| 33/33 [00:00<00:00, 131.60it/s, loss=0.081, val_loss=0.141, val_r2=0.251]\n",
      "Epoch 9: 100%|██████████| 33/33 [00:00<00:00, 133.12it/s, loss=0.081, val_loss=0.140, val_r2=0.257]\n",
      "Epoch 10: 100%|██████████| 33/33 [00:00<00:00, 130.96it/s, loss=0.080, val_loss=0.139, val_r2=0.259]\n",
      "`Trainer.fit` stopped: `max_epochs=10` reached.\n"
     ]
    },
    {
     "name": "stdout",
     "output_type": "stream",
     "text": [
      "2024-04-24 12:56:46 | INFO |    Trial 14 finished with value: 0.13926079869270325 and parameters: {'n_lstm_units': 3, 'n_dense_units': 4, 'n_embedding_dim': 3, 'learning_rate': 0.0004473636174621269}. Best is trial 0 with value: 0.009169378317892551 and R2: 0.9511953592300415.\n"
     ]
    },
    {
     "name": "stderr",
     "output_type": "stream",
     "text": [
      "Using 16bit Automatic Mixed Precision (AMP)\n",
      "GPU available: True (cuda), used: True\n",
      "TPU available: False, using: 0 TPU cores\n",
      "IPU available: False, using: 0 IPUs\n",
      "HPU available: False, using: 0 HPUs\n",
      "LOCAL_RANK: 0 - CUDA_VISIBLE_DEVICES: [0]\n",
      "\n",
      "  | Name          | Type             | Params\n",
      "---------------------------------------------------\n",
      "0 | train_metrics | MetricCollection | 0     \n",
      "1 | valid_metrics | MetricCollection | 0     \n",
      "2 | model         | SmilesX          | 318 K \n",
      "---------------------------------------------------\n",
      "318 K     Trainable params\n",
      "0         Non-trainable params\n",
      "318 K     Total params\n",
      "1.274     Total estimated model params size (MB)\n",
      "Epoch 1: 100%|██████████| 33/33 [00:02<00:00, 11.17it/s, loss=0.083, val_loss=0.077, val_r2=0.592]\n",
      "Epoch 2: 100%|██████████| 33/33 [00:00<00:00, 109.00it/s, loss=0.035, val_loss=0.028, val_r2=0.850]\n",
      "Epoch 3: 100%|██████████| 33/33 [00:00<00:00, 116.86it/s, loss=0.019, val_loss=0.016, val_r2=0.915]\n",
      "Epoch 4: 100%|██████████| 33/33 [00:00<00:00, 116.41it/s, loss=0.014, val_loss=0.012, val_r2=0.936]\n",
      "Epoch 5: 100%|██████████| 33/33 [00:00<00:00, 117.68it/s, loss=0.011, val_loss=0.011, val_r2=0.940]\n",
      "Epoch 6: 100%|██████████| 33/33 [00:00<00:00, 123.88it/s, loss=0.010, val_loss=0.010, val_r2=0.945]\n",
      "Epoch 7: 100%|██████████| 33/33 [00:00<00:00, 123.59it/s, loss=0.009, val_loss=0.010, val_r2=0.948]\n",
      "Epoch 8: 100%|██████████| 33/33 [00:00<00:00, 123.61it/s, loss=0.008, val_loss=0.009, val_r2=0.950]\n",
      "Epoch 9: 100%|██████████| 33/33 [00:00<00:00, 125.06it/s, loss=0.008, val_loss=0.009, val_r2=0.952]\n",
      "Epoch 10: 100%|██████████| 33/33 [00:00<00:00, 123.30it/s, loss=0.008, val_loss=0.009, val_r2=0.952]\n",
      "`Trainer.fit` stopped: `max_epochs=10` reached.\n"
     ]
    },
    {
     "name": "stdout",
     "output_type": "stream",
     "text": [
      "2024-04-24 12:56:55 | INFO |    Trial 15 finished with value: 0.008985787630081177 and parameters: {'n_lstm_units': 6, 'n_dense_units': 5, 'n_embedding_dim': 9, 'learning_rate': 0.0005170191786366995}. Best is trial 15 with value: 0.008985787630081177 and R2: 0.952172577381134.\n"
     ]
    },
    {
     "name": "stderr",
     "output_type": "stream",
     "text": [
      "Using 16bit Automatic Mixed Precision (AMP)\n",
      "GPU available: True (cuda), used: True\n",
      "TPU available: False, using: 0 TPU cores\n",
      "IPU available: False, using: 0 IPUs\n",
      "HPU available: False, using: 0 HPUs\n",
      "LOCAL_RANK: 0 - CUDA_VISIBLE_DEVICES: [0]\n",
      "\n",
      "  | Name          | Type             | Params\n",
      "---------------------------------------------------\n",
      "0 | train_metrics | MetricCollection | 0     \n",
      "1 | valid_metrics | MetricCollection | 0     \n",
      "2 | model         | SmilesX          | 22.0 K\n",
      "---------------------------------------------------\n",
      "22.0 K    Trainable params\n",
      "0         Non-trainable params\n",
      "22.0 K    Total params\n",
      "0.088     Total estimated model params size (MB)\n",
      "Epoch 1: 100%|██████████| 33/33 [00:02<00:00, 11.75it/s, loss=0.076, val_loss=0.062, val_r2=0.670]\n",
      "Epoch 2: 100%|██████████| 33/33 [00:00<00:00, 122.74it/s, loss=0.037, val_loss=0.027, val_r2=0.854]\n",
      "Epoch 3: 100%|██████████| 33/33 [00:00<00:00, 131.68it/s, loss=0.025, val_loss=0.028, val_r2=0.851]\n",
      "Epoch 4: 100%|██████████| 33/33 [00:00<00:00, 141.11it/s, loss=0.021, val_loss=0.019, val_r2=0.899]\n",
      "Epoch 5: 100%|██████████| 33/33 [00:00<00:00, 141.31it/s, loss=0.017, val_loss=0.022, val_r2=0.884]\n",
      "Epoch 6: 100%|██████████| 33/33 [00:00<00:00, 141.60it/s, loss=0.014, val_loss=0.018, val_r2=0.906]\n",
      "Epoch 7: 100%|██████████| 33/33 [00:00<00:00, 140.61it/s, loss=0.013, val_loss=0.015, val_r2=0.921]\n",
      "Epoch 8: 100%|██████████| 33/33 [00:00<00:00, 140.65it/s, loss=0.012, val_loss=0.013, val_r2=0.930]\n",
      "Epoch 9: 100%|██████████| 33/33 [00:00<00:00, 140.94it/s, loss=0.011, val_loss=0.013, val_r2=0.931]\n",
      "Epoch 10: 100%|██████████| 33/33 [00:00<00:00, 131.74it/s, loss=0.011, val_loss=0.013, val_r2=0.933]\n",
      "`Trainer.fit` stopped: `max_epochs=10` reached.\n"
     ]
    },
    {
     "name": "stdout",
     "output_type": "stream",
     "text": [
      "2024-04-24 12:57:03 | INFO |    Trial 16 finished with value: 0.012601461261510849 and parameters: {'n_lstm_units': 5, 'n_dense_units': 7, 'n_embedding_dim': 4, 'learning_rate': 0.0040215545266902904}. Best is trial 15 with value: 0.008985787630081177 and R2: 0.952172577381134.\n"
     ]
    },
    {
     "name": "stderr",
     "output_type": "stream",
     "text": [
      "Using 16bit Automatic Mixed Precision (AMP)\n",
      "GPU available: True (cuda), used: True\n",
      "TPU available: False, using: 0 TPU cores\n",
      "IPU available: False, using: 0 IPUs\n",
      "HPU available: False, using: 0 HPUs\n",
      "LOCAL_RANK: 0 - CUDA_VISIBLE_DEVICES: [0]\n",
      "\n",
      "  | Name          | Type             | Params\n",
      "---------------------------------------------------\n",
      "0 | train_metrics | MetricCollection | 0     \n",
      "1 | valid_metrics | MetricCollection | 0     \n",
      "2 | model         | SmilesX          | 71.3 K\n",
      "---------------------------------------------------\n",
      "71.3 K    Trainable params\n",
      "0         Non-trainable params\n",
      "71.3 K    Total params\n",
      "0.285     Total estimated model params size (MB)\n",
      "Epoch 1: 100%|██████████| 33/33 [00:02<00:00, 11.19it/s, loss=0.080, val_loss=0.091, val_r2=0.514]\n",
      "Epoch 2: 100%|██████████| 33/33 [00:00<00:00, 115.94it/s, loss=0.043, val_loss=0.050, val_r2=0.735]\n",
      "Epoch 3: 100%|██████████| 33/33 [00:00<00:00, 122.60it/s, loss=0.028, val_loss=0.030, val_r2=0.840]\n",
      "Epoch 4: 100%|██████████| 33/33 [00:00<00:00, 115.65it/s, loss=0.021, val_loss=0.023, val_r2=0.876]\n",
      "Epoch 5: 100%|██████████| 33/33 [00:00<00:00, 131.96it/s, loss=0.019, val_loss=0.021, val_r2=0.886]\n",
      "Epoch 6: 100%|██████████| 33/33 [00:00<00:00, 123.20it/s, loss=0.017, val_loss=0.020, val_r2=0.894]\n",
      "Epoch 7: 100%|██████████| 33/33 [00:00<00:00, 123.88it/s, loss=0.016, val_loss=0.020, val_r2=0.894]\n",
      "Epoch 8: 100%|██████████| 33/33 [00:00<00:00, 117.15it/s, loss=0.016, val_loss=0.019, val_r2=0.901]\n",
      "Epoch 9: 100%|██████████| 33/33 [00:00<00:00, 116.70it/s, loss=0.015, val_loss=0.019, val_r2=0.900]\n",
      "Epoch 10: 100%|██████████| 33/33 [00:00<00:00, 116.60it/s, loss=0.015, val_loss=0.019, val_r2=0.901]\n",
      "`Trainer.fit` stopped: `max_epochs=10` reached.\n"
     ]
    },
    {
     "name": "stdout",
     "output_type": "stream",
     "text": [
      "2024-04-24 12:57:12 | INFO |    Trial 17 finished with value: 0.018569063395261765 and parameters: {'n_lstm_units': 3, 'n_dense_units': 10, 'n_embedding_dim': 9, 'learning_rate': 0.00024970737145052745}. Best is trial 15 with value: 0.008985787630081177 and R2: 0.952172577381134.\n"
     ]
    },
    {
     "name": "stderr",
     "output_type": "stream",
     "text": [
      "Using 16bit Automatic Mixed Precision (AMP)\n",
      "GPU available: True (cuda), used: True\n",
      "TPU available: False, using: 0 TPU cores\n",
      "IPU available: False, using: 0 IPUs\n",
      "HPU available: False, using: 0 HPUs\n",
      "LOCAL_RANK: 0 - CUDA_VISIBLE_DEVICES: [0]\n",
      "\n",
      "  | Name          | Type             | Params\n",
      "---------------------------------------------------\n",
      "0 | train_metrics | MetricCollection | 0     \n",
      "1 | valid_metrics | MetricCollection | 0     \n",
      "2 | model         | SmilesX          | 36.0 K\n",
      "---------------------------------------------------\n",
      "36.0 K    Trainable params\n",
      "0         Non-trainable params\n",
      "36.0 K    Total params\n",
      "0.144     Total estimated model params size (MB)\n",
      "Epoch 1: 100%|██████████| 33/33 [00:02<00:00, 11.51it/s, loss=0.066, val_loss=0.037, val_r2=0.803]\n",
      "Epoch 2: 100%|██████████| 33/33 [00:00<00:00, 125.40it/s, loss=0.021, val_loss=0.018, val_r2=0.903]\n",
      "Epoch 3: 100%|██████████| 33/33 [00:00<00:00, 141.33it/s, loss=0.014, val_loss=0.014, val_r2=0.927]\n",
      "Epoch 4: 100%|██████████| 33/33 [00:00<00:00, 140.87it/s, loss=0.012, val_loss=0.013, val_r2=0.932]\n",
      "Epoch 5: 100%|██████████| 33/33 [00:00<00:00, 141.09it/s, loss=0.010, val_loss=0.011, val_r2=0.942]\n",
      "Epoch 6: 100%|██████████| 33/33 [00:00<00:00, 131.70it/s, loss=0.010, val_loss=0.010, val_r2=0.945]\n",
      "Epoch 7: 100%|██████████| 33/33 [00:00<00:00, 123.91it/s, loss=0.010, val_loss=0.010, val_r2=0.945]\n",
      "Epoch 8: 100%|██████████| 33/33 [00:00<00:00, 132.88it/s, loss=0.009, val_loss=0.009, val_r2=0.950]\n",
      "Epoch 9: 100%|██████████| 33/33 [00:00<00:00, 139.29it/s, loss=0.009, val_loss=0.009, val_r2=0.950]\n",
      "Epoch 10: 100%|██████████| 33/33 [00:00<00:00, 131.91it/s, loss=0.008, val_loss=0.009, val_r2=0.951]\n",
      "`Trainer.fit` stopped: `max_epochs=10` reached.\n"
     ]
    },
    {
     "name": "stdout",
     "output_type": "stream",
     "text": [
      "2024-04-24 12:57:21 | INFO |    Trial 18 finished with value: 0.009274587035179138 and parameters: {'n_lstm_units': 3, 'n_dense_units': 9, 'n_embedding_dim': 8, 'learning_rate': 0.0028708753481954683}. Best is trial 15 with value: 0.008985787630081177 and R2: 0.952172577381134.\n"
     ]
    },
    {
     "name": "stderr",
     "output_type": "stream",
     "text": [
      "Using 16bit Automatic Mixed Precision (AMP)\n",
      "GPU available: True (cuda), used: True\n",
      "TPU available: False, using: 0 TPU cores\n",
      "IPU available: False, using: 0 IPUs\n",
      "HPU available: False, using: 0 HPUs\n",
      "LOCAL_RANK: 0 - CUDA_VISIBLE_DEVICES: [0]\n",
      "\n",
      "  | Name          | Type             | Params\n",
      "---------------------------------------------------\n",
      "0 | train_metrics | MetricCollection | 0     \n",
      "1 | valid_metrics | MetricCollection | 0     \n",
      "2 | model         | SmilesX          | 2.2 M \n",
      "---------------------------------------------------\n",
      "2.2 M     Trainable params\n",
      "0         Non-trainable params\n",
      "2.2 M     Total params\n",
      "8.983     Total estimated model params size (MB)\n",
      "Epoch 1: 100%|██████████| 33/33 [00:03<00:00, 10.88it/s, loss=0.098, val_loss=0.143, val_r2=0.239]\n",
      "Epoch 2: 100%|██████████| 33/33 [00:00<00:00, 76.13it/s, loss=0.074, val_loss=0.083, val_r2=0.559]\n",
      "Epoch 3: 100%|██████████| 33/33 [00:00<00:00, 78.53it/s, loss=0.049, val_loss=0.050, val_r2=0.733]\n",
      "Epoch 4: 100%|██████████| 33/33 [00:00<00:00, 76.31it/s, loss=0.041, val_loss=0.045, val_r2=0.761]\n",
      "Epoch 5: 100%|██████████| 33/33 [00:00<00:00, 76.75it/s, loss=0.036, val_loss=0.036, val_r2=0.807]\n",
      "Epoch 6: 100%|██████████| 33/33 [00:00<00:00, 79.32it/s, loss=0.033, val_loss=0.039, val_r2=0.791]\n",
      "Epoch 7: 100%|██████████| 33/33 [00:00<00:00, 78.79it/s, loss=0.031, val_loss=0.031, val_r2=0.834]\n",
      "Epoch 8: 100%|██████████| 33/33 [00:00<00:00, 82.37it/s, loss=0.028, val_loss=0.030, val_r2=0.838]\n",
      "Epoch 9: 100%|██████████| 33/33 [00:00<00:00, 75.79it/s, loss=0.027, val_loss=0.029, val_r2=0.848]\n",
      "Epoch 10: 100%|██████████| 33/33 [00:00<00:00, 79.31it/s, loss=0.026, val_loss=0.028, val_r2=0.851]\n",
      "`Trainer.fit` stopped: `max_epochs=10` reached.\n"
     ]
    },
    {
     "name": "stdout",
     "output_type": "stream",
     "text": [
      "2024-04-24 12:57:31 | INFO |    Trial 19 finished with value: 0.027914132922887802 and parameters: {'n_lstm_units': 9, 'n_dense_units': 3, 'n_embedding_dim': 5, 'learning_rate': 0.0001705053926026929}. Best is trial 15 with value: 0.008985787630081177 and R2: 0.952172577381134.\n"
     ]
    },
    {
     "name": "stderr",
     "output_type": "stream",
     "text": [
      "Using 16bit Automatic Mixed Precision (AMP)\n",
      "GPU available: True (cuda), used: True\n",
      "TPU available: False, using: 0 TPU cores\n",
      "IPU available: False, using: 0 IPUs\n",
      "HPU available: False, using: 0 HPUs\n",
      "LOCAL_RANK: 0 - CUDA_VISIBLE_DEVICES: [0]\n",
      "\n",
      "  | Name          | Type             | Params\n",
      "---------------------------------------------------\n",
      "0 | train_metrics | MetricCollection | 0     \n",
      "1 | valid_metrics | MetricCollection | 0     \n",
      "2 | model         | SmilesX          | 2.4 M \n",
      "---------------------------------------------------\n",
      "2.4 M     Trainable params\n",
      "0         Non-trainable params\n",
      "2.4 M     Total params\n",
      "9.476     Total estimated model params size (MB)\n",
      "Epoch 1: 100%|██████████| 33/33 [00:02<00:00, 11.23it/s, loss=0.097, val_loss=0.137, val_r2=0.271]\n",
      "Epoch 2: 100%|██████████| 33/33 [00:00<00:00, 82.35it/s, loss=0.075, val_loss=0.077, val_r2=0.591]\n",
      "Epoch 3: 100%|██████████| 33/33 [00:00<00:00, 75.90it/s, loss=0.051, val_loss=0.050, val_r2=0.734]\n",
      "Epoch 4: 100%|██████████| 33/33 [00:00<00:00, 77.01it/s, loss=0.039, val_loss=0.035, val_r2=0.812]\n",
      "Epoch 5: 100%|██████████| 33/33 [00:00<00:00, 79.05it/s, loss=0.033, val_loss=0.038, val_r2=0.799]\n",
      "Epoch 6: 100%|██████████| 33/33 [00:00<00:00, 78.93it/s, loss=0.030, val_loss=0.036, val_r2=0.807]\n",
      "Epoch 7: 100%|██████████| 33/33 [00:00<00:00, 76.90it/s, loss=0.028, val_loss=0.032, val_r2=0.828]\n",
      "Epoch 8: 100%|██████████| 33/33 [00:00<00:00, 78.73it/s, loss=0.027, val_loss=0.030, val_r2=0.841]\n",
      "Epoch 9: 100%|██████████| 33/33 [00:00<00:00, 79.26it/s, loss=0.026, val_loss=0.030, val_r2=0.840]\n",
      "Epoch 10: 100%|██████████| 33/33 [00:00<00:00, 76.23it/s, loss=0.026, val_loss=0.030, val_r2=0.841]\n",
      "`Trainer.fit` stopped: `max_epochs=10` reached.\n"
     ]
    },
    {
     "name": "stdout",
     "output_type": "stream",
     "text": [
      "2024-04-24 12:57:41 | INFO |    Trial 20 finished with value: 0.029951440170407295 and parameters: {'n_lstm_units': 9, 'n_dense_units': 7, 'n_embedding_dim': 5, 'learning_rate': 0.00013400367243354819}. Best is trial 15 with value: 0.008985787630081177 and R2: 0.952172577381134.\n"
     ]
    },
    {
     "name": "stderr",
     "output_type": "stream",
     "text": [
      "Using 16bit Automatic Mixed Precision (AMP)\n",
      "GPU available: True (cuda), used: True\n",
      "TPU available: False, using: 0 TPU cores\n",
      "IPU available: False, using: 0 IPUs\n",
      "HPU available: False, using: 0 HPUs\n",
      "LOCAL_RANK: 0 - CUDA_VISIBLE_DEVICES: [0]\n",
      "\n",
      "  | Name          | Type             | Params\n",
      "---------------------------------------------------\n",
      "0 | train_metrics | MetricCollection | 0     \n",
      "1 | valid_metrics | MetricCollection | 0     \n",
      "2 | model         | SmilesX          | 85.6 K\n",
      "---------------------------------------------------\n",
      "85.6 K    Trainable params\n",
      "0         Non-trainable params\n",
      "85.6 K    Total params\n",
      "0.342     Total estimated model params size (MB)\n",
      "Epoch 1: 100%|██████████| 33/33 [00:02<00:00, 11.99it/s, loss=0.067, val_loss=0.049, val_r2=0.740]\n",
      "Epoch 2: 100%|██████████| 33/33 [00:00<00:00, 131.88it/s, loss=0.024, val_loss=0.018, val_r2=0.903]\n",
      "Epoch 3: 100%|██████████| 33/33 [00:00<00:00, 131.90it/s, loss=0.015, val_loss=0.013, val_r2=0.931]\n",
      "Epoch 4: 100%|██████████| 33/33 [00:00<00:00, 131.79it/s, loss=0.011, val_loss=0.011, val_r2=0.943]\n",
      "Epoch 5: 100%|██████████| 33/33 [00:00<00:00, 132.69it/s, loss=0.009, val_loss=0.012, val_r2=0.937]\n",
      "Epoch 6: 100%|██████████| 33/33 [00:00<00:00, 131.30it/s, loss=0.008, val_loss=0.011, val_r2=0.939]\n",
      "Epoch 7: 100%|██████████| 33/33 [00:00<00:00, 132.24it/s, loss=0.007, val_loss=0.011, val_r2=0.941]\n",
      "Epoch 8: 100%|██████████| 33/33 [00:00<00:00, 140.21it/s, loss=0.007, val_loss=0.010, val_r2=0.949]\n",
      "Epoch 9: 100%|██████████| 33/33 [00:00<00:00, 130.77it/s, loss=0.006, val_loss=0.010, val_r2=0.947]\n",
      "Epoch 10: 100%|██████████| 33/33 [00:00<00:00, 139.76it/s, loss=0.006, val_loss=0.009, val_r2=0.950]\n",
      "`Trainer.fit` stopped: `max_epochs=10` reached.\n"
     ]
    },
    {
     "name": "stdout",
     "output_type": "stream",
     "text": [
      "2024-04-24 12:57:49 | INFO |    Trial 21 finished with value: 0.009475084953010082 and parameters: {'n_lstm_units': 5, 'n_dense_units': 5, 'n_embedding_dim': 8, 'learning_rate': 0.0018841476921545091}. Best is trial 15 with value: 0.008985787630081177 and R2: 0.952172577381134.\n"
     ]
    },
    {
     "name": "stderr",
     "output_type": "stream",
     "text": [
      "Using 16bit Automatic Mixed Precision (AMP)\n",
      "GPU available: True (cuda), used: True\n",
      "TPU available: False, using: 0 TPU cores\n",
      "IPU available: False, using: 0 IPUs\n",
      "HPU available: False, using: 0 HPUs\n",
      "LOCAL_RANK: 0 - CUDA_VISIBLE_DEVICES: [0]\n",
      "\n",
      "  | Name          | Type             | Params\n",
      "---------------------------------------------------\n",
      "0 | train_metrics | MetricCollection | 0     \n",
      "1 | valid_metrics | MetricCollection | 0     \n",
      "2 | model         | SmilesX          | 8.6 M \n",
      "---------------------------------------------------\n",
      "8.6 M     Trainable params\n",
      "0         Non-trainable params\n",
      "8.6 M     Total params\n",
      "34.408    Total estimated model params size (MB)\n",
      "Epoch 1: 100%|██████████| 33/33 [00:03<00:00,  9.51it/s, loss=0.128, val_loss=0.129, val_r2=0.312]\n",
      "Epoch 2: 100%|██████████| 33/33 [00:00<00:00, 40.25it/s, loss=0.082, val_loss=0.089, val_r2=0.526]\n",
      "Epoch 3: 100%|██████████| 33/33 [00:00<00:00, 39.94it/s, loss=0.061, val_loss=0.077, val_r2=0.589]\n",
      "Epoch 4: 100%|██████████| 33/33 [00:00<00:00, 39.94it/s, loss=0.048, val_loss=0.057, val_r2=0.698]\n",
      "Epoch 5: 100%|██████████| 33/33 [00:00<00:00, 39.57it/s, loss=0.042, val_loss=0.117, val_r2=0.375]\n",
      "Epoch 6: 100%|██████████| 33/33 [00:00<00:00, 39.85it/s, loss=0.055, val_loss=0.062, val_r2=0.668]\n",
      "Epoch 7: 100%|██████████| 33/33 [00:00<00:00, 39.95it/s, loss=0.033, val_loss=0.043, val_r2=0.771]\n",
      "Epoch 8: 100%|██████████| 33/33 [00:00<00:00, 40.88it/s, loss=0.025, val_loss=0.038, val_r2=0.799]\n",
      "Epoch 9: 100%|██████████| 33/33 [00:00<00:00, 40.00it/s, loss=0.022, val_loss=0.035, val_r2=0.813]\n",
      "Epoch 10: 100%|██████████| 33/33 [00:00<00:00, 39.59it/s, loss=0.020, val_loss=0.032, val_r2=0.830]\n",
      "`Trainer.fit` stopped: `max_epochs=10` reached.\n"
     ]
    },
    {
     "name": "stdout",
     "output_type": "stream",
     "text": [
      "2024-04-24 12:58:04 | INFO |    Trial 22 finished with value: 0.031848516315221786 and parameters: {'n_lstm_units': 10, 'n_dense_units': 6, 'n_embedding_dim': 3, 'learning_rate': 0.0026698666742744613}. Best is trial 15 with value: 0.008985787630081177 and R2: 0.952172577381134.\n"
     ]
    },
    {
     "name": "stderr",
     "output_type": "stream",
     "text": [
      "Using 16bit Automatic Mixed Precision (AMP)\n",
      "GPU available: True (cuda), used: True\n",
      "TPU available: False, using: 0 TPU cores\n",
      "IPU available: False, using: 0 IPUs\n",
      "HPU available: False, using: 0 HPUs\n",
      "LOCAL_RANK: 0 - CUDA_VISIBLE_DEVICES: [0]\n",
      "\n",
      "  | Name          | Type             | Params\n",
      "---------------------------------------------------\n",
      "0 | train_metrics | MetricCollection | 0     \n",
      "1 | valid_metrics | MetricCollection | 0     \n",
      "2 | model         | SmilesX          | 4.4 M \n",
      "---------------------------------------------------\n",
      "4.4 M     Trainable params\n",
      "0         Non-trainable params\n",
      "4.4 M     Total params\n",
      "17.410    Total estimated model params size (MB)\n",
      "Epoch 1: 100%|██████████| 33/33 [00:03<00:00, 10.75it/s, loss=0.400, val_loss=0.064, val_r2=0.657]\n",
      "Epoch 2: 100%|██████████| 33/33 [00:00<00:00, 63.48it/s, loss=0.033, val_loss=0.022, val_r2=0.884]\n",
      "Epoch 3: 100%|██████████| 33/33 [00:00<00:00, 65.59it/s, loss=0.019, val_loss=0.014, val_r2=0.928]\n",
      "Epoch 4: 100%|██████████| 33/33 [00:00<00:00, 66.27it/s, loss=0.014, val_loss=0.014, val_r2=0.923]\n",
      "Epoch 5: 100%|██████████| 33/33 [00:00<00:00, 68.09it/s, loss=0.012, val_loss=0.011, val_r2=0.941]\n",
      "Epoch 6: 100%|██████████| 33/33 [00:00<00:00, 65.51it/s, loss=0.010, val_loss=0.011, val_r2=0.943]\n",
      "Epoch 7: 100%|██████████| 33/33 [00:00<00:00, 65.99it/s, loss=0.008, val_loss=0.010, val_r2=0.947]\n",
      "Epoch 8: 100%|██████████| 33/33 [00:00<00:00, 65.82it/s, loss=0.007, val_loss=0.009, val_r2=0.950]\n",
      "Epoch 9: 100%|██████████| 33/33 [00:00<00:00, 65.65it/s, loss=0.007, val_loss=0.010, val_r2=0.948]\n",
      "Epoch 10: 100%|██████████| 33/33 [00:00<00:00, 64.18it/s, loss=0.007, val_loss=0.010, val_r2=0.946]\n",
      "`Trainer.fit` stopped: `max_epochs=10` reached.\n"
     ]
    },
    {
     "name": "stdout",
     "output_type": "stream",
     "text": [
      "2024-04-24 12:58:15 | INFO |    Trial 23 finished with value: 0.010095344856381416 and parameters: {'n_lstm_units': 9, 'n_dense_units': 7, 'n_embedding_dim': 9, 'learning_rate': 0.0009718319944817398}. Best is trial 15 with value: 0.008985787630081177 and R2: 0.952172577381134.\n"
     ]
    },
    {
     "name": "stderr",
     "output_type": "stream",
     "text": [
      "Using 16bit Automatic Mixed Precision (AMP)\n",
      "GPU available: True (cuda), used: True\n",
      "TPU available: False, using: 0 TPU cores\n",
      "IPU available: False, using: 0 IPUs\n",
      "HPU available: False, using: 0 HPUs\n",
      "LOCAL_RANK: 0 - CUDA_VISIBLE_DEVICES: [0]\n",
      "\n",
      "  | Name          | Type             | Params\n",
      "---------------------------------------------------\n",
      "0 | train_metrics | MetricCollection | 0     \n",
      "1 | valid_metrics | MetricCollection | 0     \n",
      "2 | model         | SmilesX          | 158 K \n",
      "---------------------------------------------------\n",
      "158 K     Trainable params\n",
      "0         Non-trainable params\n",
      "158 K     Total params\n",
      "0.633     Total estimated model params size (MB)\n",
      "Epoch 1: 100%|██████████| 33/33 [00:02<00:00, 11.86it/s, loss=0.108, val_loss=0.178, val_r2=0.054]\n",
      "Epoch 2: 100%|██████████| 33/33 [00:00<00:00, 123.33it/s, loss=0.095, val_loss=0.150, val_r2=0.201]\n",
      "Epoch 3: 100%|██████████| 33/33 [00:00<00:00, 132.16it/s, loss=0.085, val_loss=0.125, val_r2=0.332]\n",
      "Epoch 4: 100%|██████████| 33/33 [00:00<00:00, 131.90it/s, loss=0.077, val_loss=0.105, val_r2=0.440]\n",
      "Epoch 5: 100%|██████████| 33/33 [00:00<00:00, 132.11it/s, loss=0.070, val_loss=0.093, val_r2=0.505]\n",
      "Epoch 6: 100%|██████████| 33/33 [00:00<00:00, 131.72it/s, loss=0.065, val_loss=0.079, val_r2=0.577]\n",
      "Epoch 7: 100%|██████████| 33/33 [00:00<00:00, 122.41it/s, loss=0.062, val_loss=0.066, val_r2=0.650]\n",
      "Epoch 8: 100%|██████████| 33/33 [00:00<00:00, 132.93it/s, loss=0.058, val_loss=0.060, val_r2=0.680]\n",
      "Epoch 9: 100%|██████████| 33/33 [00:00<00:00, 123.06it/s, loss=0.057, val_loss=0.058, val_r2=0.690]\n",
      "Epoch 10: 100%|██████████| 33/33 [00:00<00:00, 125.84it/s, loss=0.056, val_loss=0.058, val_r2=0.694]\n",
      "`Trainer.fit` stopped: `max_epochs=10` reached.\n"
     ]
    },
    {
     "name": "stdout",
     "output_type": "stream",
     "text": [
      "2024-04-24 12:58:23 | INFO |    Trial 24 finished with value: 0.05752411484718323 and parameters: {'n_lstm_units': 7, 'n_dense_units': 6, 'n_embedding_dim': 3, 'learning_rate': 0.00016435497475111326}. Best is trial 15 with value: 0.008985787630081177 and R2: 0.952172577381134.\n"
     ]
    },
    {
     "name": "stderr",
     "output_type": "stream",
     "text": [
      "Using 16bit Automatic Mixed Precision (AMP)\n",
      "GPU available: True (cuda), used: True\n",
      "TPU available: False, using: 0 TPU cores\n",
      "IPU available: False, using: 0 IPUs\n",
      "HPU available: False, using: 0 HPUs\n",
      "LOCAL_RANK: 0 - CUDA_VISIBLE_DEVICES: [0]\n",
      "\n",
      "  | Name          | Type             | Params\n",
      "---------------------------------------------------\n",
      "0 | train_metrics | MetricCollection | 0     \n",
      "1 | valid_metrics | MetricCollection | 0     \n",
      "2 | model         | SmilesX          | 8.7 K \n",
      "---------------------------------------------------\n",
      "8.7 K     Trainable params\n",
      "0         Non-trainable params\n",
      "8.7 K     Total params\n",
      "0.035     Total estimated model params size (MB)\n",
      "Epoch 1: 100%|██████████| 33/33 [00:02<00:00, 12.07it/s, loss=0.105, val_loss=0.154, val_r2=0.183]\n",
      "Epoch 2: 100%|██████████| 33/33 [00:00<00:00, 140.95it/s, loss=0.079, val_loss=0.101, val_r2=0.463]\n",
      "Epoch 3: 100%|██████████| 33/33 [00:00<00:00, 143.26it/s, loss=0.050, val_loss=0.053, val_r2=0.719]\n",
      "Epoch 4: 100%|██████████| 33/33 [00:00<00:00, 140.91it/s, loss=0.037, val_loss=0.039, val_r2=0.791]\n",
      "Epoch 5: 100%|██████████| 33/33 [00:00<00:00, 141.91it/s, loss=0.030, val_loss=0.027, val_r2=0.855]\n",
      "Epoch 6: 100%|██████████| 33/33 [00:00<00:00, 141.19it/s, loss=0.025, val_loss=0.022, val_r2=0.881]\n",
      "Epoch 7: 100%|██████████| 33/33 [00:00<00:00, 140.92it/s, loss=0.023, val_loss=0.020, val_r2=0.894]\n",
      "Epoch 8: 100%|██████████| 33/33 [00:00<00:00, 141.85it/s, loss=0.022, val_loss=0.019, val_r2=0.900]\n",
      "Epoch 9: 100%|██████████| 33/33 [00:00<00:00, 140.97it/s, loss=0.021, val_loss=0.018, val_r2=0.902]\n",
      "Epoch 10: 100%|██████████| 33/33 [00:00<00:00, 141.36it/s, loss=0.021, val_loss=0.018, val_r2=0.902]\n",
      "`Trainer.fit` stopped: `max_epochs=10` reached.\n"
     ]
    },
    {
     "name": "stdout",
     "output_type": "stream",
     "text": [
      "2024-04-24 12:58:32 | INFO |    Trial 25 finished with value: 0.018319586291909218 and parameters: {'n_lstm_units': 3, 'n_dense_units': 8, 'n_embedding_dim': 5, 'learning_rate': 0.0010402587615883842}. Best is trial 15 with value: 0.008985787630081177 and R2: 0.952172577381134.\n"
     ]
    },
    {
     "name": "stderr",
     "output_type": "stream",
     "text": [
      "Using 16bit Automatic Mixed Precision (AMP)\n",
      "GPU available: True (cuda), used: True\n",
      "TPU available: False, using: 0 TPU cores\n",
      "IPU available: False, using: 0 IPUs\n",
      "HPU available: False, using: 0 HPUs\n",
      "LOCAL_RANK: 0 - CUDA_VISIBLE_DEVICES: [0]\n",
      "\n",
      "  | Name          | Type             | Params\n",
      "---------------------------------------------------\n",
      "0 | train_metrics | MetricCollection | 0     \n",
      "1 | valid_metrics | MetricCollection | 0     \n",
      "2 | model         | SmilesX          | 9.0 M \n",
      "---------------------------------------------------\n",
      "9.0 M     Trainable params\n",
      "0         Non-trainable params\n",
      "9.0 M     Total params\n",
      "35.858    Total estimated model params size (MB)\n",
      "Epoch 1: 100%|██████████| 33/33 [00:03<00:00,  9.84it/s, loss=2.291, val_loss=0.124, val_r2=0.339]\n",
      "Epoch 2: 100%|██████████| 33/33 [00:00<00:00, 38.72it/s, loss=0.090, val_loss=0.144, val_r2=0.232]\n",
      "Epoch 3: 100%|██████████| 33/33 [00:00<00:00, 39.92it/s, loss=0.068, val_loss=0.068, val_r2=0.638]\n",
      "Epoch 4: 100%|██████████| 33/33 [00:00<00:00, 38.75it/s, loss=0.038, val_loss=0.034, val_r2=0.817]\n",
      "Epoch 5: 100%|██████████| 33/33 [00:00<00:00, 39.60it/s, loss=0.026, val_loss=0.020, val_r2=0.894]\n",
      "Epoch 6: 100%|██████████| 33/33 [00:00<00:00, 38.97it/s, loss=0.021, val_loss=0.016, val_r2=0.913]\n",
      "Epoch 7: 100%|██████████| 33/33 [00:00<00:00, 39.55it/s, loss=0.016, val_loss=0.014, val_r2=0.923]\n",
      "Epoch 8: 100%|██████████| 33/33 [00:00<00:00, 38.63it/s, loss=0.014, val_loss=0.015, val_r2=0.921]\n",
      "Epoch 9: 100%|██████████| 33/33 [00:00<00:00, 39.61it/s, loss=0.013, val_loss=0.014, val_r2=0.928]\n",
      "Epoch 10: 100%|██████████| 33/33 [00:00<00:00, 38.82it/s, loss=0.012, val_loss=0.014, val_r2=0.927]\n",
      "`Trainer.fit` stopped: `max_epochs=10` reached.\n"
     ]
    },
    {
     "name": "stdout",
     "output_type": "stream",
     "text": [
      "2024-04-24 12:58:46 | INFO |    Trial 26 finished with value: 0.01367716584354639 and parameters: {'n_lstm_units': 10, 'n_dense_units': 4, 'n_embedding_dim': 6, 'learning_rate': 0.0032441600887341587}. Best is trial 15 with value: 0.008985787630081177 and R2: 0.952172577381134.\n"
     ]
    },
    {
     "name": "stderr",
     "output_type": "stream",
     "text": [
      "Using 16bit Automatic Mixed Precision (AMP)\n",
      "GPU available: True (cuda), used: True\n",
      "TPU available: False, using: 0 TPU cores\n",
      "IPU available: False, using: 0 IPUs\n",
      "HPU available: False, using: 0 HPUs\n",
      "LOCAL_RANK: 0 - CUDA_VISIBLE_DEVICES: [0]\n",
      "\n",
      "  | Name          | Type             | Params\n",
      "---------------------------------------------------\n",
      "0 | train_metrics | MetricCollection | 0     \n",
      "1 | valid_metrics | MetricCollection | 0     \n",
      "2 | model         | SmilesX          | 7.8 K \n",
      "---------------------------------------------------\n",
      "7.8 K     Trainable params\n",
      "0         Non-trainable params\n",
      "7.8 K     Total params\n",
      "0.031     Total estimated model params size (MB)\n",
      "Epoch 1: 100%|██████████| 33/33 [00:02<00:00, 12.35it/s, loss=0.109, val_loss=0.188, val_r2=-0.003]\n",
      "Epoch 2: 100%|██████████| 33/33 [00:00<00:00, 140.68it/s, loss=0.104, val_loss=0.181, val_r2=0.038]\n",
      "Epoch 3: 100%|██████████| 33/33 [00:00<00:00, 141.42it/s, loss=0.100, val_loss=0.173, val_r2=0.077]\n",
      "Epoch 4: 100%|██████████| 33/33 [00:00<00:00, 141.40it/s, loss=0.097, val_loss=0.167, val_r2=0.113]\n",
      "Epoch 5: 100%|██████████| 33/33 [00:00<00:00, 140.83it/s, loss=0.095, val_loss=0.161, val_r2=0.143]\n",
      "Epoch 6: 100%|██████████| 33/33 [00:00<00:00, 141.78it/s, loss=0.092, val_loss=0.157, val_r2=0.166]\n",
      "Epoch 7: 100%|██████████| 33/33 [00:00<00:00, 140.84it/s, loss=0.091, val_loss=0.154, val_r2=0.183]\n",
      "Epoch 8: 100%|██████████| 33/33 [00:00<00:00, 140.73it/s, loss=0.089, val_loss=0.152, val_r2=0.192]\n",
      "Epoch 9: 100%|██████████| 33/33 [00:00<00:00, 133.02it/s, loss=0.089, val_loss=0.151, val_r2=0.196]\n",
      "Epoch 10: 100%|██████████| 33/33 [00:00<00:00, 141.73it/s, loss=0.088, val_loss=0.151, val_r2=0.197]\n",
      "`Trainer.fit` stopped: `max_epochs=10` reached.\n"
     ]
    },
    {
     "name": "stdout",
     "output_type": "stream",
     "text": [
      "2024-04-24 12:58:54 | INFO |    Trial 27 finished with value: 0.15078853070735931 and parameters: {'n_lstm_units': 4, 'n_dense_units': 3, 'n_embedding_dim': 5, 'learning_rate': 0.00021010799310103572}. Best is trial 15 with value: 0.008985787630081177 and R2: 0.952172577381134.\n"
     ]
    },
    {
     "name": "stderr",
     "output_type": "stream",
     "text": [
      "Using 16bit Automatic Mixed Precision (AMP)\n",
      "GPU available: True (cuda), used: True\n",
      "TPU available: False, using: 0 TPU cores\n",
      "IPU available: False, using: 0 IPUs\n",
      "HPU available: False, using: 0 HPUs\n",
      "LOCAL_RANK: 0 - CUDA_VISIBLE_DEVICES: [0]\n",
      "\n",
      "  | Name          | Type             | Params\n",
      "---------------------------------------------------\n",
      "0 | train_metrics | MetricCollection | 0     \n",
      "1 | valid_metrics | MetricCollection | 0     \n",
      "2 | model         | SmilesX          | 11.6 M\n",
      "---------------------------------------------------\n",
      "11.6 M    Trainable params\n",
      "0         Non-trainable params\n",
      "11.6 M    Total params\n",
      "46.246    Total estimated model params size (MB)\n",
      "Epoch 1: 100%|██████████| 33/33 [00:03<00:00,  9.33it/s, loss=459.493, val_loss=0.452, val_r2=-1.408]\n",
      "Epoch 2: 100%|██████████| 33/33 [00:00<00:00, 35.21it/s, loss=0.297, val_loss=0.163, val_r2=0.132]\n",
      "Epoch 3: 100%|██████████| 33/33 [00:00<00:00, 35.06it/s, loss=0.109, val_loss=0.131, val_r2=0.302]\n",
      "Epoch 4: 100%|██████████| 33/33 [00:00<00:00, 34.78it/s, loss=0.079, val_loss=0.109, val_r2=0.422]\n",
      "Epoch 5: 100%|██████████| 33/33 [00:00<00:00, 35.29it/s, loss=0.065, val_loss=0.097, val_r2=0.485]\n",
      "Epoch 6: 100%|██████████| 33/33 [00:00<00:00, 35.15it/s, loss=0.052, val_loss=0.090, val_r2=0.523]\n",
      "Epoch 7: 100%|██████████| 33/33 [00:00<00:00, 35.42it/s, loss=0.048, val_loss=0.081, val_r2=0.568]\n",
      "Epoch 8: 100%|██████████| 33/33 [00:00<00:00, 35.85it/s, loss=0.045, val_loss=0.078, val_r2=0.586]\n",
      "Epoch 9: 100%|██████████| 33/33 [00:00<00:00, 34.85it/s, loss=0.043, val_loss=0.076, val_r2=0.596]\n",
      "Epoch 10: 100%|██████████| 33/33 [00:00<00:00, 35.34it/s, loss=0.042, val_loss=0.075, val_r2=0.602]\n",
      "`Trainer.fit` stopped: `max_epochs=10` reached.\n"
     ]
    },
    {
     "name": "stdout",
     "output_type": "stream",
     "text": [
      "2024-04-24 12:59:10 | INFO |    Trial 28 finished with value: 0.07468705624341965 and parameters: {'n_lstm_units': 10, 'n_dense_units': 9, 'n_embedding_dim': 8, 'learning_rate': 0.005532496914298506}. Best is trial 15 with value: 0.008985787630081177 and R2: 0.952172577381134.\n"
     ]
    },
    {
     "name": "stderr",
     "output_type": "stream",
     "text": [
      "Using 16bit Automatic Mixed Precision (AMP)\n",
      "GPU available: True (cuda), used: True\n",
      "TPU available: False, using: 0 TPU cores\n",
      "IPU available: False, using: 0 IPUs\n",
      "HPU available: False, using: 0 HPUs\n",
      "LOCAL_RANK: 0 - CUDA_VISIBLE_DEVICES: [0]\n",
      "\n",
      "  | Name          | Type             | Params\n",
      "---------------------------------------------------\n",
      "0 | train_metrics | MetricCollection | 0     \n",
      "1 | valid_metrics | MetricCollection | 0     \n",
      "2 | model         | SmilesX          | 6.4 M \n",
      "---------------------------------------------------\n",
      "6.4 M     Trainable params\n",
      "0         Non-trainable params\n",
      "6.4 M     Total params\n",
      "25.412    Total estimated model params size (MB)\n",
      "Epoch 1: 100%|██████████| 33/33 [00:03<00:00, 10.01it/s, loss=0.531, val_loss=0.078, val_r2=0.582]\n",
      "Epoch 2: 100%|██████████| 33/33 [00:00<00:00, 51.83it/s, loss=0.039, val_loss=0.031, val_r2=0.834]\n",
      "Epoch 3: 100%|██████████| 33/33 [00:00<00:00, 51.92it/s, loss=0.021, val_loss=0.017, val_r2=0.911]\n",
      "Epoch 4: 100%|██████████| 33/33 [00:00<00:00, 52.28it/s, loss=0.015, val_loss=0.013, val_r2=0.931]\n",
      "Epoch 5: 100%|██████████| 33/33 [00:00<00:00, 52.61it/s, loss=0.012, val_loss=0.011, val_r2=0.941]\n",
      "Epoch 6: 100%|██████████| 33/33 [00:00<00:00, 53.26it/s, loss=0.010, val_loss=0.010, val_r2=0.949]\n",
      "Epoch 7: 100%|██████████| 33/33 [00:00<00:00, 52.78it/s, loss=0.009, val_loss=0.009, val_r2=0.953]\n",
      "Epoch 8: 100%|██████████| 33/33 [00:00<00:00, 53.41it/s, loss=0.008, val_loss=0.010, val_r2=0.948]\n",
      "Epoch 9: 100%|██████████| 33/33 [00:00<00:00, 54.20it/s, loss=0.007, val_loss=0.009, val_r2=0.953]\n",
      "Epoch 10: 100%|██████████| 33/33 [00:00<00:00, 51.61it/s, loss=0.007, val_loss=0.009, val_r2=0.953]\n",
      "`Trainer.fit` stopped: `max_epochs=10` reached.\n"
     ]
    },
    {
     "name": "stdout",
     "output_type": "stream",
     "text": [
      "2024-04-24 12:59:22 | INFO |    Trial 29 finished with value: 0.00874879490584135 and parameters: {'n_lstm_units': 9, 'n_dense_units': 4, 'n_embedding_dim': 10, 'learning_rate': 0.0011986281799901185}. Best is trial 29 with value: 0.00874879490584135 and R2: 0.9534339904785156.\n"
     ]
    },
    {
     "name": "stderr",
     "output_type": "stream",
     "text": [
      "Using 16bit Automatic Mixed Precision (AMP)\n",
      "GPU available: True (cuda), used: True\n",
      "TPU available: False, using: 0 TPU cores\n",
      "IPU available: False, using: 0 IPUs\n",
      "HPU available: False, using: 0 HPUs\n",
      "LOCAL_RANK: 0 - CUDA_VISIBLE_DEVICES: [0]\n",
      "\n",
      "  | Name          | Type             | Params\n",
      "---------------------------------------------------\n",
      "0 | train_metrics | MetricCollection | 0     \n",
      "1 | valid_metrics | MetricCollection | 0     \n",
      "2 | model         | SmilesX          | 3.3 M \n",
      "---------------------------------------------------\n",
      "3.3 M     Trainable params\n",
      "0         Non-trainable params\n",
      "3.3 M     Total params\n",
      "13.157    Total estimated model params size (MB)\n",
      "Epoch 1: 100%|██████████| 33/33 [00:03<00:00, 10.55it/s, loss=0.090, val_loss=0.103, val_r2=0.451]\n",
      "Epoch 2: 100%|██████████| 33/33 [00:00<00:00, 70.68it/s, loss=0.049, val_loss=0.052, val_r2=0.723]\n",
      "Epoch 3: 100%|██████████| 33/33 [00:00<00:00, 70.47it/s, loss=0.036, val_loss=0.032, val_r2=0.830]\n",
      "Epoch 4: 100%|██████████| 33/33 [00:00<00:00, 68.70it/s, loss=0.029, val_loss=0.031, val_r2=0.834]\n",
      "Epoch 5: 100%|██████████| 33/33 [00:00<00:00, 68.30it/s, loss=0.034, val_loss=0.038, val_r2=0.800]\n",
      "Epoch 6: 100%|██████████| 33/33 [00:00<00:00, 70.87it/s, loss=0.027, val_loss=0.026, val_r2=0.861]\n",
      "Epoch 7: 100%|██████████| 33/33 [00:00<00:00, 68.70it/s, loss=0.023, val_loss=0.021, val_r2=0.889]\n",
      "Epoch 8: 100%|██████████| 33/33 [00:00<00:00, 67.87it/s, loss=0.023, val_loss=0.021, val_r2=0.887]\n",
      "Epoch 9: 100%|██████████| 33/33 [00:00<00:00, 70.41it/s, loss=0.022, val_loss=0.020, val_r2=0.895]\n",
      "Epoch 10: 100%|██████████| 33/33 [00:00<00:00, 70.78it/s, loss=0.022, val_loss=0.020, val_r2=0.895]\n",
      "`Trainer.fit` stopped: `max_epochs=10` reached.\n"
     ]
    },
    {
     "name": "stdout",
     "output_type": "stream",
     "text": [
      "2024-04-24 12:59:33 | INFO |    Trial 30 finished with value: 0.019739650189876556 and parameters: {'n_lstm_units': 9, 'n_dense_units': 10, 'n_embedding_dim': 5, 'learning_rate': 0.00016599837974449222}. Best is trial 29 with value: 0.00874879490584135 and R2: 0.9534339904785156.\n"
     ]
    },
    {
     "name": "stderr",
     "output_type": "stream",
     "text": [
      "Using 16bit Automatic Mixed Precision (AMP)\n",
      "GPU available: True (cuda), used: True\n",
      "TPU available: False, using: 0 TPU cores\n",
      "IPU available: False, using: 0 IPUs\n",
      "HPU available: False, using: 0 HPUs\n",
      "LOCAL_RANK: 0 - CUDA_VISIBLE_DEVICES: [0]\n",
      "\n",
      "  | Name          | Type             | Params\n",
      "---------------------------------------------------\n",
      "0 | train_metrics | MetricCollection | 0     \n",
      "1 | valid_metrics | MetricCollection | 0     \n",
      "2 | model         | SmilesX          | 88.5 K\n",
      "---------------------------------------------------\n",
      "88.5 K    Trainable params\n",
      "0         Non-trainable params\n",
      "88.5 K    Total params\n",
      "0.354     Total estimated model params size (MB)\n",
      "Epoch 1: 100%|██████████| 33/33 [00:02<00:00, 11.68it/s, loss=0.060, val_loss=0.035, val_r2=0.813]\n",
      "Epoch 2: 100%|██████████| 33/33 [00:00<00:00, 132.61it/s, loss=0.021, val_loss=0.019, val_r2=0.896]\n",
      "Epoch 3: 100%|██████████| 33/33 [00:00<00:00, 132.03it/s, loss=0.015, val_loss=0.016, val_r2=0.915]\n",
      "Epoch 4: 100%|██████████| 33/33 [00:00<00:00, 131.28it/s, loss=0.013, val_loss=0.013, val_r2=0.928]\n",
      "Epoch 5: 100%|██████████| 33/33 [00:00<00:00, 132.30it/s, loss=0.012, val_loss=0.014, val_r2=0.928]\n",
      "Epoch 6: 100%|██████████| 33/33 [00:00<00:00, 131.49it/s, loss=0.011, val_loss=0.013, val_r2=0.930]\n",
      "Epoch 7: 100%|██████████| 33/33 [00:00<00:00, 131.13it/s, loss=0.010, val_loss=0.012, val_r2=0.934]\n",
      "Epoch 8: 100%|██████████| 33/33 [00:00<00:00, 132.69it/s, loss=0.009, val_loss=0.012, val_r2=0.938]\n",
      "Epoch 9: 100%|██████████| 33/33 [00:00<00:00, 139.72it/s, loss=0.009, val_loss=0.012, val_r2=0.938]\n",
      "Epoch 10: 100%|██████████| 33/33 [00:00<00:00, 123.77it/s, loss=0.009, val_loss=0.011, val_r2=0.940]\n",
      "`Trainer.fit` stopped: `max_epochs=10` reached.\n"
     ]
    },
    {
     "name": "stdout",
     "output_type": "stream",
     "text": [
      "2024-04-24 12:59:42 | INFO |    Trial 31 finished with value: 0.011194679886102676 and parameters: {'n_lstm_units': 4, 'n_dense_units': 6, 'n_embedding_dim': 9, 'learning_rate': 0.005265761277157428}. Best is trial 29 with value: 0.00874879490584135 and R2: 0.9534339904785156.\n"
     ]
    },
    {
     "name": "stderr",
     "output_type": "stream",
     "text": [
      "Using 16bit Automatic Mixed Precision (AMP)\n",
      "GPU available: True (cuda), used: True\n",
      "TPU available: False, using: 0 TPU cores\n",
      "IPU available: False, using: 0 IPUs\n",
      "HPU available: False, using: 0 HPUs\n",
      "LOCAL_RANK: 0 - CUDA_VISIBLE_DEVICES: [0]\n",
      "\n",
      "  | Name          | Type             | Params\n",
      "---------------------------------------------------\n",
      "0 | train_metrics | MetricCollection | 0     \n",
      "1 | valid_metrics | MetricCollection | 0     \n",
      "2 | model         | SmilesX          | 9.5 K \n",
      "---------------------------------------------------\n",
      "9.5 K     Trainable params\n",
      "0         Non-trainable params\n",
      "9.5 K     Total params\n",
      "0.038     Total estimated model params size (MB)\n",
      "Epoch 1: 100%|██████████| 33/33 [00:02<00:00, 11.43it/s, loss=0.093, val_loss=0.155, val_r2=0.177]\n",
      "Epoch 2: 100%|██████████| 33/33 [00:00<00:00, 140.96it/s, loss=0.084, val_loss=0.131, val_r2=0.302]\n",
      "Epoch 3: 100%|██████████| 33/33 [00:00<00:00, 141.08it/s, loss=0.071, val_loss=0.104, val_r2=0.448]\n",
      "Epoch 4: 100%|██████████| 33/33 [00:00<00:00, 140.44it/s, loss=0.059, val_loss=0.085, val_r2=0.550]\n",
      "Epoch 5: 100%|██████████| 33/33 [00:00<00:00, 132.39it/s, loss=0.050, val_loss=0.075, val_r2=0.603]\n",
      "Epoch 6: 100%|██████████| 33/33 [00:00<00:00, 152.99it/s, loss=0.044, val_loss=0.066, val_r2=0.649]\n",
      "Epoch 7: 100%|██████████| 33/33 [00:00<00:00, 139.63it/s, loss=0.041, val_loss=0.061, val_r2=0.675]\n",
      "Epoch 8: 100%|██████████| 33/33 [00:00<00:00, 141.55it/s, loss=0.039, val_loss=0.059, val_r2=0.688]\n",
      "Epoch 9: 100%|██████████| 33/33 [00:00<00:00, 133.96it/s, loss=0.038, val_loss=0.057, val_r2=0.694]\n",
      "Epoch 10: 100%|██████████| 33/33 [00:00<00:00, 141.73it/s, loss=0.037, val_loss=0.057, val_r2=0.696]\n",
      "`Trainer.fit` stopped: `max_epochs=10` reached.\n"
     ]
    },
    {
     "name": "stdout",
     "output_type": "stream",
     "text": [
      "2024-04-24 12:59:50 | INFO |    Trial 32 finished with value: 0.057207606732845306 and parameters: {'n_lstm_units': 3, 'n_dense_units': 7, 'n_embedding_dim': 6, 'learning_rate': 0.00027810936979265544}. Best is trial 29 with value: 0.00874879490584135 and R2: 0.9534339904785156.\n"
     ]
    },
    {
     "name": "stderr",
     "output_type": "stream",
     "text": [
      "Using 16bit Automatic Mixed Precision (AMP)\n",
      "GPU available: True (cuda), used: True\n",
      "TPU available: False, using: 0 TPU cores\n",
      "IPU available: False, using: 0 IPUs\n",
      "HPU available: False, using: 0 HPUs\n",
      "LOCAL_RANK: 0 - CUDA_VISIBLE_DEVICES: [0]\n",
      "\n",
      "  | Name          | Type             | Params\n",
      "---------------------------------------------------\n",
      "0 | train_metrics | MetricCollection | 0     \n",
      "1 | valid_metrics | MetricCollection | 0     \n",
      "2 | model         | SmilesX          | 103 K \n",
      "---------------------------------------------------\n",
      "103 K     Trainable params\n",
      "0         Non-trainable params\n",
      "103 K     Total params\n",
      "0.415     Total estimated model params size (MB)\n",
      "Epoch 1: 100%|██████████| 33/33 [00:03<00:00, 10.98it/s, loss=0.094, val_loss=0.141, val_r2=0.252]\n",
      "Epoch 2: 100%|██████████| 33/33 [00:00<00:00, 116.34it/s, loss=0.072, val_loss=0.101, val_r2=0.461]\n",
      "Epoch 3: 100%|██████████| 33/33 [00:00<00:00, 116.08it/s, loss=0.052, val_loss=0.069, val_r2=0.631]\n",
      "Epoch 4: 100%|██████████| 33/33 [00:00<00:00, 116.14it/s, loss=0.040, val_loss=0.057, val_r2=0.698]\n",
      "Epoch 5: 100%|██████████| 33/33 [00:00<00:00, 116.22it/s, loss=0.034, val_loss=0.045, val_r2=0.762]\n",
      "Epoch 6: 100%|██████████| 33/33 [00:00<00:00, 110.07it/s, loss=0.030, val_loss=0.039, val_r2=0.793]\n",
      "Epoch 7: 100%|██████████| 33/33 [00:00<00:00, 116.41it/s, loss=0.028, val_loss=0.035, val_r2=0.815]\n",
      "Epoch 8: 100%|██████████| 33/33 [00:00<00:00, 115.95it/s, loss=0.026, val_loss=0.033, val_r2=0.822]\n",
      "Epoch 9: 100%|██████████| 33/33 [00:00<00:00, 116.52it/s, loss=0.025, val_loss=0.033, val_r2=0.826]\n",
      "Epoch 10: 100%|██████████| 33/33 [00:00<00:00, 116.17it/s, loss=0.025, val_loss=0.032, val_r2=0.828]\n",
      "`Trainer.fit` stopped: `max_epochs=10` reached.\n"
     ]
    },
    {
     "name": "stdout",
     "output_type": "stream",
     "text": [
      "2024-04-24 12:59:59 | INFO |    Trial 33 finished with value: 0.03239663317799568 and parameters: {'n_lstm_units': 3, 'n_dense_units': 5, 'n_embedding_dim': 10, 'learning_rate': 0.00044300218067679835}. Best is trial 29 with value: 0.00874879490584135 and R2: 0.9534339904785156.\n"
     ]
    },
    {
     "name": "stderr",
     "output_type": "stream",
     "text": [
      "Using 16bit Automatic Mixed Precision (AMP)\n",
      "GPU available: True (cuda), used: True\n",
      "TPU available: False, using: 0 TPU cores\n",
      "IPU available: False, using: 0 IPUs\n",
      "HPU available: False, using: 0 HPUs\n",
      "LOCAL_RANK: 0 - CUDA_VISIBLE_DEVICES: [0]\n",
      "\n",
      "  | Name          | Type             | Params\n",
      "---------------------------------------------------\n",
      "0 | train_metrics | MetricCollection | 0     \n",
      "1 | valid_metrics | MetricCollection | 0     \n",
      "2 | model         | SmilesX          | 233 K \n",
      "---------------------------------------------------\n",
      "233 K     Trainable params\n",
      "0         Non-trainable params\n",
      "233 K     Total params\n",
      "0.933     Total estimated model params size (MB)\n",
      "Epoch 1: 100%|██████████| 33/33 [00:02<00:00, 12.01it/s, loss=0.861, val_loss=0.075, val_r2=0.603]\n",
      "Epoch 2: 100%|██████████| 33/33 [00:00<00:00, 131.47it/s, loss=0.038, val_loss=0.030, val_r2=0.840]\n",
      "Epoch 3: 100%|██████████| 33/33 [00:00<00:00, 132.51it/s, loss=0.019, val_loss=0.014, val_r2=0.925]\n",
      "Epoch 4: 100%|██████████| 33/33 [00:00<00:00, 132.05it/s, loss=0.014, val_loss=0.013, val_r2=0.933]\n",
      "Epoch 5: 100%|██████████| 33/33 [00:00<00:00, 139.54it/s, loss=0.012, val_loss=0.011, val_r2=0.941]\n",
      "Epoch 6: 100%|██████████| 33/33 [00:00<00:00, 131.67it/s, loss=0.011, val_loss=0.011, val_r2=0.939]\n",
      "Epoch 7: 100%|██████████| 33/33 [00:00<00:00, 131.99it/s, loss=0.010, val_loss=0.011, val_r2=0.944]\n",
      "Epoch 8: 100%|██████████| 33/33 [00:00<00:00, 131.65it/s, loss=0.009, val_loss=0.011, val_r2=0.943]\n",
      "Epoch 9: 100%|██████████| 33/33 [00:00<00:00, 131.54it/s, loss=0.009, val_loss=0.010, val_r2=0.946]\n",
      "Epoch 10: 100%|██████████| 33/33 [00:00<00:00, 131.81it/s, loss=0.008, val_loss=0.010, val_r2=0.947]\n",
      "`Trainer.fit` stopped: `max_epochs=10` reached.\n"
     ]
    },
    {
     "name": "stdout",
     "output_type": "stream",
     "text": [
      "2024-04-24 13:00:08 | INFO |    Trial 34 finished with value: 0.009933076798915863 and parameters: {'n_lstm_units': 7, 'n_dense_units': 8, 'n_embedding_dim': 5, 'learning_rate': 0.008781408196485976}. Best is trial 29 with value: 0.00874879490584135 and R2: 0.9534339904785156.\n"
     ]
    },
    {
     "name": "stderr",
     "output_type": "stream",
     "text": [
      "Using 16bit Automatic Mixed Precision (AMP)\n",
      "GPU available: True (cuda), used: True\n",
      "TPU available: False, using: 0 TPU cores\n",
      "IPU available: False, using: 0 IPUs\n",
      "HPU available: False, using: 0 HPUs\n",
      "LOCAL_RANK: 0 - CUDA_VISIBLE_DEVICES: [0]\n",
      "\n",
      "  | Name          | Type             | Params\n",
      "---------------------------------------------------\n",
      "0 | train_metrics | MetricCollection | 0     \n",
      "1 | valid_metrics | MetricCollection | 0     \n",
      "2 | model         | SmilesX          | 9.0 M \n",
      "---------------------------------------------------\n",
      "9.0 M     Trainable params\n",
      "0         Non-trainable params\n",
      "9.0 M     Total params\n",
      "35.989    Total estimated model params size (MB)\n",
      "Epoch 1: 100%|██████████| 33/33 [00:03<00:00,  9.33it/s, loss=0.084, val_loss=0.061, val_r2=0.674]\n",
      "Epoch 2: 100%|██████████| 33/33 [00:00<00:00, 38.56it/s, loss=0.050, val_loss=0.043, val_r2=0.772]\n",
      "Epoch 3: 100%|██████████| 33/33 [00:00<00:00, 39.53it/s, loss=0.030, val_loss=0.022, val_r2=0.881]\n",
      "Epoch 4: 100%|██████████| 33/33 [00:00<00:00, 39.05it/s, loss=0.023, val_loss=0.021, val_r2=0.889]\n",
      "Epoch 5: 100%|██████████| 33/33 [00:00<00:00, 39.00it/s, loss=0.021, val_loss=0.019, val_r2=0.897]\n",
      "Epoch 6: 100%|██████████| 33/33 [00:00<00:00, 39.10it/s, loss=0.018, val_loss=0.013, val_r2=0.930]\n",
      "Epoch 7: 100%|██████████| 33/33 [00:00<00:00, 39.61it/s, loss=0.016, val_loss=0.013, val_r2=0.930]\n",
      "Epoch 8: 100%|██████████| 33/33 [00:00<00:00, 39.08it/s, loss=0.015, val_loss=0.012, val_r2=0.938]\n",
      "Epoch 9: 100%|██████████| 33/33 [00:00<00:00, 39.63it/s, loss=0.013, val_loss=0.013, val_r2=0.932]\n",
      "Epoch 10: 100%|██████████| 33/33 [00:00<00:00, 38.12it/s, loss=0.013, val_loss=0.012, val_r2=0.937]\n",
      "`Trainer.fit` stopped: `max_epochs=10` reached.\n"
     ]
    },
    {
     "name": "stdout",
     "output_type": "stream",
     "text": [
      "2024-04-24 13:00:22 | INFO |    Trial 35 finished with value: 0.011923359706997871 and parameters: {'n_lstm_units': 10, 'n_dense_units': 5, 'n_embedding_dim': 6, 'learning_rate': 0.0003997206819121809}. Best is trial 29 with value: 0.00874879490584135 and R2: 0.9534339904785156.\n"
     ]
    },
    {
     "name": "stderr",
     "output_type": "stream",
     "text": [
      "Using 16bit Automatic Mixed Precision (AMP)\n",
      "GPU available: True (cuda), used: True\n",
      "TPU available: False, using: 0 TPU cores\n",
      "IPU available: False, using: 0 IPUs\n",
      "HPU available: False, using: 0 HPUs\n",
      "LOCAL_RANK: 0 - CUDA_VISIBLE_DEVICES: [0]\n",
      "\n",
      "  | Name          | Type             | Params\n",
      "---------------------------------------------------\n",
      "0 | train_metrics | MetricCollection | 0     \n",
      "1 | valid_metrics | MetricCollection | 0     \n",
      "2 | model         | SmilesX          | 46.6 K\n",
      "---------------------------------------------------\n",
      "46.6 K    Trainable params\n",
      "0         Non-trainable params\n",
      "46.6 K    Total params\n",
      "0.186     Total estimated model params size (MB)\n",
      "Epoch 1: 100%|██████████| 33/33 [00:02<00:00, 12.04it/s, loss=0.089, val_loss=0.103, val_r2=0.454]\n",
      "Epoch 2: 100%|██████████| 33/33 [00:00<00:00, 119.65it/s, loss=0.044, val_loss=0.038, val_r2=0.799]\n",
      "Epoch 3: 100%|██████████| 33/33 [00:00<00:00, 131.43it/s, loss=0.025, val_loss=0.019, val_r2=0.901]\n",
      "Epoch 4: 100%|██████████| 33/33 [00:00<00:00, 131.93it/s, loss=0.018, val_loss=0.014, val_r2=0.927]\n",
      "Epoch 5: 100%|██████████| 33/33 [00:00<00:00, 131.33it/s, loss=0.014, val_loss=0.013, val_r2=0.932]\n",
      "Epoch 6: 100%|██████████| 33/33 [00:00<00:00, 132.00it/s, loss=0.013, val_loss=0.011, val_r2=0.940]\n",
      "Epoch 7: 100%|██████████| 33/33 [00:00<00:00, 132.03it/s, loss=0.012, val_loss=0.011, val_r2=0.943]\n",
      "Epoch 8: 100%|██████████| 33/33 [00:00<00:00, 131.53it/s, loss=0.011, val_loss=0.010, val_r2=0.945]\n",
      "Epoch 9: 100%|██████████| 33/33 [00:00<00:00, 133.44it/s, loss=0.011, val_loss=0.010, val_r2=0.946]\n",
      "Epoch 10: 100%|██████████| 33/33 [00:00<00:00, 131.45it/s, loss=0.011, val_loss=0.010, val_r2=0.946]\n",
      "`Trainer.fit` stopped: `max_epochs=10` reached.\n"
     ]
    },
    {
     "name": "stdout",
     "output_type": "stream",
     "text": [
      "2024-04-24 13:00:31 | INFO |    Trial 36 finished with value: 0.010140456259250641 and parameters: {'n_lstm_units': 5, 'n_dense_units': 3, 'n_embedding_dim': 7, 'learning_rate': 0.0010124137770478635}. Best is trial 29 with value: 0.00874879490584135 and R2: 0.9534339904785156.\n"
     ]
    },
    {
     "name": "stderr",
     "output_type": "stream",
     "text": [
      "Using 16bit Automatic Mixed Precision (AMP)\n",
      "GPU available: True (cuda), used: True\n",
      "TPU available: False, using: 0 TPU cores\n",
      "IPU available: False, using: 0 IPUs\n",
      "HPU available: False, using: 0 HPUs\n",
      "LOCAL_RANK: 0 - CUDA_VISIBLE_DEVICES: [0]\n",
      "\n",
      "  | Name          | Type             | Params\n",
      "---------------------------------------------------\n",
      "0 | train_metrics | MetricCollection | 0     \n",
      "1 | valid_metrics | MetricCollection | 0     \n",
      "2 | model         | SmilesX          | 103 K \n",
      "---------------------------------------------------\n",
      "103 K     Trainable params\n",
      "0         Non-trainable params\n",
      "103 K     Total params\n",
      "0.415     Total estimated model params size (MB)\n",
      "Epoch 1: 100%|██████████| 33/33 [00:02<00:00, 11.11it/s, loss=0.100, val_loss=0.159, val_r2=0.152]\n",
      "Epoch 2: 100%|██████████| 33/33 [00:00<00:00, 116.49it/s, loss=0.083, val_loss=0.129, val_r2=0.315]\n",
      "Epoch 3: 100%|██████████| 33/33 [00:00<00:00, 109.66it/s, loss=0.065, val_loss=0.099, val_r2=0.474]\n",
      "Epoch 4: 100%|██████████| 33/33 [00:00<00:00, 115.10it/s, loss=0.052, val_loss=0.080, val_r2=0.574]\n",
      "Epoch 5: 100%|██████████| 33/33 [00:00<00:00, 116.64it/s, loss=0.046, val_loss=0.069, val_r2=0.631]\n",
      "Epoch 6: 100%|██████████| 33/33 [00:00<00:00, 111.04it/s, loss=0.040, val_loss=0.062, val_r2=0.673]\n",
      "Epoch 7: 100%|██████████| 33/33 [00:00<00:00, 116.69it/s, loss=0.036, val_loss=0.055, val_r2=0.706]\n",
      "Epoch 8: 100%|██████████| 33/33 [00:00<00:00, 122.97it/s, loss=0.034, val_loss=0.052, val_r2=0.725]\n",
      "Epoch 9: 100%|██████████| 33/33 [00:00<00:00, 115.54it/s, loss=0.033, val_loss=0.050, val_r2=0.734]\n",
      "Epoch 10: 100%|██████████| 33/33 [00:00<00:00, 110.95it/s, loss=0.032, val_loss=0.049, val_r2=0.737]\n",
      "`Trainer.fit` stopped: `max_epochs=10` reached.\n"
     ]
    },
    {
     "name": "stdout",
     "output_type": "stream",
     "text": [
      "2024-04-24 13:00:40 | INFO |    Trial 37 finished with value: 0.04945304989814758 and parameters: {'n_lstm_units': 3, 'n_dense_units': 5, 'n_embedding_dim': 10, 'learning_rate': 0.00030138649046798047}. Best is trial 29 with value: 0.00874879490584135 and R2: 0.9534339904785156.\n"
     ]
    },
    {
     "name": "stderr",
     "output_type": "stream",
     "text": [
      "Using 16bit Automatic Mixed Precision (AMP)\n",
      "GPU available: True (cuda), used: True\n",
      "TPU available: False, using: 0 TPU cores\n",
      "IPU available: False, using: 0 IPUs\n",
      "HPU available: False, using: 0 HPUs\n",
      "LOCAL_RANK: 0 - CUDA_VISIBLE_DEVICES: [0]\n",
      "\n",
      "  | Name          | Type             | Params\n",
      "---------------------------------------------------\n",
      "0 | train_metrics | MetricCollection | 0     \n",
      "1 | valid_metrics | MetricCollection | 0     \n",
      "2 | model         | SmilesX          | 172 K \n",
      "---------------------------------------------------\n",
      "172 K     Trainable params\n",
      "0         Non-trainable params\n",
      "172 K     Total params\n",
      "0.690     Total estimated model params size (MB)\n",
      "Epoch 1: 100%|██████████| 33/33 [00:03<00:00, 10.99it/s, loss=0.099, val_loss=0.138, val_r2=0.266]\n",
      "Epoch 2: 100%|██████████| 33/33 [00:00<00:00, 109.93it/s, loss=0.065, val_loss=0.083, val_r2=0.560]\n",
      "Epoch 3: 100%|██████████| 33/33 [00:00<00:00, 116.47it/s, loss=0.043, val_loss=0.051, val_r2=0.727]\n",
      "Epoch 4: 100%|██████████| 33/33 [00:00<00:00, 116.01it/s, loss=0.030, val_loss=0.037, val_r2=0.805]\n",
      "Epoch 5: 100%|██████████| 33/33 [00:00<00:00, 123.37it/s, loss=0.024, val_loss=0.030, val_r2=0.838]\n",
      "Epoch 6: 100%|██████████| 33/33 [00:00<00:00, 115.63it/s, loss=0.021, val_loss=0.027, val_r2=0.857]\n",
      "Epoch 7: 100%|██████████| 33/33 [00:00<00:00, 118.08it/s, loss=0.019, val_loss=0.025, val_r2=0.866]\n",
      "Epoch 8: 100%|██████████| 33/33 [00:00<00:00, 116.01it/s, loss=0.018, val_loss=0.023, val_r2=0.875]\n",
      "Epoch 9: 100%|██████████| 33/33 [00:00<00:00, 117.27it/s, loss=0.017, val_loss=0.023, val_r2=0.877]\n",
      "Epoch 10: 100%|██████████| 33/33 [00:00<00:00, 117.08it/s, loss=0.017, val_loss=0.023, val_r2=0.878]\n",
      "`Trainer.fit` stopped: `max_epochs=10` reached.\n"
     ]
    },
    {
     "name": "stdout",
     "output_type": "stream",
     "text": [
      "2024-04-24 13:00:49 | INFO |    Trial 38 finished with value: 0.022969327867031097 and parameters: {'n_lstm_units': 4, 'n_dense_units': 6, 'n_embedding_dim': 10, 'learning_rate': 0.000304867088345807}. Best is trial 29 with value: 0.00874879490584135 and R2: 0.9534339904785156.\n"
     ]
    },
    {
     "name": "stderr",
     "output_type": "stream",
     "text": [
      "Using 16bit Automatic Mixed Precision (AMP)\n",
      "GPU available: True (cuda), used: True\n",
      "TPU available: False, using: 0 TPU cores\n",
      "IPU available: False, using: 0 IPUs\n",
      "HPU available: False, using: 0 HPUs\n",
      "LOCAL_RANK: 0 - CUDA_VISIBLE_DEVICES: [0]\n",
      "\n",
      "  | Name          | Type             | Params\n",
      "---------------------------------------------------\n",
      "0 | train_metrics | MetricCollection | 0     \n",
      "1 | valid_metrics | MetricCollection | 0     \n",
      "2 | model         | SmilesX          | 825 K \n",
      "---------------------------------------------------\n",
      "825 K     Trainable params\n",
      "0         Non-trainable params\n",
      "825 K     Total params\n",
      "3.302     Total estimated model params size (MB)\n",
      "Epoch 1: 100%|██████████| 33/33 [00:03<00:00, 10.86it/s, loss=0.107, val_loss=0.078, val_r2=0.587]\n",
      "Epoch 2: 100%|██████████| 33/33 [00:00<00:00, 99.43it/s, loss=0.048, val_loss=0.046, val_r2=0.753] \n",
      "Epoch 3: 100%|██████████| 33/33 [00:00<00:00, 103.83it/s, loss=0.035, val_loss=0.041, val_r2=0.781]\n",
      "Epoch 4: 100%|██████████| 33/33 [00:00<00:00, 103.74it/s, loss=0.023, val_loss=0.025, val_r2=0.866]\n",
      "Epoch 5: 100%|██████████| 33/33 [00:00<00:00, 98.74it/s, loss=0.016, val_loss=0.020, val_r2=0.891] \n",
      "Epoch 6: 100%|██████████| 33/33 [00:00<00:00, 103.70it/s, loss=0.014, val_loss=0.020, val_r2=0.894]\n",
      "Epoch 7: 100%|██████████| 33/33 [00:00<00:00, 100.91it/s, loss=0.012, val_loss=0.017, val_r2=0.910]\n",
      "Epoch 8: 100%|██████████| 33/33 [00:00<00:00, 110.66it/s, loss=0.011, val_loss=0.014, val_r2=0.923]\n",
      "Epoch 9: 100%|██████████| 33/33 [00:00<00:00, 103.74it/s, loss=0.010, val_loss=0.015, val_r2=0.920]\n",
      "Epoch 10: 100%|██████████| 33/33 [00:00<00:00, 103.79it/s, loss=0.010, val_loss=0.015, val_r2=0.920]\n",
      "`Trainer.fit` stopped: `max_epochs=10` reached.\n"
     ]
    },
    {
     "name": "stdout",
     "output_type": "stream",
     "text": [
      "2024-04-24 13:00:58 | INFO |    Trial 39 finished with value: 0.015043992549180984 and parameters: {'n_lstm_units': 8, 'n_dense_units': 9, 'n_embedding_dim': 4, 'learning_rate': 0.0028604390429824616}. Best is trial 29 with value: 0.00874879490584135 and R2: 0.9534339904785156.\n"
     ]
    },
    {
     "name": "stderr",
     "output_type": "stream",
     "text": [
      "Using 16bit Automatic Mixed Precision (AMP)\n",
      "GPU available: True (cuda), used: True\n",
      "TPU available: False, using: 0 TPU cores\n",
      "IPU available: False, using: 0 IPUs\n",
      "HPU available: False, using: 0 HPUs\n",
      "LOCAL_RANK: 0 - CUDA_VISIBLE_DEVICES: [0]\n",
      "\n",
      "  | Name          | Type             | Params\n",
      "---------------------------------------------------\n",
      "0 | train_metrics | MetricCollection | 0     \n",
      "1 | valid_metrics | MetricCollection | 0     \n",
      "2 | model         | SmilesX          | 100 K \n",
      "---------------------------------------------------\n",
      "100 K     Trainable params\n",
      "0         Non-trainable params\n",
      "100 K     Total params\n",
      "0.402     Total estimated model params size (MB)\n",
      "Epoch 1: 100%|██████████| 33/33 [00:02<00:00, 11.34it/s, loss=0.066, val_loss=0.048, val_r2=0.742]\n",
      "Epoch 2: 100%|██████████| 33/33 [00:00<00:00, 131.96it/s, loss=0.025, val_loss=0.020, val_r2=0.895]\n",
      "Epoch 3: 100%|██████████| 33/33 [00:00<00:00, 141.07it/s, loss=0.014, val_loss=0.016, val_r2=0.916]\n",
      "Epoch 4: 100%|██████████| 33/33 [00:00<00:00, 140.44it/s, loss=0.011, val_loss=0.014, val_r2=0.923]\n",
      "Epoch 5: 100%|██████████| 33/33 [00:00<00:00, 141.72it/s, loss=0.010, val_loss=0.011, val_r2=0.940]\n",
      "Epoch 6: 100%|██████████| 33/33 [00:00<00:00, 131.92it/s, loss=0.008, val_loss=0.011, val_r2=0.941]\n",
      "Epoch 7: 100%|██████████| 33/33 [00:00<00:00, 141.29it/s, loss=0.007, val_loss=0.010, val_r2=0.946]\n",
      "Epoch 8: 100%|██████████| 33/33 [00:00<00:00, 131.93it/s, loss=0.007, val_loss=0.010, val_r2=0.946]\n",
      "Epoch 9: 100%|██████████| 33/33 [00:00<00:00, 131.78it/s, loss=0.007, val_loss=0.010, val_r2=0.949]\n",
      "Epoch 10: 100%|██████████| 33/33 [00:00<00:00, 139.98it/s, loss=0.006, val_loss=0.010, val_r2=0.949]\n",
      "`Trainer.fit` stopped: `max_epochs=10` reached.\n"
     ]
    },
    {
     "name": "stdout",
     "output_type": "stream",
     "text": [
      "2024-04-24 13:01:07 | INFO |    Trial 40 finished with value: 0.009670714847743511 and parameters: {'n_lstm_units': 5, 'n_dense_units': 8, 'n_embedding_dim': 8, 'learning_rate': 0.0011790965486776312}. Best is trial 29 with value: 0.00874879490584135 and R2: 0.9534339904785156.\n"
     ]
    },
    {
     "name": "stderr",
     "output_type": "stream",
     "text": [
      "Using 16bit Automatic Mixed Precision (AMP)\n",
      "GPU available: True (cuda), used: True\n",
      "TPU available: False, using: 0 TPU cores\n",
      "IPU available: False, using: 0 IPUs\n",
      "HPU available: False, using: 0 HPUs\n",
      "LOCAL_RANK: 0 - CUDA_VISIBLE_DEVICES: [0]\n",
      "\n",
      "  | Name          | Type             | Params\n",
      "---------------------------------------------------\n",
      "0 | train_metrics | MetricCollection | 0     \n",
      "1 | valid_metrics | MetricCollection | 0     \n",
      "2 | model         | SmilesX          | 13.6 K\n",
      "---------------------------------------------------\n",
      "13.6 K    Trainable params\n",
      "0         Non-trainable params\n",
      "13.6 K    Total params\n",
      "0.054     Total estimated model params size (MB)\n",
      "Epoch 1: 100%|██████████| 33/33 [00:02<00:00, 11.50it/s, loss=0.098, val_loss=0.152, val_r2=0.189]\n",
      "Epoch 2: 100%|██████████| 33/33 [00:00<00:00, 132.01it/s, loss=0.085, val_loss=0.131, val_r2=0.305]\n",
      "Epoch 3: 100%|██████████| 33/33 [00:00<00:00, 132.65it/s, loss=0.073, val_loss=0.102, val_r2=0.457]\n",
      "Epoch 4: 100%|██████████| 33/33 [00:00<00:00, 138.99it/s, loss=0.062, val_loss=0.084, val_r2=0.553]\n",
      "Epoch 5: 100%|██████████| 33/33 [00:00<00:00, 141.56it/s, loss=0.055, val_loss=0.075, val_r2=0.602]\n",
      "Epoch 6: 100%|██████████| 33/33 [00:00<00:00, 153.91it/s, loss=0.051, val_loss=0.069, val_r2=0.634]\n",
      "Epoch 7: 100%|██████████| 33/33 [00:00<00:00, 140.48it/s, loss=0.048, val_loss=0.065, val_r2=0.656]\n",
      "Epoch 8: 100%|██████████| 33/33 [00:00<00:00, 140.65it/s, loss=0.046, val_loss=0.062, val_r2=0.668]\n",
      "Epoch 9: 100%|██████████| 33/33 [00:00<00:00, 141.51it/s, loss=0.045, val_loss=0.061, val_r2=0.673]\n",
      "Epoch 10: 100%|██████████| 33/33 [00:00<00:00, 131.43it/s, loss=0.045, val_loss=0.061, val_r2=0.674]\n",
      "`Trainer.fit` stopped: `max_epochs=10` reached.\n"
     ]
    },
    {
     "name": "stdout",
     "output_type": "stream",
     "text": [
      "2024-04-24 13:01:15 | INFO |    Trial 41 finished with value: 0.06122494116425514 and parameters: {'n_lstm_units': 3, 'n_dense_units': 9, 'n_embedding_dim': 5, 'learning_rate': 0.00023606794572813083}. Best is trial 29 with value: 0.00874879490584135 and R2: 0.9534339904785156.\n"
     ]
    },
    {
     "name": "stderr",
     "output_type": "stream",
     "text": [
      "Using 16bit Automatic Mixed Precision (AMP)\n",
      "GPU available: True (cuda), used: True\n",
      "TPU available: False, using: 0 TPU cores\n",
      "IPU available: False, using: 0 IPUs\n",
      "HPU available: False, using: 0 HPUs\n",
      "LOCAL_RANK: 0 - CUDA_VISIBLE_DEVICES: [0]\n",
      "\n",
      "  | Name          | Type             | Params\n",
      "---------------------------------------------------\n",
      "0 | train_metrics | MetricCollection | 0     \n",
      "1 | valid_metrics | MetricCollection | 0     \n",
      "2 | model         | SmilesX          | 28.7 K\n",
      "---------------------------------------------------\n",
      "28.7 K    Trainable params\n",
      "0         Non-trainable params\n",
      "28.7 K    Total params\n",
      "0.115     Total estimated model params size (MB)\n",
      "Epoch 1: 100%|██████████| 33/33 [00:02<00:00, 11.53it/s, loss=0.105, val_loss=0.176, val_r2=0.063]\n",
      "Epoch 2: 100%|██████████| 33/33 [00:00<00:00, 130.52it/s, loss=0.095, val_loss=0.160, val_r2=0.151]\n",
      "Epoch 3: 100%|██████████| 33/33 [00:00<00:00, 140.70it/s, loss=0.086, val_loss=0.144, val_r2=0.236]\n",
      "Epoch 4: 100%|██████████| 33/33 [00:00<00:00, 132.00it/s, loss=0.078, val_loss=0.129, val_r2=0.314]\n",
      "Epoch 5: 100%|██████████| 33/33 [00:00<00:00, 142.13it/s, loss=0.072, val_loss=0.117, val_r2=0.377]\n",
      "Epoch 6: 100%|██████████| 33/33 [00:00<00:00, 132.73it/s, loss=0.066, val_loss=0.108, val_r2=0.425]\n",
      "Epoch 7: 100%|██████████| 33/33 [00:00<00:00, 131.13it/s, loss=0.062, val_loss=0.102, val_r2=0.456]\n",
      "Epoch 8: 100%|██████████| 33/33 [00:00<00:00, 125.24it/s, loss=0.058, val_loss=0.099, val_r2=0.475]\n",
      "Epoch 9: 100%|██████████| 33/33 [00:00<00:00, 133.33it/s, loss=0.056, val_loss=0.097, val_r2=0.483]\n",
      "Epoch 10: 100%|██████████| 33/33 [00:00<00:00, 131.57it/s, loss=0.057, val_loss=0.097, val_r2=0.485]\n",
      "`Trainer.fit` stopped: `max_epochs=10` reached.\n"
     ]
    },
    {
     "name": "stdout",
     "output_type": "stream",
     "text": [
      "2024-04-24 13:01:23 | INFO |    Trial 42 finished with value: 0.09683678299188614 and parameters: {'n_lstm_units': 3, 'n_dense_units': 7, 'n_embedding_dim': 8, 'learning_rate': 0.00010793832090127293}. Best is trial 29 with value: 0.00874879490584135 and R2: 0.9534339904785156.\n"
     ]
    },
    {
     "name": "stderr",
     "output_type": "stream",
     "text": [
      "Using 16bit Automatic Mixed Precision (AMP)\n",
      "GPU available: True (cuda), used: True\n",
      "TPU available: False, using: 0 TPU cores\n",
      "IPU available: False, using: 0 IPUs\n",
      "HPU available: False, using: 0 HPUs\n",
      "LOCAL_RANK: 0 - CUDA_VISIBLE_DEVICES: [0]\n",
      "\n",
      "  | Name          | Type             | Params\n",
      "---------------------------------------------------\n",
      "0 | train_metrics | MetricCollection | 0     \n",
      "1 | valid_metrics | MetricCollection | 0     \n",
      "2 | model         | SmilesX          | 408 K \n",
      "---------------------------------------------------\n",
      "408 K     Trainable params\n",
      "0         Non-trainable params\n",
      "408 K     Total params\n",
      "1.635     Total estimated model params size (MB)\n",
      "Epoch 1: 100%|██████████| 33/33 [00:02<00:00, 11.57it/s, loss=0.096, val_loss=0.122, val_r2=0.350]\n",
      "Epoch 2: 100%|██████████| 33/33 [00:00<00:00, 124.88it/s, loss=0.055, val_loss=0.050, val_r2=0.736]\n",
      "Epoch 3: 100%|██████████| 33/33 [00:00<00:00, 131.70it/s, loss=0.035, val_loss=0.029, val_r2=0.843]\n",
      "Epoch 4: 100%|██████████| 33/33 [00:00<00:00, 124.86it/s, loss=0.024, val_loss=0.020, val_r2=0.893]\n",
      "Epoch 5: 100%|██████████| 33/33 [00:00<00:00, 123.68it/s, loss=0.019, val_loss=0.015, val_r2=0.921]\n",
      "Epoch 6: 100%|██████████| 33/33 [00:00<00:00, 125.58it/s, loss=0.017, val_loss=0.014, val_r2=0.927]\n",
      "Epoch 7: 100%|██████████| 33/33 [00:00<00:00, 118.03it/s, loss=0.016, val_loss=0.013, val_r2=0.930]\n",
      "Epoch 8: 100%|██████████| 33/33 [00:00<00:00, 124.35it/s, loss=0.015, val_loss=0.013, val_r2=0.933]\n",
      "Epoch 9: 100%|██████████| 33/33 [00:00<00:00, 123.25it/s, loss=0.015, val_loss=0.012, val_r2=0.934]\n",
      "Epoch 10: 100%|██████████| 33/33 [00:00<00:00, 132.39it/s, loss=0.014, val_loss=0.012, val_r2=0.936]\n",
      "`Trainer.fit` stopped: `max_epochs=10` reached.\n"
     ]
    },
    {
     "name": "stdout",
     "output_type": "stream",
     "text": [
      "2024-04-24 13:01:32 | INFO |    Trial 43 finished with value: 0.012086387723684311 and parameters: {'n_lstm_units': 7, 'n_dense_units': 4, 'n_embedding_dim': 8, 'learning_rate': 0.00022321987366901572}. Best is trial 29 with value: 0.00874879490584135 and R2: 0.9534339904785156.\n"
     ]
    },
    {
     "name": "stderr",
     "output_type": "stream",
     "text": [
      "Using 16bit Automatic Mixed Precision (AMP)\n",
      "GPU available: True (cuda), used: True\n",
      "TPU available: False, using: 0 TPU cores\n",
      "IPU available: False, using: 0 IPUs\n",
      "HPU available: False, using: 0 HPUs\n",
      "LOCAL_RANK: 0 - CUDA_VISIBLE_DEVICES: [0]\n",
      "\n",
      "  | Name          | Type             | Params\n",
      "---------------------------------------------------\n",
      "0 | train_metrics | MetricCollection | 0     \n",
      "1 | valid_metrics | MetricCollection | 0     \n",
      "2 | model         | SmilesX          | 2.7 M \n",
      "---------------------------------------------------\n",
      "2.7 M     Trainable params\n",
      "0         Non-trainable params\n",
      "2.7 M     Total params\n",
      "10.781    Total estimated model params size (MB)\n",
      "Epoch 1: 100%|██████████| 33/33 [00:03<00:00, 10.99it/s, loss=0.077, val_loss=0.059, val_r2=0.684]\n",
      "Epoch 2: 100%|██████████| 33/33 [00:00<00:00, 75.86it/s, loss=0.035, val_loss=0.030, val_r2=0.838]\n",
      "Epoch 3: 100%|██████████| 33/33 [00:00<00:00, 78.92it/s, loss=0.020, val_loss=0.015, val_r2=0.919]\n",
      "Epoch 4: 100%|██████████| 33/33 [00:00<00:00, 76.50it/s, loss=0.015, val_loss=0.012, val_r2=0.936]\n",
      "Epoch 5: 100%|██████████| 33/33 [00:00<00:00, 76.29it/s, loss=0.012, val_loss=0.010, val_r2=0.949]\n",
      "Epoch 6: 100%|██████████| 33/33 [00:00<00:00, 78.86it/s, loss=0.011, val_loss=0.010, val_r2=0.945]\n",
      "Epoch 7: 100%|██████████| 33/33 [00:00<00:00, 75.84it/s, loss=0.010, val_loss=0.009, val_r2=0.952]\n",
      "Epoch 8: 100%|██████████| 33/33 [00:00<00:00, 76.51it/s, loss=0.009, val_loss=0.008, val_r2=0.955]\n",
      "Epoch 9: 100%|██████████| 33/33 [00:00<00:00, 73.72it/s, loss=0.009, val_loss=0.008, val_r2=0.955]\n",
      "Epoch 10: 100%|██████████| 33/33 [00:00<00:00, 72.96it/s, loss=0.008, val_loss=0.008, val_r2=0.955]\n",
      "`Trainer.fit` stopped: `max_epochs=10` reached.\n"
     ]
    },
    {
     "name": "stdout",
     "output_type": "stream",
     "text": [
      "2024-04-24 13:01:42 | INFO |    Trial 44 finished with value: 0.008436242118477821 and parameters: {'n_lstm_units': 8, 'n_dense_units': 6, 'n_embedding_dim': 10, 'learning_rate': 0.00018838307787619773}. Best is trial 44 with value: 0.008436242118477821 and R2: 0.9550975561141968.\n"
     ]
    },
    {
     "name": "stderr",
     "output_type": "stream",
     "text": [
      "Using 16bit Automatic Mixed Precision (AMP)\n",
      "GPU available: True (cuda), used: True\n",
      "TPU available: False, using: 0 TPU cores\n",
      "IPU available: False, using: 0 IPUs\n",
      "HPU available: False, using: 0 HPUs\n",
      "LOCAL_RANK: 0 - CUDA_VISIBLE_DEVICES: [0]\n",
      "\n",
      "  | Name          | Type             | Params\n",
      "---------------------------------------------------\n",
      "0 | train_metrics | MetricCollection | 0     \n",
      "1 | valid_metrics | MetricCollection | 0     \n",
      "2 | model         | SmilesX          | 308 K \n",
      "---------------------------------------------------\n",
      "308 K     Trainable params\n",
      "0         Non-trainable params\n",
      "308 K     Total params\n",
      "1.233     Total estimated model params size (MB)\n",
      "Epoch 1: 100%|██████████| 33/33 [00:02<00:00, 11.44it/s, loss=0.074, val_loss=0.051, val_r2=0.729]\n",
      "Epoch 2: 100%|██████████| 33/33 [00:00<00:00, 109.07it/s, loss=0.024, val_loss=0.022, val_r2=0.882]\n",
      "Epoch 3: 100%|██████████| 33/33 [00:00<00:00, 116.51it/s, loss=0.016, val_loss=0.020, val_r2=0.894]\n",
      "Epoch 4: 100%|██████████| 33/33 [00:00<00:00, 116.43it/s, loss=0.014, val_loss=0.018, val_r2=0.903]\n",
      "Epoch 5: 100%|██████████| 33/33 [00:00<00:00, 114.64it/s, loss=0.013, val_loss=0.017, val_r2=0.911]\n",
      "Epoch 6: 100%|██████████| 33/33 [00:00<00:00, 117.39it/s, loss=0.011, val_loss=0.014, val_r2=0.925]\n",
      "Epoch 7: 100%|██████████| 33/33 [00:00<00:00, 109.44it/s, loss=0.011, val_loss=0.014, val_r2=0.928]\n",
      "Epoch 8: 100%|██████████| 33/33 [00:00<00:00, 116.87it/s, loss=0.010, val_loss=0.014, val_r2=0.928]\n",
      "Epoch 9: 100%|██████████| 33/33 [00:00<00:00, 115.78it/s, loss=0.010, val_loss=0.013, val_r2=0.930]\n",
      "Epoch 10: 100%|██████████| 33/33 [00:00<00:00, 110.70it/s, loss=0.010, val_loss=0.013, val_r2=0.929]\n",
      "`Trainer.fit` stopped: `max_epochs=10` reached.\n"
     ]
    },
    {
     "name": "stdout",
     "output_type": "stream",
     "text": [
      "2024-04-24 13:01:51 | INFO |    Trial 45 finished with value: 0.013261063024401665 and parameters: {'n_lstm_units': 5, 'n_dense_units': 3, 'n_embedding_dim': 10, 'learning_rate': 0.005684322462212271}. Best is trial 44 with value: 0.008436242118477821 and R2: 0.9550975561141968.\n"
     ]
    },
    {
     "name": "stderr",
     "output_type": "stream",
     "text": [
      "Using 16bit Automatic Mixed Precision (AMP)\n",
      "GPU available: True (cuda), used: True\n",
      "TPU available: False, using: 0 TPU cores\n",
      "IPU available: False, using: 0 IPUs\n",
      "HPU available: False, using: 0 HPUs\n",
      "LOCAL_RANK: 0 - CUDA_VISIBLE_DEVICES: [0]\n",
      "\n",
      "  | Name          | Type             | Params\n",
      "---------------------------------------------------\n",
      "0 | train_metrics | MetricCollection | 0     \n",
      "1 | valid_metrics | MetricCollection | 0     \n",
      "2 | model         | SmilesX          | 175 K \n",
      "---------------------------------------------------\n",
      "175 K     Trainable params\n",
      "0         Non-trainable params\n",
      "175 K     Total params\n",
      "0.701     Total estimated model params size (MB)\n",
      "Epoch 1: 100%|██████████| 33/33 [00:02<00:00, 11.10it/s, loss=0.066, val_loss=0.038, val_r2=0.799]\n",
      "Epoch 2: 100%|██████████| 33/33 [00:00<00:00, 123.70it/s, loss=0.020, val_loss=0.022, val_r2=0.884]\n",
      "Epoch 3: 100%|██████████| 33/33 [00:00<00:00, 139.93it/s, loss=0.013, val_loss=0.015, val_r2=0.921]\n",
      "Epoch 4: 100%|██████████| 33/33 [00:00<00:00, 131.90it/s, loss=0.010, val_loss=0.013, val_r2=0.932]\n",
      "Epoch 5: 100%|██████████| 33/33 [00:00<00:00, 133.47it/s, loss=0.009, val_loss=0.013, val_r2=0.931]\n",
      "Epoch 6: 100%|██████████| 33/33 [00:00<00:00, 124.80it/s, loss=0.008, val_loss=0.011, val_r2=0.940]\n",
      "Epoch 7: 100%|██████████| 33/33 [00:00<00:00, 124.57it/s, loss=0.007, val_loss=0.010, val_r2=0.946]\n",
      "Epoch 8: 100%|██████████| 33/33 [00:00<00:00, 123.61it/s, loss=0.007, val_loss=0.010, val_r2=0.948]\n",
      "Epoch 9: 100%|██████████| 33/33 [00:00<00:00, 131.78it/s, loss=0.006, val_loss=0.010, val_r2=0.949]\n",
      "Epoch 10: 100%|██████████| 33/33 [00:00<00:00, 132.20it/s, loss=0.006, val_loss=0.010, val_r2=0.949]\n",
      "`Trainer.fit` stopped: `max_epochs=10` reached.\n"
     ]
    },
    {
     "name": "stdout",
     "output_type": "stream",
     "text": [
      "2024-04-24 13:02:00 | INFO |    Trial 46 finished with value: 0.009515181183815002 and parameters: {'n_lstm_units': 5, 'n_dense_units': 8, 'n_embedding_dim': 9, 'learning_rate': 0.0012894414393074191}. Best is trial 44 with value: 0.008436242118477821 and R2: 0.9550975561141968.\n"
     ]
    },
    {
     "name": "stderr",
     "output_type": "stream",
     "text": [
      "Using 16bit Automatic Mixed Precision (AMP)\n",
      "GPU available: True (cuda), used: True\n",
      "TPU available: False, using: 0 TPU cores\n",
      "IPU available: False, using: 0 IPUs\n",
      "HPU available: False, using: 0 HPUs\n",
      "LOCAL_RANK: 0 - CUDA_VISIBLE_DEVICES: [0]\n",
      "\n",
      "  | Name          | Type             | Params\n",
      "---------------------------------------------------\n",
      "0 | train_metrics | MetricCollection | 0     \n",
      "1 | valid_metrics | MetricCollection | 0     \n",
      "2 | model         | SmilesX          | 145 K \n",
      "---------------------------------------------------\n",
      "145 K     Trainable params\n",
      "0         Non-trainable params\n",
      "145 K     Total params\n",
      "0.583     Total estimated model params size (MB)\n",
      "Epoch 1: 100%|██████████| 33/33 [00:02<00:00, 11.27it/s, loss=0.085, val_loss=0.068, val_r2=0.636]\n",
      "Epoch 2: 100%|██████████| 33/33 [00:00<00:00, 132.00it/s, loss=0.044, val_loss=0.040, val_r2=0.789]\n",
      "Epoch 3: 100%|██████████| 33/33 [00:00<00:00, 141.62it/s, loss=0.029, val_loss=0.017, val_r2=0.908]\n",
      "Epoch 4: 100%|██████████| 33/33 [00:00<00:00, 130.77it/s, loss=0.022, val_loss=0.014, val_r2=0.925]\n",
      "Epoch 5: 100%|██████████| 33/33 [00:00<00:00, 132.28it/s, loss=0.016, val_loss=0.013, val_r2=0.933]\n",
      "Epoch 6: 100%|██████████| 33/33 [00:00<00:00, 131.40it/s, loss=0.014, val_loss=0.011, val_r2=0.939]\n",
      "Epoch 7: 100%|██████████| 33/33 [00:00<00:00, 123.61it/s, loss=0.012, val_loss=0.013, val_r2=0.929]\n",
      "Epoch 8: 100%|██████████| 33/33 [00:00<00:00, 139.94it/s, loss=0.011, val_loss=0.014, val_r2=0.928]\n",
      "Epoch 9: 100%|██████████| 33/33 [00:00<00:00, 131.95it/s, loss=0.010, val_loss=0.014, val_r2=0.924]\n",
      "Epoch 10: 100%|██████████| 33/33 [00:00<00:00, 132.04it/s, loss=0.010, val_loss=0.013, val_r2=0.929]\n",
      "`Trainer.fit` stopped: `max_epochs=10` reached.\n"
     ]
    },
    {
     "name": "stdout",
     "output_type": "stream",
     "text": [
      "2024-04-24 13:02:08 | INFO |    Trial 47 finished with value: 0.013402298092842102 and parameters: {'n_lstm_units': 7, 'n_dense_units': 4, 'n_embedding_dim': 3, 'learning_rate': 0.00622918911318856}. Best is trial 44 with value: 0.008436242118477821 and R2: 0.9550975561141968.\n"
     ]
    },
    {
     "name": "stderr",
     "output_type": "stream",
     "text": [
      "Using 16bit Automatic Mixed Precision (AMP)\n",
      "GPU available: True (cuda), used: True\n",
      "TPU available: False, using: 0 TPU cores\n",
      "IPU available: False, using: 0 IPUs\n",
      "HPU available: False, using: 0 HPUs\n",
      "LOCAL_RANK: 0 - CUDA_VISIBLE_DEVICES: [0]\n",
      "\n",
      "  | Name          | Type             | Params\n",
      "---------------------------------------------------\n",
      "0 | train_metrics | MetricCollection | 0     \n",
      "1 | valid_metrics | MetricCollection | 0     \n",
      "2 | model         | SmilesX          | 9.2 M \n",
      "---------------------------------------------------\n",
      "9.2 M     Trainable params\n",
      "0         Non-trainable params\n",
      "9.2 M     Total params\n",
      "36.773    Total estimated model params size (MB)\n",
      "Epoch 1: 100%|██████████| 33/33 [00:03<00:00,  9.46it/s, loss=0.069, val_loss=0.052, val_r2=0.721]\n",
      "Epoch 2: 100%|██████████| 33/33 [00:00<00:00, 38.49it/s, loss=0.052, val_loss=0.080, val_r2=0.575]\n",
      "Epoch 3: 100%|██████████| 33/33 [00:00<00:00, 38.76it/s, loss=0.041, val_loss=0.048, val_r2=0.746]\n",
      "Epoch 4: 100%|██████████| 33/33 [00:00<00:00, 37.92it/s, loss=0.027, val_loss=0.028, val_r2=0.850]\n",
      "Epoch 5: 100%|██████████| 33/33 [00:00<00:00, 38.68it/s, loss=0.022, val_loss=0.045, val_r2=0.763]\n",
      "Epoch 6: 100%|██████████| 33/33 [00:00<00:00, 38.75it/s, loss=0.021, val_loss=0.030, val_r2=0.842]\n",
      "Epoch 7: 100%|██████████| 33/33 [00:00<00:00, 37.88it/s, loss=0.017, val_loss=0.023, val_r2=0.880]\n",
      "Epoch 8: 100%|██████████| 33/33 [00:00<00:00, 38.79it/s, loss=0.015, val_loss=0.024, val_r2=0.874]\n",
      "Epoch 9: 100%|██████████| 33/33 [00:00<00:00, 38.49it/s, loss=0.015, val_loss=0.023, val_r2=0.878]\n",
      "Epoch 10: 100%|██████████| 33/33 [00:00<00:00, 38.63it/s, loss=0.014, val_loss=0.022, val_r2=0.883]\n",
      "`Trainer.fit` stopped: `max_epochs=10` reached.\n"
     ]
    },
    {
     "name": "stdout",
     "output_type": "stream",
     "text": [
      "2024-04-24 13:02:23 | INFO |    Trial 48 finished with value: 0.021999120712280273 and parameters: {'n_lstm_units': 10, 'n_dense_units': 8, 'n_embedding_dim': 5, 'learning_rate': 0.0004993662066506425}. Best is trial 44 with value: 0.008436242118477821 and R2: 0.9550975561141968.\n"
     ]
    },
    {
     "name": "stderr",
     "output_type": "stream",
     "text": [
      "Using 16bit Automatic Mixed Precision (AMP)\n",
      "GPU available: True (cuda), used: True\n",
      "TPU available: False, using: 0 TPU cores\n",
      "IPU available: False, using: 0 IPUs\n",
      "HPU available: False, using: 0 HPUs\n",
      "LOCAL_RANK: 0 - CUDA_VISIBLE_DEVICES: [0]\n",
      "\n",
      "  | Name          | Type             | Params\n",
      "---------------------------------------------------\n",
      "0 | train_metrics | MetricCollection | 0     \n",
      "1 | valid_metrics | MetricCollection | 0     \n",
      "2 | model         | SmilesX          | 3.2 M \n",
      "---------------------------------------------------\n",
      "3.2 M     Trainable params\n",
      "0         Non-trainable params\n",
      "3.2 M     Total params\n",
      "12.759    Total estimated model params size (MB)\n",
      "Epoch 1: 100%|██████████| 33/33 [00:02<00:00, 11.11it/s, loss=10.875, val_loss=0.103, val_r2=0.452]\n",
      "Epoch 2: 100%|██████████| 33/33 [00:00<00:00, 68.01it/s, loss=0.048, val_loss=0.029, val_r2=0.847]\n",
      "Epoch 3: 100%|██████████| 33/33 [00:00<00:00, 68.69it/s, loss=0.023, val_loss=0.015, val_r2=0.918]\n",
      "Epoch 4: 100%|██████████| 33/33 [00:00<00:00, 66.50it/s, loss=0.017, val_loss=0.013, val_r2=0.929]\n",
      "Epoch 5: 100%|██████████| 33/33 [00:00<00:00, 70.55it/s, loss=0.015, val_loss=0.011, val_r2=0.942]\n",
      "Epoch 6: 100%|██████████| 33/33 [00:00<00:00, 67.72it/s, loss=0.013, val_loss=0.011, val_r2=0.940]\n",
      "Epoch 7: 100%|██████████| 33/33 [00:00<00:00, 67.80it/s, loss=0.012, val_loss=0.010, val_r2=0.947]\n",
      "Epoch 8: 100%|██████████| 33/33 [00:00<00:00, 70.15it/s, loss=0.011, val_loss=0.010, val_r2=0.948]\n",
      "Epoch 9: 100%|██████████| 33/33 [00:00<00:00, 68.28it/s, loss=0.010, val_loss=0.010, val_r2=0.946]\n",
      "Epoch 10: 100%|██████████| 33/33 [00:00<00:00, 68.21it/s, loss=0.010, val_loss=0.010, val_r2=0.947]\n",
      "`Trainer.fit` stopped: `max_epochs=10` reached.\n"
     ]
    },
    {
     "name": "stdout",
     "output_type": "stream",
     "text": [
      "2024-04-24 13:02:34 | INFO |    Trial 49 finished with value: 0.009938804432749748 and parameters: {'n_lstm_units': 8, 'n_dense_units': 10, 'n_embedding_dim': 10, 'learning_rate': 0.003628700225554068}. Best is trial 44 with value: 0.008436242118477821 and R2: 0.9550975561141968.\n",
      "2024-04-24 13:02:34 | INFO |    Best Trial: 44 with MSE value: 0.008436242118477821\n",
      "2024-04-24 13:02:34 | INFO |    Best Params\n",
      "2024-04-24 13:02:34 | INFO |    LSTM units       |256\n",
      "2024-04-24 13:02:34 | INFO |    Dense units      |64\n",
      "2024-04-24 13:02:34 | INFO |    Embedding units  |1024\n",
      "2024-04-24 13:02:34 | INFO |    learning rate    |0.00018838307787619773\n",
      "2024-04-24 13:02:34 | INFO |    \n",
      "2024-04-24 13:02:34 | INFO |    ***Training of the best model.***\n"
     ]
    },
    {
     "name": "stderr",
     "output_type": "stream",
     "text": [
      "Using 16bit Automatic Mixed Precision (AMP)\n",
      "GPU available: True (cuda), used: True\n",
      "TPU available: False, using: 0 TPU cores\n",
      "IPU available: False, using: 0 IPUs\n",
      "HPU available: False, using: 0 HPUs\n",
      "Missing logger folder: ../outputs/FreeSolv\\training\n",
      "LOCAL_RANK: 0 - CUDA_VISIBLE_DEVICES: [0]\n",
      "\n",
      "  | Name          | Type             | Params\n",
      "---------------------------------------------------\n",
      "0 | train_metrics | MetricCollection | 0     \n",
      "1 | valid_metrics | MetricCollection | 0     \n",
      "2 | model         | SmilesX          | 2.7 M \n",
      "---------------------------------------------------\n",
      "2.7 M     Trainable params\n",
      "0         Non-trainable params\n",
      "2.7 M     Total params\n",
      "10.781    Total estimated model params size (MB)\n",
      "Epoch 1: 100%|██████████| 33/33 [00:03<00:00, 10.46it/s, loss=0.072, val_loss=0.052, val_r2=0.722]\n",
      "Epoch 2: 100%|██████████| 33/33 [00:00<00:00, 70.36it/s, loss=0.030, val_loss=0.021, val_r2=0.889]\n",
      "Epoch 3: 100%|██████████| 33/33 [00:00<00:00, 73.01it/s, loss=0.018, val_loss=0.014, val_r2=0.926]\n",
      "Epoch 4: 100%|██████████| 33/33 [00:00<00:00, 70.59it/s, loss=0.013, val_loss=0.011, val_r2=0.940]\n",
      "Epoch 5: 100%|██████████| 33/33 [00:00<00:00, 70.26it/s, loss=0.011, val_loss=0.011, val_r2=0.943]\n",
      "Epoch 6: 100%|██████████| 33/33 [00:00<00:00, 73.60it/s, loss=0.009, val_loss=0.009, val_r2=0.952]\n",
      "Epoch 7: 100%|██████████| 33/33 [00:00<00:00, 72.69it/s, loss=0.008, val_loss=0.011, val_r2=0.942]\n",
      "Epoch 8: 100%|██████████| 33/33 [00:00<00:00, 75.84it/s, loss=0.007, val_loss=0.008, val_r2=0.955]\n",
      "Epoch 9: 100%|██████████| 33/33 [00:00<00:00, 72.97it/s, loss=0.006, val_loss=0.009, val_r2=0.952]\n",
      "Epoch 10: 100%|██████████| 33/33 [00:00<00:00, 73.27it/s, loss=0.005, val_loss=0.009, val_r2=0.953]\n",
      "Epoch 11: 100%|██████████| 33/33 [00:00<00:00, 73.28it/s, loss=0.004, val_loss=0.008, val_r2=0.956]\n",
      "Epoch 12: 100%|██████████| 33/33 [00:00<00:00, 72.70it/s, loss=0.004, val_loss=0.011, val_r2=0.943]\n",
      "Epoch 13: 100%|██████████| 33/33 [00:00<00:00, 73.44it/s, loss=0.004, val_loss=0.008, val_r2=0.956]\n",
      "Epoch 14: 100%|██████████| 33/33 [00:00<00:00, 76.19it/s, loss=0.004, val_loss=0.008, val_r2=0.956]\n",
      "Epoch 15: 100%|██████████| 33/33 [00:00<00:00, 76.20it/s, loss=0.003, val_loss=0.009, val_r2=0.951]\n",
      "Epoch 16: 100%|██████████| 33/33 [00:00<00:00, 76.14it/s, loss=0.003, val_loss=0.009, val_r2=0.951]\n",
      "Epoch 17: 100%|██████████| 33/33 [00:00<00:00, 75.71it/s, loss=0.003, val_loss=0.008, val_r2=0.958]\n",
      "Epoch 18: 100%|██████████| 33/33 [00:00<00:00, 72.73it/s, loss=0.003, val_loss=0.009, val_r2=0.954]\n",
      "Epoch 19: 100%|██████████| 33/33 [00:00<00:00, 71.14it/s, loss=0.003, val_loss=0.008, val_r2=0.956]\n",
      "Epoch 20: 100%|██████████| 33/33 [00:00<00:00, 70.61it/s, loss=0.002, val_loss=0.009, val_r2=0.954]\n",
      "Epoch 21: 100%|██████████| 33/33 [00:00<00:00, 70.82it/s, loss=0.002, val_loss=0.009, val_r2=0.952]\n",
      "Epoch 22: 100%|██████████| 33/33 [00:00<00:00, 71.22it/s, loss=0.002, val_loss=0.010, val_r2=0.946]\n",
      "Epoch 23: 100%|██████████| 33/33 [00:00<00:00, 73.23it/s, loss=0.002, val_loss=0.008, val_r2=0.955]\n",
      "Epoch 24: 100%|██████████| 33/33 [00:00<00:00, 76.22it/s, loss=0.002, val_loss=0.010, val_r2=0.948]\n",
      "Epoch 25: 100%|██████████| 33/33 [00:00<00:00, 76.09it/s, loss=0.002, val_loss=0.008, val_r2=0.957]\n",
      "Epoch 26: 100%|██████████| 33/33 [00:00<00:00, 75.58it/s, loss=0.002, val_loss=0.009, val_r2=0.953]\n",
      "Epoch 27: 100%|██████████| 33/33 [00:00<00:00, 73.74it/s, loss=0.002, val_loss=0.009, val_r2=0.951]\n",
      "Epoch 28: 100%|██████████| 33/33 [00:00<00:00, 73.10it/s, loss=0.002, val_loss=0.008, val_r2=0.960]\n",
      "Epoch 29: 100%|██████████| 33/33 [00:00<00:00, 78.13it/s, loss=0.002, val_loss=0.009, val_r2=0.954]\n",
      "Epoch 30: 100%|██████████| 33/33 [00:00<00:00, 73.03it/s, loss=0.002, val_loss=0.009, val_r2=0.952]\n",
      "Epoch 31: 100%|██████████| 33/33 [00:00<00:00, 73.63it/s, loss=0.002, val_loss=0.008, val_r2=0.959]\n",
      "Epoch 32: 100%|██████████| 33/33 [00:00<00:00, 76.15it/s, loss=0.001, val_loss=0.008, val_r2=0.956]\n",
      "Epoch 33: 100%|██████████| 33/33 [00:00<00:00, 73.78it/s, loss=0.001, val_loss=0.008, val_r2=0.959]\n",
      "Epoch 34: 100%|██████████| 33/33 [00:00<00:00, 73.40it/s, loss=0.001, val_loss=0.008, val_r2=0.956]\n",
      "Epoch 35: 100%|██████████| 33/33 [00:00<00:00, 73.73it/s, loss=0.001, val_loss=0.009, val_r2=0.952]\n",
      "Epoch 36: 100%|██████████| 33/33 [00:00<00:00, 76.34it/s, loss=0.001, val_loss=0.008, val_r2=0.958]\n",
      "Epoch 37: 100%|██████████| 33/33 [00:00<00:00, 73.03it/s, loss=0.001, val_loss=0.009, val_r2=0.950]\n",
      "Epoch 38: 100%|██████████| 33/33 [00:00<00:00, 75.45it/s, loss=0.001, val_loss=0.007, val_r2=0.960]\n",
      "Epoch 39: 100%|██████████| 33/33 [00:00<00:00, 75.51it/s, loss=0.001, val_loss=0.008, val_r2=0.959]\n",
      "Epoch 40: 100%|██████████| 33/33 [00:00<00:00, 75.74it/s, loss=0.001, val_loss=0.008, val_r2=0.957]\n",
      "Epoch 41: 100%|██████████| 33/33 [00:00<00:00, 75.17it/s, loss=0.001, val_loss=0.009, val_r2=0.952]\n",
      "Epoch 42: 100%|██████████| 33/33 [00:00<00:00, 75.33it/s, loss=0.001, val_loss=0.008, val_r2=0.956]\n",
      "Epoch 43: 100%|██████████| 33/33 [00:00<00:00, 73.70it/s, loss=0.001, val_loss=0.008, val_r2=0.957]\n",
      "Epoch 44: 100%|██████████| 33/33 [00:00<00:00, 75.76it/s, loss=0.001, val_loss=0.008, val_r2=0.956]\n",
      "Epoch 45: 100%|██████████| 33/33 [00:00<00:00, 73.84it/s, loss=0.001, val_loss=0.009, val_r2=0.955]\n",
      "Epoch 46: 100%|██████████| 33/33 [00:00<00:00, 76.18it/s, loss=0.001, val_loss=0.009, val_r2=0.951]\n",
      "Epoch 47: 100%|██████████| 33/33 [00:00<00:00, 75.94it/s, loss=0.001, val_loss=0.009, val_r2=0.954]\n",
      "Epoch 48: 100%|██████████| 33/33 [00:00<00:00, 73.39it/s, loss=0.001, val_loss=0.008, val_r2=0.959]\n",
      "Epoch 49: 100%|██████████| 33/33 [00:00<00:00, 73.70it/s, loss=0.001, val_loss=0.009, val_r2=0.952]\n",
      "Epoch 50: 100%|██████████| 33/33 [00:00<00:00, 76.06it/s, loss=0.001, val_loss=0.008, val_r2=0.958]\n",
      "Epoch 51: 100%|██████████| 33/33 [00:00<00:00, 76.10it/s, loss=0.001, val_loss=0.009, val_r2=0.953]\n",
      "Epoch 52: 100%|██████████| 33/33 [00:00<00:00, 76.13it/s, loss=0.001, val_loss=0.008, val_r2=0.958]\n",
      "Epoch 53: 100%|██████████| 33/33 [00:00<00:00, 73.90it/s, loss=0.001, val_loss=0.008, val_r2=0.957]\n",
      "Epoch 54: 100%|██████████| 33/33 [00:00<00:00, 76.48it/s, loss=0.001, val_loss=0.008, val_r2=0.958]\n",
      "Epoch 55: 100%|██████████| 33/33 [00:00<00:00, 78.76it/s, loss=0.001, val_loss=0.008, val_r2=0.958]\n",
      "Epoch 56: 100%|██████████| 33/33 [00:00<00:00, 76.15it/s, loss=0.001, val_loss=0.008, val_r2=0.959]\n",
      "Epoch 57: 100%|██████████| 33/33 [00:00<00:00, 76.12it/s, loss=0.001, val_loss=0.008, val_r2=0.960]\n",
      "Epoch 58: 100%|██████████| 33/33 [00:00<00:00, 76.10it/s, loss=0.001, val_loss=0.008, val_r2=0.957]\n",
      "Epoch 59: 100%|██████████| 33/33 [00:00<00:00, 78.71it/s, loss=0.001, val_loss=0.009, val_r2=0.953]\n",
      "Epoch 60: 100%|██████████| 33/33 [00:00<00:00, 72.78it/s, loss=0.001, val_loss=0.008, val_r2=0.957]\n",
      "Epoch 61: 100%|██████████| 33/33 [00:00<00:00, 75.93it/s, loss=0.001, val_loss=0.008, val_r2=0.960]\n",
      "Epoch 62: 100%|██████████| 33/33 [00:00<00:00, 76.36it/s, loss=0.001, val_loss=0.008, val_r2=0.958]\n",
      "Epoch 63: 100%|██████████| 33/33 [00:00<00:00, 76.35it/s, loss=0.001, val_loss=0.009, val_r2=0.950]\n",
      "Epoch 64: 100%|██████████| 33/33 [00:00<00:00, 72.88it/s, loss=0.001, val_loss=0.008, val_r2=0.956]\n",
      "Epoch 65: 100%|██████████| 33/33 [00:00<00:00, 76.01it/s, loss=0.001, val_loss=0.009, val_r2=0.953]\n",
      "Epoch 66: 100%|██████████| 33/33 [00:00<00:00, 75.97it/s, loss=0.001, val_loss=0.009, val_r2=0.955]\n",
      "Epoch 67: 100%|██████████| 33/33 [00:00<00:00, 73.33it/s, loss=0.001, val_loss=0.009, val_r2=0.954]\n",
      "Epoch 68: 100%|██████████| 33/33 [00:00<00:00, 73.71it/s, loss=0.001, val_loss=0.008, val_r2=0.956]\n"
     ]
    },
    {
     "name": "stdout",
     "output_type": "stream",
     "text": [
      "2024-04-24 13:03:12 | INFO |    Training Finished!!!\n",
      "2024-04-24 13:03:13 | INFO |    Best val_loss @ Epoch #37\n",
      "2024-04-24 13:03:13 | INFO |    ***Predictions from the best model.***\n",
      "2024-04-24 13:03:17 | INFO |    For the training set:\n",
      "2024-04-24 13:03:17 | INFO |    MAE: 0.2455 RMSE: 0.3670 R^2: 0.9905\n",
      "2024-04-24 13:03:17 | INFO |    For the validation set:\n",
      "2024-04-24 13:03:17 | INFO |    MAE: 0.5265 RMSE: 0.8580 R^2: 0.9668\n",
      "2024-04-24 13:03:17 | INFO |    For the test set:\n",
      "2024-04-24 13:03:17 | INFO |    MAE: 0.4800 RMSE: 0.7244 R^2: 0.9505\n"
     ]
    },
    {
     "data": {
      "image/png": "[encoded data removed]",
      "text/plain": [
       "<Figure size 600x800 with 2 Axes>"
      ]
     },
     "metadata": {},
     "output_type": "display_data"
    },
    {
     "data": {
      "image/png": "[encoded data removed]",
      "text/plain": [
       "<Figure size 1000x1000 with 4 Axes>"
      ]
     },
     "metadata": {},
     "output_type": "display_data"
    }
   ],
   "source": [
    "import os\n",
    "import sys\n",
    "sys.path.append(\"./../\")\n",
    "from src import train\n",
    "\n",
    "data_name = \"FreeSolv\"\n",
    "config_filepath = os.path.join(\"../configs\", f\"{data_name}.yaml\")\n",
    "\n",
    "train.run(\n",
    "    config_filepath,\n",
    "    devices=1,\n",
    ")"
   ]
  },
  {
   "cell_type": "code",
   "execution_count": null,
   "metadata": {},
   "outputs": [],
   "source": []
  }
 ],
 "metadata": {
  "kernelspec": {
   "display_name": ".venv",
   "language": "python",
   "name": "python3"
  },
  "language_info": {
   "codemirror_mode": {
    "name": "ipython",
    "version": 3
   },
   "file_extension": ".py",
   "mimetype": "text/x-python",
   "name": "python",
   "nbconvert_exporter": "python",
   "pygments_lexer": "ipython3",
   "version": "3.11.9"
  }
 },
 "nbformat": 4,
 "nbformat_minor": 2
}
