{
 "cells": [
  {
   "cell_type": "code",
   "execution_count": 1,
   "metadata": {},
   "outputs": [
    {
     "name": "stdout",
     "output_type": "stream",
     "text": [
      "        smiles  density\n",
      "0         *CC*   0.9362\n",
      "1      *CC(*)C   0.9031\n",
      "2     *CC(*)CC   0.9000\n",
      "3    *CC(*)CCC   0.9000\n",
      "4  *CC(*)C(C)C   0.9060\n",
      "2024-03-22 20:49:58 | INFO |    OS: Windows\n"
     ]
    },
    {
     "name": "stderr",
     "output_type": "stream",
     "text": [
      "Seed set to 1\n"
     ]
    },
    {
     "name": "stdout",
     "output_type": "stream",
     "text": [
      "2024-03-22 20:49:58 | INFO |    precision is 32\n",
      "2024-03-22 20:49:58 | INFO |    ***Sampling and splitting of the dataset.***\n",
      "2024-03-22 20:49:58 | INFO |    Train/valid/test splits:0.80/0.10/0.10\n",
      "2024-03-22 20:49:58 | INFO |    Setup Polymer Tokens.\n",
      "2024-03-22 20:49:58 | INFO |    ***Data augmentation is True.***\n",
      "2024-03-22 20:49:58 | INFO |    Augmented SMILES data size:\n",
      "2024-03-22 20:50:05 | INFO |    \tTraining set   | 35754\n",
      "2024-03-22 20:50:05 | INFO |    \tValidation set | 4693\n",
      "2024-03-22 20:50:05 | INFO |    \tTest set       | 4213\n",
      "2024-03-22 20:50:05 | INFO |    Number of tokens only present in a training set: 38\n",
      "2024-03-22 20:50:05 | INFO |    Number of tokens only present in a validation set: 32\n",
      "2024-03-22 20:50:05 | INFO |    Is the validation set a subset of the training set: True\n",
      "2024-03-22 20:50:05 | INFO |    What are the tokens by which they differ: set()\n",
      "2024-03-22 20:50:05 | INFO |    Number of tokens only present in a test set: 38\n",
      "2024-03-22 20:50:05 | INFO |    Is the test set a subset of the training set: False\n",
      "2024-03-22 20:50:05 | INFO |    What are the tokens by which they differ: {'%13', '%11', '%12'}\n",
      "2024-03-22 20:50:05 | INFO |    Is the test set a subset of the validation set: False\n",
      "2024-03-22 20:50:05 | INFO |    What are the tokens by which they differ: {'%13', 'I', '[N+]', '[O-]', '%11', '%12'}\n",
      "2024-03-22 20:50:05 | INFO |    Full vocabulary: ['7', 's', 'Cl', '\\\\', '[SH]', 'B', 'c', 'P', '1', '[O-]', 'S', '*', '=', '%13', 'o', 'I', '[N+]', '[nH]', '9', '(', 'F', '-', 'n', ' ', '8', '/', '[N-]', '%11', 'N', '#', ')', '3', '%10', 'C', '4', '2', '6', '%12', 'O', '5', 'Br']\n",
      "2024-03-22 20:50:05 | INFO |    Of size: 41\n",
      "2024-03-22 20:50:05 | INFO |    Maximum length of tokenized SMILES: 179 tokens(termination spaces included)\n"
     ]
    },
    {
     "name": "stderr",
     "output_type": "stream",
     "text": [
      "GPU available: True (cuda), used: True\n",
      "TPU available: False, using: 0 TPU cores\n",
      "IPU available: False, using: 0 IPUs\n",
      "HPU available: False, using: 0 HPUs\n",
      "Missing logger folder: ./reports/PolymerDensity\\bayes_opt\n",
      "LOCAL_RANK: 0 - CUDA_VISIBLE_DEVICES: [0]\n",
      "\n",
      "  | Name          | Type             | Params\n",
      "---------------------------------------------------\n",
      "0 | train_metrics | MetricCollection | 0     \n",
      "1 | valid_metrics | MetricCollection | 0     \n",
      "2 | model         | LSTMAttention    | 153 K \n",
      "---------------------------------------------------\n",
      "153 K     Trainable params\n",
      "0         Non-trainable params\n",
      "153 K     Total params\n",
      "0.615     Total estimated model params size (MB)\n",
      "Epoch 1: 100%|██████████| 1117/1117 [00:11<00:00, 98.87it/s, loss=0.036, val_loss=0.026, val_r2=0.677] \n",
      "Epoch 2: 100%|██████████| 1117/1117 [00:08<00:00, 126.82it/s, loss=0.026, val_loss=0.024, val_r2=0.708]\n",
      "Epoch 3: 100%|██████████| 1117/1117 [00:08<00:00, 126.15it/s, loss=0.023, val_loss=0.022, val_r2=0.735]\n",
      "Epoch 4: 100%|██████████| 1117/1117 [00:08<00:00, 125.70it/s, loss=0.021, val_loss=0.021, val_r2=0.746]\n",
      "Epoch 5: 100%|██████████| 1117/1117 [00:08<00:00, 125.17it/s, loss=0.019, val_loss=0.020, val_r2=0.756]\n",
      "Epoch 6: 100%|██████████| 1117/1117 [00:08<00:00, 125.76it/s, loss=0.018, val_loss=0.019, val_r2=0.761]\n",
      "Epoch 7: 100%|██████████| 1117/1117 [00:08<00:00, 127.13it/s, loss=0.018, val_loss=0.019, val_r2=0.762]\n",
      "Epoch 8: 100%|██████████| 1117/1117 [00:08<00:00, 124.51it/s, loss=0.017, val_loss=0.019, val_r2=0.766]\n",
      "Epoch 9: 100%|██████████| 1117/1117 [00:08<00:00, 124.58it/s, loss=0.017, val_loss=0.019, val_r2=0.763]\n",
      "Epoch 10: 100%|██████████| 1117/1117 [00:08<00:00, 127.37it/s, loss=0.017, val_loss=0.019, val_r2=0.763]\n",
      "`Trainer.fit` stopped: `max_epochs=10` reached.\n"
     ]
    },
    {
     "name": "stdout",
     "output_type": "stream",
     "text": [
      "2024-03-22 20:51:43 | INFO |    Trial 0 finished with value: 0.019207457080483437 and parameters: {'n_lstm_units': 5, 'n_dense_units': 10, 'n_embedding_dim': 8, 'n_batch_size': 5, 'learning_rate': 4.207988669606632e-05}. Best is trial 0 with value: 0.019207457080483437 and R2: 0.7633084654808044.\n"
     ]
    },
    {
     "name": "stderr",
     "output_type": "stream",
     "text": [
      "GPU available: True (cuda), used: True\n",
      "TPU available: False, using: 0 TPU cores\n",
      "IPU available: False, using: 0 IPUs\n",
      "HPU available: False, using: 0 HPUs\n",
      "LOCAL_RANK: 0 - CUDA_VISIBLE_DEVICES: [0]\n",
      "\n",
      "  | Name          | Type             | Params\n",
      "---------------------------------------------------\n",
      "0 | train_metrics | MetricCollection | 0     \n",
      "1 | valid_metrics | MetricCollection | 0     \n",
      "2 | model         | LSTMAttention    | 90.1 K\n",
      "---------------------------------------------------\n",
      "90.1 K    Trainable params\n",
      "0         Non-trainable params\n",
      "90.1 K    Total params\n",
      "0.361     Total estimated model params size (MB)\n",
      "Epoch 1: 100%|██████████| 558/558 [00:07<00:00, 75.45it/s, loss=0.030, val_loss=0.025, val_r2=0.693] \n",
      "Epoch 2: 100%|██████████| 558/558 [00:05<00:00, 108.13it/s, loss=0.022, val_loss=0.025, val_r2=0.686]\n",
      "Epoch 3: 100%|██████████| 558/558 [00:05<00:00, 109.51it/s, loss=0.020, val_loss=0.022, val_r2=0.731]\n",
      "Epoch 4: 100%|██████████| 558/558 [00:05<00:00, 109.52it/s, loss=0.019, val_loss=0.024, val_r2=0.710]\n",
      "Epoch 5: 100%|██████████| 558/558 [00:05<00:00, 110.42it/s, loss=0.019, val_loss=0.023, val_r2=0.721]\n",
      "Epoch 6: 100%|██████████| 558/558 [00:05<00:00, 109.89it/s, loss=0.018, val_loss=0.023, val_r2=0.712]\n",
      "Epoch 7: 100%|██████████| 558/558 [00:05<00:00, 109.67it/s, loss=0.018, val_loss=0.023, val_r2=0.718]\n",
      "Epoch 8: 100%|██████████| 558/558 [00:05<00:00, 108.87it/s, loss=0.018, val_loss=0.023, val_r2=0.714]\n",
      "Epoch 9: 100%|██████████| 558/558 [00:05<00:00, 110.55it/s, loss=0.017, val_loss=0.023, val_r2=0.720]\n",
      "Epoch 10: 100%|██████████| 558/558 [00:05<00:00, 108.90it/s, loss=0.017, val_loss=0.023, val_r2=0.723]\n",
      "`Trainer.fit` stopped: `max_epochs=10` reached.\n"
     ]
    },
    {
     "name": "stdout",
     "output_type": "stream",
     "text": [
      "2024-03-22 20:52:39 | INFO |    Trial 1 finished with value: 0.022509852424263954 and parameters: {'n_lstm_units': 4, 'n_dense_units': 3, 'n_embedding_dim': 9, 'n_batch_size': 6, 'learning_rate': 0.006796578090758156}. Best is trial 0 with value: 0.019207457080483437 and R2: 0.7633084654808044.\n"
     ]
    },
    {
     "name": "stderr",
     "output_type": "stream",
     "text": [
      "GPU available: True (cuda), used: True\n",
      "TPU available: False, using: 0 TPU cores\n",
      "IPU available: False, using: 0 IPUs\n",
      "HPU available: False, using: 0 HPUs\n",
      "LOCAL_RANK: 0 - CUDA_VISIBLE_DEVICES: [0]\n",
      "\n",
      "  | Name          | Type             | Params\n",
      "---------------------------------------------------\n",
      "0 | train_metrics | MetricCollection | 0     \n",
      "1 | valid_metrics | MetricCollection | 0     \n",
      "2 | model         | LSTMAttention    | 74.9 K\n",
      "---------------------------------------------------\n",
      "74.9 K    Trainable params\n",
      "0         Non-trainable params\n",
      "74.9 K    Total params\n",
      "0.300     Total estimated model params size (MB)\n",
      "Epoch 1: 100%|██████████| 2234/2234 [00:17<00:00, 130.58it/s, loss=0.035, val_loss=0.024, val_r2=0.699]\n",
      "Epoch 2: 100%|██████████| 2234/2234 [00:14<00:00, 149.77it/s, loss=0.023, val_loss=0.022, val_r2=0.726]\n",
      "Epoch 3: 100%|██████████| 2234/2234 [00:14<00:00, 152.31it/s, loss=0.021, val_loss=0.020, val_r2=0.748]\n",
      "Epoch 4: 100%|██████████| 2234/2234 [00:14<00:00, 151.75it/s, loss=0.020, val_loss=0.020, val_r2=0.747]\n",
      "Epoch 5: 100%|██████████| 2234/2234 [00:14<00:00, 151.04it/s, loss=0.019, val_loss=0.021, val_r2=0.744]\n",
      "Epoch 6: 100%|██████████| 2234/2234 [00:14<00:00, 152.03it/s, loss=0.018, val_loss=0.021, val_r2=0.746]\n",
      "Epoch 7: 100%|██████████| 2234/2234 [00:14<00:00, 150.87it/s, loss=0.018, val_loss=0.020, val_r2=0.749]\n",
      "Epoch 8: 100%|██████████| 2234/2234 [00:14<00:00, 151.19it/s, loss=0.017, val_loss=0.020, val_r2=0.751]\n",
      "Epoch 9: 100%|██████████| 2234/2234 [00:14<00:00, 150.43it/s, loss=0.017, val_loss=0.020, val_r2=0.750]\n",
      "Epoch 10: 100%|██████████| 2234/2234 [00:14<00:00, 151.57it/s, loss=0.017, val_loss=0.020, val_r2=0.751]\n",
      "`Trainer.fit` stopped: `max_epochs=10` reached.\n"
     ]
    },
    {
     "name": "stdout",
     "output_type": "stream",
     "text": [
      "2024-03-22 20:55:13 | INFO |    Trial 2 finished with value: 0.020162314176559448 and parameters: {'n_lstm_units': 3, 'n_dense_units': 10, 'n_embedding_dim': 9, 'n_batch_size': 4, 'learning_rate': 5.3370327626039544e-05}. Best is trial 0 with value: 0.019207457080483437 and R2: 0.7633084654808044.\n"
     ]
    },
    {
     "name": "stderr",
     "output_type": "stream",
     "text": [
      "GPU available: True (cuda), used: True\n",
      "TPU available: False, using: 0 TPU cores\n",
      "IPU available: False, using: 0 IPUs\n",
      "HPU available: False, using: 0 HPUs\n",
      "LOCAL_RANK: 0 - CUDA_VISIBLE_DEVICES: [0]\n",
      "\n",
      "  | Name          | Type             | Params\n",
      "---------------------------------------------------\n",
      "0 | train_metrics | MetricCollection | 0     \n",
      "1 | valid_metrics | MetricCollection | 0     \n",
      "2 | model         | LSTMAttention    | 25.3 K\n",
      "---------------------------------------------------\n",
      "25.3 K    Trainable params\n",
      "0         Non-trainable params\n",
      "25.3 K    Total params\n",
      "0.101     Total estimated model params size (MB)\n",
      "Epoch 1: 100%|██████████| 1117/1117 [00:10<00:00, 106.37it/s, loss=0.041, val_loss=0.026, val_r2=0.676]\n",
      "Epoch 2: 100%|██████████| 1117/1117 [00:08<00:00, 135.59it/s, loss=0.024, val_loss=0.022, val_r2=0.733]\n",
      "Epoch 3: 100%|██████████| 1117/1117 [00:08<00:00, 137.60it/s, loss=0.021, val_loss=0.020, val_r2=0.756]\n",
      "Epoch 4: 100%|██████████| 1117/1117 [00:08<00:00, 136.97it/s, loss=0.019, val_loss=0.020, val_r2=0.753]\n",
      "Epoch 5: 100%|██████████| 1117/1117 [00:08<00:00, 138.46it/s, loss=0.017, val_loss=0.019, val_r2=0.762]\n",
      "Epoch 6: 100%|██████████| 1117/1117 [00:08<00:00, 138.25it/s, loss=0.016, val_loss=0.019, val_r2=0.763]\n",
      "Epoch 7: 100%|██████████| 1117/1117 [00:08<00:00, 136.98it/s, loss=0.016, val_loss=0.019, val_r2=0.769]\n",
      "Epoch 8: 100%|██████████| 1117/1117 [00:08<00:00, 136.20it/s, loss=0.016, val_loss=0.018, val_r2=0.774]\n",
      "Epoch 9: 100%|██████████| 1117/1117 [00:08<00:00, 136.52it/s, loss=0.015, val_loss=0.019, val_r2=0.767]\n",
      "Epoch 10: 100%|██████████| 1117/1117 [00:08<00:00, 139.20it/s, loss=0.015, val_loss=0.019, val_r2=0.772]\n",
      "`Trainer.fit` stopped: `max_epochs=10` reached.\n"
     ]
    },
    {
     "name": "stdout",
     "output_type": "stream",
     "text": [
      "2024-03-22 20:56:40 | INFO |    Trial 3 finished with value: 0.01850815676152706 and parameters: {'n_lstm_units': 4, 'n_dense_units': 5, 'n_embedding_dim': 7, 'n_batch_size': 5, 'learning_rate': 0.0001461896279370495}. Best is trial 3 with value: 0.01850815676152706 and R2: 0.7719258666038513.\n"
     ]
    },
    {
     "name": "stderr",
     "output_type": "stream",
     "text": [
      "GPU available: True (cuda), used: True\n",
      "TPU available: False, using: 0 TPU cores\n",
      "IPU available: False, using: 0 IPUs\n",
      "HPU available: False, using: 0 HPUs\n",
      "LOCAL_RANK: 0 - CUDA_VISIBLE_DEVICES: [0]\n",
      "\n",
      "  | Name          | Type             | Params\n",
      "---------------------------------------------------\n",
      "0 | train_metrics | MetricCollection | 0     \n",
      "1 | valid_metrics | MetricCollection | 0     \n",
      "2 | model         | LSTMAttention    | 171 K \n",
      "---------------------------------------------------\n",
      "171 K     Trainable params\n",
      "0         Non-trainable params\n",
      "171 K     Total params\n",
      "0.686     Total estimated model params size (MB)\n",
      "Epoch 1: 100%|██████████| 2234/2234 [00:19<00:00, 115.31it/s, loss=0.025, val_loss=0.019, val_r2=0.768]\n",
      "Epoch 2: 100%|██████████| 2234/2234 [00:16<00:00, 133.29it/s, loss=0.014, val_loss=0.017, val_r2=0.786]\n",
      "Epoch 3: 100%|██████████| 2234/2234 [00:16<00:00, 134.42it/s, loss=0.010, val_loss=0.017, val_r2=0.793]\n",
      "Epoch 4: 100%|██████████| 2234/2234 [00:16<00:00, 133.84it/s, loss=0.008, val_loss=0.016, val_r2=0.797]\n",
      "Epoch 5: 100%|██████████| 2234/2234 [00:16<00:00, 133.90it/s, loss=0.006, val_loss=0.017, val_r2=0.794]\n",
      "Epoch 6: 100%|██████████| 2234/2234 [00:16<00:00, 133.24it/s, loss=0.005, val_loss=0.017, val_r2=0.795]\n",
      "Epoch 7: 100%|██████████| 2234/2234 [00:16<00:00, 133.40it/s, loss=0.004, val_loss=0.017, val_r2=0.795]\n",
      "Epoch 8: 100%|██████████| 2234/2234 [00:16<00:00, 133.47it/s, loss=0.004, val_loss=0.017, val_r2=0.786]\n",
      "Epoch 9: 100%|██████████| 2234/2234 [00:16<00:00, 133.75it/s, loss=0.003, val_loss=0.016, val_r2=0.796]\n",
      "Epoch 10: 100%|██████████| 2234/2234 [00:16<00:00, 133.78it/s, loss=0.003, val_loss=0.016, val_r2=0.797]\n",
      "`Trainer.fit` stopped: `max_epochs=10` reached.\n"
     ]
    },
    {
     "name": "stdout",
     "output_type": "stream",
     "text": [
      "2024-03-22 20:59:33 | INFO |    Trial 4 finished with value: 0.016409358009696007 and parameters: {'n_lstm_units': 7, 'n_dense_units': 4, 'n_embedding_dim': 5, 'n_batch_size': 4, 'learning_rate': 0.0006672367170464204}. Best is trial 4 with value: 0.016409358009696007 and R2: 0.7971253395080566.\n"
     ]
    },
    {
     "name": "stderr",
     "output_type": "stream",
     "text": [
      "GPU available: True (cuda), used: True\n",
      "TPU available: False, using: 0 TPU cores\n",
      "IPU available: False, using: 0 IPUs\n",
      "HPU available: False, using: 0 HPUs\n",
      "LOCAL_RANK: 0 - CUDA_VISIBLE_DEVICES: [0]\n",
      "\n",
      "  | Name          | Type             | Params\n",
      "---------------------------------------------------\n",
      "0 | train_metrics | MetricCollection | 0     \n",
      "1 | valid_metrics | MetricCollection | 0     \n",
      "2 | model         | LSTMAttention    | 2.7 M \n",
      "---------------------------------------------------\n",
      "2.7 M     Trainable params\n",
      "0         Non-trainable params\n",
      "2.7 M     Total params\n",
      "10.606    Total estimated model params size (MB)\n",
      "Epoch 1: 100%|██████████| 1117/1117 [00:26<00:00, 41.64it/s, loss=0.043, val_loss=0.030, val_r2=0.630]\n",
      "Epoch 2: 100%|██████████| 1117/1117 [00:24<00:00, 45.92it/s, loss=0.029, val_loss=0.024, val_r2=0.700]\n",
      "Epoch 3: 100%|██████████| 1117/1117 [00:24<00:00, 45.72it/s, loss=0.023, val_loss=0.023, val_r2=0.723]\n",
      "Epoch 4: 100%|██████████| 1117/1117 [00:24<00:00, 45.90it/s, loss=0.021, val_loss=0.021, val_r2=0.736]\n",
      "Epoch 5: 100%|██████████| 1117/1117 [00:24<00:00, 45.70it/s, loss=0.019, val_loss=0.020, val_r2=0.757]\n",
      "Epoch 6: 100%|██████████| 1117/1117 [00:24<00:00, 45.71it/s, loss=0.019, val_loss=0.021, val_r2=0.741]\n",
      "Epoch 7: 100%|██████████| 1117/1117 [00:24<00:00, 45.92it/s, loss=0.018, val_loss=0.019, val_r2=0.762]\n",
      "Epoch 8: 100%|██████████| 1117/1117 [00:24<00:00, 45.80it/s, loss=0.017, val_loss=0.019, val_r2=0.762]\n",
      "Epoch 9: 100%|██████████| 1117/1117 [00:24<00:00, 45.84it/s, loss=0.017, val_loss=0.019, val_r2=0.764]\n",
      "Epoch 10: 100%|██████████| 1117/1117 [00:23<00:00, 46.72it/s, loss=0.017, val_loss=0.019, val_r2=0.763]\n",
      "`Trainer.fit` stopped: `max_epochs=10` reached.\n"
     ]
    },
    {
     "name": "stdout",
     "output_type": "stream",
     "text": [
      "2024-03-22 21:03:42 | INFO |    Trial 5 finished with value: 0.019201073795557022 and parameters: {'n_lstm_units': 9, 'n_dense_units': 4, 'n_embedding_dim': 7, 'n_batch_size': 5, 'learning_rate': 1.5339162591163613e-05}. Best is trial 4 with value: 0.016409358009696007 and R2: 0.7971253395080566.\n"
     ]
    },
    {
     "name": "stderr",
     "output_type": "stream",
     "text": [
      "GPU available: True (cuda), used: True\n",
      "TPU available: False, using: 0 TPU cores\n",
      "IPU available: False, using: 0 IPUs\n",
      "HPU available: False, using: 0 HPUs\n",
      "LOCAL_RANK: 0 - CUDA_VISIBLE_DEVICES: [0]\n",
      "\n",
      "  | Name          | Type             | Params\n",
      "---------------------------------------------------\n",
      "0 | train_metrics | MetricCollection | 0     \n",
      "1 | valid_metrics | MetricCollection | 0     \n",
      "2 | model         | LSTMAttention    | 145 K \n",
      "---------------------------------------------------\n",
      "145 K     Trainable params\n",
      "0         Non-trainable params\n",
      "145 K     Total params\n",
      "0.583     Total estimated model params size (MB)\n",
      "Epoch 1: 100%|██████████| 279/279 [00:07<00:00, 35.74it/s, loss=1.911, val_loss=0.078, val_r2=0.045]\n",
      "Epoch 2: 100%|██████████| 279/279 [00:05<00:00, 51.76it/s, loss=0.055, val_loss=0.038, val_r2=0.536]\n",
      "Epoch 3: 100%|██████████| 279/279 [00:05<00:00, 51.78it/s, loss=0.044, val_loss=0.048, val_r2=0.416]\n",
      "Epoch 4: 100%|██████████| 279/279 [00:05<00:00, 52.02it/s, loss=0.038, val_loss=0.034, val_r2=0.589]\n",
      "Epoch 5: 100%|██████████| 279/279 [00:05<00:00, 51.68it/s, loss=0.033, val_loss=0.027, val_r2=0.673]\n",
      "Epoch 6: 100%|██████████| 279/279 [00:05<00:00, 51.49it/s, loss=0.031, val_loss=0.033, val_r2=0.597]\n",
      "Epoch 7: 100%|██████████| 279/279 [00:05<00:00, 51.58it/s, loss=0.029, val_loss=0.033, val_r2=0.592]\n",
      "Epoch 8: 100%|██████████| 279/279 [00:05<00:00, 51.79it/s, loss=0.027, val_loss=0.025, val_r2=0.693]\n",
      "Epoch 9: 100%|██████████| 279/279 [00:05<00:00, 51.69it/s, loss=0.026, val_loss=0.025, val_r2=0.700]\n",
      "Epoch 10: 100%|██████████| 279/279 [00:05<00:00, 51.22it/s, loss=0.025, val_loss=0.025, val_r2=0.698]\n",
      "`Trainer.fit` stopped: `max_epochs=10` reached.\n"
     ]
    },
    {
     "name": "stdout",
     "output_type": "stream",
     "text": [
      "2024-03-22 21:04:41 | INFO |    Trial 6 finished with value: 0.024705927819013596 and parameters: {'n_lstm_units': 7, 'n_dense_units': 4, 'n_embedding_dim': 3, 'n_batch_size': 7, 'learning_rate': 0.07286653737491042}. Best is trial 4 with value: 0.016409358009696007 and R2: 0.7971253395080566.\n"
     ]
    },
    {
     "name": "stderr",
     "output_type": "stream",
     "text": [
      "GPU available: True (cuda), used: True\n",
      "TPU available: False, using: 0 TPU cores\n",
      "IPU available: False, using: 0 IPUs\n",
      "HPU available: False, using: 0 HPUs\n",
      "LOCAL_RANK: 0 - CUDA_VISIBLE_DEVICES: [0]\n",
      "\n",
      "  | Name          | Type             | Params\n",
      "---------------------------------------------------\n",
      "0 | train_metrics | MetricCollection | 0     \n",
      "1 | valid_metrics | MetricCollection | 0     \n",
      "2 | model         | LSTMAttention    | 2.2 M \n",
      "---------------------------------------------------\n",
      "2.2 M     Trainable params\n",
      "0         Non-trainable params\n",
      "2.2 M     Total params\n",
      "8.685     Total estimated model params size (MB)\n",
      "Epoch 1: 100%|██████████| 558/558 [00:18<00:00, 30.03it/s, loss=0.040, val_loss=0.027, val_r2=0.672]\n",
      "Epoch 2: 100%|██████████| 558/558 [00:16<00:00, 34.66it/s, loss=0.027, val_loss=0.028, val_r2=0.656]\n",
      "Epoch 3: 100%|██████████| 558/558 [00:16<00:00, 34.58it/s, loss=0.023, val_loss=0.023, val_r2=0.722]\n",
      "Epoch 4: 100%|██████████| 558/558 [00:16<00:00, 34.60it/s, loss=0.019, val_loss=0.022, val_r2=0.734]\n",
      "Epoch 5: 100%|██████████| 558/558 [00:16<00:00, 34.59it/s, loss=0.016, val_loss=0.021, val_r2=0.746]\n",
      "Epoch 6: 100%|██████████| 558/558 [00:16<00:00, 34.70it/s, loss=0.013, val_loss=0.018, val_r2=0.775]\n",
      "Epoch 7: 100%|██████████| 558/558 [00:16<00:00, 34.68it/s, loss=0.011, val_loss=0.019, val_r2=0.769]\n",
      "Epoch 8: 100%|██████████| 558/558 [00:16<00:00, 34.64it/s, loss=0.010, val_loss=0.018, val_r2=0.775]\n",
      "Epoch 9: 100%|██████████| 558/558 [00:16<00:00, 34.70it/s, loss=0.009, val_loss=0.018, val_r2=0.775]\n",
      "Epoch 10: 100%|██████████| 558/558 [00:16<00:00, 34.62it/s, loss=0.009, val_loss=0.018, val_r2=0.775]\n",
      "`Trainer.fit` stopped: `max_epochs=10` reached.\n"
     ]
    },
    {
     "name": "stdout",
     "output_type": "stream",
     "text": [
      "2024-03-22 21:07:28 | INFO |    Trial 7 finished with value: 0.018249711021780968 and parameters: {'n_lstm_units': 9, 'n_dense_units': 5, 'n_embedding_dim': 3, 'n_batch_size': 6, 'learning_rate': 0.00057624872164786}. Best is trial 4 with value: 0.016409358009696007 and R2: 0.7971253395080566.\n"
     ]
    },
    {
     "name": "stderr",
     "output_type": "stream",
     "text": [
      "GPU available: True (cuda), used: True\n",
      "TPU available: False, using: 0 TPU cores\n",
      "IPU available: False, using: 0 IPUs\n",
      "HPU available: False, using: 0 HPUs\n",
      "LOCAL_RANK: 0 - CUDA_VISIBLE_DEVICES: [0]\n",
      "\n",
      "  | Name          | Type             | Params\n",
      "---------------------------------------------------\n",
      "0 | train_metrics | MetricCollection | 0     \n",
      "1 | valid_metrics | MetricCollection | 0     \n",
      "2 | model         | LSTMAttention    | 2.7 K \n",
      "---------------------------------------------------\n",
      "2.7 K     Trainable params\n",
      "0         Non-trainable params\n",
      "2.7 K     Total params\n",
      "0.011     Total estimated model params size (MB)\n",
      "Epoch 1: 100%|██████████| 279/279 [00:04<00:00, 64.65it/s, loss=0.078, val_loss=0.069, val_r2=0.158] \n",
      "Epoch 2: 100%|██████████| 279/279 [00:02<00:00, 135.68it/s, loss=0.064, val_loss=0.051, val_r2=0.378]\n",
      "Epoch 3: 100%|██████████| 279/279 [00:02<00:00, 135.99it/s, loss=0.048, val_loss=0.038, val_r2=0.532]\n",
      "Epoch 4: 100%|██████████| 279/279 [00:02<00:00, 134.13it/s, loss=0.039, val_loss=0.035, val_r2=0.576]\n",
      "Epoch 5: 100%|██████████| 279/279 [00:02<00:00, 132.63it/s, loss=0.036, val_loss=0.033, val_r2=0.592]\n",
      "Epoch 6: 100%|██████████| 279/279 [00:02<00:00, 135.83it/s, loss=0.035, val_loss=0.033, val_r2=0.600]\n",
      "Epoch 7: 100%|██████████| 279/279 [00:02<00:00, 134.15it/s, loss=0.035, val_loss=0.032, val_r2=0.605]\n",
      "Epoch 8: 100%|██████████| 279/279 [00:02<00:00, 136.71it/s, loss=0.034, val_loss=0.032, val_r2=0.608]\n",
      "Epoch 9: 100%|██████████| 279/279 [00:02<00:00, 132.78it/s, loss=0.034, val_loss=0.032, val_r2=0.608]\n",
      "Epoch 10: 100%|██████████| 279/279 [00:02<00:00, 134.52it/s, loss=0.034, val_loss=0.032, val_r2=0.608]\n",
      "`Trainer.fit` stopped: `max_epochs=10` reached.\n"
     ]
    },
    {
     "name": "stdout",
     "output_type": "stream",
     "text": [
      "2024-03-22 21:07:54 | INFO |    Trial 8 finished with value: 0.03204216808080673 and parameters: {'n_lstm_units': 3, 'n_dense_units': 6, 'n_embedding_dim': 3, 'n_batch_size': 7, 'learning_rate': 0.00010842262717330161}. Best is trial 4 with value: 0.016409358009696007 and R2: 0.7971253395080566.\n"
     ]
    },
    {
     "name": "stderr",
     "output_type": "stream",
     "text": [
      "GPU available: True (cuda), used: True\n",
      "TPU available: False, using: 0 TPU cores\n",
      "IPU available: False, using: 0 IPUs\n",
      "HPU available: False, using: 0 HPUs\n",
      "LOCAL_RANK: 0 - CUDA_VISIBLE_DEVICES: [0]\n",
      "\n",
      "  | Name          | Type             | Params\n",
      "---------------------------------------------------\n",
      "0 | train_metrics | MetricCollection | 0     \n",
      "1 | valid_metrics | MetricCollection | 0     \n",
      "2 | model         | LSTMAttention    | 812 K \n",
      "---------------------------------------------------\n",
      "812 K     Trainable params\n",
      "0         Non-trainable params\n",
      "812 K     Total params\n",
      "3.250     Total estimated model params size (MB)\n",
      "Epoch 1: 100%|██████████| 1117/1117 [00:22<00:00, 50.21it/s, loss=0.037, val_loss=0.029, val_r2=0.644]\n",
      "Epoch 2: 100%|██████████| 1117/1117 [00:20<00:00, 54.91it/s, loss=0.023, val_loss=0.020, val_r2=0.756]\n",
      "Epoch 3: 100%|██████████| 1117/1117 [00:20<00:00, 54.00it/s, loss=0.018, val_loss=0.018, val_r2=0.774]\n",
      "Epoch 4: 100%|██████████| 1117/1117 [00:19<00:00, 56.99it/s, loss=0.016, val_loss=0.019, val_r2=0.772]\n",
      "Epoch 5: 100%|██████████| 1117/1117 [00:18<00:00, 58.85it/s, loss=0.014, val_loss=0.018, val_r2=0.784]\n",
      "Epoch 6: 100%|██████████| 1117/1117 [00:19<00:00, 58.18it/s, loss=0.013, val_loss=0.018, val_r2=0.780]\n",
      "Epoch 7: 100%|██████████| 1117/1117 [00:19<00:00, 57.23it/s, loss=0.012, val_loss=0.017, val_r2=0.786]\n",
      "Epoch 8: 100%|██████████| 1117/1117 [00:19<00:00, 57.11it/s, loss=0.011, val_loss=0.017, val_r2=0.786]\n",
      "Epoch 9: 100%|██████████| 1117/1117 [00:19<00:00, 56.92it/s, loss=0.011, val_loss=0.017, val_r2=0.788]\n",
      "Epoch 10: 100%|██████████| 1117/1117 [00:19<00:00, 56.96it/s, loss=0.011, val_loss=0.017, val_r2=0.789]\n",
      "`Trainer.fit` stopped: `max_epochs=10` reached.\n"
     ]
    },
    {
     "name": "stdout",
     "output_type": "stream",
     "text": [
      "2024-03-22 21:11:17 | INFO |    Trial 9 finished with value: 0.017138544470071793 and parameters: {'n_lstm_units': 8, 'n_dense_units': 5, 'n_embedding_dim': 7, 'n_batch_size': 5, 'learning_rate': 5.4880470007660426e-05}. Best is trial 4 with value: 0.016409358009696007 and R2: 0.7971253395080566.\n"
     ]
    },
    {
     "name": "stderr",
     "output_type": "stream",
     "text": [
      "GPU available: True (cuda), used: True\n",
      "TPU available: False, using: 0 TPU cores\n",
      "IPU available: False, using: 0 IPUs\n",
      "HPU available: False, using: 0 HPUs\n",
      "LOCAL_RANK: 0 - CUDA_VISIBLE_DEVICES: [0]\n",
      "\n",
      "  | Name          | Type             | Params\n",
      "---------------------------------------------------\n",
      "0 | train_metrics | MetricCollection | 0     \n",
      "1 | valid_metrics | MetricCollection | 0     \n",
      "2 | model         | LSTMAttention    | 17.9 M\n",
      "---------------------------------------------------\n",
      "17.9 M    Trainable params\n",
      "0         Non-trainable params\n",
      "17.9 M    Total params\n",
      "71.551    Total estimated model params size (MB)\n",
      "Epoch 1: 100%|██████████| 279/279 [00:59<00:00,  4.66it/s, loss=1.383, val_loss=0.031, val_r2=0.616]\n",
      "Epoch 2: 100%|██████████| 279/279 [00:57<00:00,  4.84it/s, loss=0.032, val_loss=0.029, val_r2=0.649]\n",
      "Epoch 3: 100%|██████████| 279/279 [00:57<00:00,  4.84it/s, loss=0.028, val_loss=0.029, val_r2=0.645]\n",
      "Epoch 4: 100%|██████████| 279/279 [00:57<00:00,  4.84it/s, loss=0.024, val_loss=0.019, val_r2=0.767]\n",
      "Epoch 5: 100%|██████████| 279/279 [00:57<00:00,  4.86it/s, loss=0.021, val_loss=0.019, val_r2=0.763]\n",
      "Epoch 6: 100%|██████████| 279/279 [00:57<00:00,  4.85it/s, loss=0.018, val_loss=0.017, val_r2=0.790]\n",
      "Epoch 7: 100%|██████████| 279/279 [00:57<00:00,  4.84it/s, loss=0.016, val_loss=0.017, val_r2=0.790]\n",
      "Epoch 8: 100%|██████████| 279/279 [00:57<00:00,  4.84it/s, loss=0.015, val_loss=0.017, val_r2=0.795]\n",
      "Epoch 9: 100%|██████████| 279/279 [00:57<00:00,  4.84it/s, loss=0.013, val_loss=0.018, val_r2=0.785]\n",
      "Epoch 10: 100%|██████████| 279/279 [00:57<00:00,  4.84it/s, loss=0.012, val_loss=0.017, val_r2=0.797]\n",
      "`Trainer.fit` stopped: `max_epochs=10` reached.\n"
     ]
    },
    {
     "name": "stdout",
     "output_type": "stream",
     "text": [
      "2024-03-22 21:21:08 | INFO |    Trial 10 finished with value: 0.0166078619658947 and parameters: {'n_lstm_units': 10, 'n_dense_units': 9, 'n_embedding_dim': 10, 'n_batch_size': 7, 'learning_rate': 0.002463768595899745}. Best is trial 4 with value: 0.016409358009696007 and R2: 0.7971253395080566.\n"
     ]
    },
    {
     "name": "stderr",
     "output_type": "stream",
     "text": [
      "GPU available: True (cuda), used: True\n",
      "TPU available: False, using: 0 TPU cores\n",
      "IPU available: False, using: 0 IPUs\n",
      "HPU available: False, using: 0 HPUs\n",
      "LOCAL_RANK: 0 - CUDA_VISIBLE_DEVICES: [0]\n",
      "\n",
      "  | Name          | Type             | Params\n",
      "---------------------------------------------------\n",
      "0 | train_metrics | MetricCollection | 0     \n",
      "1 | valid_metrics | MetricCollection | 0     \n",
      "2 | model         | LSTMAttention    | 8.6 M \n",
      "---------------------------------------------------\n",
      "8.6 M     Trainable params\n",
      "0         Non-trainable params\n",
      "8.6 M     Total params\n",
      "34.213    Total estimated model params size (MB)\n",
      "Epoch 1: 100%|██████████| 4469/4469 [03:53<00:00, 19.16it/s, loss=0.037, val_loss=0.029, val_r2=0.639]\n",
      "Epoch 2: 100%|██████████| 4469/4469 [03:51<00:00, 19.35it/s, loss=0.022, val_loss=0.021, val_r2=0.743]\n",
      "Epoch 3: 100%|██████████| 4469/4469 [03:50<00:00, 19.35it/s, loss=0.015, val_loss=0.019, val_r2=0.767]\n",
      "Epoch 4: 100%|██████████| 4469/4469 [03:50<00:00, 19.35it/s, loss=0.011, val_loss=0.018, val_r2=0.780]\n",
      "Epoch 5: 100%|██████████| 4469/4469 [03:50<00:00, 19.36it/s, loss=0.009, val_loss=0.018, val_r2=0.774]\n",
      "Epoch 6: 100%|██████████| 4469/4469 [03:51<00:00, 19.30it/s, loss=0.006, val_loss=0.017, val_r2=0.793]\n",
      "Epoch 7: 100%|██████████| 4469/4469 [03:50<00:00, 19.37it/s, loss=0.005, val_loss=0.017, val_r2=0.791]\n",
      "Epoch 8: 100%|██████████| 4469/4469 [03:50<00:00, 19.38it/s, loss=0.003, val_loss=0.017, val_r2=0.795]\n",
      "Epoch 9: 100%|██████████| 4469/4469 [03:51<00:00, 19.34it/s, loss=0.003, val_loss=0.017, val_r2=0.794]\n",
      "Epoch 10: 100%|██████████| 4469/4469 [03:50<00:00, 19.39it/s, loss=0.002, val_loss=0.017, val_r2=0.795]\n",
      "`Trainer.fit` stopped: `max_epochs=10` reached.\n"
     ]
    },
    {
     "name": "stdout",
     "output_type": "stream",
     "text": [
      "2024-03-22 21:59:43 | INFO |    Trial 11 finished with value: 0.016616372391581535 and parameters: {'n_lstm_units': 10, 'n_dense_units': 3, 'n_embedding_dim': 4, 'n_batch_size': 3, 'learning_rate': 0.0002001342062287998}. Best is trial 4 with value: 0.016409358009696007 and R2: 0.7971253395080566.\n"
     ]
    },
    {
     "name": "stderr",
     "output_type": "stream",
     "text": [
      "GPU available: True (cuda), used: True\n",
      "TPU available: False, using: 0 TPU cores\n",
      "IPU available: False, using: 0 IPUs\n",
      "HPU available: False, using: 0 HPUs\n",
      "LOCAL_RANK: 0 - CUDA_VISIBLE_DEVICES: [0]\n",
      "\n",
      "  | Name          | Type             | Params\n",
      "---------------------------------------------------\n",
      "0 | train_metrics | MetricCollection | 0     \n",
      "1 | valid_metrics | MetricCollection | 0     \n",
      "2 | model         | LSTMAttention    | 322 K \n",
      "---------------------------------------------------\n",
      "322 K     Trainable params\n",
      "0         Non-trainable params\n",
      "322 K     Total params\n",
      "1.289     Total estimated model params size (MB)\n",
      "Epoch 1: 100%|██████████| 2234/2234 [00:17<00:00, 131.16it/s, loss=0.026, val_loss=0.019, val_r2=0.760]\n",
      "Epoch 2: 100%|██████████| 2234/2234 [00:15<00:00, 148.00it/s, loss=0.015, val_loss=0.018, val_r2=0.779]\n",
      "Epoch 3: 100%|██████████| 2234/2234 [00:15<00:00, 147.85it/s, loss=0.013, val_loss=0.020, val_r2=0.752]\n",
      "Epoch 4: 100%|██████████| 2234/2234 [00:15<00:00, 146.74it/s, loss=0.010, val_loss=0.017, val_r2=0.793]\n",
      "Epoch 5: 100%|██████████| 2234/2234 [00:15<00:00, 147.58it/s, loss=0.009, val_loss=0.017, val_r2=0.786]\n",
      "Epoch 6: 100%|██████████| 2234/2234 [00:15<00:00, 146.97it/s, loss=0.008, val_loss=0.018, val_r2=0.776]\n",
      "Epoch 7: 100%|██████████| 2234/2234 [00:15<00:00, 146.54it/s, loss=0.007, val_loss=0.017, val_r2=0.786]\n",
      "Epoch 8: 100%|██████████| 2234/2234 [00:15<00:00, 147.66it/s, loss=0.006, val_loss=0.017, val_r2=0.792]\n",
      "Epoch 9: 100%|██████████| 2234/2234 [00:15<00:00, 142.58it/s, loss=0.006, val_loss=0.017, val_r2=0.790]\n",
      "Epoch 10: 100%|██████████| 2234/2234 [00:15<00:00, 142.48it/s, loss=0.006, val_loss=0.017, val_r2=0.792]\n",
      "`Trainer.fit` stopped: `max_epochs=10` reached.\n"
     ]
    },
    {
     "name": "stdout",
     "output_type": "stream",
     "text": [
      "2024-03-22 22:02:21 | INFO |    Trial 12 finished with value: 0.016855774447321892 and parameters: {'n_lstm_units': 6, 'n_dense_units': 5, 'n_embedding_dim': 9, 'n_batch_size': 4, 'learning_rate': 0.000132965214572995}. Best is trial 4 with value: 0.016409358009696007 and R2: 0.7971253395080566.\n"
     ]
    },
    {
     "name": "stderr",
     "output_type": "stream",
     "text": [
      "GPU available: True (cuda), used: True\n",
      "TPU available: False, using: 0 TPU cores\n",
      "IPU available: False, using: 0 IPUs\n",
      "HPU available: False, using: 0 HPUs\n",
      "LOCAL_RANK: 0 - CUDA_VISIBLE_DEVICES: [0]\n",
      "\n",
      "  | Name          | Type             | Params\n",
      "---------------------------------------------------\n",
      "0 | train_metrics | MetricCollection | 0     \n",
      "1 | valid_metrics | MetricCollection | 0     \n",
      "2 | model         | LSTMAttention    | 683 K \n",
      "---------------------------------------------------\n",
      "683 K     Trainable params\n",
      "0         Non-trainable params\n",
      "683 K     Total params\n",
      "2.734     Total estimated model params size (MB)\n",
      "Epoch 1: 100%|██████████| 4469/4469 [00:35<00:00, 126.56it/s, loss=1.261, val_loss=0.049, val_r2=0.393]\n",
      "Epoch 2: 100%|██████████| 4469/4469 [00:32<00:00, 136.44it/s, loss=0.036, val_loss=0.028, val_r2=0.651]\n",
      "Epoch 3: 100%|██████████| 4469/4469 [00:32<00:00, 137.42it/s, loss=3.857, val_loss=0.040, val_r2=0.507]\n",
      "Epoch 4: 100%|██████████| 4469/4469 [00:32<00:00, 136.78it/s, loss=0.035, val_loss=0.029, val_r2=0.639]\n",
      "Epoch 5: 100%|██████████| 4469/4469 [00:32<00:00, 137.01it/s, loss=2.403, val_loss=0.070, val_r2=0.134]\n",
      "Epoch 6: 100%|██████████| 4469/4469 [00:32<00:00, 136.58it/s, loss=0.040, val_loss=0.040, val_r2=0.501]\n",
      "Epoch 7: 100%|██████████| 4469/4469 [00:32<00:00, 136.53it/s, loss=0.033, val_loss=0.052, val_r2=0.355]\n",
      "Epoch 8: 100%|██████████| 4469/4469 [00:32<00:00, 136.31it/s, loss=0.032, val_loss=0.026, val_r2=0.674]\n",
      "Epoch 9: 100%|██████████| 4469/4469 [00:32<00:00, 135.81it/s, loss=0.022, val_loss=0.028, val_r2=0.659]\n",
      "Epoch 10: 100%|██████████| 4469/4469 [00:32<00:00, 136.66it/s, loss=0.013, val_loss=0.020, val_r2=0.752]\n",
      "`Trainer.fit` stopped: `max_epochs=10` reached.\n"
     ]
    },
    {
     "name": "stdout",
     "output_type": "stream",
     "text": [
      "2024-03-22 22:07:54 | INFO |    Trial 13 finished with value: 0.020090946927666664 and parameters: {'n_lstm_units': 7, 'n_dense_units': 4, 'n_embedding_dim': 9, 'n_batch_size': 3, 'learning_rate': 0.08862326508576249}. Best is trial 4 with value: 0.016409358009696007 and R2: 0.7971253395080566.\n"
     ]
    },
    {
     "name": "stderr",
     "output_type": "stream",
     "text": [
      "GPU available: True (cuda), used: True\n",
      "TPU available: False, using: 0 TPU cores\n",
      "IPU available: False, using: 0 IPUs\n",
      "HPU available: False, using: 0 HPUs\n",
      "LOCAL_RANK: 0 - CUDA_VISIBLE_DEVICES: [0]\n",
      "\n",
      "  | Name          | Type             | Params\n",
      "---------------------------------------------------\n",
      "0 | train_metrics | MetricCollection | 0     \n",
      "1 | valid_metrics | MetricCollection | 0     \n",
      "2 | model         | LSTMAttention    | 2.2 M \n",
      "---------------------------------------------------\n",
      "2.2 M     Trainable params\n",
      "0         Non-trainable params\n",
      "2.2 M     Total params\n",
      "8.620     Total estimated model params size (MB)\n",
      "Epoch 1:  95%|█████████▍| 264/279 [00:14<00:00, 21.14it/s, loss=1.286]Trial 14 failed with parameters: {'n_lstm_units': 9, 'n_dense_units': 4, 'n_embedding_dim': 3, 'n_batch_size': 7, 'learning_rate': 0.00672093005015611} because of the following error: KeyError('valid_loss').\n",
      "Traceback (most recent call last):\n",
      "  File \"d:\\programming\\python\\chem\\.venv\\Lib\\site-packages\\optuna\\study\\_optimize.py\", line 200, in _run_trial\n",
      "    value_or_values = func(trial)\n",
      "                      ^^^^^^^^^^^\n",
      "  File \"d:\\programming\\python\\chem\\prediction\\SMILES-X\\src\\train.py\", line 419, in objective\n",
      "    loss = trainer.logged_metrics[\"valid_loss\"]\n",
      "           ~~~~~~~~~~~~~~~~~~~~~~^^^^^^^^^^^^^^\n",
      "KeyError: 'valid_loss'\n",
      "Trial 14 failed with value None.\n"
     ]
    },
    {
     "ename": "KeyError",
     "evalue": "'valid_loss'",
     "output_type": "error",
     "traceback": [
      "\u001b[1;31m---------------------------------------------------------------------------\u001b[0m",
      "\u001b[1;31mKeyError\u001b[0m                                  Traceback (most recent call last)",
      "Cell \u001b[1;32mIn[1], line 8\u001b[0m\n\u001b[0;32m      5\u001b[0m data_name \u001b[38;5;241m=\u001b[39m \u001b[38;5;124m\"\u001b[39m\u001b[38;5;124mPolymerDensity\u001b[39m\u001b[38;5;124m\"\u001b[39m\n\u001b[0;32m      6\u001b[0m config_filepath \u001b[38;5;241m=\u001b[39m os\u001b[38;5;241m.\u001b[39mpath\u001b[38;5;241m.\u001b[39mjoin(\u001b[38;5;124m\"\u001b[39m\u001b[38;5;124mconfigs\u001b[39m\u001b[38;5;124m\"\u001b[39m, \u001b[38;5;124mf\u001b[39m\u001b[38;5;124m\"\u001b[39m\u001b[38;5;132;01m{\u001b[39;00mdata_name\u001b[38;5;132;01m}\u001b[39;00m\u001b[38;5;124m.yaml\u001b[39m\u001b[38;5;124m\"\u001b[39m)\n\u001b[1;32m----> 8\u001b[0m \u001b[43mtrain\u001b[49m\u001b[38;5;241;43m.\u001b[39;49m\u001b[43mrun\u001b[49m\u001b[43m(\u001b[49m\n\u001b[0;32m      9\u001b[0m \u001b[43m    \u001b[49m\u001b[43mconfig_filepath\u001b[49m\u001b[43m,\u001b[49m\n\u001b[0;32m     10\u001b[0m \u001b[43m    \u001b[49m\u001b[43moutdir\u001b[49m\u001b[38;5;241;43m=\u001b[39;49m\u001b[38;5;124;43m\"\u001b[39;49m\u001b[38;5;124;43m./reports/\u001b[39;49m\u001b[38;5;124;43m\"\u001b[39;49m\u001b[43m,\u001b[49m\n\u001b[0;32m     11\u001b[0m \u001b[43m    \u001b[49m\u001b[43mn_gpus\u001b[49m\u001b[38;5;241;43m=\u001b[39;49m\u001b[38;5;241;43m1\u001b[39;49m\u001b[43m,\u001b[49m\n\u001b[0;32m     12\u001b[0m \u001b[43m)\u001b[49m\n",
      "File \u001b[1;32md:\\programming\\python\\chem\\prediction\\SMILES-X\\src\\train.py:201\u001b[0m, in \u001b[0;36mrun\u001b[1;34m(config_filepath, outdir, n_gpus, lstmunits_ref, denseunits_ref, embedding_ref, batch_size_ref, lr_ref)\u001b[0m\n\u001b[0;32m    199\u001b[0m \u001b[38;5;28;01mif\u001b[39;00m bayopt_on:\n\u001b[0;32m    200\u001b[0m     optuna\u001b[38;5;241m.\u001b[39mlogging\u001b[38;5;241m.\u001b[39mdisable_default_handler()\n\u001b[1;32m--> 201\u001b[0m     best_hparams \u001b[38;5;241m=\u001b[39m \u001b[43mbayopt_trainer\u001b[49m\u001b[43m(\u001b[49m\n\u001b[0;32m    202\u001b[0m \u001b[43m        \u001b[49m\u001b[43msave_dir\u001b[49m\u001b[43m,\u001b[49m\n\u001b[0;32m    203\u001b[0m \u001b[43m        \u001b[49m\u001b[43mbayopt_bounds\u001b[49m\u001b[43m,\u001b[49m\n\u001b[0;32m    204\u001b[0m \u001b[43m        \u001b[49m\u001b[43mvocab_size\u001b[49m\u001b[38;5;241;43m=\u001b[39;49m\u001b[43mvocab_size\u001b[49m\u001b[43m,\u001b[49m\n\u001b[0;32m    205\u001b[0m \u001b[43m        \u001b[49m\u001b[43mx_train\u001b[49m\u001b[38;5;241;43m=\u001b[39;49m\u001b[43mint_tokens_train\u001b[49m\u001b[43m,\u001b[49m\n\u001b[0;32m    206\u001b[0m \u001b[43m        \u001b[49m\u001b[43mx_valid\u001b[49m\u001b[38;5;241;43m=\u001b[39;49m\u001b[43mint_tokens_valid\u001b[49m\u001b[43m,\u001b[49m\n\u001b[0;32m    207\u001b[0m \u001b[43m        \u001b[49m\u001b[43my_train\u001b[49m\u001b[38;5;241;43m=\u001b[39;49m\u001b[43my_train\u001b[49m\u001b[43m,\u001b[49m\n\u001b[0;32m    208\u001b[0m \u001b[43m        \u001b[49m\u001b[43my_valid\u001b[49m\u001b[38;5;241;43m=\u001b[39;49m\u001b[43my_valid\u001b[49m\u001b[43m,\u001b[49m\n\u001b[0;32m    209\u001b[0m \u001b[43m        \u001b[49m\u001b[43mbayopt_n_epochs\u001b[49m\u001b[38;5;241;43m=\u001b[39;49m\u001b[43mbayopt_n_epochs\u001b[49m\u001b[43m,\u001b[49m\n\u001b[0;32m    210\u001b[0m \u001b[43m        \u001b[49m\u001b[43mbayopt_n_trials\u001b[49m\u001b[38;5;241;43m=\u001b[39;49m\u001b[43mbayopt_n_trials\u001b[49m\u001b[43m,\u001b[49m\n\u001b[0;32m    211\u001b[0m \u001b[43m        \u001b[49m\u001b[43mprecision\u001b[49m\u001b[38;5;241;43m=\u001b[39;49m\u001b[43mprecision\u001b[49m\u001b[43m,\u001b[49m\n\u001b[0;32m    212\u001b[0m \u001b[43m        \u001b[49m\u001b[43mloss_func\u001b[49m\u001b[38;5;241;43m=\u001b[39;49m\u001b[43mloss_func\u001b[49m\u001b[43m,\u001b[49m\n\u001b[0;32m    213\u001b[0m \u001b[43m        \u001b[49m\u001b[43mn_gpus\u001b[49m\u001b[38;5;241;43m=\u001b[39;49m\u001b[43mn_gpus\u001b[49m\u001b[43m,\u001b[49m\n\u001b[0;32m    214\u001b[0m \u001b[43m    \u001b[49m\u001b[43m)\u001b[49m\n\u001b[0;32m    215\u001b[0m \u001b[38;5;28;01melse\u001b[39;00m:\n\u001b[0;32m    216\u001b[0m     best_hparams \u001b[38;5;241m=\u001b[39m {\n\u001b[0;32m    217\u001b[0m         \u001b[38;5;124m\"\u001b[39m\u001b[38;5;124mvocab_size\u001b[39m\u001b[38;5;124m\"\u001b[39m: vocab_size,\n\u001b[0;32m    218\u001b[0m         \u001b[38;5;124m\"\u001b[39m\u001b[38;5;124mlstm_units\u001b[39m\u001b[38;5;124m\"\u001b[39m: lstmunits_ref,\n\u001b[1;32m   (...)\u001b[0m\n\u001b[0;32m    222\u001b[0m         \u001b[38;5;124m\"\u001b[39m\u001b[38;5;124mlearning_rate\u001b[39m\u001b[38;5;124m\"\u001b[39m: lr_ref,\n\u001b[0;32m    223\u001b[0m     }\n",
      "File \u001b[1;32md:\\programming\\python\\chem\\prediction\\SMILES-X\\src\\train.py:440\u001b[0m, in \u001b[0;36mbayopt_trainer\u001b[1;34m(save_dir, bayopt_bounds, vocab_size, x_train, x_valid, y_train, y_valid, bayopt_n_epochs, bayopt_n_trials, precision, loss_func, n_gpus, seed)\u001b[0m\n\u001b[0;32m    436\u001b[0m \u001b[38;5;66;03m# ハイパーパラメータの探索の開始\u001b[39;00m\n\u001b[0;32m    437\u001b[0m study \u001b[38;5;241m=\u001b[39m optuna\u001b[38;5;241m.\u001b[39mcreate_study(\n\u001b[0;32m    438\u001b[0m     sampler\u001b[38;5;241m=\u001b[39moptuna\u001b[38;5;241m.\u001b[39msamplers\u001b[38;5;241m.\u001b[39mRandomSampler(seed\u001b[38;5;241m=\u001b[39mseed)\n\u001b[0;32m    439\u001b[0m )\n\u001b[1;32m--> 440\u001b[0m \u001b[43mstudy\u001b[49m\u001b[38;5;241;43m.\u001b[39;49m\u001b[43moptimize\u001b[49m\u001b[43m(\u001b[49m\u001b[43mobjective\u001b[49m\u001b[43m,\u001b[49m\u001b[43m \u001b[49m\u001b[43mn_trials\u001b[49m\u001b[38;5;241;43m=\u001b[39;49m\u001b[43mbayopt_n_trials\u001b[49m\u001b[43m,\u001b[49m\u001b[43m \u001b[49m\u001b[43mn_jobs\u001b[49m\u001b[38;5;241;43m=\u001b[39;49m\u001b[38;5;241;43m1\u001b[39;49m\u001b[43m)\u001b[49m\n\u001b[0;32m    441\u001b[0m \u001b[38;5;66;03m# 探索のうち、一番損失が少なかった条件でのハイパーパラメータを保存\u001b[39;00m\n\u001b[0;32m    442\u001b[0m trial \u001b[38;5;241m=\u001b[39m study\u001b[38;5;241m.\u001b[39mbest_trial\n",
      "File \u001b[1;32md:\\programming\\python\\chem\\.venv\\Lib\\site-packages\\optuna\\study\\study.py:451\u001b[0m, in \u001b[0;36mStudy.optimize\u001b[1;34m(self, func, n_trials, timeout, n_jobs, catch, callbacks, gc_after_trial, show_progress_bar)\u001b[0m\n\u001b[0;32m    348\u001b[0m \u001b[38;5;28;01mdef\u001b[39;00m \u001b[38;5;21moptimize\u001b[39m(\n\u001b[0;32m    349\u001b[0m     \u001b[38;5;28mself\u001b[39m,\n\u001b[0;32m    350\u001b[0m     func: ObjectiveFuncType,\n\u001b[1;32m   (...)\u001b[0m\n\u001b[0;32m    357\u001b[0m     show_progress_bar: \u001b[38;5;28mbool\u001b[39m \u001b[38;5;241m=\u001b[39m \u001b[38;5;28;01mFalse\u001b[39;00m,\n\u001b[0;32m    358\u001b[0m ) \u001b[38;5;241m-\u001b[39m\u001b[38;5;241m>\u001b[39m \u001b[38;5;28;01mNone\u001b[39;00m:\n\u001b[0;32m    359\u001b[0m \u001b[38;5;250m    \u001b[39m\u001b[38;5;124;03m\"\"\"Optimize an objective function.\u001b[39;00m\n\u001b[0;32m    360\u001b[0m \n\u001b[0;32m    361\u001b[0m \u001b[38;5;124;03m    Optimization is done by choosing a suitable set of hyperparameter values from a given\u001b[39;00m\n\u001b[1;32m   (...)\u001b[0m\n\u001b[0;32m    449\u001b[0m \u001b[38;5;124;03m            If nested invocation of this method occurs.\u001b[39;00m\n\u001b[0;32m    450\u001b[0m \u001b[38;5;124;03m    \"\"\"\u001b[39;00m\n\u001b[1;32m--> 451\u001b[0m     \u001b[43m_optimize\u001b[49m\u001b[43m(\u001b[49m\n\u001b[0;32m    452\u001b[0m \u001b[43m        \u001b[49m\u001b[43mstudy\u001b[49m\u001b[38;5;241;43m=\u001b[39;49m\u001b[38;5;28;43mself\u001b[39;49m\u001b[43m,\u001b[49m\n\u001b[0;32m    453\u001b[0m \u001b[43m        \u001b[49m\u001b[43mfunc\u001b[49m\u001b[38;5;241;43m=\u001b[39;49m\u001b[43mfunc\u001b[49m\u001b[43m,\u001b[49m\n\u001b[0;32m    454\u001b[0m \u001b[43m        \u001b[49m\u001b[43mn_trials\u001b[49m\u001b[38;5;241;43m=\u001b[39;49m\u001b[43mn_trials\u001b[49m\u001b[43m,\u001b[49m\n\u001b[0;32m    455\u001b[0m \u001b[43m        \u001b[49m\u001b[43mtimeout\u001b[49m\u001b[38;5;241;43m=\u001b[39;49m\u001b[43mtimeout\u001b[49m\u001b[43m,\u001b[49m\n\u001b[0;32m    456\u001b[0m \u001b[43m        \u001b[49m\u001b[43mn_jobs\u001b[49m\u001b[38;5;241;43m=\u001b[39;49m\u001b[43mn_jobs\u001b[49m\u001b[43m,\u001b[49m\n\u001b[0;32m    457\u001b[0m \u001b[43m        \u001b[49m\u001b[43mcatch\u001b[49m\u001b[38;5;241;43m=\u001b[39;49m\u001b[38;5;28;43mtuple\u001b[39;49m\u001b[43m(\u001b[49m\u001b[43mcatch\u001b[49m\u001b[43m)\u001b[49m\u001b[43m \u001b[49m\u001b[38;5;28;43;01mif\u001b[39;49;00m\u001b[43m \u001b[49m\u001b[38;5;28;43misinstance\u001b[39;49m\u001b[43m(\u001b[49m\u001b[43mcatch\u001b[49m\u001b[43m,\u001b[49m\u001b[43m \u001b[49m\u001b[43mIterable\u001b[49m\u001b[43m)\u001b[49m\u001b[43m \u001b[49m\u001b[38;5;28;43;01melse\u001b[39;49;00m\u001b[43m \u001b[49m\u001b[43m(\u001b[49m\u001b[43mcatch\u001b[49m\u001b[43m,\u001b[49m\u001b[43m)\u001b[49m\u001b[43m,\u001b[49m\n\u001b[0;32m    458\u001b[0m \u001b[43m        \u001b[49m\u001b[43mcallbacks\u001b[49m\u001b[38;5;241;43m=\u001b[39;49m\u001b[43mcallbacks\u001b[49m\u001b[43m,\u001b[49m\n\u001b[0;32m    459\u001b[0m \u001b[43m        \u001b[49m\u001b[43mgc_after_trial\u001b[49m\u001b[38;5;241;43m=\u001b[39;49m\u001b[43mgc_after_trial\u001b[49m\u001b[43m,\u001b[49m\n\u001b[0;32m    460\u001b[0m \u001b[43m        \u001b[49m\u001b[43mshow_progress_bar\u001b[49m\u001b[38;5;241;43m=\u001b[39;49m\u001b[43mshow_progress_bar\u001b[49m\u001b[43m,\u001b[49m\n\u001b[0;32m    461\u001b[0m \u001b[43m    \u001b[49m\u001b[43m)\u001b[49m\n",
      "File \u001b[1;32md:\\programming\\python\\chem\\.venv\\Lib\\site-packages\\optuna\\study\\_optimize.py:66\u001b[0m, in \u001b[0;36m_optimize\u001b[1;34m(study, func, n_trials, timeout, n_jobs, catch, callbacks, gc_after_trial, show_progress_bar)\u001b[0m\n\u001b[0;32m     64\u001b[0m \u001b[38;5;28;01mtry\u001b[39;00m:\n\u001b[0;32m     65\u001b[0m     \u001b[38;5;28;01mif\u001b[39;00m n_jobs \u001b[38;5;241m==\u001b[39m \u001b[38;5;241m1\u001b[39m:\n\u001b[1;32m---> 66\u001b[0m         \u001b[43m_optimize_sequential\u001b[49m\u001b[43m(\u001b[49m\n\u001b[0;32m     67\u001b[0m \u001b[43m            \u001b[49m\u001b[43mstudy\u001b[49m\u001b[43m,\u001b[49m\n\u001b[0;32m     68\u001b[0m \u001b[43m            \u001b[49m\u001b[43mfunc\u001b[49m\u001b[43m,\u001b[49m\n\u001b[0;32m     69\u001b[0m \u001b[43m            \u001b[49m\u001b[43mn_trials\u001b[49m\u001b[43m,\u001b[49m\n\u001b[0;32m     70\u001b[0m \u001b[43m            \u001b[49m\u001b[43mtimeout\u001b[49m\u001b[43m,\u001b[49m\n\u001b[0;32m     71\u001b[0m \u001b[43m            \u001b[49m\u001b[43mcatch\u001b[49m\u001b[43m,\u001b[49m\n\u001b[0;32m     72\u001b[0m \u001b[43m            \u001b[49m\u001b[43mcallbacks\u001b[49m\u001b[43m,\u001b[49m\n\u001b[0;32m     73\u001b[0m \u001b[43m            \u001b[49m\u001b[43mgc_after_trial\u001b[49m\u001b[43m,\u001b[49m\n\u001b[0;32m     74\u001b[0m \u001b[43m            \u001b[49m\u001b[43mreseed_sampler_rng\u001b[49m\u001b[38;5;241;43m=\u001b[39;49m\u001b[38;5;28;43;01mFalse\u001b[39;49;00m\u001b[43m,\u001b[49m\n\u001b[0;32m     75\u001b[0m \u001b[43m            \u001b[49m\u001b[43mtime_start\u001b[49m\u001b[38;5;241;43m=\u001b[39;49m\u001b[38;5;28;43;01mNone\u001b[39;49;00m\u001b[43m,\u001b[49m\n\u001b[0;32m     76\u001b[0m \u001b[43m            \u001b[49m\u001b[43mprogress_bar\u001b[49m\u001b[38;5;241;43m=\u001b[39;49m\u001b[43mprogress_bar\u001b[49m\u001b[43m,\u001b[49m\n\u001b[0;32m     77\u001b[0m \u001b[43m        \u001b[49m\u001b[43m)\u001b[49m\n\u001b[0;32m     78\u001b[0m     \u001b[38;5;28;01melse\u001b[39;00m:\n\u001b[0;32m     79\u001b[0m         \u001b[38;5;28;01mif\u001b[39;00m n_jobs \u001b[38;5;241m==\u001b[39m \u001b[38;5;241m-\u001b[39m\u001b[38;5;241m1\u001b[39m:\n",
      "File \u001b[1;32md:\\programming\\python\\chem\\.venv\\Lib\\site-packages\\optuna\\study\\_optimize.py:163\u001b[0m, in \u001b[0;36m_optimize_sequential\u001b[1;34m(study, func, n_trials, timeout, catch, callbacks, gc_after_trial, reseed_sampler_rng, time_start, progress_bar)\u001b[0m\n\u001b[0;32m    160\u001b[0m         \u001b[38;5;28;01mbreak\u001b[39;00m\n\u001b[0;32m    162\u001b[0m \u001b[38;5;28;01mtry\u001b[39;00m:\n\u001b[1;32m--> 163\u001b[0m     frozen_trial \u001b[38;5;241m=\u001b[39m \u001b[43m_run_trial\u001b[49m\u001b[43m(\u001b[49m\u001b[43mstudy\u001b[49m\u001b[43m,\u001b[49m\u001b[43m \u001b[49m\u001b[43mfunc\u001b[49m\u001b[43m,\u001b[49m\u001b[43m \u001b[49m\u001b[43mcatch\u001b[49m\u001b[43m)\u001b[49m\n\u001b[0;32m    164\u001b[0m \u001b[38;5;28;01mfinally\u001b[39;00m:\n\u001b[0;32m    165\u001b[0m     \u001b[38;5;66;03m# The following line mitigates memory problems that can be occurred in some\u001b[39;00m\n\u001b[0;32m    166\u001b[0m     \u001b[38;5;66;03m# environments (e.g., services that use computing containers such as GitHub Actions).\u001b[39;00m\n\u001b[0;32m    167\u001b[0m     \u001b[38;5;66;03m# Please refer to the following PR for further details:\u001b[39;00m\n\u001b[0;32m    168\u001b[0m     \u001b[38;5;66;03m# https://github.com/optuna/optuna/pull/325.\u001b[39;00m\n\u001b[0;32m    169\u001b[0m     \u001b[38;5;28;01mif\u001b[39;00m gc_after_trial:\n",
      "File \u001b[1;32md:\\programming\\python\\chem\\.venv\\Lib\\site-packages\\optuna\\study\\_optimize.py:251\u001b[0m, in \u001b[0;36m_run_trial\u001b[1;34m(study, func, catch)\u001b[0m\n\u001b[0;32m    244\u001b[0m         \u001b[38;5;28;01massert\u001b[39;00m \u001b[38;5;28;01mFalse\u001b[39;00m, \u001b[38;5;124m\"\u001b[39m\u001b[38;5;124mShould not reach.\u001b[39m\u001b[38;5;124m\"\u001b[39m\n\u001b[0;32m    246\u001b[0m \u001b[38;5;28;01mif\u001b[39;00m (\n\u001b[0;32m    247\u001b[0m     frozen_trial\u001b[38;5;241m.\u001b[39mstate \u001b[38;5;241m==\u001b[39m TrialState\u001b[38;5;241m.\u001b[39mFAIL\n\u001b[0;32m    248\u001b[0m     \u001b[38;5;129;01mand\u001b[39;00m func_err \u001b[38;5;129;01mis\u001b[39;00m \u001b[38;5;129;01mnot\u001b[39;00m \u001b[38;5;28;01mNone\u001b[39;00m\n\u001b[0;32m    249\u001b[0m     \u001b[38;5;129;01mand\u001b[39;00m \u001b[38;5;129;01mnot\u001b[39;00m \u001b[38;5;28misinstance\u001b[39m(func_err, catch)\n\u001b[0;32m    250\u001b[0m ):\n\u001b[1;32m--> 251\u001b[0m     \u001b[38;5;28;01mraise\u001b[39;00m func_err\n\u001b[0;32m    252\u001b[0m \u001b[38;5;28;01mreturn\u001b[39;00m frozen_trial\n",
      "File \u001b[1;32md:\\programming\\python\\chem\\.venv\\Lib\\site-packages\\optuna\\study\\_optimize.py:200\u001b[0m, in \u001b[0;36m_run_trial\u001b[1;34m(study, func, catch)\u001b[0m\n\u001b[0;32m    198\u001b[0m \u001b[38;5;28;01mwith\u001b[39;00m get_heartbeat_thread(trial\u001b[38;5;241m.\u001b[39m_trial_id, study\u001b[38;5;241m.\u001b[39m_storage):\n\u001b[0;32m    199\u001b[0m     \u001b[38;5;28;01mtry\u001b[39;00m:\n\u001b[1;32m--> 200\u001b[0m         value_or_values \u001b[38;5;241m=\u001b[39m \u001b[43mfunc\u001b[49m\u001b[43m(\u001b[49m\u001b[43mtrial\u001b[49m\u001b[43m)\u001b[49m\n\u001b[0;32m    201\u001b[0m     \u001b[38;5;28;01mexcept\u001b[39;00m exceptions\u001b[38;5;241m.\u001b[39mTrialPruned \u001b[38;5;28;01mas\u001b[39;00m e:\n\u001b[0;32m    202\u001b[0m         \u001b[38;5;66;03m# TODO(mamu): Handle multi-objective cases.\u001b[39;00m\n\u001b[0;32m    203\u001b[0m         state \u001b[38;5;241m=\u001b[39m TrialState\u001b[38;5;241m.\u001b[39mPRUNED\n",
      "File \u001b[1;32md:\\programming\\python\\chem\\prediction\\SMILES-X\\src\\train.py:419\u001b[0m, in \u001b[0;36mbayopt_trainer.<locals>.objective\u001b[1;34m(trial)\u001b[0m\n\u001b[0;32m    408\u001b[0m trainer \u001b[38;5;241m=\u001b[39m L\u001b[38;5;241m.\u001b[39mTrainer(\n\u001b[0;32m    409\u001b[0m     max_epochs\u001b[38;5;241m=\u001b[39mbayopt_n_epochs,\n\u001b[0;32m    410\u001b[0m     precision\u001b[38;5;241m=\u001b[39mprecision,\n\u001b[1;32m   (...)\u001b[0m\n\u001b[0;32m    416\u001b[0m     deterministic\u001b[38;5;241m=\u001b[39m\u001b[38;5;28;01mTrue\u001b[39;00m,\n\u001b[0;32m    417\u001b[0m )\n\u001b[0;32m    418\u001b[0m trainer\u001b[38;5;241m.\u001b[39mfit(opt_model, datamodule\u001b[38;5;241m=\u001b[39mdata_module)\n\u001b[1;32m--> 419\u001b[0m loss \u001b[38;5;241m=\u001b[39m \u001b[43mtrainer\u001b[49m\u001b[38;5;241;43m.\u001b[39;49m\u001b[43mlogged_metrics\u001b[49m\u001b[43m[\u001b[49m\u001b[38;5;124;43m\"\u001b[39;49m\u001b[38;5;124;43mvalid_loss\u001b[39;49m\u001b[38;5;124;43m\"\u001b[39;49m\u001b[43m]\u001b[49m\n\u001b[0;32m    420\u001b[0m r2 \u001b[38;5;241m=\u001b[39m trainer\u001b[38;5;241m.\u001b[39mlogged_metrics[\u001b[38;5;124m\"\u001b[39m\u001b[38;5;124mvalid_r2\u001b[39m\u001b[38;5;124m\"\u001b[39m]\n\u001b[0;32m    421\u001b[0m \u001b[38;5;28;01mif\u001b[39;00m BayOptLoss\u001b[38;5;241m.\u001b[39mloss \u001b[38;5;129;01mis\u001b[39;00m \u001b[38;5;28;01mNone\u001b[39;00m:\n",
      "\u001b[1;31mKeyError\u001b[0m: 'valid_loss'"
     ]
    }
   ],
   "source": [
    "import os\n",
    "\n",
    "from src import train\n",
    "\n",
    "data_name = \"FreeSolv\"\n",
    "config_filepath = os.path.join(\"configs\", f\"{data_name}.yaml\")\n",
    "\n",
    "train.run(\n",
    "    config_filepath,\n",
    "    n_gpus=1,\n",
    ")"
   ]
  },
  {
   "cell_type": "code",
   "execution_count": null,
   "metadata": {},
   "outputs": [],
   "source": []
  }
 ],
 "metadata": {
  "kernelspec": {
   "display_name": ".venv",
   "language": "python",
   "name": "python3"
  },
  "language_info": {
   "codemirror_mode": {
    "name": "ipython",
    "version": 3
   },
   "file_extension": ".py",
   "mimetype": "text/x-python",
   "name": "python",
   "nbconvert_exporter": "python",
   "pygments_lexer": "ipython3",
   "version": "3.11.8"
  }
 },
 "nbformat": 4,
 "nbformat_minor": 2
}
