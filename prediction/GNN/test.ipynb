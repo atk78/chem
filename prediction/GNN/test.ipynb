{
 "cells": [
  {
   "cell_type": "code",
   "execution_count": 2,
   "metadata": {},
   "outputs": [],
   "source": [
    "import os\n",
    "from src.models.LSTMAttention import LightningModel\n",
    "\n",
    "\n",
    "train_dir = \"outputs/Tg_2000\"\n",
    "model = LightningModel.load_from_checkpoint(\n",
    "    checkpoint_path=os.path.join(train_dir, \"best_weights.ckpt\"),\n",
    "    hparams_file=os.path.join(train_dir, \"training/version_0/hparams.yaml\")\n",
    ")"
   ]
  },
  {
   "cell_type": "code",
   "execution_count": null,
   "metadata": {},
   "outputs": [],
   "source": []
  }
 ],
 "metadata": {
  "kernelspec": {
   "display_name": ".venv",
   "language": "python",
   "name": "python3"
  },
  "language_info": {
   "codemirror_mode": {
    "name": "ipython",
    "version": 3
   },
   "file_extension": ".py",
   "mimetype": "text/x-python",
   "name": "python",
   "nbconvert_exporter": "python",
   "pygments_lexer": "ipython3",
   "version": "3.11.8"
  }
 },
 "nbformat": 4,
 "nbformat_minor": 2
}
