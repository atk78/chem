{
 "cells": [
  {
   "cell_type": "code",
   "execution_count": 1,
   "metadata": {},
   "outputs": [
    {
     "data": {
      "text/plain": [
       "array(['CCCC', 'C(CC)C', 'C(C)CC', 'c1ccccc1CC', 'c1cccc(CC)c1',\n",
       "       'c1ccc(CC)cc1', 'c1cc(CC)ccc1', 'c1c(CC)cccc1', 'c1(CC)ccccc1',\n",
       "       'C(C)c1ccccc1', 'CCc1ccccc1',\n",
       "       'OC/C=C/C#CC#C/C=C/C=C/CC[C@@H](CCC)O',\n",
       "       'C(/C=C/C#CC#C/C=C/CO)=C\\\\CC[C@@H](CCC)O',\n",
       "       'C(/C=C/C=C/C#CC#C/C=C/CO)C[C@@H](CCC)O',\n",
       "       'O[C@@H](CC/C=C/C=C/C#CC#C/C=C/CO)CCC',\n",
       "       'C([C@@H](O)CC/C=C/C=C/C#CC#C/C=C/CO)CC',\n",
       "       'C(#CC#C/C=C/CO)/C=C/C=C/CC[C@@H](CCC)O',\n",
       "       'C(\\\\C#CC#C/C=C/CO)=C/C=C/CC[C@@H](CCC)O',\n",
       "       '[C@H](O)(CC/C=C/C=C/C#CC#C/C=C/CO)CCC',\n",
       "       'C(/C=C/CO)#CC#C/C=C/C=C/CC[C@@H](CCC)O',\n",
       "       'C(#C/C=C/CO)C#C/C=C/C=C/CC[C@@H](CCC)O'], dtype='<U38')"
      ]
     },
     "execution_count": 1,
     "metadata": {},
     "output_type": "execute_result"
    }
   ],
   "source": [
    "import yaml\n",
    "from src.features import augm, mol2graph\n",
    "import numpy as np\n",
    "\n",
    "config = yaml.safe_load(open(\"configs/test.yaml\", mode=\"r\"))\n",
    "augmentation = True\n",
    "computable_atoms = config[\"computable_atoms\"]\n",
    "chirality = config[\"chirality\"]\n",
    "stereochemistry = config[\"stereochemistry\"]\n",
    "\n",
    "smiles = np.array([\"CCCC\", \"c1ccccc1CC\", \"CCC[C@@H](O)CC\\C=C\\C=C\\C#CC#C\\C=C\\CO\"])\n",
    "y = np.array([100, 200, 300])\n",
    "\n",
    "\n",
    "smiles, enum_card_train, y = augm.augment_data(\n",
    "    smiles, y, augmentation\n",
    ")\n",
    "smiles"
   ]
  },
  {
   "cell_type": "code",
   "execution_count": 2,
   "metadata": {},
   "outputs": [
    {
     "data": {
      "text/plain": [
       "[3, 8, 10]"
      ]
     },
     "execution_count": 2,
     "metadata": {},
     "output_type": "execute_result"
    }
   ],
   "source": [
    "enum_card_train"
   ]
  },
  {
   "cell_type": "code",
   "execution_count": 3,
   "metadata": {},
   "outputs": [
    {
     "data": {
      "image/png": "[encoded data removed]",
      "text/plain": [
       "<rdkit.Chem.rdchem.Mol at 0x1debe74b530>"
      ]
     },
     "execution_count": 3,
     "metadata": {},
     "output_type": "execute_result"
    }
   ],
   "source": [
    "from rdkit import Chem\n",
    "\n",
    "mol1 = Chem.MolFromSmiles(smiles[0])\n",
    "for atom in mol1.GetAtoms():\n",
    "    atom.SetProp(\"atomLabel\", str(atom.GetIdx()))\n",
    "mol1"
   ]
  },
  {
   "cell_type": "code",
   "execution_count": 4,
   "metadata": {},
   "outputs": [
    {
     "data": {
      "image/png": "[encoded data removed]",
      "text/plain": [
       "<rdkit.Chem.rdchem.Mol at 0x1debe74b760>"
      ]
     },
     "execution_count": 4,
     "metadata": {},
     "output_type": "execute_result"
    }
   ],
   "source": [
    "mol2 = Chem.MolFromSmiles(smiles[2])\n",
    "for atom in mol2.GetAtoms():\n",
    "    atom.SetProp(\"atomLabel\", str(atom.GetIdx()))\n",
    "mol2"
   ]
  },
  {
   "cell_type": "code",
   "execution_count": 5,
   "metadata": {},
   "outputs": [
    {
     "data": {
      "text/plain": [
       "rdkit.Chem.rdchem.BondType.SINGLE"
      ]
     },
     "execution_count": 5,
     "metadata": {},
     "output_type": "execute_result"
    }
   ],
   "source": [
    "bond = mol2.GetBondBetweenAtoms(0, 1)\n",
    "bond.GetBondType()"
   ]
  },
  {
   "cell_type": "code",
   "execution_count": 6,
   "metadata": {},
   "outputs": [
    {
     "data": {
      "text/plain": [
       "44"
      ]
     },
     "execution_count": 6,
     "metadata": {},
     "output_type": "execute_result"
    }
   ],
   "source": [
    "\n",
    "graph = mol2graph.get_graph_vectors(smiles, y, computable_atoms, poly_flag=False)\n",
    "graph\n",
    "len(graph[0].x[0])"
   ]
  },
  {
   "cell_type": "code",
   "execution_count": 7,
   "metadata": {},
   "outputs": [
    {
     "name": "stdout",
     "output_type": "stream",
     "text": [
      "<class 'torch_geometric.data.batch.DataBatch'>\n",
      "DataBatch(x=[12, 44], edge_index=[2, 18], edge_attr=[18, 9], y=[3], batch=[12], ptr=[4])\n",
      "tensor([100., 100., 100.])\n",
      "tensor([ 0,  4,  8, 12])\n",
      "<class 'torch_geometric.data.batch.DataBatch'>\n",
      "DataBatch(x=[24, 44], edge_index=[2, 48], edge_attr=[48, 9], y=[3], batch=[24], ptr=[4])\n",
      "tensor([200., 200., 200.])\n",
      "tensor([ 0,  8, 16, 24])\n",
      "<class 'torch_geometric.data.batch.DataBatch'>\n",
      "DataBatch(x=[24, 44], edge_index=[2, 48], edge_attr=[48, 9], y=[3], batch=[24], ptr=[4])\n",
      "tensor([200., 200., 200.])\n",
      "tensor([ 0,  8, 16, 24])\n",
      "<class 'torch_geometric.data.batch.DataBatch'>\n",
      "DataBatch(x=[35, 44], edge_index=[2, 68], edge_attr=[68, 9], y=[3], batch=[35], ptr=[4])\n",
      "tensor([200., 200., 300.])\n",
      "tensor([ 0,  8, 16, 35])\n",
      "<class 'torch_geometric.data.batch.DataBatch'>\n",
      "DataBatch(x=[57, 44], edge_index=[2, 108], edge_attr=[108, 9], y=[3], batch=[57], ptr=[4])\n",
      "tensor([300., 300., 300.])\n",
      "tensor([ 0, 19, 38, 57])\n",
      "<class 'torch_geometric.data.batch.DataBatch'>\n",
      "DataBatch(x=[57, 44], edge_index=[2, 108], edge_attr=[108, 9], y=[3], batch=[57], ptr=[4])\n",
      "tensor([300., 300., 300.])\n",
      "tensor([ 0, 19, 38, 57])\n",
      "<class 'torch_geometric.data.batch.DataBatch'>\n",
      "DataBatch(x=[57, 44], edge_index=[2, 108], edge_attr=[108, 9], y=[3], batch=[57], ptr=[4])\n",
      "tensor([300., 300., 300.])\n",
      "tensor([ 0, 19, 38, 57])\n"
     ]
    }
   ],
   "source": [
    "# from torch.utils.data import Dat\n",
    "from torch_geometric.loader import DataLoader\n",
    "\n",
    "\n",
    "for i in DataLoader(graph, batch_size=3):\n",
    "    print(type(i))\n",
    "    print(i)\n",
    "    print(i.y)\n",
    "    print(i.ptr)"
   ]
  },
  {
   "cell_type": "code",
   "execution_count": 8,
   "metadata": {},
   "outputs": [
    {
     "data": {
      "text/plain": [
       "Data(x=[4, 44], edge_index=[2, 6], edge_attr=[6, 9], y=[1])"
      ]
     },
     "execution_count": 8,
     "metadata": {},
     "output_type": "execute_result"
    }
   ],
   "source": [
    "graph[0]"
   ]
  },
  {
   "cell_type": "code",
   "execution_count": null,
   "metadata": {},
   "outputs": [],
   "source": []
  }
 ],
 "metadata": {
  "kernelspec": {
   "display_name": ".venv",
   "language": "python",
   "name": "python3"
  },
  "language_info": {
   "codemirror_mode": {
    "name": "ipython",
    "version": 3
   },
   "file_extension": ".py",
   "mimetype": "text/x-python",
   "name": "python",
   "nbconvert_exporter": "python",
   "pygments_lexer": "ipython3",
   "version": "3.11.8"
  }
 },
 "nbformat": 4,
 "nbformat_minor": 2
}
