{
 "cells": [
  {
   "cell_type": "code",
   "execution_count": 1,
   "metadata": {},
   "outputs": [
    {
     "data": {
      "text/html": [
       "<div>\n",
       "<style scoped>\n",
       "    .dataframe tbody tr th:only-of-type {\n",
       "        vertical-align: middle;\n",
       "    }\n",
       "\n",
       "    .dataframe tbody tr th {\n",
       "        vertical-align: top;\n",
       "    }\n",
       "\n",
       "    .dataframe thead th {\n",
       "        text-align: right;\n",
       "    }\n",
       "</style>\n",
       "<table border=\"1\" class=\"dataframe\">\n",
       "  <thead>\n",
       "    <tr style=\"text-align: right;\">\n",
       "      <th></th>\n",
       "      <th>smiles</th>\n",
       "      <th>tg</th>\n",
       "    </tr>\n",
       "  </thead>\n",
       "  <tbody>\n",
       "    <tr>\n",
       "      <th>0</th>\n",
       "      <td>*C*</td>\n",
       "      <td>-120.0</td>\n",
       "    </tr>\n",
       "    <tr>\n",
       "      <th>1</th>\n",
       "      <td>*CC*</td>\n",
       "      <td>-120.0</td>\n",
       "    </tr>\n",
       "    <tr>\n",
       "      <th>2</th>\n",
       "      <td>*CC(*)C</td>\n",
       "      <td>-3.0</td>\n",
       "    </tr>\n",
       "    <tr>\n",
       "      <th>3</th>\n",
       "      <td>*CC(*)CC</td>\n",
       "      <td>-24.1</td>\n",
       "    </tr>\n",
       "    <tr>\n",
       "      <th>4</th>\n",
       "      <td>*CC(*)CCC</td>\n",
       "      <td>-37.0</td>\n",
       "    </tr>\n",
       "    <tr>\n",
       "      <th>...</th>\n",
       "      <td>...</td>\n",
       "      <td>...</td>\n",
       "    </tr>\n",
       "    <tr>\n",
       "      <th>995</th>\n",
       "      <td>*Oc1ccc(C(C)(C)c2cccc(C(C)(C)c3ccc(Oc4ccc(C(=O...</td>\n",
       "      <td>149.0</td>\n",
       "    </tr>\n",
       "    <tr>\n",
       "      <th>996</th>\n",
       "      <td>*Oc1ccc(Oc2ccc(NC(=O)c3ccc(Oc4ccc(C(C)(C)c5ccc...</td>\n",
       "      <td>147.0</td>\n",
       "    </tr>\n",
       "    <tr>\n",
       "      <th>997</th>\n",
       "      <td>*Oc1ccc(NC(=O)c2ccc(Oc3ccc(C(C)(C)c4cccc(C(C)(...</td>\n",
       "      <td>147.0</td>\n",
       "    </tr>\n",
       "    <tr>\n",
       "      <th>998</th>\n",
       "      <td>*Oc1ccc(NC(=O)c2ccc(Oc3ccc(C(C)(C)c4cccc(C(C)(...</td>\n",
       "      <td>167.0</td>\n",
       "    </tr>\n",
       "    <tr>\n",
       "      <th>999</th>\n",
       "      <td>*Oc1ccc(S(=O)(=O)c2ccc(Oc3ccc(NC(=O)c4ccc(Oc5c...</td>\n",
       "      <td>167.0</td>\n",
       "    </tr>\n",
       "  </tbody>\n",
       "</table>\n",
       "<p>1000 rows × 2 columns</p>\n",
       "</div>"
      ],
      "text/plain": [
       "                                                smiles     tg\n",
       "0                                                  *C* -120.0\n",
       "1                                                 *CC* -120.0\n",
       "2                                              *CC(*)C   -3.0\n",
       "3                                             *CC(*)CC  -24.1\n",
       "4                                            *CC(*)CCC  -37.0\n",
       "..                                                 ...    ...\n",
       "995  *Oc1ccc(C(C)(C)c2cccc(C(C)(C)c3ccc(Oc4ccc(C(=O...  149.0\n",
       "996  *Oc1ccc(Oc2ccc(NC(=O)c3ccc(Oc4ccc(C(C)(C)c5ccc...  147.0\n",
       "997  *Oc1ccc(NC(=O)c2ccc(Oc3ccc(C(C)(C)c4cccc(C(C)(...  147.0\n",
       "998  *Oc1ccc(NC(=O)c2ccc(Oc3ccc(C(C)(C)c4cccc(C(C)(...  167.0\n",
       "999  *Oc1ccc(S(=O)(=O)c2ccc(Oc3ccc(NC(=O)c4ccc(Oc5c...  167.0\n",
       "\n",
       "[1000 rows x 2 columns]"
      ]
     },
     "execution_count": 1,
     "metadata": {},
     "output_type": "execute_result"
    }
   ],
   "source": [
    "import pandas as pd\n",
    "from SMILESX import train\n",
    "\n",
    "\n",
    "file_path = \"./data/processed/Tg.csv\"\n",
    "prop = \"tg\"\n",
    "augmentation = True\n",
    "outdir = \"outputs/\"\n",
    "data_name = \"Tg_test\"\n",
    "\n",
    "bayopt_bounds = {\n",
    "    \"lstm_units\": [3, 7],\n",
    "    \"dense_units\": [3, 7],\n",
    "    \"embedding_dim\": [3, 7],\n",
    "    \"batch_size\": [5, 8],\n",
    "    \"learning_rate\": [1e-4, 5*1e-1],\n",
    "}\n",
    "data = pd.read_csv(file_path)\n",
    "data = data[[\"smiles\", prop]].iloc[:1000, :]\n",
    "data"
   ]
  },
  {
   "cell_type": "code",
   "execution_count": 2,
   "metadata": {},
   "outputs": [
    {
     "name": "stdout",
     "output_type": "stream",
     "text": [
      "***Sampling and splitting of the dataset.***\n",
      "\n",
      "Train/valid/test splits: 0.80/0.10/0.10\n",
      "\n",
      "\n",
      "Setup Polymer Tokens.\n",
      "***Data augmentation is True***\n",
      "\n",
      "Enumerated SMILES:\n",
      "Number of tokens only present in a training set:35\n",
      "\n",
      "Number of tokens only present in a validation set27\n",
      "Is the validation set a subset of the training set:True\n",
      "What are the tokens by which they differ:set()\n",
      "\n",
      "Number of tokens only present in a test set:31\n",
      "Is the test set a subset of the training set:True\n",
      "What are the tokens by which they differ:set()\n",
      "Is the test set a subset of the validation set:False\n",
      "What are the tokens by which they differ:{'o', '7', '8', 's'}\n",
      "\n",
      "Full vocabulary: ['O', '#', 'F', '4', '8', '-', '%10', 'S', 'o', '6', ')', 'n', '\\\\', '*', '(', 'N', '3', '[O-]', 'I', ' ', '[N+]', '2', 'C', 'P', 'Cl', '=', '/', '9', '1', 's', '5', '%11', 'Br', 'c', '7']\n",
      "Of size: 35\n",
      "\n",
      "Maximum length of tokenized SMILES: 147 tokens (termination spaces included)\n",
      "\n"
     ]
    },
    {
     "name": "stderr",
     "output_type": "stream",
     "text": [
      "[I 2024-03-06 14:32:34,378] A new study created in memory with name: no-name-32c7888e-4708-468e-b801-cc4b1dba41d2\n",
      "GPU available: True (cuda), used: True\n",
      "TPU available: False, using: 0 TPU cores\n",
      "IPU available: False, using: 0 IPUs\n",
      "HPU available: False, using: 0 HPUs\n",
      "You are using a CUDA device ('NVIDIA GeForce RTX 4060 Ti') that has Tensor Cores. To properly utilize them, you should set `torch.set_float32_matmul_precision('medium' | 'high')` which will trade-off precision for performance. For more details, read https://pytorch.org/docs/stable/generated/torch.set_float32_matmul_precision.html#torch.set_float32_matmul_precision\n",
      "LOCAL_RANK: 0 - CUDA_VISIBLE_DEVICES: [0]\n",
      "\n",
      "  | Name          | Type             | Params\n",
      "---------------------------------------------------\n",
      "0 | model         | LSTMAttention    | 27.9 K\n",
      "1 | train_metrics | MetricCollection | 0     \n",
      "2 | valid_metrics | MetricCollection | 0     \n",
      "---------------------------------------------------\n",
      "27.9 K    Trainable params\n",
      "0         Non-trainable params\n",
      "27.9 K    Total params\n",
      "0.112     Total estimated model params size (MB)\n"
     ]
    },
    {
     "data": {
      "application/vnd.jupyter.widget-view+json": {
       "model_id": "720af91f8efc4a059ca4772eef8f7249",
       "version_major": 2,
       "version_minor": 0
      },
      "text/plain": [
       "Sanity Checking: |          | 0/? [00:00<?, ?it/s]"
      ]
     },
     "metadata": {},
     "output_type": "display_data"
    },
    {
     "data": {
      "application/vnd.jupyter.widget-view+json": {
       "model_id": "bc73a40e0aea4245a7b971016919a8b2",
       "version_major": 2,
       "version_minor": 0
      },
      "text/plain": [
       "Training: |          | 0/? [00:00<?, ?it/s]"
      ]
     },
     "metadata": {},
     "output_type": "display_data"
    },
    {
     "name": "stderr",
     "output_type": "stream",
     "text": [
      "`Trainer.fit` stopped: `max_epochs=5` reached.\n",
      "[I 2024-03-06 14:32:51,544] Trial 0 finished with value: 51.5510139465332 and parameters: {'n_lstm_units': 3, 'n_dense_units': 3, 'n_embedding_dim': 7, 'n_batch_size': 7, 'learning_rate': 0.04160873400322772}. Best is trial 0 with value: 51.5510139465332.\n",
      "GPU available: True (cuda), used: True\n",
      "TPU available: False, using: 0 TPU cores\n",
      "IPU available: False, using: 0 IPUs\n",
      "HPU available: False, using: 0 HPUs\n",
      "LOCAL_RANK: 0 - CUDA_VISIBLE_DEVICES: [0]\n",
      "\n",
      "  | Name          | Type             | Params\n",
      "---------------------------------------------------\n",
      "0 | model         | LSTMAttention    | 4.3 K \n",
      "1 | train_metrics | MetricCollection | 0     \n",
      "2 | valid_metrics | MetricCollection | 0     \n",
      "---------------------------------------------------\n",
      "4.3 K     Trainable params\n",
      "0         Non-trainable params\n",
      "4.3 K     Total params\n",
      "0.017     Total estimated model params size (MB)\n"
     ]
    },
    {
     "data": {
      "application/vnd.jupyter.widget-view+json": {
       "model_id": "3cb6134896374007b48f468917dbc883",
       "version_major": 2,
       "version_minor": 0
      },
      "text/plain": [
       "Sanity Checking: |          | 0/? [00:00<?, ?it/s]"
      ]
     },
     "metadata": {},
     "output_type": "display_data"
    },
    {
     "data": {
      "application/vnd.jupyter.widget-view+json": {
       "model_id": "3f90a3a4725841029e43a00c22f96855",
       "version_major": 2,
       "version_minor": 0
      },
      "text/plain": [
       "Training: |          | 0/? [00:00<?, ?it/s]"
      ]
     },
     "metadata": {},
     "output_type": "display_data"
    },
    {
     "name": "stderr",
     "output_type": "stream",
     "text": [
      "`Trainer.fit` stopped: `max_epochs=5` reached.\n",
      "[I 2024-03-06 14:33:16,927] Trial 1 finished with value: 52.13346862792969 and parameters: {'n_lstm_units': 3, 'n_dense_units': 4, 'n_embedding_dim': 4, 'n_batch_size': 5, 'learning_rate': 0.42653374606822647}. Best is trial 0 with value: 51.5510139465332.\n",
      "GPU available: True (cuda), used: True\n",
      "TPU available: False, using: 0 TPU cores\n",
      "IPU available: False, using: 0 IPUs\n",
      "HPU available: False, using: 0 HPUs\n",
      "LOCAL_RANK: 0 - CUDA_VISIBLE_DEVICES: [0]\n",
      "\n",
      "  | Name          | Type             | Params\n",
      "---------------------------------------------------\n",
      "0 | model         | LSTMAttention    | 299 K \n",
      "1 | train_metrics | MetricCollection | 0     \n",
      "2 | valid_metrics | MetricCollection | 0     \n",
      "---------------------------------------------------\n",
      "299 K     Trainable params\n",
      "0         Non-trainable params\n",
      "299 K     Total params\n",
      "1.199     Total estimated model params size (MB)\n"
     ]
    },
    {
     "data": {
      "application/vnd.jupyter.widget-view+json": {
       "model_id": "1f4c05b4ffcd49b0930fdabf2771e00e",
       "version_major": 2,
       "version_minor": 0
      },
      "text/plain": [
       "Sanity Checking: |          | 0/? [00:00<?, ?it/s]"
      ]
     },
     "metadata": {},
     "output_type": "display_data"
    },
    {
     "data": {
      "application/vnd.jupyter.widget-view+json": {
       "model_id": "318681bff0ec4041b31cb2938e423a8f",
       "version_major": 2,
       "version_minor": 0
      },
      "text/plain": [
       "Training: |          | 0/? [00:00<?, ?it/s]"
      ]
     },
     "metadata": {},
     "output_type": "display_data"
    },
    {
     "name": "stderr",
     "output_type": "stream",
     "text": [
      "`Trainer.fit` stopped: `max_epochs=5` reached.\n",
      "[I 2024-03-06 14:33:42,298] Trial 2 finished with value: 24.429943084716797 and parameters: {'n_lstm_units': 7, 'n_dense_units': 6, 'n_embedding_dim': 7, 'n_batch_size': 5, 'learning_rate': 0.0012888325493054026}. Best is trial 2 with value: 24.429943084716797.\n",
      "GPU available: True (cuda), used: True\n",
      "TPU available: False, using: 0 TPU cores\n",
      "IPU available: False, using: 0 IPUs\n",
      "HPU available: False, using: 0 HPUs\n",
      "LOCAL_RANK: 0 - CUDA_VISIBLE_DEVICES: [0]\n",
      "\n",
      "  | Name          | Type             | Params\n",
      "---------------------------------------------------\n",
      "0 | model         | LSTMAttention    | 28.4 K\n",
      "1 | train_metrics | MetricCollection | 0     \n",
      "2 | valid_metrics | MetricCollection | 0     \n",
      "---------------------------------------------------\n",
      "28.4 K    Trainable params\n",
      "0         Non-trainable params\n",
      "28.4 K    Total params\n",
      "0.114     Total estimated model params size (MB)\n"
     ]
    },
    {
     "data": {
      "application/vnd.jupyter.widget-view+json": {
       "model_id": "ab190002cf1247dfa7ef54e45943252e",
       "version_major": 2,
       "version_minor": 0
      },
      "text/plain": [
       "Sanity Checking: |          | 0/? [00:00<?, ?it/s]"
      ]
     },
     "metadata": {},
     "output_type": "display_data"
    },
    {
     "data": {
      "application/vnd.jupyter.widget-view+json": {
       "model_id": "769716fb1fca41d0a5f919262f3d99e5",
       "version_major": 2,
       "version_minor": 0
      },
      "text/plain": [
       "Training: |          | 0/? [00:00<?, ?it/s]"
      ]
     },
     "metadata": {},
     "output_type": "display_data"
    },
    {
     "name": "stderr",
     "output_type": "stream",
     "text": [
      "`Trainer.fit` stopped: `max_epochs=5` reached.\n",
      "[I 2024-03-06 14:33:57,928] Trial 3 finished with value: 38.30659866333008 and parameters: {'n_lstm_units': 3, 'n_dense_units': 5, 'n_embedding_dim': 7, 'n_batch_size': 7, 'learning_rate': 0.006104620344956576}. Best is trial 2 with value: 24.429943084716797.\n",
      "GPU available: True (cuda), used: True\n",
      "TPU available: False, using: 0 TPU cores\n",
      "IPU available: False, using: 0 IPUs\n",
      "HPU available: False, using: 0 HPUs\n",
      "LOCAL_RANK: 0 - CUDA_VISIBLE_DEVICES: [0]\n",
      "\n",
      "  | Name          | Type             | Params\n",
      "---------------------------------------------------\n",
      "0 | model         | LSTMAttention    | 153 K \n",
      "1 | train_metrics | MetricCollection | 0     \n",
      "2 | valid_metrics | MetricCollection | 0     \n",
      "---------------------------------------------------\n",
      "153 K     Trainable params\n",
      "0         Non-trainable params\n",
      "153 K     Total params\n",
      "0.616     Total estimated model params size (MB)\n"
     ]
    },
    {
     "data": {
      "application/vnd.jupyter.widget-view+json": {
       "model_id": "32e20e4360ff473892e554ef348ac2a4",
       "version_major": 2,
       "version_minor": 0
      },
      "text/plain": [
       "Sanity Checking: |          | 0/? [00:00<?, ?it/s]"
      ]
     },
     "metadata": {},
     "output_type": "display_data"
    },
    {
     "data": {
      "application/vnd.jupyter.widget-view+json": {
       "model_id": "40da046e936f4e778bd669d0e8047377",
       "version_major": 2,
       "version_minor": 0
      },
      "text/plain": [
       "Training: |          | 0/? [00:00<?, ?it/s]"
      ]
     },
     "metadata": {},
     "output_type": "display_data"
    },
    {
     "name": "stderr",
     "output_type": "stream",
     "text": [
      "`Trainer.fit` stopped: `max_epochs=5` reached.\n",
      "[I 2024-03-06 14:34:16,926] Trial 4 finished with value: 51.815914154052734 and parameters: {'n_lstm_units': 7, 'n_dense_units': 3, 'n_embedding_dim': 4, 'n_batch_size': 7, 'learning_rate': 0.0006831814165069435}. Best is trial 2 with value: 24.429943084716797.\n",
      "GPU available: True (cuda), used: True\n",
      "TPU available: False, using: 0 TPU cores\n",
      "IPU available: False, using: 0 IPUs\n",
      "HPU available: False, using: 0 HPUs\n",
      "LOCAL_RANK: 0 - CUDA_VISIBLE_DEVICES: [0]\n",
      "\n",
      "  | Name          | Type             | Params\n",
      "---------------------------------------------------\n",
      "0 | model         | LSTMAttention    | 69.0 K\n",
      "1 | train_metrics | MetricCollection | 0     \n",
      "2 | valid_metrics | MetricCollection | 0     \n",
      "---------------------------------------------------\n",
      "69.0 K    Trainable params\n",
      "0         Non-trainable params\n",
      "69.0 K    Total params\n",
      "0.276     Total estimated model params size (MB)\n"
     ]
    },
    {
     "data": {
      "application/vnd.jupyter.widget-view+json": {
       "model_id": "61e6817ae8d445f1bbbe39c70b4e85be",
       "version_major": 2,
       "version_minor": 0
      },
      "text/plain": [
       "Sanity Checking: |          | 0/? [00:00<?, ?it/s]"
      ]
     },
     "metadata": {},
     "output_type": "display_data"
    },
    {
     "data": {
      "application/vnd.jupyter.widget-view+json": {
       "model_id": "63b78ba81ad0437996c80eae90c0d963",
       "version_major": 2,
       "version_minor": 0
      },
      "text/plain": [
       "Training: |          | 0/? [00:00<?, ?it/s]"
      ]
     },
     "metadata": {},
     "output_type": "display_data"
    },
    {
     "name": "stderr",
     "output_type": "stream",
     "text": [
      "`Trainer.fit` stopped: `max_epochs=5` reached.\n",
      "[I 2024-03-06 14:34:31,105] Trial 5 finished with value: 31.882421493530273 and parameters: {'n_lstm_units': 5, 'n_dense_units': 7, 'n_embedding_dim': 7, 'n_batch_size': 8, 'learning_rate': 0.00427501541774782}. Best is trial 2 with value: 24.429943084716797.\n",
      "GPU available: True (cuda), used: True\n",
      "TPU available: False, using: 0 TPU cores\n",
      "IPU available: False, using: 0 IPUs\n",
      "HPU available: False, using: 0 HPUs\n",
      "LOCAL_RANK: 0 - CUDA_VISIBLE_DEVICES: [0]\n",
      "\n",
      "  | Name          | Type             | Params\n",
      "---------------------------------------------------\n",
      "0 | model         | LSTMAttention    | 17.3 K\n",
      "1 | train_metrics | MetricCollection | 0     \n",
      "2 | valid_metrics | MetricCollection | 0     \n",
      "---------------------------------------------------\n",
      "17.3 K    Trainable params\n",
      "0         Non-trainable params\n",
      "17.3 K    Total params\n",
      "0.069     Total estimated model params size (MB)\n"
     ]
    },
    {
     "data": {
      "application/vnd.jupyter.widget-view+json": {
       "model_id": "628e61a0cfdc412eb3d4d7f0e815d484",
       "version_major": 2,
       "version_minor": 0
      },
      "text/plain": [
       "Sanity Checking: |          | 0/? [00:00<?, ?it/s]"
      ]
     },
     "metadata": {},
     "output_type": "display_data"
    },
    {
     "data": {
      "application/vnd.jupyter.widget-view+json": {
       "model_id": "38db09d8ce57488aa9f7ff4f50dd4e8f",
       "version_major": 2,
       "version_minor": 0
      },
      "text/plain": [
       "Training: |          | 0/? [00:00<?, ?it/s]"
      ]
     },
     "metadata": {},
     "output_type": "display_data"
    },
    {
     "name": "stderr",
     "output_type": "stream",
     "text": [
      "`Trainer.fit` stopped: `max_epochs=5` reached.\n",
      "[I 2024-03-06 14:34:55,043] Trial 6 finished with value: 30.66556739807129 and parameters: {'n_lstm_units': 5, 'n_dense_units': 5, 'n_embedding_dim': 4, 'n_batch_size': 5, 'learning_rate': 0.00202571873129591}. Best is trial 2 with value: 24.429943084716797.\n",
      "GPU available: True (cuda), used: True\n",
      "TPU available: False, using: 0 TPU cores\n",
      "IPU available: False, using: 0 IPUs\n",
      "HPU available: False, using: 0 HPUs\n",
      "LOCAL_RANK: 0 - CUDA_VISIBLE_DEVICES: [0]\n",
      "\n",
      "  | Name          | Type             | Params\n",
      "---------------------------------------------------\n",
      "0 | model         | LSTMAttention    | 30.2 K\n",
      "1 | train_metrics | MetricCollection | 0     \n",
      "2 | valid_metrics | MetricCollection | 0     \n",
      "---------------------------------------------------\n",
      "30.2 K    Trainable params\n",
      "0         Non-trainable params\n",
      "30.2 K    Total params\n",
      "0.121     Total estimated model params size (MB)\n"
     ]
    },
    {
     "data": {
      "application/vnd.jupyter.widget-view+json": {
       "model_id": "2a8ce2fc119c4e68a4642579b1882336",
       "version_major": 2,
       "version_minor": 0
      },
      "text/plain": [
       "Sanity Checking: |          | 0/? [00:00<?, ?it/s]"
      ]
     },
     "metadata": {},
     "output_type": "display_data"
    },
    {
     "data": {
      "application/vnd.jupyter.widget-view+json": {
       "model_id": "144881325eb547f6b9bc451766e77650",
       "version_major": 2,
       "version_minor": 0
      },
      "text/plain": [
       "Training: |          | 0/? [00:00<?, ?it/s]"
      ]
     },
     "metadata": {},
     "output_type": "display_data"
    },
    {
     "name": "stderr",
     "output_type": "stream",
     "text": [
      "`Trainer.fit` stopped: `max_epochs=5` reached.\n",
      "[I 2024-03-06 14:35:13,271] Trial 7 finished with value: 61.371646881103516 and parameters: {'n_lstm_units': 3, 'n_dense_units': 7, 'n_embedding_dim': 7, 'n_batch_size': 6, 'learning_rate': 0.34435541098966616}. Best is trial 2 with value: 24.429943084716797.\n",
      "GPU available: True (cuda), used: True\n",
      "TPU available: False, using: 0 TPU cores\n",
      "IPU available: False, using: 0 IPUs\n",
      "HPU available: False, using: 0 HPUs\n",
      "LOCAL_RANK: 0 - CUDA_VISIBLE_DEVICES: [0]\n",
      "\n",
      "  | Name          | Type             | Params\n",
      "---------------------------------------------------\n",
      "0 | model         | LSTMAttention    | 4.3 K \n",
      "1 | train_metrics | MetricCollection | 0     \n",
      "2 | valid_metrics | MetricCollection | 0     \n",
      "---------------------------------------------------\n",
      "4.3 K     Trainable params\n",
      "0         Non-trainable params\n",
      "4.3 K     Total params\n",
      "0.017     Total estimated model params size (MB)\n"
     ]
    },
    {
     "data": {
      "application/vnd.jupyter.widget-view+json": {
       "model_id": "e6cc4368366c4d458a3a5425bcf57658",
       "version_major": 2,
       "version_minor": 0
      },
      "text/plain": [
       "Sanity Checking: |          | 0/? [00:00<?, ?it/s]"
      ]
     },
     "metadata": {},
     "output_type": "display_data"
    },
    {
     "data": {
      "application/vnd.jupyter.widget-view+json": {
       "model_id": "fe7a53637d6343b1805b2329bf70175c",
       "version_major": 2,
       "version_minor": 0
      },
      "text/plain": [
       "Training: |          | 0/? [00:00<?, ?it/s]"
      ]
     },
     "metadata": {},
     "output_type": "display_data"
    },
    {
     "name": "stderr",
     "output_type": "stream",
     "text": [
      "`Trainer.fit` stopped: `max_epochs=5` reached.\n",
      "[I 2024-03-06 14:35:26,803] Trial 8 finished with value: 39.546913146972656 and parameters: {'n_lstm_units': 3, 'n_dense_units': 4, 'n_embedding_dim': 4, 'n_batch_size': 8, 'learning_rate': 0.018036500712438765}. Best is trial 2 with value: 24.429943084716797.\n",
      "GPU available: True (cuda), used: True\n",
      "TPU available: False, using: 0 TPU cores\n",
      "IPU available: False, using: 0 IPUs\n",
      "HPU available: False, using: 0 HPUs\n",
      "LOCAL_RANK: 0 - CUDA_VISIBLE_DEVICES: [0]\n",
      "\n",
      "  | Name          | Type             | Params\n",
      "---------------------------------------------------\n",
      "0 | model         | LSTMAttention    | 16.2 K\n",
      "1 | train_metrics | MetricCollection | 0     \n",
      "2 | valid_metrics | MetricCollection | 0     \n",
      "---------------------------------------------------\n",
      "16.2 K    Trainable params\n",
      "0         Non-trainable params\n",
      "16.2 K    Total params\n",
      "0.065     Total estimated model params size (MB)\n"
     ]
    },
    {
     "data": {
      "application/vnd.jupyter.widget-view+json": {
       "model_id": "73b60e243b304f678623e8f12654aa10",
       "version_major": 2,
       "version_minor": 0
      },
      "text/plain": [
       "Sanity Checking: |          | 0/? [00:00<?, ?it/s]"
      ]
     },
     "metadata": {},
     "output_type": "display_data"
    },
    {
     "data": {
      "application/vnd.jupyter.widget-view+json": {
       "model_id": "f06f1529838d4afba0c5b5894790b527",
       "version_major": 2,
       "version_minor": 0
      },
      "text/plain": [
       "Training: |          | 0/? [00:00<?, ?it/s]"
      ]
     },
     "metadata": {},
     "output_type": "display_data"
    },
    {
     "name": "stderr",
     "output_type": "stream",
     "text": [
      "`Trainer.fit` stopped: `max_epochs=5` reached.\n",
      "[I 2024-03-06 14:35:51,267] Trial 9 finished with value: 42.15370559692383 and parameters: {'n_lstm_units': 5, 'n_dense_units': 6, 'n_embedding_dim': 3, 'n_batch_size': 5, 'learning_rate': 0.09146297024432802}. Best is trial 2 with value: 24.429943084716797.\n",
      "GPU available: True (cuda), used: True\n",
      "TPU available: False, using: 0 TPU cores\n",
      "IPU available: False, using: 0 IPUs\n",
      "HPU available: False, using: 0 HPUs\n",
      "LOCAL_RANK: 0 - CUDA_VISIBLE_DEVICES: [0]\n",
      "\n",
      "  | Name          | Type             | Params\n",
      "---------------------------------------------------\n",
      "0 | model         | LSTMAttention    | 224 K \n",
      "1 | train_metrics | MetricCollection | 0     \n",
      "2 | valid_metrics | MetricCollection | 0     \n",
      "---------------------------------------------------\n",
      "224 K     Trainable params\n",
      "0         Non-trainable params\n",
      "224 K     Total params\n",
      "0.899     Total estimated model params size (MB)\n"
     ]
    },
    {
     "data": {
      "application/vnd.jupyter.widget-view+json": {
       "model_id": "e48248b2fbee4a5c98176faaab7550ea",
       "version_major": 2,
       "version_minor": 0
      },
      "text/plain": [
       "Sanity Checking: |          | 0/? [00:00<?, ?it/s]"
      ]
     },
     "metadata": {},
     "output_type": "display_data"
    },
    {
     "data": {
      "application/vnd.jupyter.widget-view+json": {
       "model_id": "cf4f915a78914ba3a7496d7396707149",
       "version_major": 2,
       "version_minor": 0
      },
      "text/plain": [
       "Training: |          | 0/? [00:00<?, ?it/s]"
      ]
     },
     "metadata": {},
     "output_type": "display_data"
    },
    {
     "name": "stderr",
     "output_type": "stream",
     "text": [
      "`Trainer.fit` stopped: `max_epochs=5` reached.\n",
      "[I 2024-03-06 14:36:12,184] Trial 10 finished with value: 45.99885940551758 and parameters: {'n_lstm_units': 7, 'n_dense_units': 6, 'n_embedding_dim': 6, 'n_batch_size': 6, 'learning_rate': 0.0001138773342841889}. Best is trial 2 with value: 24.429943084716797.\n",
      "GPU available: True (cuda), used: True\n",
      "TPU available: False, using: 0 TPU cores\n",
      "IPU available: False, using: 0 IPUs\n",
      "HPU available: False, using: 0 HPUs\n",
      "LOCAL_RANK: 0 - CUDA_VISIBLE_DEVICES: [0]\n",
      "\n",
      "  | Name          | Type             | Params\n",
      "---------------------------------------------------\n",
      "0 | model         | LSTMAttention    | 59.1 K\n",
      "1 | train_metrics | MetricCollection | 0     \n",
      "2 | valid_metrics | MetricCollection | 0     \n",
      "---------------------------------------------------\n",
      "59.1 K    Trainable params\n",
      "0         Non-trainable params\n",
      "59.1 K    Total params\n",
      "0.236     Total estimated model params size (MB)\n"
     ]
    },
    {
     "data": {
      "application/vnd.jupyter.widget-view+json": {
       "model_id": "c98b4a167675475fbd52352d63e08d26",
       "version_major": 2,
       "version_minor": 0
      },
      "text/plain": [
       "Sanity Checking: |          | 0/? [00:00<?, ?it/s]"
      ]
     },
     "metadata": {},
     "output_type": "display_data"
    },
    {
     "data": {
      "application/vnd.jupyter.widget-view+json": {
       "model_id": "e5a56ebdfa2b40069e797eeee4068c4e",
       "version_major": 2,
       "version_minor": 0
      },
      "text/plain": [
       "Training: |          | 0/? [00:00<?, ?it/s]"
      ]
     },
     "metadata": {},
     "output_type": "display_data"
    },
    {
     "name": "stderr",
     "output_type": "stream",
     "text": [
      "`Trainer.fit` stopped: `max_epochs=5` reached.\n",
      "[I 2024-03-06 14:36:36,601] Trial 11 finished with value: 37.02037048339844 and parameters: {'n_lstm_units': 6, 'n_dense_units': 5, 'n_embedding_dim': 5, 'n_batch_size': 5, 'learning_rate': 0.0011892456991965234}. Best is trial 2 with value: 24.429943084716797.\n",
      "GPU available: True (cuda), used: True\n",
      "TPU available: False, using: 0 TPU cores\n",
      "IPU available: False, using: 0 IPUs\n",
      "HPU available: False, using: 0 HPUs\n",
      "LOCAL_RANK: 0 - CUDA_VISIBLE_DEVICES: [0]\n",
      "\n",
      "  | Name          | Type             | Params\n",
      "---------------------------------------------------\n",
      "0 | model         | LSTMAttention    | 63.3 K\n",
      "1 | train_metrics | MetricCollection | 0     \n",
      "2 | valid_metrics | MetricCollection | 0     \n",
      "---------------------------------------------------\n",
      "63.3 K    Trainable params\n",
      "0         Non-trainable params\n",
      "63.3 K    Total params\n",
      "0.253     Total estimated model params size (MB)\n"
     ]
    },
    {
     "data": {
      "application/vnd.jupyter.widget-view+json": {
       "model_id": "89019d6535e248408a77bdd1eaece9d4",
       "version_major": 2,
       "version_minor": 0
      },
      "text/plain": [
       "Sanity Checking: |          | 0/? [00:00<?, ?it/s]"
      ]
     },
     "metadata": {},
     "output_type": "display_data"
    },
    {
     "data": {
      "application/vnd.jupyter.widget-view+json": {
       "model_id": "196b449b313e45c7914ae99366f2f038",
       "version_major": 2,
       "version_minor": 0
      },
      "text/plain": [
       "Training: |          | 0/? [00:00<?, ?it/s]"
      ]
     },
     "metadata": {},
     "output_type": "display_data"
    },
    {
     "name": "stderr",
     "output_type": "stream",
     "text": [
      "`Trainer.fit` stopped: `max_epochs=5` reached.\n",
      "[I 2024-03-06 14:36:55,301] Trial 12 finished with value: 42.08128356933594 and parameters: {'n_lstm_units': 6, 'n_dense_units': 6, 'n_embedding_dim': 5, 'n_batch_size': 6, 'learning_rate': 0.0009545313448245029}. Best is trial 2 with value: 24.429943084716797.\n",
      "GPU available: True (cuda), used: True\n",
      "TPU available: False, using: 0 TPU cores\n",
      "IPU available: False, using: 0 IPUs\n",
      "HPU available: False, using: 0 HPUs\n",
      "LOCAL_RANK: 0 - CUDA_VISIBLE_DEVICES: [0]\n",
      "\n",
      "  | Name          | Type             | Params\n",
      "---------------------------------------------------\n",
      "0 | model         | LSTMAttention    | 5.6 K \n",
      "1 | train_metrics | MetricCollection | 0     \n",
      "2 | valid_metrics | MetricCollection | 0     \n",
      "---------------------------------------------------\n",
      "5.6 K     Trainable params\n",
      "0         Non-trainable params\n",
      "5.6 K     Total params\n",
      "0.023     Total estimated model params size (MB)\n"
     ]
    },
    {
     "data": {
      "application/vnd.jupyter.widget-view+json": {
       "model_id": "6fff91d7f8f8476bbe2ef82207ae3f1c",
       "version_major": 2,
       "version_minor": 0
      },
      "text/plain": [
       "Sanity Checking: |          | 0/? [00:00<?, ?it/s]"
      ]
     },
     "metadata": {},
     "output_type": "display_data"
    },
    {
     "data": {
      "application/vnd.jupyter.widget-view+json": {
       "model_id": "5820dd1dbb5f448aa61406b11d85f18c",
       "version_major": 2,
       "version_minor": 0
      },
      "text/plain": [
       "Training: |          | 0/? [00:00<?, ?it/s]"
      ]
     },
     "metadata": {},
     "output_type": "display_data"
    },
    {
     "name": "stderr",
     "output_type": "stream",
     "text": [
      "`Trainer.fit` stopped: `max_epochs=5` reached.\n",
      "[I 2024-03-06 14:37:20,100] Trial 13 finished with value: 48.87088394165039 and parameters: {'n_lstm_units': 4, 'n_dense_units': 5, 'n_embedding_dim': 3, 'n_batch_size': 5, 'learning_rate': 0.00018447819340878266}. Best is trial 2 with value: 24.429943084716797.\n",
      "GPU available: True (cuda), used: True\n",
      "TPU available: False, using: 0 TPU cores\n",
      "IPU available: False, using: 0 IPUs\n",
      "HPU available: False, using: 0 HPUs\n",
      "LOCAL_RANK: 0 - CUDA_VISIBLE_DEVICES: [0]\n",
      "\n",
      "  | Name          | Type             | Params\n",
      "---------------------------------------------------\n",
      "0 | model         | LSTMAttention    | 84.4 K\n",
      "1 | train_metrics | MetricCollection | 0     \n",
      "2 | valid_metrics | MetricCollection | 0     \n",
      "---------------------------------------------------\n",
      "84.4 K    Trainable params\n",
      "0         Non-trainable params\n",
      "84.4 K    Total params\n",
      "0.338     Total estimated model params size (MB)\n"
     ]
    },
    {
     "data": {
      "application/vnd.jupyter.widget-view+json": {
       "model_id": "d50cb1230fa9456badf8e421eb23dc35",
       "version_major": 2,
       "version_minor": 0
      },
      "text/plain": [
       "Sanity Checking: |          | 0/? [00:00<?, ?it/s]"
      ]
     },
     "metadata": {},
     "output_type": "display_data"
    },
    {
     "data": {
      "application/vnd.jupyter.widget-view+json": {
       "model_id": "91134db4cad644068e15e99affe75a57",
       "version_major": 2,
       "version_minor": 0
      },
      "text/plain": [
       "Training: |          | 0/? [00:00<?, ?it/s]"
      ]
     },
     "metadata": {},
     "output_type": "display_data"
    },
    {
     "name": "stderr",
     "output_type": "stream",
     "text": [
      "`Trainer.fit` stopped: `max_epochs=5` reached.\n",
      "[I 2024-03-06 14:37:44,532] Trial 14 finished with value: 26.725099563598633 and parameters: {'n_lstm_units': 6, 'n_dense_units': 6, 'n_embedding_dim': 6, 'n_batch_size': 5, 'learning_rate': 0.0025012382602507487}. Best is trial 2 with value: 24.429943084716797.\n",
      "GPU available: True (cuda), used: True\n",
      "TPU available: False, using: 0 TPU cores\n",
      "IPU available: False, using: 0 IPUs\n",
      "HPU available: False, using: 0 HPUs\n",
      "LOCAL_RANK: 0 - CUDA_VISIBLE_DEVICES: [0]\n",
      "\n",
      "  | Name          | Type             | Params\n",
      "---------------------------------------------------\n",
      "0 | model         | LSTMAttention    | 84.4 K\n",
      "1 | train_metrics | MetricCollection | 0     \n",
      "2 | valid_metrics | MetricCollection | 0     \n",
      "---------------------------------------------------\n",
      "84.4 K    Trainable params\n",
      "0         Non-trainable params\n",
      "84.4 K    Total params\n",
      "0.338     Total estimated model params size (MB)\n"
     ]
    },
    {
     "data": {
      "application/vnd.jupyter.widget-view+json": {
       "model_id": "4611479e93f845199ae15d9d6eae0f88",
       "version_major": 2,
       "version_minor": 0
      },
      "text/plain": [
       "Sanity Checking: |          | 0/? [00:00<?, ?it/s]"
      ]
     },
     "metadata": {},
     "output_type": "display_data"
    },
    {
     "data": {
      "application/vnd.jupyter.widget-view+json": {
       "model_id": "161fc113a9644c83941099186a9c624d",
       "version_major": 2,
       "version_minor": 0
      },
      "text/plain": [
       "Training: |          | 0/? [00:00<?, ?it/s]"
      ]
     },
     "metadata": {},
     "output_type": "display_data"
    },
    {
     "name": "stderr",
     "output_type": "stream",
     "text": [
      "`Trainer.fit` stopped: `max_epochs=5` reached.\n",
      "[I 2024-03-06 14:38:03,336] Trial 15 finished with value: 35.710105895996094 and parameters: {'n_lstm_units': 6, 'n_dense_units': 6, 'n_embedding_dim': 6, 'n_batch_size': 6, 'learning_rate': 0.0003453047538532196}. Best is trial 2 with value: 24.429943084716797.\n",
      "GPU available: True (cuda), used: True\n",
      "TPU available: False, using: 0 TPU cores\n",
      "IPU available: False, using: 0 IPUs\n",
      "HPU available: False, using: 0 HPUs\n",
      "LOCAL_RANK: 0 - CUDA_VISIBLE_DEVICES: [0]\n",
      "\n",
      "  | Name          | Type             | Params\n",
      "---------------------------------------------------\n",
      "0 | model         | LSTMAttention    | 241 K \n",
      "1 | train_metrics | MetricCollection | 0     \n",
      "2 | valid_metrics | MetricCollection | 0     \n",
      "---------------------------------------------------\n",
      "241 K     Trainable params\n",
      "0         Non-trainable params\n",
      "241 K     Total params\n",
      "0.965     Total estimated model params size (MB)\n"
     ]
    },
    {
     "data": {
      "application/vnd.jupyter.widget-view+json": {
       "model_id": "5f26d28a8d4e4a6fbde5185370525533",
       "version_major": 2,
       "version_minor": 0
      },
      "text/plain": [
       "Sanity Checking: |          | 0/? [00:00<?, ?it/s]"
      ]
     },
     "metadata": {},
     "output_type": "display_data"
    },
    {
     "data": {
      "application/vnd.jupyter.widget-view+json": {
       "model_id": "f446ed532e90493b9bfcaaa015d22a3b",
       "version_major": 2,
       "version_minor": 0
      },
      "text/plain": [
       "Training: |          | 0/? [00:00<?, ?it/s]"
      ]
     },
     "metadata": {},
     "output_type": "display_data"
    },
    {
     "name": "stderr",
     "output_type": "stream",
     "text": [
      "`Trainer.fit` stopped: `max_epochs=5` reached.\n",
      "[I 2024-03-06 14:38:28,952] Trial 16 finished with value: 33.373966217041016 and parameters: {'n_lstm_units': 7, 'n_dense_units': 7, 'n_embedding_dim': 6, 'n_batch_size': 5, 'learning_rate': 0.014097682783468984}. Best is trial 2 with value: 24.429943084716797.\n",
      "GPU available: True (cuda), used: True\n",
      "TPU available: False, using: 0 TPU cores\n",
      "IPU available: False, using: 0 IPUs\n",
      "HPU available: False, using: 0 HPUs\n",
      "LOCAL_RANK: 0 - CUDA_VISIBLE_DEVICES: [0]\n",
      "\n",
      "  | Name          | Type             | Params\n",
      "---------------------------------------------------\n",
      "0 | model         | LSTMAttention    | 84.4 K\n",
      "1 | train_metrics | MetricCollection | 0     \n",
      "2 | valid_metrics | MetricCollection | 0     \n",
      "---------------------------------------------------\n",
      "84.4 K    Trainable params\n",
      "0         Non-trainable params\n",
      "84.4 K    Total params\n",
      "0.338     Total estimated model params size (MB)\n"
     ]
    },
    {
     "data": {
      "application/vnd.jupyter.widget-view+json": {
       "model_id": "2d923f006ead43e0b68b879809a75cce",
       "version_major": 2,
       "version_minor": 0
      },
      "text/plain": [
       "Sanity Checking: |          | 0/? [00:00<?, ?it/s]"
      ]
     },
     "metadata": {},
     "output_type": "display_data"
    },
    {
     "data": {
      "application/vnd.jupyter.widget-view+json": {
       "model_id": "d7921d70290a449cab1d25b3267feb16",
       "version_major": 2,
       "version_minor": 0
      },
      "text/plain": [
       "Training: |          | 0/? [00:00<?, ?it/s]"
      ]
     },
     "metadata": {},
     "output_type": "display_data"
    },
    {
     "name": "stderr",
     "output_type": "stream",
     "text": [
      "`Trainer.fit` stopped: `max_epochs=5` reached.\n",
      "[I 2024-03-06 14:38:47,816] Trial 17 finished with value: 29.042600631713867 and parameters: {'n_lstm_units': 6, 'n_dense_units': 6, 'n_embedding_dim': 6, 'n_batch_size': 6, 'learning_rate': 0.002724745443341289}. Best is trial 2 with value: 24.429943084716797.\n",
      "GPU available: True (cuda), used: True\n",
      "TPU available: False, using: 0 TPU cores\n",
      "IPU available: False, using: 0 IPUs\n",
      "HPU available: False, using: 0 HPUs\n",
      "LOCAL_RANK: 0 - CUDA_VISIBLE_DEVICES: [0]\n",
      "\n",
      "  | Name          | Type             | Params\n",
      "---------------------------------------------------\n",
      "0 | model         | LSTMAttention    | 241 K \n",
      "1 | train_metrics | MetricCollection | 0     \n",
      "2 | valid_metrics | MetricCollection | 0     \n",
      "---------------------------------------------------\n",
      "241 K     Trainable params\n",
      "0         Non-trainable params\n",
      "241 K     Total params\n",
      "0.965     Total estimated model params size (MB)\n"
     ]
    },
    {
     "data": {
      "application/vnd.jupyter.widget-view+json": {
       "model_id": "d419178d547d4112bc27fef4ca992f85",
       "version_major": 2,
       "version_minor": 0
      },
      "text/plain": [
       "Sanity Checking: |          | 0/? [00:00<?, ?it/s]"
      ]
     },
     "metadata": {},
     "output_type": "display_data"
    },
    {
     "data": {
      "application/vnd.jupyter.widget-view+json": {
       "model_id": "201cf8e8ce8c4e098510e3d41fa5f43e",
       "version_major": 2,
       "version_minor": 0
      },
      "text/plain": [
       "Training: |          | 0/? [00:00<?, ?it/s]"
      ]
     },
     "metadata": {},
     "output_type": "display_data"
    },
    {
     "name": "stderr",
     "output_type": "stream",
     "text": [
      "`Trainer.fit` stopped: `max_epochs=5` reached.\n",
      "[I 2024-03-06 14:39:13,249] Trial 18 finished with value: 29.817291259765625 and parameters: {'n_lstm_units': 7, 'n_dense_units': 7, 'n_embedding_dim': 6, 'n_batch_size': 5, 'learning_rate': 0.0004204539392561088}. Best is trial 2 with value: 24.429943084716797.\n",
      "GPU available: True (cuda), used: True\n",
      "TPU available: False, using: 0 TPU cores\n",
      "IPU available: False, using: 0 IPUs\n",
      "HPU available: False, using: 0 HPUs\n",
      "LOCAL_RANK: 0 - CUDA_VISIBLE_DEVICES: [0]\n",
      "\n",
      "  | Name          | Type             | Params\n",
      "---------------------------------------------------\n",
      "0 | model         | LSTMAttention    | 120 K \n",
      "1 | train_metrics | MetricCollection | 0     \n",
      "2 | valid_metrics | MetricCollection | 0     \n",
      "---------------------------------------------------\n",
      "120 K     Trainable params\n",
      "0         Non-trainable params\n",
      "120 K     Total params\n",
      "0.481     Total estimated model params size (MB)\n"
     ]
    },
    {
     "data": {
      "application/vnd.jupyter.widget-view+json": {
       "model_id": "3becd1eeda0f471fb103184335d49db1",
       "version_major": 2,
       "version_minor": 0
      },
      "text/plain": [
       "Sanity Checking: |          | 0/? [00:00<?, ?it/s]"
      ]
     },
     "metadata": {},
     "output_type": "display_data"
    },
    {
     "data": {
      "application/vnd.jupyter.widget-view+json": {
       "model_id": "19422b38bc224c7eb47ea4c82fb76edf",
       "version_major": 2,
       "version_minor": 0
      },
      "text/plain": [
       "Training: |          | 0/? [00:00<?, ?it/s]"
      ]
     },
     "metadata": {},
     "output_type": "display_data"
    },
    {
     "name": "stderr",
     "output_type": "stream",
     "text": [
      "`Trainer.fit` stopped: `max_epochs=5` reached.\n",
      "[I 2024-03-06 14:39:32,485] Trial 19 finished with value: 34.31386947631836 and parameters: {'n_lstm_units': 6, 'n_dense_units': 4, 'n_embedding_dim': 7, 'n_batch_size': 6, 'learning_rate': 0.01137184541139788}. Best is trial 2 with value: 24.429943084716797.\n",
      "GPU available: True (cuda), used: True\n",
      "TPU available: False, using: 0 TPU cores\n",
      "IPU available: False, using: 0 IPUs\n",
      "HPU available: False, using: 0 HPUs\n",
      "LOCAL_RANK: 0 - CUDA_VISIBLE_DEVICES: [0]\n",
      "\n",
      "  | Name          | Type             | Params\n",
      "---------------------------------------------------\n",
      "0 | model         | LSTMAttention    | 187 K \n",
      "1 | train_metrics | MetricCollection | 0     \n",
      "2 | valid_metrics | MetricCollection | 0     \n",
      "---------------------------------------------------\n",
      "187 K     Trainable params\n",
      "0         Non-trainable params\n",
      "187 K     Total params\n",
      "0.749     Total estimated model params size (MB)\n"
     ]
    },
    {
     "data": {
      "application/vnd.jupyter.widget-view+json": {
       "model_id": "c34bc20815fc47e4a4f50f84a386ea80",
       "version_major": 2,
       "version_minor": 0
      },
      "text/plain": [
       "Sanity Checking: |          | 0/? [00:00<?, ?it/s]"
      ]
     },
     "metadata": {},
     "output_type": "display_data"
    },
    {
     "data": {
      "application/vnd.jupyter.widget-view+json": {
       "model_id": "1f766fd1e016434f934171fe383d10a3",
       "version_major": 2,
       "version_minor": 0
      },
      "text/plain": [
       "Training: |          | 0/? [00:00<?, ?it/s]"
      ]
     },
     "metadata": {},
     "output_type": "display_data"
    },
    {
     "name": "stderr",
     "output_type": "stream",
     "text": [
      "`Trainer.fit` stopped: `max_epochs=5` reached.\n",
      "[I 2024-03-06 14:39:57,802] Trial 20 finished with value: 31.233301162719727 and parameters: {'n_lstm_units': 7, 'n_dense_units': 6, 'n_embedding_dim': 5, 'n_batch_size': 5, 'learning_rate': 0.0019022943778338759}. Best is trial 2 with value: 24.429943084716797.\n",
      "GPU available: True (cuda), used: True\n",
      "TPU available: False, using: 0 TPU cores\n",
      "IPU available: False, using: 0 IPUs\n",
      "HPU available: False, using: 0 HPUs\n",
      "LOCAL_RANK: 0 - CUDA_VISIBLE_DEVICES: [0]\n",
      "\n",
      "  | Name          | Type             | Params\n",
      "---------------------------------------------------\n",
      "0 | model         | LSTMAttention    | 84.4 K\n",
      "1 | train_metrics | MetricCollection | 0     \n",
      "2 | valid_metrics | MetricCollection | 0     \n",
      "---------------------------------------------------\n",
      "84.4 K    Trainable params\n",
      "0         Non-trainable params\n",
      "84.4 K    Total params\n",
      "0.338     Total estimated model params size (MB)\n"
     ]
    },
    {
     "data": {
      "application/vnd.jupyter.widget-view+json": {
       "model_id": "1ae51396a89c414d9c3b9a1c7d23b963",
       "version_major": 2,
       "version_minor": 0
      },
      "text/plain": [
       "Sanity Checking: |          | 0/? [00:00<?, ?it/s]"
      ]
     },
     "metadata": {},
     "output_type": "display_data"
    },
    {
     "data": {
      "application/vnd.jupyter.widget-view+json": {
       "model_id": "572c42af05014fabb9cd08f825237660",
       "version_major": 2,
       "version_minor": 0
      },
      "text/plain": [
       "Training: |          | 0/? [00:00<?, ?it/s]"
      ]
     },
     "metadata": {},
     "output_type": "display_data"
    },
    {
     "name": "stderr",
     "output_type": "stream",
     "text": [
      "`Trainer.fit` stopped: `max_epochs=5` reached.\n",
      "[I 2024-03-06 14:40:16,746] Trial 21 finished with value: 28.52410888671875 and parameters: {'n_lstm_units': 6, 'n_dense_units': 6, 'n_embedding_dim': 6, 'n_batch_size': 6, 'learning_rate': 0.0029828511115450583}. Best is trial 2 with value: 24.429943084716797.\n",
      "GPU available: True (cuda), used: True\n",
      "TPU available: False, using: 0 TPU cores\n",
      "IPU available: False, using: 0 IPUs\n",
      "HPU available: False, using: 0 HPUs\n",
      "LOCAL_RANK: 0 - CUDA_VISIBLE_DEVICES: [0]\n",
      "\n",
      "  | Name          | Type             | Params\n",
      "---------------------------------------------------\n",
      "0 | model         | LSTMAttention    | 84.4 K\n",
      "1 | train_metrics | MetricCollection | 0     \n",
      "2 | valid_metrics | MetricCollection | 0     \n",
      "---------------------------------------------------\n",
      "84.4 K    Trainable params\n",
      "0         Non-trainable params\n",
      "84.4 K    Total params\n",
      "0.338     Total estimated model params size (MB)\n"
     ]
    },
    {
     "data": {
      "application/vnd.jupyter.widget-view+json": {
       "model_id": "6bad3658d9224f6f9a06bd9155a86c3d",
       "version_major": 2,
       "version_minor": 0
      },
      "text/plain": [
       "Sanity Checking: |          | 0/? [00:00<?, ?it/s]"
      ]
     },
     "metadata": {},
     "output_type": "display_data"
    },
    {
     "data": {
      "application/vnd.jupyter.widget-view+json": {
       "model_id": "f8a732b4f7f047e1836fe4d617fd52da",
       "version_major": 2,
       "version_minor": 0
      },
      "text/plain": [
       "Training: |          | 0/? [00:00<?, ?it/s]"
      ]
     },
     "metadata": {},
     "output_type": "display_data"
    },
    {
     "name": "stderr",
     "output_type": "stream",
     "text": [
      "`Trainer.fit` stopped: `max_epochs=5` reached.\n",
      "[I 2024-03-06 14:40:35,317] Trial 22 finished with value: 32.95644760131836 and parameters: {'n_lstm_units': 6, 'n_dense_units': 6, 'n_embedding_dim': 6, 'n_batch_size': 6, 'learning_rate': 0.004263549202830494}. Best is trial 2 with value: 24.429943084716797.\n",
      "GPU available: True (cuda), used: True\n",
      "TPU available: False, using: 0 TPU cores\n",
      "IPU available: False, using: 0 IPUs\n",
      "HPU available: False, using: 0 HPUs\n",
      "LOCAL_RANK: 0 - CUDA_VISIBLE_DEVICES: [0]\n",
      "\n",
      "  | Name          | Type             | Params\n",
      "---------------------------------------------------\n",
      "0 | model         | LSTMAttention    | 43.1 K\n",
      "1 | train_metrics | MetricCollection | 0     \n",
      "2 | valid_metrics | MetricCollection | 0     \n",
      "---------------------------------------------------\n",
      "43.1 K    Trainable params\n",
      "0         Non-trainable params\n",
      "43.1 K    Total params\n",
      "0.173     Total estimated model params size (MB)\n"
     ]
    },
    {
     "data": {
      "application/vnd.jupyter.widget-view+json": {
       "model_id": "ac94952c0aa34be6b373c76efef61d9b",
       "version_major": 2,
       "version_minor": 0
      },
      "text/plain": [
       "Sanity Checking: |          | 0/? [00:00<?, ?it/s]"
      ]
     },
     "metadata": {},
     "output_type": "display_data"
    },
    {
     "data": {
      "application/vnd.jupyter.widget-view+json": {
       "model_id": "97b9a9449c1042728f69f7cd90f8ffbf",
       "version_major": 2,
       "version_minor": 0
      },
      "text/plain": [
       "Training: |          | 0/? [00:00<?, ?it/s]"
      ]
     },
     "metadata": {},
     "output_type": "display_data"
    },
    {
     "name": "stderr",
     "output_type": "stream",
     "text": [
      "`Trainer.fit` stopped: `max_epochs=5` reached.\n",
      "[I 2024-03-06 14:40:59,749] Trial 23 finished with value: 31.549560546875 and parameters: {'n_lstm_units': 5, 'n_dense_units': 7, 'n_embedding_dim': 6, 'n_batch_size': 5, 'learning_rate': 0.0005294010575123426}. Best is trial 2 with value: 24.429943084716797.\n",
      "GPU available: True (cuda), used: True\n",
      "TPU available: False, using: 0 TPU cores\n",
      "IPU available: False, using: 0 IPUs\n",
      "HPU available: False, using: 0 HPUs\n",
      "LOCAL_RANK: 0 - CUDA_VISIBLE_DEVICES: [0]\n",
      "\n",
      "  | Name          | Type             | Params\n",
      "---------------------------------------------------\n",
      "0 | model         | LSTMAttention    | 299 K \n",
      "1 | train_metrics | MetricCollection | 0     \n",
      "2 | valid_metrics | MetricCollection | 0     \n",
      "---------------------------------------------------\n",
      "299 K     Trainable params\n",
      "0         Non-trainable params\n",
      "299 K     Total params\n",
      "1.199     Total estimated model params size (MB)\n"
     ]
    },
    {
     "data": {
      "application/vnd.jupyter.widget-view+json": {
       "model_id": "68ec251492fd4643ac540377c7461667",
       "version_major": 2,
       "version_minor": 0
      },
      "text/plain": [
       "Sanity Checking: |          | 0/? [00:00<?, ?it/s]"
      ]
     },
     "metadata": {},
     "output_type": "display_data"
    },
    {
     "data": {
      "application/vnd.jupyter.widget-view+json": {
       "model_id": "27de57f740bb4e4fa084ce8960e4e59f",
       "version_major": 2,
       "version_minor": 0
      },
      "text/plain": [
       "Training: |          | 0/? [00:00<?, ?it/s]"
      ]
     },
     "metadata": {},
     "output_type": "display_data"
    },
    {
     "name": "stderr",
     "output_type": "stream",
     "text": [
      "`Trainer.fit` stopped: `max_epochs=5` reached.\n",
      "[I 2024-03-06 14:41:19,134] Trial 24 finished with value: 29.826892852783203 and parameters: {'n_lstm_units': 7, 'n_dense_units': 6, 'n_embedding_dim': 7, 'n_batch_size': 7, 'learning_rate': 0.0014500725385636437}. Best is trial 2 with value: 24.429943084716797.\n",
      "GPU available: True (cuda), used: True\n",
      "TPU available: False, using: 0 TPU cores\n",
      "IPU available: False, using: 0 IPUs\n",
      "HPU available: False, using: 0 HPUs\n",
      "LOCAL_RANK: 0 - CUDA_VISIBLE_DEVICES: [0]\n",
      "\n",
      "  | Name          | Type             | Params\n",
      "---------------------------------------------------\n",
      "0 | model         | LSTMAttention    | 299 K \n",
      "1 | train_metrics | MetricCollection | 0     \n",
      "2 | valid_metrics | MetricCollection | 0     \n",
      "---------------------------------------------------\n",
      "299 K     Trainable params\n",
      "0         Non-trainable params\n",
      "299 K     Total params\n",
      "1.199     Total estimated model params size (MB)\n"
     ]
    },
    {
     "name": "stdout",
     "output_type": "stream",
     "text": [
      "Best Params\n",
      "LSTM units       | 128\n",
      "Dense units      | 64\n",
      "Embedding units  | 128\n",
      "Batch size       | 32\n",
      "leaning rate     | 0.0012888325493054026\n",
      "\n",
      "***Training of the best model.***\n",
      "\n"
     ]
    },
    {
     "data": {
      "application/vnd.jupyter.widget-view+json": {
       "model_id": "53b865b49b4042648241c3dc8becb54c",
       "version_major": 2,
       "version_minor": 0
      },
      "text/plain": [
       "Sanity Checking: |          | 0/? [00:00<?, ?it/s]"
      ]
     },
     "metadata": {},
     "output_type": "display_data"
    },
    {
     "data": {
      "application/vnd.jupyter.widget-view+json": {
       "model_id": "16fe98a078da4fc192dbd55f0bf3c13d",
       "version_major": 2,
       "version_minor": 0
      },
      "text/plain": [
       "Training: |          | 0/? [00:00<?, ?it/s]"
      ]
     },
     "metadata": {},
     "output_type": "display_data"
    },
    {
     "name": "stderr",
     "output_type": "stream",
     "text": [
      "`Trainer.fit` stopped: `max_epochs=100` reached.\n"
     ]
    },
    {
     "name": "stdout",
     "output_type": "stream",
     "text": [
      "Training Finished!!!\n",
      "Best val_loss @ Epoch #57\n",
      "\n",
      "***Predictions from the best model.***\n",
      "\n",
      "For the training set:\n",
      "MAE: 3.2369 RMSE: 12.6131 R^2: 0.9848\n",
      "For the validation set:\n",
      "MAE: 19.4996 RMSE: 28.3737 R^2: 0.8395\n",
      "For the test set:\n",
      "MAE: 22.5298 RMSE: 32.1105 R^2: 0.9159\n"
     ]
    },
    {
     "data": {
      "image/png": "[encoded data removed]",
      "text/plain": [
       "<Figure size 640x480 with 2 Axes>"
      ]
     },
     "metadata": {},
     "output_type": "display_data"
    },
    {
     "data": {
      "image/png": "[encoded data removed]",
      "text/plain": [
       "<Figure size 800x500 with 1 Axes>"
      ]
     },
     "metadata": {},
     "output_type": "display_data"
    }
   ],
   "source": [
    "model = train.main(\n",
    "    data=data,\n",
    "    data_name=data_name,\n",
    "    bayopt_bounds=bayopt_bounds,\n",
    "    augmentation=augmentation,\n",
    "    outdir=\"./outputs/\",\n",
    "    bayopt_n_epochs=5,\n",
    "    bayopt_n_iters=25,\n",
    "    n_epochs=100,\n",
    "    tf16=False,\n",
    "    seed=1\n",
    ")"
   ]
  },
  {
   "cell_type": "code",
   "execution_count": 3,
   "metadata": {},
   "outputs": [],
   "source": [
    "# checkpoint_path = r\"D:\\programming\\python\\chem\\prediction\\SMILES-X\\outputs\\test\\Augm\\training\\epoch=0-step=65.ckpt\"\n",
    "# import torch\n",
    "# state_dict = torch.load(checkpoint_path)\n",
    "# state_dict"
   ]
  },
  {
   "cell_type": "code",
   "execution_count": 4,
   "metadata": {},
   "outputs": [],
   "source": [
    "# import pickle\n",
    "\n",
    "# with open(r\"D:\\programming\\python\\chem\\prediction\\SMILES-X\\outputs\\test\\Augm\\training\\best_hyper_params.pkl\", \"rb\") as f:\n",
    "#     best_hyper_params = pickle.load(f)\n",
    "\n",
    "# test_model = LSTMAttention.load_from_checkpoint(\n",
    "#     checkpoint_path,\n",
    "#     token_size=best_hyper_params[0],\n",
    "#     learning_rate=best_hyper_params[5],\n",
    "#     lstm_units=best_hyper_params[1],\n",
    "#     dense_units=best_hyper_params[2],\n",
    "#     embedding_dim=best_hyper_params[3],\n",
    "#     map_location=torch.device(\"cpu\")\n",
    "# )"
   ]
  }
 ],
 "metadata": {
  "kernelspec": {
   "display_name": ".venv",
   "language": "python",
   "name": "python3"
  },
  "language_info": {
   "codemirror_mode": {
    "name": "ipython",
    "version": 3
   },
   "file_extension": ".py",
   "mimetype": "text/x-python",
   "name": "python",
   "nbconvert_exporter": "python",
   "pygments_lexer": "ipython3",
   "version": "3.11.8"
  }
 },
 "nbformat": 4,
 "nbformat_minor": 2
}
