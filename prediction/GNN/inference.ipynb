{
 "cells": [
  {
   "cell_type": "code",
   "execution_count": 9,
   "metadata": {},
   "outputs": [
    {
     "name": "stdout",
     "output_type": "stream",
     "text": [
      "***SMILES_X for inference starts...***\n",
      "\n",
      "\n",
      "***Checking the SMILES list for inference***\n",
      "\n",
      "計算できなかったSMILESを示す\n",
      "ABC\n",
      "DEF\n",
      "Setup Polymer Tokens.\n",
      "***Data augmentation is True***\n",
      "\n",
      "Enumerated SMILES:\n",
      "[122.689 125.816  46.917  47.715 126.769  59.173  32.022  59.637  60.372\n",
      "  56.415  64.374  47.356  40.112  50.523  73.593  67.189  63.681  79.079\n",
      "  71.296  63.271  80.854  66.564  67.545  84.876  71.264  61.109  70.157\n",
      "  61.254  58.535  47.792 156.546 136.53  105.235  94.887  89.711 101.515\n",
      " 121.65   96.157 100.581 101.446  95.594 113.911]\n",
      "[[122.689]\n",
      " [125.816]\n",
      " [ 46.917]\n",
      " [ 47.715]\n",
      " [126.769]\n",
      " [ 59.173]\n",
      " [ 32.022]\n",
      " [ 59.637]\n",
      " [ 60.372]\n",
      " [ 56.415]\n",
      " [ 64.374]\n",
      " [ 47.356]\n",
      " [ 40.112]\n",
      " [ 50.523]\n",
      " [ 73.593]\n",
      " [ 67.189]\n",
      " [ 63.681]\n",
      " [ 79.079]\n",
      " [ 71.296]\n",
      " [ 63.271]\n",
      " [ 80.854]\n",
      " [ 66.564]\n",
      " [ 67.545]\n",
      " [ 84.876]\n",
      " [ 71.264]\n",
      " [ 61.109]\n",
      " [ 70.157]\n",
      " [ 61.254]\n",
      " [ 58.535]\n",
      " [ 47.792]\n",
      " [156.546]\n",
      " [136.53 ]\n",
      " [105.235]\n",
      " [ 94.887]\n",
      " [ 89.711]\n",
      " [101.515]\n",
      " [121.65 ]\n",
      " [ 96.157]\n",
      " [100.581]\n",
      " [101.446]\n",
      " [ 95.594]\n",
      " [113.911]]\n",
      "Prediction Result\n",
      "                                              SMILES Predicted Value(mean)  \\\n",
      "0  *CC(*)c1ccc(C(F)(F)C(F)(F)C(F)(F)C(F)(F)C(F)(F...             72.531998   \n",
      "1                                     *CC(*)c1ccccc1             102.06871   \n",
      "\n",
      "  Predicted Value(std)  \n",
      "0            29.017828  \n",
      "1             9.043074  \n"
     ]
    }
   ],
   "source": [
    "from SMILESX import inference\n",
    "\n",
    "inference.main(\n",
    "    data_name=\"Tg_test\",\n",
    "    smiles_list=['*CC(*)CCCCCCCCCCCCCC','*CC(*)c1ccccc1','ABC','DEF'],\n",
    "    augmentation=True,\n",
    "    outputs_dir=\"outputs\"\n",
    ")"
   ]
  },
  {
   "cell_type": "code",
   "execution_count": null,
   "metadata": {},
   "outputs": [],
   "source": []
  }
 ],
 "metadata": {
  "kernelspec": {
   "display_name": ".venv",
   "language": "python",
   "name": "python3"
  },
  "language_info": {
   "codemirror_mode": {
    "name": "ipython",
    "version": 3
   },
   "file_extension": ".py",
   "mimetype": "text/x-python",
   "name": "python",
   "nbconvert_exporter": "python",
   "pygments_lexer": "ipython3",
   "version": "3.11.8"
  }
 },
 "nbformat": 4,
 "nbformat_minor": 2
}
