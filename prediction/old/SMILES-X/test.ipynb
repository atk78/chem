{
 "cells": [
  {
   "cell_type": "code",
   "execution_count": 5,
   "metadata": {},
   "outputs": [
    {
     "name": "stdout",
     "output_type": "stream",
     "text": [
      "['(', '*', ')', 'C', ' ']\n",
      "5\n",
      "9\n"
     ]
    },
    {
     "data": {
      "text/plain": [
       "tensor([[0, 0, 0, 0, 6, 3, 5, 3, 6],\n",
       "        [0, 0, 0, 6, 3, 5, 5, 3, 6],\n",
       "        [6, 3, 5, 5, 2, 3, 4, 5, 6]], dtype=torch.int32)"
      ]
     },
     "execution_count": 5,
     "metadata": {},
     "output_type": "execute_result"
    }
   ],
   "source": [
    "import polars as pl\n",
    "from src import token\n",
    "\n",
    "length = 3\n",
    "df = pl.read_csv(\"./datasets/processed/Tg.csv\")\n",
    "smiles = df[\"smiles\"][:length]\n",
    "y = df[\"tg\"][:length]\n",
    "\n",
    "\n",
    "tokenized_smiles = token.get_tokens(smiles)\n",
    "# print(token.smiles_tokenizer(smiles[1010]))\n",
    "tokens = list(token.extract_vocab(tokenized_smiles))\n",
    "print(tokens)\n",
    "print(len(tokens))\n",
    "tokens, vocab_size = token.add_extra_tokens(tokens, len(tokens))\n",
    "max_length = max([len(i_smiles) for i_smiles in tokenized_smiles])\n",
    "print(max_length)\n",
    "\n",
    "int_tokens, y = token.convert_to_int_tensor(tokenized_smiles, y, max_length, tokens)\n",
    "\n",
    "int_tokens"
   ]
  },
  {
   "cell_type": "code",
   "execution_count": 6,
   "metadata": {},
   "outputs": [
    {
     "name": "stdout",
     "output_type": "stream",
     "text": [
      "['(', '*', ')', 'C', ' ']\n",
      "5\n",
      "11\n"
     ]
    },
    {
     "data": {
      "text/plain": [
       "tensor([[0, 0, 0, 0, 0, 0, 6, 3, 5, 3, 6],\n",
       "        [0, 0, 0, 0, 6, 5, 2, 3, 4, 3, 6],\n",
       "        [0, 0, 0, 0, 0, 6, 3, 5, 5, 3, 6],\n",
       "        [0, 0, 0, 6, 5, 2, 5, 3, 4, 3, 6],\n",
       "        [0, 0, 0, 6, 5, 2, 3, 4, 5, 3, 6],\n",
       "        [0, 0, 6, 3, 5, 5, 2, 3, 4, 5, 6],\n",
       "        [6, 5, 2, 5, 2, 3, 4, 5, 4, 3, 6],\n",
       "        [6, 5, 2, 3, 4, 2, 5, 4, 5, 3, 6],\n",
       "        [0, 0, 6, 3, 5, 2, 5, 4, 5, 3, 6],\n",
       "        [0, 0, 6, 5, 5, 2, 5, 3, 4, 3, 6]], dtype=torch.int32)"
      ]
     },
     "execution_count": 6,
     "metadata": {},
     "output_type": "execute_result"
    }
   ],
   "source": [
    "from src import augm\n",
    "import numpy as np\n",
    "smiles, card, y = augm.augment_data(smiles, y, True)\n",
    "tokenized_smiles = token.get_tokens(smiles)\n",
    "# print(token.smiles_tokenizer(smiles[1010]))\n",
    "tokens = list(token.extract_vocab(tokenized_smiles))\n",
    "print(tokens)\n",
    "print(len(tokens))\n",
    "tokens, vocab_size = token.add_extra_tokens(tokens, len(tokens))\n",
    "max_length = max([len(i_smiles) for i_smiles in tokenized_smiles])\n",
    "print(max_length)\n",
    "\n",
    "int_tokens, y = token.convert_to_int_tensor(tokenized_smiles, y, max_length, tokens)\n",
    "\n",
    "int_tokens"
   ]
  },
  {
   "cell_type": "code",
   "execution_count": null,
   "metadata": {},
   "outputs": [],
   "source": []
  },
  {
   "cell_type": "code",
   "execution_count": 3,
   "metadata": {},
   "outputs": [
    {
     "ename": "TypeError",
     "evalue": "'int' object is not iterable",
     "output_type": "error",
     "traceback": [
      "\u001b[1;31m---------------------------------------------------------------------------\u001b[0m",
      "\u001b[1;31mTypeError\u001b[0m                                 Traceback (most recent call last)",
      "Cell \u001b[1;32mIn[3], line 1\u001b[0m\n\u001b[1;32m----> 1\u001b[0m \u001b[38;5;28;43mmax\u001b[39;49m\u001b[43m(\u001b[49m\u001b[43mmax_length\u001b[49m\u001b[43m)\u001b[49m\n",
      "\u001b[1;31mTypeError\u001b[0m: 'int' object is not iterable"
     ]
    }
   ],
   "source": [
    "max(max_length)"
   ]
  },
  {
   "cell_type": "code",
   "execution_count": null,
   "metadata": {},
   "outputs": [],
   "source": []
  }
 ],
 "metadata": {
  "kernelspec": {
   "display_name": ".venv",
   "language": "python",
   "name": "python3"
  },
  "language_info": {
   "codemirror_mode": {
    "name": "ipython",
    "version": 3
   },
   "file_extension": ".py",
   "mimetype": "text/x-python",
   "name": "python",
   "nbconvert_exporter": "python",
   "pygments_lexer": "ipython3",
   "version": "3.11.9"
  }
 },
 "nbformat": 4,
 "nbformat_minor": 2
}
