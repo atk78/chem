{
 "cells": [
  {
   "cell_type": "markdown",
   "metadata": {},
   "source": [
    "# 変分オートエンコーダを用いた分子生成\n",
    "生成を制御する機構を持つ分子生成モデルとして変分オートエンコーダにもとづく分子生成モデルを説明する。\n",
    "\n",
    "# 5.1 変分ベイズ法\n",
    "**変分オートエンコーダ**（VAE）とは、変分ベイズ法を用いて定義されるオートエンコーダ型のニューラルネットワークである。**オートエンコーダ**（auto-encoder, 自己符号化器）とは、データを実数値ベクトルに変換するエンコーダと実数値ベクトルからデータを復元するデコーダの対のことである。\n",
    "\n",
    "## 5.1.1 ベイズ推論（Bayesian inference）\n",
    "ベイズ推測はデータに相当する確率変数Xとデータにもとづいて推測したい確率変数Zをもとに定義される手続きことである。データに相当する確率変数Xはデータ単体とは限らず、複数のデータから成るサンプルなどの場合もある。一般的なベイズ推論ではデータによって推測したい未知量のすべてとなる。例えば、パラメトリックモデルのパラメータもZに含めることがある。\n",
    "\n",
    "ここでデータを観測していな状態でのZに対する事前知識$pz(x)$を**事前分布**という。また$Z=z$が与えられたもとで、観測されるデータ$X$が従う確率分布を$p_{X|Z}(x|z)$として、$p_z$と$p_{X|Z}$が既知であるとする。このとき、データ$X$に関する周辺分布\n",
    "$$\n",
    "p_X(x) = \\int p_{X|Z}(x|z) p_Z(z) dz\n",
    "$$\n",
    "\n",
    "を用いて、実現値$X=x$が与えられた下での$Z$の事後分布が\n",
    "$$\n",
    "p_{Z|X}(z|x) = \\frac{p_{X|Z}(x|z) p_Z(z)}{p_X(x)}\n",
    "$$\n",
    "と導出できる。これを**ベイズの法則**あるいは**ベイズの定理**という。つまり、推測したい未知量$Z$に関する知識が、事前の知識$p_Z$から事後的な知識$p_{Z|X}$に更新されたことを表現している。このように、ベイズ推測は、推測したい確率変数を$Z$として確率モデルを作り、$Z$に関する事後分布を計算することで$Z$の取りそうな値を確率分布の形で知るための手法である。\n",
    "\n",
    "しかしながら、周辺分布$p_X(x)$の計算には一般的に膨大な時間を要することが多く、事後分布を計算することが困難であることが多いため、厳密な計算はあきらめ、マルコフ連鎖モンテカルロ法や変分ベイズ法を用いる。とくに、変分ベイズ法はニューラルネットワークとの相性が良いため、ニューラルネットワークと組み合わせて使われることが多い。\n",
    "\n",
    "## 5.1.2 変分ベイズ法（variational Baysian method）\n",
    "**変分ベイズ法**は事後分布$p_{Z|X}$が計算困難な状況下でパラメータ$\\phi$で特徴づけられるパラメトリックな確率モデル$q_{\\phi}$を導入し、それを事後分布$p_{Z|X}$になるべく近づけるような$\\phi^*$を求め、得られた$q_{\\phi^*}$を事後分布の近似とする手法である。この$q_{\\phi}$のことを変分分布（variational distribution）と呼ぶ。事後分布を近似するような変分分布$q_{\\phi}$を求めるためには事後分布と変分分布の間の近さを測る尺度を用いて最適化問題として定式化したうえでその最小化問題を解く手法が必要になる。\n",
    "\n",
    "### 事後分布近似の最適化問題としての定式化\n",
    "事後分布と変分分布の近さを測る手法として**KL情報量**を用いる。\n",
    "$$\n",
    "\\phi^* = \\argmax_{\\phi} \\mathrm{KL}(q_{\\phi}(z) \\| p_{Z|X}(z | x))\n",
    "$$\n",
    "これより、$\\phi^*$を求め、$q_{\\phi^*}(z)$を事後分布$p_{Z|X}(z | x)$の近似とするのが変分ベイズ法である。ただし、このままでは計算式中の$p_{Z|X}$が計算困難であるから計算できない。そこで、計算可能な目的関数を持つ最適化問題を導出する。\n",
    "$$\n",
    "\\begin{align}\n",
    "&\\mathrm{KL} (q_{\\phi}(z) \\| p_{Z|X}(z | x)) \\\\\n",
    "&= \\int q_{\\phi}(z) \\log \\left( \\frac{q_{\\phi}(z)}{p_{Z|X}(z | x)} \\right) dz \\\\\n",
    "&= \\int q_{\\phi}(z) \\log \\left( \\frac{q_{\\phi}(z) p_X(x)}{p_{X, Z}(x, z)} \\right) dz \\\\\n",
    "&= \\int q_{\\phi}(z) \\left[ -\\log \\left( \\frac{p_{X, Z}(x, z)}{q_{\\phi}(z)} \\right) + \\log p_X(x) \\right] dz \\\\\n",
    "&= -\\mathbb{E}_{Z \\sim q_{\\phi}} [\\log p_{X, Z}(x, Z)] + \\mathbb{E}_{Z \\sim q_{\\phi}}[\\log q_{\\phi}(Z)] + \\log p_X(x)\n",
    "\\end{align}\n",
    "$$\n",
    "\n",
    "となる。上式において$\\log p_X(x)$は$q_{\\phi}$に依存しないため、最適解を求めるうえでは無視できる。よって、\n",
    "$$\n",
    "\\phi^* = \\argmax_{\\phi} - \\mathbb{E}_{Z \\sim q_{\\phi}} [\\log p_{X, Z}(x, Z)] + \\mathbb{E}_{Z \\sim q_{phi}} [\\log q_{\\phi} (Z)]\n",
    "$$\n",
    "という最適化問題を解けばよい。ここで、$X$と$Z$の同時分布$p_{X, Z}$は一般に容易に計算できる。期待値に関してもモンテカルロ近似することで近似値を計算することができる。"
   ]
  },
  {
   "cell_type": "code",
   "execution_count": 1,
   "metadata": {},
   "outputs": [],
   "source": [
    "import torch\n",
    "from torch import nn\n",
    "from torch.utils.data import DataLoader, TensorDataset\n",
    "from torch.distributions import OneHotCategorical, Categorical\n",
    "from tqdm import tqdm\n",
    "from smiles_vocab import SmilesVocabulary\n",
    "\n",
    "class SmilesVAE(nn.Module):\n",
    "    def __init__(\n",
    "        self, vocab, latent_dim, emb_dim=128, max_len=100,\n",
    "        encoder_params={\"hidden_size\": 128, \"num_layers\": 1, \"dropout\": 0.},\n",
    "        decoder_params={\"hidden_size\": 128, \"num_layers\": 1, \"dropout\": 0.},\n",
    "        encoder2out_params={\"out_dim_list\": [128, 128]}\n",
    "    ):\n",
    "        \"\"\"_summary_\n",
    "\n",
    "        Parameters\n",
    "        ----------\n",
    "        vocab : SmilesVocabulary\n",
    "            SmilesVocabularyクラスのインスタンス\n",
    "        latent_dim : int\n",
    "            _description_\n",
    "        emb_dim : int, optional\n",
    "            _description_, by default 128\n",
    "        max_len : int, optional\n",
    "            _description_, by default 100\n",
    "        encoder_params : dict, optional\n",
    "            _description_, by default {\"hidden_size\": 128, \"num_layers\": 1, \"dropout\": 0.}\n",
    "        decoder_params : dict, optional\n",
    "            _description_, by default {\"hidden_size\": 128, \"num_layers\": 1, \"dropout\": 0.}\n",
    "        encoder2out_params : dict, optional\n",
    "            _description_, by default {\"out_dim_list\": [128, 128]}\n",
    "        \"\"\"\n",
    "        super().__init__()\n",
    "        self.vocab = vocab\n",
    "        vocab_size = len(self.vocab.char_list)\n",
    "        self.max_len = max_len\n",
    "        self.latent_dim = latent_dim\n",
    "        self.beta = 1.0\n",
    "\n",
    "        self.embedding = nn.Embedding(\n",
    "            num_embeddings=vocab_size, embedding_dim=emb_dim, padding_idx=vocab.pad_idx\n",
    "        )\n",
    "        self.encoder = nn.LSTM(\n",
    "            emb_dim, batch_first=True, **encoder_params\n",
    "        )\n",
    "        self.encoder2out = nn.Sequential()\n",
    "        in_dim = encoder_params[\"hidden_size\"] * 2 if encoder_params.get(\"bidirectional\", False) else encoder_params[\"hidden_size\"]\n",
    "        for each_out_dim in encoder2out_params[\"out_dim_list\"]:\n",
    "            self.encoder2out.append(\n",
    "                nn.Linear(in_dim, each_out_dim)\n",
    "            )\n",
    "            self.encoder2out.append(nn.Sigmoid())\n",
    "            in_dim = each_out_dim\n",
    "\n",
    "        self.encoder_out2mu = nn.Linear(in_dim, latent_dim)\n",
    "        self.encoder_out2logvar = nn.Linear(in_dim, latent_dim)\n",
    "\n",
    "        self.latent2dech = nn.Linear(\n",
    "            in_features=latent_dim,\n",
    "            out_features=decoder_params[\"hidden_size\"] * decoder_params[\"num_layers\"]\n",
    "        )\n",
    "        self.latent2decc = nn.Linear(\n",
    "            in_features=latent_dim,\n",
    "            out_features=decoder_params[\"hidden_size\"] * decoder_params[\"num_layers\"]\n",
    "        )\n",
    "        self.latent2emb = nn.Linear(in_features=latent_dim, out_features=emb_dim)\n",
    "        self.decoder = nn.LSTM(\n",
    "            emb_dim, batch_first=True, bidirectional=False, **decoder_params\n",
    "        )\n",
    "        # アルファベット集合上の確率ベクトルのロジット値に変換する\n",
    "        self.decoder2vocab = nn.Linear(\n",
    "            in_features=decoder_params[\"hidden_size\"], out_features=vocab_size\n",
    "        )\n",
    "        self.out_dist_cls = Categorical\n",
    "        self.loss_func = nn.CrossEntropyLoss(reduction=\"none\")\n",
    "\n",
    "    @property\n",
    "    def device(self):\n",
    "        return next(self.parameters()).device\n",
    "\n",
    "    def encode(self, in_seq):\n",
    "        in_seq_emb = self.embedding(in_seq)\n",
    "        out_seq, (h, c) = self.encoder(in_seq_emb)\n",
    "        last_out = out_seq[:, -1, :]\n",
    "        out = self.encoder2out(last_out)\n",
    "        mu = self.encoder_out2mu(out)\n",
    "        logvar = self.encoder_out2logvar(out)\n",
    "        return mu, logvar\n",
    "\n",
    "    def reparam(self, mu, logvar, deterministic=False):\n",
    "        # z = μ + σε\n",
    "        std = torch.exp(0.5 * logvar)\n",
    "        eps = torch.randn_like(std)\n",
    "        if deterministic:\n",
    "            return mu\n",
    "        else:\n",
    "            return mu + std * eps\n",
    "\n",
    "    def decode(self, z, out_seq=None, deterministic=False):\n",
    "        batch_size = z.shape[0]\n",
    "        h_unstructured = self.latent2dech(z)\n",
    "        c_unstructured = self.latent2decc(z)\n",
    "        h = torch.stack([\n",
    "            h_unstructured[:, each_idx: each_idx+self.decoder.hidden_size]\n",
    "            for each_idx in range(0, h_unstructured.shape[1], self.decoder.hidden_size)\n",
    "        ])\n",
    "\n",
    "        c = torch.stack([\n",
    "            c_unstructured[:, each_idx: each_idx+self.decoder.hidden_size]\n",
    "            for each_idx in range(0, c_unstructured.shape[1], self.decoder.hidden_size)\n",
    "        ])\n",
    "\n",
    "        if out_seq is None:\n",
    "            with torch.no_grad():\n",
    "                in_seq = torch.tensor([[self.vocab.sos_idx]] * batch_size, device=self.device)\n",
    "                out_logit_list = []\n",
    "                for each_idx in range(self.max_len):\n",
    "                    in_seq_emb = self.embedding(in_seq)\n",
    "                    out_seq, (h, c) = self.decoder(in_seq_emb[:, -1, :], (h, c))\n",
    "                    #\n",
    "                    out_logit = self.decoder2vocab(out_seq)\n",
    "                    out_logit_list.append(out_logit)\n",
    "                    if deterministic:\n",
    "                        out_idx = torch.argmax(out_logit, dim=2)\n",
    "                    else:\n",
    "                        out_prob = nn.functional.softmax(\n",
    "                            out_logit, dim=2\n",
    "                        )\n",
    "                        out_idx = self.out_dist_cls(\n",
    "                            probs=out_prob\n",
    "                        ).sample()\n",
    "                    in_seq = torch.cat((in_seq, out_idx), dim=1)\n",
    "                return torch.cat(out_logit_list, dim=1), in_seq\n",
    "        else:\n",
    "            out_seq_emb = self.embedding(out_seq)\n",
    "            out_seq_emb_out, _ = self.decoder(out_seq_emb, (h, c))\n",
    "            out_seq_vocab_logit = self.decoder2vocab(out_seq_emb_out)\n",
    "            return out_seq_vocab_logit[:, :-1], out_seq[:-1]\n",
    "\n",
    "    def forward(self, in_seq, out_seq=None, deterministic=False):\n",
    "        mu, logvar = self.encode(in_seq)\n",
    "        z = self.reparam(mu, logvar, deterministic=deterministic)\n",
    "        out_seq_logit, _ = self.decode(z, out_seq, deterministic=deterministic)\n",
    "        return out_seq_logit, mu, logvar\n",
    "\n",
    "    def loss(self, in_seq, out_seq):\n",
    "        out_seq_logit, mu, logvar = self.forward(in_seq, out_seq)\n",
    "        neg_likelihood = self.loss_func(out_seq_logit.transpose(1, 2), out_seq[:, 1:])\n",
    "        kl_div = -0.5 * (1.0 + logvar - mu ** 2 - torch.exp(logvar)).sum(axis=1).mean()\n",
    "        return neg_likelihood + self.beta * kl_div\n",
    "\n",
    "    def generate(self, z=None, sample_size=None, deterministic=False):\n",
    "        device = next(self.paramaters()).device\n",
    "        if z is None:\n",
    "            z = torch.randn(sample_size, self.latent_dim).to(device)\n",
    "        else:\n",
    "            z = z.to(device)\n",
    "        with torch.no_grad():\n",
    "            self.eval()\n",
    "            _, out_seq = self.decode(z, deterministic=deterministic)\n",
    "            out = [self.vocab.seq2smiles(each_seq) for each_seq in out_seq]\n",
    "            self.train()\n",
    "            return out\n",
    "\n",
    "    def reconstruct(self, in_seq, deterministic=True, max_reconstruct=None, verbose=True):\n",
    "        self.eval()\n",
    "        if max_reconstruct is not None:\n",
    "            in_seq = in_seq[:max_reconstruct]\n",
    "        mu, logvar = self.encode(in_seq)\n",
    "        z = self.reparam(mu, logvar, deterministic=deterministic)\n",
    "        _, out_seq = self.decode(z, deterministic=deterministic)\n",
    "\n",
    "        success_list = []\n",
    "        for each_idx, each_seq in enumerate(in_seq):\n",
    "            truth = self.vocab.seq2smiles(each_seq[::-1])\n",
    "            pred = self.vocab.seq2smiles(out_seq[each_idx])\n",
    "            success_list.append(truth==pred)\n",
    "            if verbose:\n",
    "                print(f\"{truth==pred}\\t{truth} --> {pred}\")\n",
    "        self.train()\n",
    "        return success_list\n",
    "\n",
    "\n",
    "def trainer(model,\n",
    "            train_tensor,\n",
    "            val_tensor,\n",
    "            smiles_vocab,\n",
    "            n_epoch=10,\n",
    "            lr=1e-3,\n",
    "            batch_size=256,\n",
    "            beta_schedule=[0, 0, 0, 0, 0.2, 0.4, 0.6, 0.8, 1.0],\n",
    "            print_freq=100,\n",
    "            device=\"cuda\"):\n",
    "    model.train()\n",
    "    model.to(device)\n",
    "    optimizer = torch.optim.Adam(model.parameters(), lr=lr)\n",
    "    train_dataset = TensorDataset(torch.flip(train_tensor, dims=[1]), train_tensor)\n",
    "    train_dataloader = DataLoader(\n",
    "        train_dataset, batch_size=batch_size, shuffle=True, drop_last=True\n",
    "    )\n",
    "    val_dataset = TensorDataset(torch.flip(val_tensor, dims=[1]), val_tensor)\n",
    "    val_dataloader = DataLoader(\n",
    "        val_dataset, batch_size=batch_size, shuffle=True\n",
    "    )\n",
    "    train_loss_list = []\n",
    "    val_loss_list = []\n",
    "    val_reconstruct_rate_list = []\n",
    "    running_loss = 0\n",
    "    running_sample_size = 0\n",
    "    each_batch_idx = 0\n",
    "    for each_epoch in range(n_epoch):\n",
    "        try:\n",
    "            model.beta = beta_schedule[each_epoch]\n",
    "        except:\n",
    "            pass\n",
    "        print(f\"beta = {beta_schedule[each_epoch]}\")\n",
    "        for each_train_batch in tqdm(train_dataloader):\n",
    "            model.train()\n",
    "            each_loss = model.loss(\n",
    "                each_train_batch[0].to(device), each_train_batch[1].to(device)\n",
    "            )\n",
    "            running_loss += each_loss.item()\n",
    "            running_sample_size += len(each_train_batch[0])\n",
    "            optimizer.zero_grad()\n",
    "            each_loss.backward()\n",
    "            optimizer.step()\n",
    "            if (each_batch_idx + 1) % print_freq == 0:\n",
    "                train_loss_list.append((each_batch_idx + 1, running_loss/running_sample_size))\n",
    "                print(f\"#epoch: {each_epoch}\\t#update: {each_batch_idx+1}\\t\", end=\"\")\n",
    "                print(f\"per-example train loss:\\t{running_loss/running_sample_size}\")\n",
    "            running_loss = 0\n",
    "            running_sample_size = 0\n",
    "            each_batch_idx += 1\n",
    "        val_loss = 0\n",
    "        each_val_success_list = []\n",
    "        with torch.no_grad():\n",
    "            for each_val_batch in val_dataloader:\n",
    "                val_loss += model.loss(each_val_batch[0].to(device),\n",
    "                                       each_val_batch[1].to(device)).item()\n",
    "                each_val_success_list.extend(\n",
    "                    model.reconstruct(each_val_batch[0].to(device), verbose=False)\n",
    "                )\n",
    "        val_loss_list.append((each_batch_idx+1, val_loss/len(val_dataset)))\n",
    "        val_reconstruct_rate_list.append(\n",
    "            (each_batch_idx+1, sum(each_val_success_list)/len(each_val_success_list))\n",
    "        )\n",
    "        print(f\"#update: {each_batch_idx+1},\\tper-example val loss:\\t{val_loss/len(val_dataset)}\")\n",
    "        print(f\" * reconstruction success rate: {val_reconstruct_rate_list[-1][1]}\")\n",
    "\n",
    "    return (train_loss_list, val_loss_list, val_reconstruct_rate_list)"
   ]
  },
  {
   "cell_type": "code",
   "execution_count": 2,
   "metadata": {},
   "outputs": [],
   "source": [
    "import torch\n",
    "from torch import nn\n",
    "from torch.utils.data import DataLoader, TensorDataset\n",
    "from torch.distributions import OneHotCategorical, Categorical\n",
    "from tqdm import tqdm\n",
    "\n",
    "\n",
    "class SmilesVAE(nn.Module):\n",
    "    def __init__(\n",
    "        self,\n",
    "        vocab,\n",
    "        latent_dim,\n",
    "        emb_dim=128,\n",
    "        max_len=100,\n",
    "        encoder_params={\"hidden_size\": 128, \"num_layers\": 1, \"dropout\": 0.0},\n",
    "        decoder_params={\"hidden_size\": 128, \"num_layers\": 1, \"dropout\": 0.0},\n",
    "        encoder2out_params={\"out_dim_list\": [128, 128]},\n",
    "    ):\n",
    "        \"\"\"分子生成オートエンコーダは観測変数xを分子に相当するものにして分子生成モデルを作ることとなる。\n",
    "        モデルの設計の自由度として\n",
    "        1. 観測変数(x)：分子の表現→今回はSMILES\n",
    "        2. エンコーダ(事後分布p(z|x)を近似したq(z|x))→平均μと分散σ^2のニューラルネットワークを指定する必要がある。今回は近似事後分布にLSTMを用いた。\n",
    "        3. デコーダ(p(x|z))→潜在ベクトルzを受け取り、SMILES系列に対応する確率分布を定義。今回は確率分布にLSTM\n",
    "        があげられる。\n",
    "\n",
    "        Parameters\n",
    "        ----------\n",
    "        vocab : list[str]\n",
    "            語彙が保存されたリスト\n",
    "        latent_dim : int\n",
    "            潜在ベクトルのサイズ\n",
    "        emb_dim : int, optional\n",
    "            埋め込み層(one-hot-vectorをいい感じにディープラーニングに使えるようにする)のサイズ, by default 128\n",
    "        max_len : int, optional\n",
    "            系列長 この値に合わせるように埋め込みベクトルを作成する, by default 100\n",
    "        encoder_params : dict, optional\n",
    "            エンコーダ(LSTM)の隠れ層の層数やユニット数、ドロップアウト率のパラメータ, by default {'hidden_size': 128, 'num_layers': 1, 'dropout': 0.}\n",
    "        decoder_params : dict, optional\n",
    "            デコーダ(LSTM)の隠れ層の層数やユニット数、ドロップアウト率のパラメータ, by default {'hidden_size': 128, 'num_layers': 1, 'dropout': 0.}\n",
    "        encoder2out_params : dict, optional\n",
    "            _description_, by default {'out_dim_list': [128, 128]}\n",
    "        \"\"\"\n",
    "        super().__init__()\n",
    "        self.vocab = vocab\n",
    "        vocab_size = len(self.vocab.char_list)\n",
    "        self.max_len = max_len\n",
    "        self.latent_dim = latent_dim\n",
    "        self.beta = 1.0\n",
    "        # 埋め込みベクトル（SMILES->整数系列に変換した入力）を作成するインスタンス\n",
    "        # vocab_size×emb_dimの出力サイズ。paddingはself.bad_idxで行う\n",
    "        self.embedding = nn.Embedding(vocab_size, emb_dim, padding_idx=vocab.pad_idx)\n",
    "        # batch_fisrt=True -> (batch_size)x(系列長)x(語彙サイズ)\n",
    "        self.encoder = nn.LSTM(emb_dim, batch_first=True, **encoder_params)\n",
    "        # エンコーダ(LSTM)の出力の末尾(last_out)の次元(in_dim)をout_dim_list[-1]の次元に変換する\n",
    "        self.encoder2out = nn.Sequential()\n",
    "        in_dim = (\n",
    "            encoder_params[\"hidden_size\"] * 2\n",
    "            if encoder_params.get(\"bidirectional\", False)\n",
    "            else encoder_params[\"hidden_size\"]\n",
    "        )\n",
    "        for each_out_dim in encoder2out_params[\"out_dim_list\"]:\n",
    "            self.encoder2out.append(nn.Linear(in_dim, each_out_dim))\n",
    "            self.encoder2out.append(nn.Sigmoid())\n",
    "            in_dim = each_out_dim\n",
    "        self.encoder_out2mu = nn.Linear(in_dim, latent_dim)\n",
    "        self.encoder_out2logvar = nn.Linear(in_dim, latent_dim)\n",
    "\n",
    "        self.latent2dech = nn.Linear(\n",
    "            in_features=latent_dim,\n",
    "            out_features=decoder_params[\"hidden_size\"] * decoder_params[\"num_layers\"]\n",
    "        )\n",
    "        self.latent2decc = nn.Linear(\n",
    "            in_features=latent_dim,\n",
    "            out_features=decoder_params[\"hidden_size\"] * decoder_params[\"num_layers\"]\n",
    "        )\n",
    "        self.latent2emb = nn.Linear(in_features=latent_dim, out_features=emb_dim)\n",
    "        self.decoder = nn.LSTM(\n",
    "            input_size=emb_dim, batch_first=True, bidirectional=False, **decoder_params\n",
    "        )\n",
    "        self.decoder2vocab = nn.Linear(decoder_params[\"hidden_size\"], vocab_size)\n",
    "        self.out_dist_cls = Categorical\n",
    "        self.loss_func = nn.CrossEntropyLoss(reduction=\"none\")\n",
    "\n",
    "    @property\n",
    "    def device(self):\n",
    "        return next(self.parameters()).device\n",
    "\n",
    "    def encode(self, in_seq):\n",
    "        \"\"\"\n",
    "        SMILES系列を整数値テンソルで表してin_seqを受け取り、潜在空間上の正規分布の平均と分散共分散行列の対角成分の対数の値を返す\n",
    "        1. 整数値テンソルを埋め込みベクトル系列に変換\n",
    "        2. 埋め込みベクトルをエンコーダ(LSTM)に入力し、隠れ状態の系列h=out_seq(サンプルサイズx系列長x隠れ状態の次元)を受け取る\n",
    "        3. 隠れ状態の系列hの最後の要素(out_seq[:,-1,:] 入力系列すべてを反映した隠れ状態)を\n",
    "        順伝播型ニューラルネットワークに入力し、エンコーダの出力zの従う正規分布の平均μと、分散共分散行列の対角成分σ^2を出力する\n",
    "        4. z ~ N(μ, diag(σ^2))を生成し、エンコーダの出力とする\n",
    "\n",
    "        Parameters\n",
    "        ----------\n",
    "        in_seq : str\n",
    "            変換される文字列（ここではSMILES。Selfiesも可能）\n",
    "\n",
    "        Returns\n",
    "        -------\n",
    "        (torch.Tensor, torch.Tensor)\n",
    "            エンコーダによって生成された平均と分散\n",
    "        \"\"\"\n",
    "        in_seq_emb = self.embedding(in_seq)\n",
    "        out_seq, (h, c) = self.encoder(in_seq_emb)\n",
    "        last_out = out_seq[:, -1, :]\n",
    "        out = self.encoder2out(last_out)\n",
    "        return (self.encoder_out2mu(out), self.encoder_out2logvar(out))\n",
    "\n",
    "    def reparam(self, mu, logvar, deterministic=False):\n",
    "        \"\"\"再パラメータ化を行うメソッド。\n",
    "        encoderメソッドの出力である正規分布のパラメータ(μ, σ^2)を受け取って、\n",
    "        その正規分布からサンプリングした値を返す。\n",
    "        単純にサンプリングすると得られた値はencoderのパラメータについて微分することができないため、\n",
    "        再パラメータ化にもとづいたサンプリングを行う。（deterministic=True）\n",
    "\n",
    "        Parameters\n",
    "        ----------\n",
    "        mu : torch.Tensor\n",
    "            エンコーダの出力zに従う正規分布の平均μ\n",
    "        logvar : torch.Tensor\n",
    "            エンコーダの出力zに従う正規分布の分散共分散の対角成分σ^2\n",
    "        deterministic : bool, optional\n",
    "            再パラメータを実行するかのフラグ, by default False\n",
    "\n",
    "        Returns\n",
    "        -------\n",
    "        torch.Tensor\n",
    "            再パラメータ化にもとづいてサンプリングを行われた潜在ベクトル\n",
    "        \"\"\"\n",
    "        std = torch.exp(0.5 * logvar)\n",
    "        # パラメータに依存したい確率変数Z0\n",
    "        eps = torch.randn_like(std)\n",
    "        if deterministic:\n",
    "            return mu\n",
    "        else:\n",
    "            return mu + std * eps\n",
    "\n",
    "    def decode(self, z, out_seq=None, deterministic=False):\n",
    "        \"\"\"潜在ベクトルzを受け取り、それに対応するSMILES系列とその対数尤度を返す。\n",
    "        out_seqがない場合、正解のSMILES系列がない場合のデコードに相当。\n",
    "\n",
    "        Parameters\n",
    "        ----------\n",
    "        z : torch.Tensor\n",
    "            エンコーダによって出力された潜在ベクトル\n",
    "        out_seq : _type_, optional\n",
    "            エンコーダによって得られた隠れ状態の系列（float）、Noneの場合は, by default None\n",
    "        deterministic : bool, optional\n",
    "            _description_, by default False\n",
    "\n",
    "        Returns\n",
    "        -------\n",
    "        _type_\n",
    "            _description_\n",
    "        \"\"\"\n",
    "        batch_size = z.shape[0]\n",
    "        # デコードに用いるLSTMの隠れ状態hと細胞状態cを計算する\n",
    "        h_unstructured = self.latent2dech(z)\n",
    "        c_unstructured = self.latent2decc(z)\n",
    "        h = torch.stack(\n",
    "            [\n",
    "                h_unstructured[:, each_idx : each_idx + self.decoder.hidden_size]\n",
    "                for each_idx in range(0, h_unstructured.shape[1], self.decoder.hidden_size)\n",
    "            ]\n",
    "        )\n",
    "        c = torch.stack(\n",
    "            [\n",
    "                c_unstructured[:, each_idx : each_idx + self.decoder.hidden_size]\n",
    "                for each_idx in range(0, c_unstructured.shape[1], self.decoder.hidden_size)\n",
    "            ]\n",
    "        )\n",
    "        # ここまで ###############################################\n",
    "        if out_seq is None:\n",
    "            with torch.no_grad():\n",
    "                in_seq = torch.tensor(\n",
    "                    [[self.vocab.sos_idx]] * batch_size, device=self.device\n",
    "                )\n",
    "                out_logit_list = []\n",
    "                for each_idx in range(self.max_len):\n",
    "                    in_seq_emb = self.embedding(in_seq)\n",
    "                    out_seq, (h, c) = self.decoder(in_seq_emb[:, -1:, :], (h, c))\n",
    "                    out_logit = self.decoder2vocab(out_seq)\n",
    "                    out_logit_list.append(out_logit)\n",
    "                    if deterministic:\n",
    "                        out_idx = torch.argmax(out_logit, dim=2)\n",
    "                    else:\n",
    "                        out_prob = nn.functional.softmax(out_logit, dim=2)\n",
    "                        out_idx = self.out_dist_cls(probs=out_prob).sample()\n",
    "                    in_seq = torch.cat((in_seq, out_idx), dim=1)\n",
    "                return torch.cat(out_logit_list, dim=1), in_seq\n",
    "        else:\n",
    "            out_seq_emb = self.embedding(out_seq)\n",
    "            out_seq_emb_out, _ = self.decoder(out_seq_emb, (h, c))\n",
    "            out_seq_vocab_logit = self.decoder2vocab(out_seq_emb_out)\n",
    "            return out_seq_vocab_logit[:, :-1], out_seq[:-1]\n",
    "\n",
    "    def forward(self, in_seq, out_seq=None, deterministic=False):\n",
    "        mu, logvar = self.encode(in_seq)\n",
    "        z = self.reparam(mu, logvar, deterministic=deterministic)\n",
    "        out_seq_logit, _ = self.decode(z, out_seq, deterministic=deterministic)\n",
    "        return out_seq_logit, mu, logvar\n",
    "\n",
    "    def loss(self, in_seq, out_seq):\n",
    "        out_seq_logit, mu, logvar = self.forward(in_seq, out_seq)\n",
    "        neg_likelihood = self.loss_func(out_seq_logit.transpose(1, 2), out_seq[:, 1:])\n",
    "        neg_likelihood = neg_likelihood.sum(axis=1).mean()\n",
    "        kl_div = -0.5 * (1.0 + logvar - mu**2 - torch.exp(logvar)).sum(axis=1).mean()\n",
    "        return neg_likelihood + self.beta * kl_div\n",
    "\n",
    "    def generate(self, z=None, sample_size=None, deterministic=False):\n",
    "        device = next(self.parameters()).device\n",
    "        if z is None:\n",
    "            z = torch.randn(sample_size, self.latent_dim).to(device)\n",
    "        else:\n",
    "            z = z.to(device)\n",
    "        with torch.no_grad():\n",
    "            self.eval()\n",
    "            _, out_seq = self.decode(z, deterministic=deterministic)\n",
    "            out = [self.vocab.seq2smiles(each_seq) for each_seq in out_seq]\n",
    "            self.train()\n",
    "            return out\n",
    "\n",
    "    def reconstruct(\n",
    "        self, in_seq, deterministic=True, max_reconstruct=None, verbose=True\n",
    "    ):\n",
    "        self.eval()\n",
    "        if max_reconstruct is not None:\n",
    "            in_seq = in_seq[:max_reconstruct]\n",
    "        mu, logvar = self.encode(in_seq)\n",
    "        z = self.reparam(mu, logvar, deterministic=deterministic)\n",
    "        _, out_seq = self.decode(z, deterministic=deterministic)\n",
    "\n",
    "        success_list = []\n",
    "        for each_idx, each_seq in enumerate(in_seq):\n",
    "            truth = self.vocab.seq2smiles(each_seq)[::-1]\n",
    "            pred = self.vocab.seq2smiles(out_seq[each_idx])\n",
    "            success_list.append(truth == pred)\n",
    "            if verbose:\n",
    "                print(\"{}\\t{} -> {}\".format(truth == pred, truth, pred))\n",
    "        self.train()\n",
    "        return success_list\n",
    "\n",
    "\n",
    "def trainer(\n",
    "    model,\n",
    "    train_tensor,\n",
    "    val_tensor,\n",
    "    smiles_vocab,\n",
    "    n_epoch=10,\n",
    "    lr=1e-3,\n",
    "    batch_size=256,\n",
    "    beta_schedule=[0, 0, 0, 0, 0, 0.2, 0.4, 0.6, 0.8, 1.0],\n",
    "    print_freq=100,\n",
    "    device=\"cuda\",\n",
    "):\n",
    "    model.train()\n",
    "    model.to(device)\n",
    "    optimizer = torch.optim.Adam(model.parameters(), lr=lr)\n",
    "    train_dataset = TensorDataset(torch.flip(train_tensor, dims=[1]), train_tensor)\n",
    "    train_data_loader = DataLoader(\n",
    "        train_dataset, batch_size=batch_size, shuffle=True, drop_last=True\n",
    "    )\n",
    "    val_dataset = TensorDataset(torch.flip(val_tensor, dims=[1]), val_tensor)\n",
    "    val_data_loader = DataLoader(val_dataset, batch_size=batch_size, shuffle=True)\n",
    "    train_loss_list = []\n",
    "    val_loss_list = []\n",
    "    val_reconstruct_rate_list = []\n",
    "    running_loss = 0\n",
    "    running_sample_size = 0\n",
    "    each_batch_idx = 0\n",
    "    for each_epoch in range(n_epoch):\n",
    "        try:\n",
    "            model.beta = beta_schedule[each_epoch]\n",
    "        except:\n",
    "            pass\n",
    "        print(\" beta = {}\".format(model.beta))\n",
    "        for each_train_batch in tqdm(train_data_loader):\n",
    "            model.train()\n",
    "            each_loss = model.loss(\n",
    "                each_train_batch[0].to(device), each_train_batch[1].to(device)\n",
    "            )\n",
    "            running_loss += each_loss.item()\n",
    "            running_sample_size += len(each_train_batch[0])\n",
    "            optimizer.zero_grad()\n",
    "            each_loss.backward()\n",
    "            optimizer.step()\n",
    "            if (each_batch_idx + 1) % print_freq == 0:\n",
    "                train_loss_list.append(\n",
    "                    (each_batch_idx + 1, running_loss / running_sample_size)\n",
    "                )\n",
    "                print(\n",
    "                    \"#epoch: {}\\t#update: {},\\tper-example \"\n",
    "                    \"train loss:\\t{}\".format(\n",
    "                        each_epoch,\n",
    "                        each_batch_idx + 1,\n",
    "                        running_loss / running_sample_size,\n",
    "                    )\n",
    "                )\n",
    "            running_loss = 0\n",
    "            running_sample_size = 0\n",
    "            each_batch_idx += 1\n",
    "        val_loss = 0\n",
    "        each_val_success_list = []\n",
    "        with torch.no_grad():\n",
    "            for each_val_batch in val_data_loader:\n",
    "                val_loss += model.loss(\n",
    "                    each_val_batch[0].to(device), each_val_batch[1].to(device)\n",
    "                ).item()\n",
    "                each_val_success_list.extend(\n",
    "                    model.reconstruct(each_val_batch[0].to(device), verbose=False)\n",
    "                )\n",
    "        val_loss_list.append((each_batch_idx + 1, val_loss / len(val_dataset)))\n",
    "        val_reconstruct_rate_list.append(\n",
    "            (\n",
    "                each_batch_idx + 1,\n",
    "                sum(each_val_success_list) / len(each_val_success_list),\n",
    "            )\n",
    "        )\n",
    "        print(\n",
    "            \"#update: {},\\tper-example val loss:\\t{}\".format(\n",
    "                each_batch_idx + 1, val_loss / len(val_dataset)\n",
    "            )\n",
    "        )\n",
    "        print(\n",
    "            \" * reconstruction success rate: {}\".format(\n",
    "                val_reconstruct_rate_list[-1][1]\n",
    "            )\n",
    "        )\n",
    "\n",
    "    return (train_loss_list, val_loss_list, val_reconstruct_rate_list)"
   ]
  },
  {
   "cell_type": "code",
   "execution_count": 3,
   "metadata": {},
   "outputs": [
    {
     "name": "stderr",
     "output_type": "stream",
     "text": [
      "100%|██████████| 127310/127310 [00:01<00:00, 72590.03it/s]\n",
      "100%|██████████| 7956/7956 [00:00<00:00, 80331.54it/s]\n"
     ]
    },
    {
     "name": "stdout",
     "output_type": "stream",
     "text": [
      " beta = 0.1\n"
     ]
    },
    {
     "name": "stderr",
     "output_type": "stream",
     "text": [
      " 21%|██        | 103/497 [00:04<00:17, 22.34it/s]"
     ]
    },
    {
     "name": "stdout",
     "output_type": "stream",
     "text": [
      "#epoch: 0\t#update: 100,\tper-example train loss:\t0.3909800350666046\n"
     ]
    },
    {
     "name": "stderr",
     "output_type": "stream",
     "text": [
      " 41%|████      | 202/497 [00:09<00:13, 21.95it/s]"
     ]
    },
    {
     "name": "stdout",
     "output_type": "stream",
     "text": [
      "#epoch: 0\t#update: 200,\tper-example train loss:\t0.3167695105075836\n"
     ]
    },
    {
     "name": "stderr",
     "output_type": "stream",
     "text": [
      " 61%|██████    | 304/497 [00:13<00:08, 21.81it/s]"
     ]
    },
    {
     "name": "stdout",
     "output_type": "stream",
     "text": [
      "#epoch: 0\t#update: 300,\tper-example train loss:\t0.28069007396698\n"
     ]
    },
    {
     "name": "stderr",
     "output_type": "stream",
     "text": [
      " 81%|████████  | 403/497 [00:18<00:04, 21.79it/s]"
     ]
    },
    {
     "name": "stdout",
     "output_type": "stream",
     "text": [
      "#epoch: 0\t#update: 400,\tper-example train loss:\t0.2658548355102539\n"
     ]
    },
    {
     "name": "stderr",
     "output_type": "stream",
     "text": [
      "100%|██████████| 497/497 [00:22<00:00, 21.92it/s]\n"
     ]
    },
    {
     "name": "stdout",
     "output_type": "stream",
     "text": [
      "#update: 498,\tper-example val loss:\t0.24994283132423642\n",
      " * reconstruction success rate: 0.0\n",
      " beta = 0.1\n"
     ]
    },
    {
     "name": "stderr",
     "output_type": "stream",
     "text": [
      "  1%|          | 3/497 [00:00<00:23, 21.10it/s]"
     ]
    },
    {
     "name": "stdout",
     "output_type": "stream",
     "text": [
      "#epoch: 1\t#update: 500,\tper-example train loss:\t0.2489125281572342\n"
     ]
    },
    {
     "name": "stderr",
     "output_type": "stream",
     "text": [
      " 21%|██        | 105/497 [00:04<00:17, 22.73it/s]"
     ]
    },
    {
     "name": "stdout",
     "output_type": "stream",
     "text": [
      "#epoch: 1\t#update: 600,\tper-example train loss:\t0.2416968047618866\n"
     ]
    },
    {
     "name": "stderr",
     "output_type": "stream",
     "text": [
      " 42%|████▏     | 207/497 [00:09<00:12, 22.98it/s]"
     ]
    },
    {
     "name": "stdout",
     "output_type": "stream",
     "text": [
      "#epoch: 1\t#update: 700,\tper-example train loss:\t0.2267274558544159\n"
     ]
    },
    {
     "name": "stderr",
     "output_type": "stream",
     "text": [
      " 62%|██████▏   | 306/497 [00:13<00:08, 22.54it/s]"
     ]
    },
    {
     "name": "stdout",
     "output_type": "stream",
     "text": [
      "#epoch: 1\t#update: 800,\tper-example train loss:\t0.21229188144207\n"
     ]
    },
    {
     "name": "stderr",
     "output_type": "stream",
     "text": [
      " 81%|████████▏ | 405/497 [00:17<00:04, 22.77it/s]"
     ]
    },
    {
     "name": "stdout",
     "output_type": "stream",
     "text": [
      "#epoch: 1\t#update: 900,\tper-example train loss:\t0.20426933467388153\n"
     ]
    },
    {
     "name": "stderr",
     "output_type": "stream",
     "text": [
      "100%|██████████| 497/497 [00:21<00:00, 22.64it/s]\n"
     ]
    },
    {
     "name": "stdout",
     "output_type": "stream",
     "text": [
      "#update: 995,\tper-example val loss:\t0.20329949602881767\n",
      " * reconstruction success rate: 0.0\n",
      " beta = 0.1\n"
     ]
    },
    {
     "name": "stderr",
     "output_type": "stream",
     "text": [
      "  2%|▏         | 10/497 [00:00<00:24, 19.71it/s]"
     ]
    },
    {
     "name": "stdout",
     "output_type": "stream",
     "text": [
      "#epoch: 2\t#update: 1000,\tper-example train loss:\t0.19792501628398895\n"
     ]
    },
    {
     "name": "stderr",
     "output_type": "stream",
     "text": [
      " 22%|██▏       | 109/497 [00:04<00:17, 22.40it/s]"
     ]
    },
    {
     "name": "stdout",
     "output_type": "stream",
     "text": [
      "#epoch: 2\t#update: 1100,\tper-example train loss:\t0.19838248193264008\n"
     ]
    },
    {
     "name": "stderr",
     "output_type": "stream",
     "text": [
      " 42%|████▏     | 208/497 [00:09<00:13, 21.75it/s]"
     ]
    },
    {
     "name": "stdout",
     "output_type": "stream",
     "text": [
      "#epoch: 2\t#update: 1200,\tper-example train loss:\t0.1807662546634674\n"
     ]
    },
    {
     "name": "stderr",
     "output_type": "stream",
     "text": [
      " 62%|██████▏   | 307/497 [00:13<00:08, 21.93it/s]"
     ]
    },
    {
     "name": "stdout",
     "output_type": "stream",
     "text": [
      "#epoch: 2\t#update: 1300,\tper-example train loss:\t0.18321511149406433\n"
     ]
    },
    {
     "name": "stderr",
     "output_type": "stream",
     "text": [
      " 82%|████████▏ | 409/497 [00:18<00:03, 22.01it/s]"
     ]
    },
    {
     "name": "stdout",
     "output_type": "stream",
     "text": [
      "#epoch: 2\t#update: 1400,\tper-example train loss:\t0.18008756637573242\n"
     ]
    },
    {
     "name": "stderr",
     "output_type": "stream",
     "text": [
      "100%|██████████| 497/497 [00:22<00:00, 22.13it/s]\n"
     ]
    },
    {
     "name": "stdout",
     "output_type": "stream",
     "text": [
      "#update: 1492,\tper-example val loss:\t0.18104776801506797\n",
      " * reconstruction success rate: 0.0\n",
      " beta = 0.1\n"
     ]
    },
    {
     "name": "stderr",
     "output_type": "stream",
     "text": [
      "  2%|▏         | 12/497 [00:00<00:23, 20.93it/s]"
     ]
    },
    {
     "name": "stdout",
     "output_type": "stream",
     "text": [
      "#epoch: 3\t#update: 1500,\tper-example train loss:\t0.17843779921531677\n"
     ]
    },
    {
     "name": "stderr",
     "output_type": "stream",
     "text": [
      " 22%|██▏       | 111/497 [00:05<00:17, 21.98it/s]"
     ]
    },
    {
     "name": "stdout",
     "output_type": "stream",
     "text": [
      "#epoch: 3\t#update: 1600,\tper-example train loss:\t0.17698144912719727\n"
     ]
    },
    {
     "name": "stderr",
     "output_type": "stream",
     "text": [
      " 43%|████▎     | 213/497 [00:09<00:12, 22.11it/s]"
     ]
    },
    {
     "name": "stdout",
     "output_type": "stream",
     "text": [
      "#epoch: 3\t#update: 1700,\tper-example train loss:\t0.16866379976272583\n"
     ]
    },
    {
     "name": "stderr",
     "output_type": "stream",
     "text": [
      " 63%|██████▎   | 312/497 [00:14<00:08, 21.88it/s]"
     ]
    },
    {
     "name": "stdout",
     "output_type": "stream",
     "text": [
      "#epoch: 3\t#update: 1800,\tper-example train loss:\t0.16750818490982056\n"
     ]
    },
    {
     "name": "stderr",
     "output_type": "stream",
     "text": [
      " 83%|████████▎ | 411/497 [00:18<00:03, 22.17it/s]"
     ]
    },
    {
     "name": "stdout",
     "output_type": "stream",
     "text": [
      "#epoch: 3\t#update: 1900,\tper-example train loss:\t0.16356684267520905\n"
     ]
    },
    {
     "name": "stderr",
     "output_type": "stream",
     "text": [
      "100%|██████████| 497/497 [00:22<00:00, 22.01it/s]\n"
     ]
    },
    {
     "name": "stdout",
     "output_type": "stream",
     "text": [
      "#update: 1989,\tper-example val loss:\t0.1660203952894791\n",
      " * reconstruction success rate: 0.0\n",
      " beta = 0.1\n"
     ]
    },
    {
     "name": "stderr",
     "output_type": "stream",
     "text": [
      "  3%|▎         | 16/497 [00:00<00:22, 21.00it/s]"
     ]
    },
    {
     "name": "stdout",
     "output_type": "stream",
     "text": [
      "#epoch: 4\t#update: 2000,\tper-example train loss:\t0.16469305753707886\n"
     ]
    },
    {
     "name": "stderr",
     "output_type": "stream",
     "text": [
      " 23%|██▎       | 115/497 [00:05<00:17, 22.01it/s]"
     ]
    },
    {
     "name": "stdout",
     "output_type": "stream",
     "text": [
      "#epoch: 4\t#update: 2100,\tper-example train loss:\t0.1538611799478531\n"
     ]
    },
    {
     "name": "stderr",
     "output_type": "stream",
     "text": [
      " 43%|████▎     | 214/497 [00:09<00:12, 21.99it/s]"
     ]
    },
    {
     "name": "stdout",
     "output_type": "stream",
     "text": [
      "#epoch: 4\t#update: 2200,\tper-example train loss:\t0.15894688665866852\n"
     ]
    },
    {
     "name": "stderr",
     "output_type": "stream",
     "text": [
      " 64%|██████▎   | 316/497 [00:14<00:08, 22.33it/s]"
     ]
    },
    {
     "name": "stdout",
     "output_type": "stream",
     "text": [
      "#epoch: 4\t#update: 2300,\tper-example train loss:\t0.1570214033126831\n"
     ]
    },
    {
     "name": "stderr",
     "output_type": "stream",
     "text": [
      " 84%|████████▎ | 415/497 [00:18<00:03, 21.96it/s]"
     ]
    },
    {
     "name": "stdout",
     "output_type": "stream",
     "text": [
      "#epoch: 4\t#update: 2400,\tper-example train loss:\t0.15093515813350677\n"
     ]
    },
    {
     "name": "stderr",
     "output_type": "stream",
     "text": [
      "100%|██████████| 497/497 [00:22<00:00, 22.00it/s]\n"
     ]
    },
    {
     "name": "stdout",
     "output_type": "stream",
     "text": [
      "#update: 2486,\tper-example val loss:\t0.15311989033863496\n",
      " * reconstruction success rate: 0.0\n",
      " beta = 0.1\n"
     ]
    },
    {
     "name": "stderr",
     "output_type": "stream",
     "text": [
      "  3%|▎         | 16/497 [00:00<00:22, 21.63it/s]"
     ]
    },
    {
     "name": "stdout",
     "output_type": "stream",
     "text": [
      "#epoch: 5\t#update: 2500,\tper-example train loss:\t0.14618869125843048\n"
     ]
    },
    {
     "name": "stderr",
     "output_type": "stream",
     "text": [
      " 24%|██▎       | 118/497 [00:05<00:17, 22.09it/s]"
     ]
    },
    {
     "name": "stdout",
     "output_type": "stream",
     "text": [
      "#epoch: 5\t#update: 2600,\tper-example train loss:\t0.15082071721553802\n"
     ]
    },
    {
     "name": "stderr",
     "output_type": "stream",
     "text": [
      " 44%|████▎     | 217/497 [00:09<00:12, 22.31it/s]"
     ]
    },
    {
     "name": "stdout",
     "output_type": "stream",
     "text": [
      "#epoch: 5\t#update: 2700,\tper-example train loss:\t0.1428210437297821\n"
     ]
    },
    {
     "name": "stderr",
     "output_type": "stream",
     "text": [
      " 64%|██████▎   | 316/497 [00:14<00:08, 22.31it/s]"
     ]
    },
    {
     "name": "stdout",
     "output_type": "stream",
     "text": [
      "#epoch: 5\t#update: 2800,\tper-example train loss:\t0.14380912482738495\n"
     ]
    },
    {
     "name": "stderr",
     "output_type": "stream",
     "text": [
      " 84%|████████▍ | 418/497 [00:18<00:03, 22.22it/s]"
     ]
    },
    {
     "name": "stdout",
     "output_type": "stream",
     "text": [
      "#epoch: 5\t#update: 2900,\tper-example train loss:\t0.14284734427928925\n"
     ]
    },
    {
     "name": "stderr",
     "output_type": "stream",
     "text": [
      "100%|██████████| 497/497 [00:22<00:00, 22.13it/s]\n"
     ]
    },
    {
     "name": "stdout",
     "output_type": "stream",
     "text": [
      "#update: 2983,\tper-example val loss:\t0.145037342280584\n",
      " * reconstruction success rate: 0.0\n",
      " beta = 0.1\n"
     ]
    },
    {
     "name": "stderr",
     "output_type": "stream",
     "text": [
      "  4%|▍         | 20/497 [00:00<00:21, 22.10it/s]"
     ]
    },
    {
     "name": "stdout",
     "output_type": "stream",
     "text": [
      "#epoch: 6\t#update: 3000,\tper-example train loss:\t0.13433679938316345\n"
     ]
    },
    {
     "name": "stderr",
     "output_type": "stream",
     "text": [
      " 24%|██▍       | 119/497 [00:05<00:16, 22.30it/s]"
     ]
    },
    {
     "name": "stdout",
     "output_type": "stream",
     "text": [
      "#epoch: 6\t#update: 3100,\tper-example train loss:\t0.1367868334054947\n"
     ]
    },
    {
     "name": "stderr",
     "output_type": "stream",
     "text": [
      " 44%|████▍     | 221/497 [00:09<00:12, 22.39it/s]"
     ]
    },
    {
     "name": "stdout",
     "output_type": "stream",
     "text": [
      "#epoch: 6\t#update: 3200,\tper-example train loss:\t0.13211354613304138\n"
     ]
    },
    {
     "name": "stderr",
     "output_type": "stream",
     "text": [
      " 64%|██████▍   | 320/497 [00:14<00:07, 22.59it/s]"
     ]
    },
    {
     "name": "stdout",
     "output_type": "stream",
     "text": [
      "#epoch: 6\t#update: 3300,\tper-example train loss:\t0.1300058811903\n"
     ]
    },
    {
     "name": "stderr",
     "output_type": "stream",
     "text": [
      " 85%|████████▍ | 422/497 [00:18<00:03, 22.41it/s]"
     ]
    },
    {
     "name": "stdout",
     "output_type": "stream",
     "text": [
      "#epoch: 6\t#update: 3400,\tper-example train loss:\t0.13145975768566132\n"
     ]
    },
    {
     "name": "stderr",
     "output_type": "stream",
     "text": [
      "100%|██████████| 497/497 [00:22<00:00, 22.29it/s]\n"
     ]
    },
    {
     "name": "stdout",
     "output_type": "stream",
     "text": [
      "#update: 3480,\tper-example val loss:\t0.13797287080322695\n",
      " * reconstruction success rate: 0.0003770739064856712\n",
      " beta = 0.1\n"
     ]
    },
    {
     "name": "stderr",
     "output_type": "stream",
     "text": [
      "  5%|▍         | 23/497 [00:01<00:21, 22.04it/s]"
     ]
    },
    {
     "name": "stdout",
     "output_type": "stream",
     "text": [
      "#epoch: 7\t#update: 3500,\tper-example train loss:\t0.1357123702764511\n"
     ]
    },
    {
     "name": "stderr",
     "output_type": "stream",
     "text": [
      " 25%|██▍       | 122/497 [00:05<00:17, 21.99it/s]"
     ]
    },
    {
     "name": "stdout",
     "output_type": "stream",
     "text": [
      "#epoch: 7\t#update: 3600,\tper-example train loss:\t0.1300630420446396\n"
     ]
    },
    {
     "name": "stderr",
     "output_type": "stream",
     "text": [
      " 45%|████▌     | 224/497 [00:10<00:12, 22.57it/s]"
     ]
    },
    {
     "name": "stdout",
     "output_type": "stream",
     "text": [
      "#epoch: 7\t#update: 3700,\tper-example train loss:\t0.12720923125743866\n"
     ]
    },
    {
     "name": "stderr",
     "output_type": "stream",
     "text": [
      " 65%|██████▍   | 323/497 [00:14<00:07, 22.38it/s]"
     ]
    },
    {
     "name": "stdout",
     "output_type": "stream",
     "text": [
      "#epoch: 7\t#update: 3800,\tper-example train loss:\t0.13280130922794342\n"
     ]
    },
    {
     "name": "stderr",
     "output_type": "stream",
     "text": [
      " 86%|████████▌ | 425/497 [00:19<00:03, 21.94it/s]"
     ]
    },
    {
     "name": "stdout",
     "output_type": "stream",
     "text": [
      "#epoch: 7\t#update: 3900,\tper-example train loss:\t0.1273038536310196\n"
     ]
    },
    {
     "name": "stderr",
     "output_type": "stream",
     "text": [
      "100%|██████████| 497/497 [00:22<00:00, 22.14it/s]\n"
     ]
    },
    {
     "name": "stdout",
     "output_type": "stream",
     "text": [
      "#update: 3977,\tper-example val loss:\t0.13006101342647625\n",
      " * reconstruction success rate: 0.0005027652086475615\n",
      " beta = 0.1\n"
     ]
    },
    {
     "name": "stderr",
     "output_type": "stream",
     "text": [
      "  5%|▌         | 26/497 [00:01<00:20, 22.83it/s]"
     ]
    },
    {
     "name": "stdout",
     "output_type": "stream",
     "text": [
      "#epoch: 8\t#update: 4000,\tper-example train loss:\t0.12358050793409348\n"
     ]
    },
    {
     "name": "stderr",
     "output_type": "stream",
     "text": [
      " 25%|██▌       | 125/497 [00:05<00:16, 22.34it/s]"
     ]
    },
    {
     "name": "stdout",
     "output_type": "stream",
     "text": [
      "#epoch: 8\t#update: 4100,\tper-example train loss:\t0.11925522238016129\n"
     ]
    },
    {
     "name": "stderr",
     "output_type": "stream",
     "text": [
      " 46%|████▌     | 227/497 [00:10<00:11, 22.61it/s]"
     ]
    },
    {
     "name": "stdout",
     "output_type": "stream",
     "text": [
      "#epoch: 8\t#update: 4200,\tper-example train loss:\t0.1263532191514969\n"
     ]
    },
    {
     "name": "stderr",
     "output_type": "stream",
     "text": [
      " 66%|██████▌   | 326/497 [00:14<00:07, 22.13it/s]"
     ]
    },
    {
     "name": "stdout",
     "output_type": "stream",
     "text": [
      "#epoch: 8\t#update: 4300,\tper-example train loss:\t0.12555062770843506\n"
     ]
    },
    {
     "name": "stderr",
     "output_type": "stream",
     "text": [
      " 86%|████████▌ | 425/497 [00:19<00:03, 21.54it/s]"
     ]
    },
    {
     "name": "stdout",
     "output_type": "stream",
     "text": [
      "#epoch: 8\t#update: 4400,\tper-example train loss:\t0.12286324054002762\n"
     ]
    },
    {
     "name": "stderr",
     "output_type": "stream",
     "text": [
      "100%|██████████| 497/497 [00:22<00:00, 22.25it/s]\n"
     ]
    },
    {
     "name": "stdout",
     "output_type": "stream",
     "text": [
      "#update: 4474,\tper-example val loss:\t0.12513001951636712\n",
      " * reconstruction success rate: 0.0007541478129713424\n",
      " beta = 0.1\n"
     ]
    },
    {
     "name": "stderr",
     "output_type": "stream",
     "text": [
      "  6%|▌         | 31/497 [00:01<00:20, 22.47it/s]"
     ]
    },
    {
     "name": "stdout",
     "output_type": "stream",
     "text": [
      "#epoch: 9\t#update: 4500,\tper-example train loss:\t0.11919895559549332\n"
     ]
    },
    {
     "name": "stderr",
     "output_type": "stream",
     "text": [
      " 26%|██▌       | 130/497 [00:05<00:16, 22.59it/s]"
     ]
    },
    {
     "name": "stdout",
     "output_type": "stream",
     "text": [
      "#epoch: 9\t#update: 4600,\tper-example train loss:\t0.11613935232162476\n"
     ]
    },
    {
     "name": "stderr",
     "output_type": "stream",
     "text": [
      " 46%|████▌     | 229/497 [00:10<00:13, 20.35it/s]"
     ]
    },
    {
     "name": "stdout",
     "output_type": "stream",
     "text": [
      "#epoch: 9\t#update: 4700,\tper-example train loss:\t0.1197492778301239\n"
     ]
    },
    {
     "name": "stderr",
     "output_type": "stream",
     "text": [
      " 67%|██████▋   | 331/497 [00:14<00:07, 22.70it/s]"
     ]
    },
    {
     "name": "stdout",
     "output_type": "stream",
     "text": [
      "#epoch: 9\t#update: 4800,\tper-example train loss:\t0.11810732632875443\n"
     ]
    },
    {
     "name": "stderr",
     "output_type": "stream",
     "text": [
      " 87%|████████▋ | 430/497 [00:19<00:03, 21.73it/s]"
     ]
    },
    {
     "name": "stdout",
     "output_type": "stream",
     "text": [
      "#epoch: 9\t#update: 4900,\tper-example train loss:\t0.11799022555351257\n"
     ]
    },
    {
     "name": "stderr",
     "output_type": "stream",
     "text": [
      "100%|██████████| 497/497 [00:22<00:00, 22.27it/s]\n"
     ]
    },
    {
     "name": "stdout",
     "output_type": "stream",
     "text": [
      "#update: 4971,\tper-example val loss:\t0.12113714146218509\n",
      " * reconstruction success rate: 0.0013826043237807944\n"
     ]
    },
    {
     "data": {
      "image/png": "[encoded data removed]",
      "text/plain": [
       "<Figure size 640x480 with 1 Axes>"
      ]
     },
     "metadata": {},
     "output_type": "display_data"
    },
    {
     "data": {
      "image/png": "[encoded data removed]",
      "text/plain": [
       "<Figure size 640x480 with 1 Axes>"
      ]
     },
     "metadata": {},
     "output_type": "display_data"
    },
    {
     "name": "stdout",
     "output_type": "stream",
     "text": [
      "success rate: 0.575\n",
      "['CC1C(C)Oc2ccccc2CN1CCN(Cc2ccc(Cl)cc2)CC1', 'O=C(Nc1ccc2ccccc2c1)c1ccccc1C(=O)Nc1ccccc1', 'Cc1nn2c(=O)ccccc2n1C(=O)Nc1ccc(Cl)cc1', 'Cc1ccc(OC(=O)NC(=O)Nc2ccc(Cl)cc2)c(C)c1', 'CCC(C(=O)OCc1cc(Cl)ccc1Cl)N1CCC(C2CCCC2)C1', 'CCOC(=O)C(=O)c1c(C)c2ccccc2c1C', 'OC(=c1ccc(-c2nc3ccc(N4CCN(Cc5ccccc5)cc4)ccc3n2)CC(O)C(O)C(O)C(C)C)c1', 'CCC(C)(N)Cn1ccc2ccccc2c1=O', 'OCOc1cc(-c2ccc3c(c2)OCOc2ccc(-c3cc(OC(=O)Nc4ccc(C(=O)NC(=O)c4ccc(Cl)cc4)cc3)ccc2)C(=O)NC(C)C)cc1', 'COC(c1cccc(Oc2ccccc2)c1)N1CCN(c2ccccc2)CC1', 'CN(C)Sc1nc(-c2ccc(N)cc2)nc(-c2ccc(Cl)cc2)n1', 'COC(=Nc1ccn2c(NC(=O)c3cc(C(=O)NCC(=O)Nc4ccccc4)ccc3)ccc2n1)c1ccccc1', 'CC(=O)NCc1cnc(-c2cc(-c3ccc(Cl)cc3)nc2C)c(C)c1C', 'COC(=Oc1ccc2ncncc2c1)NC(=O)CCCCCCCCCCCCCCCCCCCCCCCCCCCCCCCCCCCCCCCCN(C)C(=O)OC(C)(C)C)C(=O)CCCCCCCCCCC', 'O=C(Cc1ccccc1)NC(=O)CCNC(=O)C(Cc1ccccc1)C(=O)NCCCCCCCCCCCCCCCCCCCCCCCCCCCN(C)C', 'O=C(Nc1cccc(C(F)(F)F)c1)NC(=O)CCCNC(=O)C(C)C', 'CC(=C(N)c1cccnc1)NC(=O)CCCCN1CCN(c2ccccc2)CC1', 'NS(=O)(=O)c1ccc(NC(=O)Nc2nccnc2N)c(C(=O)O)c1', 'CCc1ccc(OC(=O)N2CC(=O)c3ccc(OC)cc3OC2=O)cc1', 'C=C(CCNC(C)CCNC(=O)NC(C)C)C(=O)NC(Cc1ccccc1)C(=O)O', 'CN1C(=O)c2c(C(=O)N(C)c3ccccc3)c(C)c(C)c2C(=O)OC1', 'COC(=O)NC(C(=O)NC(C)C)Nc1ccc(Cl)cc1', 'CCCO1C(=O)c2nc(-c3ccc(OC)cc3)nc(NC(=O)CCCCCCCCCCCCCCCCCCCCCCCCCCCCCCCCCCCCCCCCCC3(C)C(C)C(C)C3(C)CCC3(', 'CCOC1=CCC(=C)CCCc2cccc(C)c2C(=O)OCC1CCCCCCCCCCCCCCCCCCCCCCCCCCCCCCCCCCCCCCCCCCCCCCCCCCCCCCCCCCCCCCCCCC', 'Cc1cc(CCN2CCCCC2)c(-c2ccc(NC(=O)C3CCCC3)cc2)cc1', 'CC(C)c1ncncc1CN1CCCCC1(Cc2ccc(NC(=O)NC(=O)c3ccccc3)cc2)CC1', 'COc1cccc(NC(=O)CCNc2ncc(C(=O)NCCCCCCNC(=O)c3ccccc3)cc2)c1', 'CC(C1=NC(c2ccccc2)CC1)c1ccc(NC(=O)c2ccc(Cl)cc2)cc1', 'C=CC(=O)NCCCN1CC(O)CCc2ccccc21', 'Cc1cc(Oc2cc(OC)c(OC)c(C(=O)NCC(=O)NCCCCCCCCCCCCCCCCCCCCCCCCN2C(=O)NC(Cc3ccccc3)C(=O)O)c2ccccc2)cc1', 'CN1CC2(CCCCC2)C1C(=O)Nc1ccc(Cl)cc1', 'COc1c(N=C(O)Nc2ccccc2)c(=O)n(Cc2ccccc2)c2cc(OC)c(OC)cc21', 'NC(=O)CC(=O)Nc1ccc(C(N)=NC(=O)NC(C)C(=O)NC(C)C(=O)NC(Cc2ccccc2)C(=O)O)cc1', 'Cc1cc(NCCN2CCc3ccc(Cl)cc3C(=O)NCCN2CCCC2)cc1C(=O)NCCCCCCCCCCCNC(=O)C(C)C', 'COC(=O)CN1CCCCN(c2ncnc(C)c2C)C1', 'Cc1nc(C)nc(NCCCCCCCNc2ccc(-c3ccccc3)cc2)c1', 'CN=C(Cc1ccccc1)C(=O)NCCCCCCCCCCCCCCCCCCCCCCCCCCCCCCCCCCCCCCCCCCCCCCCCCCCCCCCCCCCCCCCCCCCCCCCCCCCCCCCCC', 'O=Cc1ncnc2cnc(NC(=O)c3ccccc3)nc12', 'CC1=C(C)CC(=O)cc1c(Cc2ccc(Cl)cc2)C(=O)NC(C)C(=O)OCC(=O)O', 'CC(Oc1ccccc1)c1ccccc1Oc1ccc(-c2ccc(Cl)cc2)cc1', 'COC(=C1C=Cc2nc(N)nc(N)c2c1)C(=O)Nc1ccc(C(=O)NCCc2ccccc2)cc1', 'COC(=O)c1cccc(N2CCN(c3ccccc3)CC2)c1', 'CC(=O)N1Cc2ccc(-c3ccc(Cl)cc3)cc2C1', 'COc1cc(NC(=O)CN2CCC(C)(C)CC2)ccc1OC', 'CC(=Cc1cccc(C=Cc2ccccc2)c1)c1ccc(O)cc1', 'NC(CC(=O)NN=Cc1ccc2c(c1)OCO2)CCCCCCCCCCCCCCCCCCCCCCCCCCCCCCC(=O)NC(C)C(=O)NC(C)C(=O)NC(C)C', 'CCN1C(=O)c2ccc(C(C)(C)C)cc2C1', 'Cc1ccc2c(c1C(=O)NC(C)(C)C)C(=O)NC(Cc1ccccc1)C2', 'CCN1c2cc(C(CC(C)NC(=O)c3ccc(Cl)cc3)ccc2)C(=O)NC1c1ccccc1', 'Cc1c(-c2cnc3nc(-c4ccc(OC)cc4)nc3c2)nc(N)n1', 'COC(=O)N(C(=O)c1cc2c(c1)OCO2)c1c(NC(=O)c2ccc(Cl)cc2)nc(N)n1', 'C=CC(=O)NCC1C(c2cc(C(=O)O)cc(OC)c2)C(=O)N1CCCCCCCCCCCCCCCCCCCCCCCCCCCCCCCCCCCCCCCCCCCCCCCCCCCCCCCCCCCC', 'COc1nn2cc(-c3ccccc3Nc3cc(C(F)(F)F)ccc3F)cc2n1CC1CCN(CCCCCCCCCCCCCCCCCCCCCCCCCCC3CCCC3CCC3CC1)C2', 'Clc1cccc(CCC2CCC(NC(=O)C3CCCCC3)C2)c1', 'CNC(=O)Cn1cc(C(=O)NC(C)C(=O)Nc2cc(C(F)(F)F)cc(C(F)(F)F)c2)nc(N2CCCCC2)n1', 'C=CNC1=CCN(c2ccccc2)C(=O)N1Cc1ccc(-c2ccc(Cl)cc2)cc1', 'COC(=O)c1ccccc1C1CCCCC1', 'CN(C)(=O)c1nc2c(c1)C(CC(=O)Nc1ccc(C(=O)Nc3ccc(C(F)(F)F)cc3)cc1)C(=O)NC2CCCCCCC1', 'CCOc1ccc(OC)c(CNC(=O)CC(=O)Nc2ccc(NC(=O)C(C)(C)C)cc2)c1C(=O)NC(Cc1ccccc1)C(=O)NC(Cc1ccccc1)C(=O)NC(CC(', 'O=Cc1ccc(Cl)cc1CNCCCCNCCNC(=O)c1ccccc1', 'Cc1ccc(NC2=CCN(Cc3ccccc3)C(=O)N2CCCCCCCCCCCCCCCCCCCCNC(=O)c2ccc(Cl)cc2)cc1', 'CC(O)C(=O)c1nc(N)nc(Nc2ccc(-c3ccc(OC)cc3)nc2)c1', 'CCOC(=CCc1c(O)cc2cnnc2c1)CCCCCN1CCCCC1', 'CC1(Cc2ccc(O)cc2)C(=O)C1CCCCCCCCCCCCCCCCCCCC(=O)N(CC(=O)NCCCCCCCCCCCCCCCCCCCCCCCCCCCCCCCCCCCCCCCCCCCCC', 'CCOC(=O)c1nc2nc(-c3ccccc3)nc(N)n2Cc1ccccc1', 'CO=C(O)c1c2c(c1)CCN(C(=O)c1cc(C(=O)Nc3ccc(Cl)cc3)nc(N)n2)C1', 'CC(=O)Nc1ccc(CN2CCCCCC2)nc1', 'CCN1CC(C(=O)c2ccccc2)C(C)C(=O)N1CCCCCCCCCCCCCCCCCCCCCCCCCCCCCCCCC(=O)N1CCCCC1CCCCCCCCCCCCCCCCCCCCCCCCC', 'CC1Cc2c(C(CN(C)C)c(N)nc(N)c3ccc(Cl)cc32)CC1', 'O=C(CCC(=O)c1ccccc1)N1CCN(C(=O)CCCCCCCCCCCCCCCCCCCCCC(=O)N2CCCCC2)CC1', 'C=CCN(C(Cc1nncnc1)NC(=O)C1CCCC1)C(=O)O', 'NC(=O)COC(=O)c1ccn(-c2cc(C(N)=NC(C)C)cc2)cc1', 'C1=CCC2(CN(CCNc3ccccc3)CC2)C(=O)N1Cc1ccc(Cl)cc1', 'COc1cc(NC(=O)c2cc(Cl)ccn2)nc2ccccc12', 'COc1ccc(-c2c(C)c(C)cc(C)c2)cc1', 'CCNc1nc(C(=O)NCc2ccccc2C(=O)NCCCCCCCCCCCCCCCCCN2CCCCC2)nc2cc(C(=O)NCCCCCCCCCCCCCCCCCCCCCCCCCCCCCCCCCCC', 'CC(C)(COC(=O)Nc1cc(-c2ccc(F)cc2)ccc1)C(=O)NCCCCCCCCCCCCCCCCCCCCCCCCCCCCCCCCCCCCCCCCCCCCCCCCCCCCCCCCCCC', 'CCOC(=O)Cc1ccc2c(c1)CCN(Cc1ccc(C(=O)Nc3ccc(C(=O)NC(C)(C)C)cc3)cc1)C(=O)N2CCN(C(=O)C(C)C)C(=O)NC1CCCCC1', 'CC(Oc1ccc(-c2ccccn2)cc1)Nc1ccc(C(=O)N2CCCCC2)cc1', 'COC(=NCCCCc1nccc2ccccc12)NCCCCCCCCCCCCCCCCCN(CCCCCCCCCCCCCCCCCCCCCCCCCC(=O)N1CCCCC1)C(=O)O', 'CCN(C)Cc1c2c(O)cc(Nc3ccc(N4CCN(C(=O)Nc5ccccc5)cc4)CC3)ccc2n1', 'C(Nc1cc(O)cc(O)c1)C(=O)CCCCCCCCCCN(CCCCCCCNC(=O)C(C)C)C(=O)NC(C)C', 'CNC1CC(NC(=O)C(CNC(=O)C(C)NC(=O)C(C)C)NC(=O)C(C)C)NC(=O)C(CC(C)C)NC(=O)C(C)C(C)C(=O)NC(CC(=O)NC(C)C)C(', 'Cc1c(C)c(C)nc(Nc2ccc(N3CCN(C)CC3)cc2)n1Cc1ccc(Cl)cc1', 'NC(=O)C1CCCCC1C(C)C(C)CC1CC(C)(C)CC1C(=O)OCC1CCCCC1', 'O=C1c2cc(C(C)C)c(OCc3ccc(Cl)cc3)c(=O)n2CC1CCCCCCCCCCCCCCCCC(=O)N(C)C(=O)NC(C)C(=O)NC(C)C(=O)NC(C)C', 'O=Cc1c2c(cc1Cl)C(=O)NCC2CCCCCCCCN1C(=O)C(Cc2ccccc2)C(=O)N1CCCCCCCCCCCCCCCCCCCCCCCCCCCCCCCCCCCCCCCCCCCC', 'O=C(c1ccccc1)N1CCN(C(=O)c2cccc(C(=O)Nc3ccc(Cl)cc3)c2)C(=O)N1Cc1ccc(C(=O)NCCc2ccccc2)cc1', 'Cc1c(-c2ccc(NC(=O)Nc3ccccc3)cc2)nc(N2CCCCC2)n1', 'Nc1ccc(-c2ccccc2)cc1-c1cccc(NC(=O)c2cccnc2)c1', 'COc1cc(CNC(=O)C(CNC(=O)c2ccc(Cl)cc2)C(=O)O)ccc1OC', 'CN(C)=CCN1C(=O)C2CCC(CN3CCC(c4ccc(C(F)(F)F)cc4)CC3)CC21', 'CC(COc1cc2nc(C(C)(C)N3CCN(Cc4ccccc4)CC3)cc2)cc1C(=O)NC(C)C', 'CCOC(=O)CCc1ccc(C=C2CCc3ccc(OC)c(OC)c3O2)cc1OC', 'COC(=O)N1C(=O)Nc2ccccc2N1C(=O)c1ccccc1', 'CC1(c2cccc(CNC(=O)CNCCCCCCCCCCCCCCCCCNC(=O)c3ccc(OC)cc3)c2)C(=O)N(C)C(=O)C1CCCCCCCCCCCCCCCCCCCCCCCCCCC', 'CCCOC(=O)c1cc(C)c(C(=O)NCCCCC(=O)Nc2ccc(C(=O)O)cc2)cc1', 'O=C(C(=O)C(C)N1CCCC(C(=O)Nc2ccc(Cl)cc2)C1)c1ccc(C(=O)NCCCCCCCCCCCCCCCCCCCCCCCCCCCCCCCN(C(=O)C(C)CCCCCC', 'CC(=O)Nc1nc2nc(N3CCCC3)ncc2c1Cl', 'O=Cc1ccc(NC(=O)c2ccc(N3CCN(Cc4ccccc4)CC3)cc2)c(=O)n1', 'COc1ncnc(Nc2ccc(C3CCN(C(=O)c4ccc(Cl)cc4)CC3)cc2)n1', 'COc1cc(-c2ccc(O)cc2)c(OC)c1OC', 'CN(CO)Cc1cc2c(nc3c(-c4ccccc4)nc(NCCCCCCCCCCCCCCCCCCCCCCCCC(=O)NC(C)C)CCCC3CCCC3CCCC3CC2C(=O)NCCCCCCCCC', 'CN(Cc1cccnc1)NC(=O)CCCCNC(=O)c1ccc(C(=O)N2CCCCC2)cc1', 'Cc1nc2c(NCCN(C)C)c(NC(=O)c3ccc(C(=O)NCC(=O)NCCCCCCCCCCCCCCCCCCCCCCCCCCCCCC(=O)O)ccc3nc4ccccc4c3CC2CCCC', 'O=C(NN1CCc2cc(O)ccc2C1)c1ccccc1', 'O=C(O)N1c2cc(Oc3ccc(OC)cc3)c(=O)n(C3CCCC3)c2c2c1CCN(C(=O)CCCCCCCCCCCCCCCCCCCCCCCCCCCCCCCCCCCCCCCCCCCCC', 'COC(=O)CCC(NC(=O)N1Cc2ccc(OCc3ccccc3)cc2)C1', 'Cc1ccc(C)c(C)n1CCN(CCCCCNC(=O)C(C)C)C(=O)NC(Cc1ccccc1)C(=O)O', 'O=Cc1cc2c(Nc3nc(C)nc(O)c3C)ccc2nc1-c1ccccc1', 'CN(C)CC(=O)NCc1cccc(NC(=O)CCC(=O)Nc2ccc(Cl)cc2)c1', 'COC(=O)c1ccc(N2CCN(Cc3nnc(N4CCCCC4)n3)nc(N)n2)c1', 'N#CC1(Cc2ccccc2)c2ccccc2C1=O', 'COC(=O)NC(=O)CNC(=O)C1CCN(CCCCCCCCCCCCCCCCCCCCCCCCCCCCCCCCCCCCCCCCCCCCCCCCCCCCCCCCCCCCCCCCCCCCCCCCCCCC', 'CC=CCc1ccc(O)cc1OCCCCCCCCCCCCCCCCCCCCCCCCCCN(C(=O)c1ccc(C(=O)O)cc1)C(=O)O', 'CCOC(=O)CCC1=C(CC(=O)Nc2ccccc2)C(=O)NC1CCCCCCCCCCCCCCCCCCCCCCCCCCCCCCCCCCCCCCCCCCCCCCCCCCCCCCCCCCCCCCC', 'CCc1cc(O)cc(NC2CCN(c3ccccc3)n2C(=O)NC(Cc2ccc(Cl)cc2)C(=O)NC1CCCCCCCCCCCCCCCCCCCCCCCCCCCCCCCCCCCCCCCCCC', 'CC1Oc2cc(-c3ccc(OC)cc3)cc(OCCOCCOCCOCCOCCOCCOCCOCCOCCOCCOCCOCC(O)CCCCCCCCCCCCCCCCCCCCCCCCCC3CCCC3(C)C2', 'COc1nc(-c2ccccn2)nc2c(NC(=O)c3ccccc3)c(=O)n(C)c2c1', 'CCOc1ccc(C(=O)Nc2cc(OC)c(OC(C)(C)C)cc2)c(=O)c1OC', 'CCCCCOc1cccc(CNCCCCCNCCCCCCCCCCCCCCCCCCCCCCCCCCCNC(=O)c2ccccc2)c1)c1ccccc1', 'NCC1CNC(=O)CCn1c(-c2ccccc2)nn1C(=O)NC1CCCCC1', 'Cc1cc(NC(=O)C2CCN(Cc3ccccc3)C2=O)c(C(=O)NCCCCCCNC(=O)C(C)C)c2ccccc2n1', 'COc1ccn2nc(NC(=O)C3CCCC3)ccc2c1', 'CCCNc1nc(O)c2c(c1)OC(=O)N(Cc1ccc(Cl)cc1)C(=O)N2', 'Cc1nc2c(CCCCCCCCCCCNC(=O)O)ccc2cc2ccccc12', 'C=N1CCCN(c2ccccc2Cl)C1=O', 'CN(CCCCN1CCn2c(=O)n(C)c3ccccc32)C(=O)N1CCCCCCCCCCCCCCCCCCCCCCCCCCCCCCCCCCCCCCCCCCCCCCCCCCCCCCCCCCCCCCC', 'COC1(COCCN2CCCCN(CCCCCCNC(=O)c3ccc(OC)c(OC)c3)C2=O)C(=O)C(C)C(=O)N1CCCCCCCCCCCCCCCCCCCCCCCCCCCC(=O)NC(', 'NC(C)C1n2cnc3ccccc32)c1', 'COc1cc2c(cc1C(=O)N(C)C(=O)C1CCCCC1)C(=O)N(Cc1ccc(Cl)cc1)C2', 'COc1nccc(CNC(CCCNC(=O)C2CCCC2)C(=O)NC(Cc2ccccc2)C(=O)NC(C)C(=O)NC1CCCCC1)C(=O)NC(CC(=O)O)C(C)C', 'CCNc1cc(-c2nc3c(cc2OC)C(=O)C(C)(C)C2)n(C)c(=O)n1C', 'CCOC(=O)Nc1nc(C)c(-c2ccccc2)nc1-c1ccc(Cl)cc1', 'CN(C)C(=O)c1nc(C(=O)NC2CCCCC2)nc2ccccc12', 'COCc1ccc(NCCN2CCCCC2(c3ccc(N4CCN(C)CC4)cc3)CC2)cc1', 'Cn1c(CNc2cccc(Cl)c2)nc2cc(C(=O)NCCCCCCCCCCCCCCCCCCCCCCCCCCN(CCCCCN(C)C)CC3(C)CCC3CCN(CCCCCCCCCCCCCCCCC', 'O=C(COCCc1cccccc1)Nc1ccc(Cl)cc1C(=O)NCCN1CCCCC1', 'CCOCCCn1c(C)nc(Nc2cc(C(F)(F)F)cc(C(F)(F)F)c2)n1CCCCCCCCCCCCCCCCC(=O)N(CCCCCCCCCCCCCCCCCCCCCCCCCCCCCCCC', 'O=C(Nc1cc2ccc(OC)cc2c1)c1ccc(OC)cc1', 'Cc1nc(NC(=O)CCNCc2ccc(C(=O)NCCCCCCCCCCCCCCCCCCCNC(=O)c3ccc(C(=O)O)cc3)cc2C(=O)NCCCCCCCCCCCCCCCCCNC(=O)', 'CC(=O)Nc1ccccc1C(=O)N1CCN(C(=O)CCCCCCCCCCCCCCCCCCCCCCCCCCCCCCCCCCCCCCCCCCCCCCCCCCCCCCCCCCCCCCCCCCCCCCC', 'CC(NC(=O)NC(=O)C(C)Nc1ccccc1)c1ccccc1', 'CN(Cc1ccc(C(=O)c2ccccc2)cc1)C(=O)NC(Cc1ccc(Cl)cc1)C(=O)NC(CC(=O)O)C(=O)O', 'CCCc1cc(-c2cc(O)cc(-c3ccc(N4CCCC4)cc3)n2)ccc1OC', 'O=C(Cc1ccc(F)c(N)n1)Nc1ccc(C(=O)N2CCN(C(=O)c3ccccc3)CC2)cc1', 'COc1ccc(N=Nc2ccc(Cl)cc2)nc1Nc1ccc(NC(=O)C2CCCC2)cc1', 'Cc1cc(-c2ccc3nc(-c4ccccc4)nn3-c2ccc(NC(=O)c3ccc(Cl)cc3)c2)ccc1OCCN1CCCCC1', 'CCc1nc(C(=O)NCC2CCCC2)c2cc(C(=O)NCC(=O)NCCCCCCCCCCCCCCCCCCCCCCCN(CCCCC(=O)O)c3ccccc3n2CCCCCCCCCCCCCCCC', 'CN(C)CCN(C)c1ccc(NC(=O)CC(=O)Nc2ccc(C(=O)NC(C)(C)C)c(C(=O)O)c2)cc1', 'CC(c1ccccc1)N1CCN(CCNCc2ccc(Cl)cc2)CC1', 'COc1cc(C)c(NC(=O)Nc2ccccc2C(=O)NC(Cc2ccc(Cl)cc2)NC(=O)C(C)C)cc1', 'C=CC(Nc1cccc2nc(N)ccc12)N1CCCCC1', 'COC1=C(C(=O)c2cc(C)c(C(=O)O)cc2)C(=O)N(Cc2ccc(Cl)cc2)C(=O)N1Cc1ccccc1', 'CN(CCC1=Nc1ccccc1)C(=O)NCCCCCCCCCCCCCCCCCCCCCCCCCCCCCCCCCCCCCCCCCCCCCCCCCCCCCCCCCCCCCCCCCCCCCCCCCCCCCC', 'CCCCC(NC(=O)c1ccc(Cl)cc1Cl)C1CCCC1', 'Cc1cc(C)n2cc(-c3ccccc3)nc(Nc3ccc(Cl)cc3)c21', 'CCCOC(=O)N(Cc1c(F)cccc1)C(=O)OCCO', 'CCC(C(=O)NO)c1cc(O)c2ccccc2c1', 'CCCc1cc(-c2c(O)cc(OCc3ccc(OC)cc3)c(=O)[nH]c2=O)ccc1OC', 'CNC1CN(CCO)C(=O)c2c(C(=O)N3CCCCC3)c(=O)n(C)c3ccccc21', 'CC(O)(Cc1cc(-c2nc3cc(NC(=O)c4ccccc4)ccc3n2)ccc1OCCOC(=O)CCCCCCCCCCCCCCCCCCCCCCCCCCCCCCCCCCCCCCCCCCCCCC', 'CC=C(NCCO)N1CCC(C2(C)CCC2)c2cc(C(=O)NCCCCCCCCCCCCCCCCCCCCCCC(=O)NCCCCCC(=O)NCCCCCCCCCCCCCCCCCC(=O)Nc3c', 'Cc1cc(CN(C)C2=O)ccc2nc(NC(=O)c3cc(Cl)ccc3Cl)nc1-2', 'CN(Cc1ccc2nc(Nc3ccccc3)nc(Nc3ccc(Cl)cc3)c2)c1', 'Cc1cc(C(=O)N(C)C(=O)Nc2ccccc2Cl)nc2ccccc12', 'COc1ccc(CN2C(C(=O)NC(C)C)CCCCC2CCCCCCCCCCCCCCCCCCCCCCCCCCCCCCCCCCCCCCCCCCCCCCCCCCCCCCCCCCCCCCCCCCCCN(C', 'CC1CCN(c2cc(C(C)C(=O)NCCN(C)C)nc(N)n2)CC(C)C1', 'CCCOc1cc(-c2cccc(OC)c2)c(=O)c2c(c1)OC(=O)C(C)(C)C(=O)N2', 'Cc1ccn(CNc2ccccc2)c1', 'COc1c(C(F)F)c2ccccc2c2ccc(OC)cc12', 'O=C(=O)C1(C)c2ccccc2C1', 'Cn1cc(-c2cccnc2NC(=O)NC(Cc2ccc(Cl)cc2)C(=O)NC(C)C)cc1', 'COC(c1ccc(C2NC(=O)N(C(C)C)C(=O)N2CCCCCCCCCCCCCCCCCCCCCCCCCCCCCCCCCCCCCCCCNC(=O)c2ccc(C(F)(F)F)cc2)cc1)', 'C=CC(N)c1nccc(NCC2CCCC2)c1', 'Cc1cc(-c2nc(CN3CCCCC3)ccc2)cc(-c2ccc(Cl)cc2)n1', 'COC(=O)NCc1ncnc(NC(=O)c2ccc3c(c2)OCCO3)c1', 'CC=CC(O)C1CC2(CC(C)N(Cc3ccc(Cl)cc3)CC2)C(=O)N1Cc1ccc(Cl)cc1', 'CN(C)c1nc(Nc2cccc(NC(=O)Nc3ccc(Cl)cc3)n2)nc2c1CCCC2', 'Cc1nc(NCCc2ccc(CN3CCN(C(=O)c4ccccc4)CC3)cc2)nc(N)n1', 'COc1nc(N(C)C2CCCC2)c(-c2ccc(Cl)cc2)n1', 'Oc1ccc(C)nc1NC(=O)C1CC(=O)N(CCCCCCCCCCCCCCCCCCCCCCCCCCCCCCCCCCCCCCCCCCCCCCCCCCCCCCCCCCCCCCCCCCCCCCCCCC', 'CCC(NC(=O)OC1CCOC(C)C)C1', 'Cc1cn(-c2ccc3c(c2)NC(=O)NCc2ccccc2)nc2ccccc12', 'COC(=C1NCCN1C(=O)c1ccccc1)C1CCCC1', 'CCCCCCCNC(=O)CCC(=O)Nc1cc2c(c1)C(=O)N(CCCN1CCCCC1)C(=O)N2CCCCCCCCCCCCCCCCCCCCCCCCCCCCCCCCCCCCCCCCCCCCC', 'O=C(c1cccccc1)CCNC(=O)c1ccccc1', 'COc1ccc(CC(=O)Nc2cc(C(C)(C)NC(=O)NC(C)C)ccc2C(=O)NCc2ccccc2)cc1', 'CC(CCC(C)c1cccc2ccccc12)NCCCCCCCCCCCCCCCCCCCCCCCCCCN(C)C(=O)O', 'Cc1nc(NCCCCC2CCCC2)nc2cc(NC(=O)c3ccccc3)ccc12', 'CNc1cc2c(c1)CCC(C)(C)NC(=O)N2Cc1ccccc1', 'Cc1c(Nc2c(O)c(Cl)cc(NC(=O)CC(=O)NCCCCCCCCCCCCCCN(C(=O)c3ccc(C(F)(F)F)cc3)C2)c2ccccc2C(=O)NCCCCCCCCCCCC', 'CN1CCc2cc(NC(=O)Nc3ccccc3Cl)c(Cl)cc2C1=O', 'Oc1cc(NC(=O)c2cc(Cl)c(Cl)cc2)nc2ccc(NC(=O)c3ccccc3)cc12', 'COc1ccc(C(=O)NCCO)cc1Cl', 'COCc1cc(-c2cc(C)c(C)n2)nc(-c2ccc(Cl)cc2)c(=O)c1OC', 'CN(C)C(=O)Nc1c(C(=O)NCCN2C(=O)C(Cc3ccc(OC(F)(F)F)cc3)C(=O)NC3=O)cc2ccccc12', 'CN1CC(=O)NCCC1C(=O)NCC1CC(C)CCC(C)C(C)C(C)C1CCC(C)C', 'CN1CCc1c(C)c(C)c(C(C)C)cc1C(=O)NCCCCCCCCCCCCCCCCCCCCCCCCCCCCCCCCCCCCCCCCCCCCCCCCCCCCCCCCCCCCCCCCCCCCCC', 'Cc1nc2ccc(NC(=O)C3CCCC3)nc2c1NC(=O)C1CCCC1', 'OCc1cc2c(Nc3cccc(NC(=O)Nc4ccccc4)cc3)c(=O)n(CCCCCCCCCCCCCCCCCCCCCCCN2C(=O)NC(C(=O)NCCCCCCCCCCCCCCCCCCC', 'C=C1CCOC(=O)C2(C)CCC3(C)CCCC4(C)C(C(=O)NCCCCCCCCCN(CCCCCCCCCCCCCCCCCCCCCCCCCCCCCCCCCCCCCCCCCCCCCCCCCCC', 'N#Cc1c2cc(-c3cccnc3)nc(Nc3ccc(N4CCN(C)CC4)cc3)n2Cc2ccccc2)c1', 'COc1ccc(C(=O)NCc2cc(C(C)C)nn2)cc1OC(C)(C)C', 'CCc1nc(C)nc(CCCCCCCCN2CCCCC2)c1', 'Cc1cc(-c2cccnc2N)nc(-c2ccc(NC(=O)c3ccccc3)cc2)c1', 'Cc1c(C)nc(N)c(Oc2ccc(N3CC(O)C(O)C(O)C3)c3ccccc23)c1=O', 'O=C(C)Nc1nc(C)c2ccc(NC(=O)c3ccccc3)nc2c1', 'Cc1ccc(N2CCN(Cc3ccc(N4CCN(C)CC4)cc3)CC2)nc1NC(=O)c1ccc(Cl)cc1', 'OCc1cc2c(c1)N(CCN(C)C(=O)c1ccc(C(=O)Nc3ccc(Cl)cc3)cc1)CC2', 'CN(C)CCc1ccc2ccc(N3CCNCC3)cc2c1', 'COc1c(-c2ccnc(N)c2)nc2ccc(NC(=O)c3ccccc3)cc2c1=O', 'COC1CN(c2cc(Cl)c(Cl)cn2)CCN1C(=O)C(C)C', 'O=c1nc(CCCCN2CCCCN(c3ccccc3)C2)c2ccccc2n1', 'CCN1CCCc(c2c(C)c(C)nc(NCCNC(=O)C3CCCCC3)n2)c(=O)n1CC(=O)NC(C)C', 'COc1c(O)c(Cl)cnc1NC(=O)C1CCN(C(=O)c2ccc(Cl)cc2)CC1', 'O=C(CNc1cccc(NC(=O)c2ccccc2)n1)Nc1ccc(-c2ccc(Cl)cc2)nc1-c1ccccc1', 'CCc1nc(-c2ccc(Cl)cc2)nc(-c2cc(C(=O)NCC(=O)Nc3ccccc3)ccc2)c1', 'CCc1c(C)c(OC(C)c2ccc(O)cc2)ccc1OC', 'O=C(NC(=O)C1c2ccccc2c2ccccc21)C(=O)Nc1ccc(C(=O)NCCc2ccccc2)cc1', 'CCC(=O)CCn1cc(CNC(=O)c2ccc(Cl)cc2)nc2ccccc12', 'CCCCCN(C(=O)OC1CCN(c2ccccc2)C(=O)N1CCCCCCCCCCCCC(=O)NC(Cc1ccccc1)C(=O)O)C(=O)O', 'O=C(NCCN)CNC1=OCCCC1c1ccc(NC(=O)c2ccccc2)cc1', 'CC(C)Cn1c(-c2ccccc2)ccc1NC(=O)CN1CCCCC1', 'CN=C(=O)c1cc2ncnc(Nc3ccc(Cl)cc3)c2c1', 'CC(CNC(=O)NC(C)C(=O)NC(C)C(=O)NC(C)C(=O)NC(C)C(=O)NC(C)C(=O)NC(C)C(=O)NC(C)C(=O)NC(C)C(=O)NC(C)C(=O)NC', 'CC1CCCCCC1CN1CCN(c2nc(C)nc(C)n2)CC1', 'COc1c(CN2CCOCC2)c(-c2ccc(Cl)c(Cl)c2)nc2c1C(=O)NCC2', 'C1=C(NCC2c3ccc(F)cc3)CC2C(=O)N1CCN1CCCCC1', 'Cn1cc(-c2cc(C(=O)NCCO)ccc2OC)c(=O)n1CCCCCCCCCCCCCCCCCCCCCCCCC(=O)NC(C)C', 'CO=C(Nc1ccc(O)c(O)c1)N1CCN(C(=O)C(Cc2ccc(Cl)cc2)C(=O)NCCCCCCCCCCCCCCCCCCCCCCCCCCCCCCCCCCCCCCCCCCCCCCCC', 'OC(=O)c1cccc(-n2cnc(-c3ccc(NC(=O)CCCCCCCCCCCCCCCCCCCCCCCCCCCCCCCCCCCCCCCCCCCCCCCCCCCCCCCCCCCCCCCCCC(=O', 'O=C(NC(=O)N(Cc1ccc(O)cc1)C(=O)OCCOc1ccccc1)NC(=O)C(Cc1ccccc1)C(=O)NC(CC(=O)O)C(=O)O', 'CC(O)CNc1nc(C(=O)NC(C)C)cc(C(=O)Nc2ccccc2)c1C(=O)NCCCCCCCCNC(=O)NC(C)C', 'COc1ccc(C(=O)c2ccc(N3CCOCC3)cc2)cc1', 'COc1ccc(Cl)cc1N=C(O)c1ccc(NC(=O)NC2CCCCC2)cc1', 'Cc1ncc(C)nc1C(=O)NCCNC(=O)c1nc(N)nc2c(N)nc(N)cc21', 'Cc1c(O)cc(-n2cnc(-c3cc(N4CCN(C)CC4)ccc3N)nc2)c1C(=O)NC(C)C(=O)NC(C)C(=O)NC(C)C', 'COCOc1ccc(Oc2c(C)c(C)c(C)c(C)c2c(=O)c2c(O)c(O)c(O)c(O)c2OC1OC(C)(C)C(=O)OCC(=O)OCC(=O)OCC(=O)O', 'Oc1cc2c(c1)Oc1ccc(Nc3ccc(N4CCN(Cc4ccc(Cl)cc4)cc3)CCCC3)c(C(=O)NCC(=O)NC(C)C)c1ccccc12', 'CN1CCCCc1c(c2ccc(C)cc2)cc1C', 'CCOC(=O)N1CCc2ccc(N3CCN(C(=O)c4ccccc4)CC3)cc2C1', 'COc1cc(OC2CCN(Cc3ccc(OC)cc3)C2)cc(OC)c1OC', 'COC(=O)Nc1nc(N)c(C(=O)O)c(CNC(=O)c2ccc(C(=O)NC(C)C)cc2)n1Cc1ccc(C(=O)NCCCCCCCCCCCCCCCCCCCCCCCCCCCN(C(=', 'CNC(=O)c1ccccc1CNCCc1ccc(Cl)cc1', 'COc1c(O)nc(-c2cnc3c(N)ncnc32)c(OC)c1OC', 'CN(C)CC(=O)C(Cc1ccc(Cl)c(Cl)c1)C(=O)NC(CC(=O)NC(Cc1ccccc1)C(=O)NC(C)C)C(=O)NC(CC(=O)NC(C)C)C(=O)NC(CC(', 'COC(=O)N1C(C(=O)c2cc(Cl)c(Cl)c(Cl)c2)C(=O)NC1=O', 'CC(C)NC(=O)Nc1cc2c(nc3ccc(-c4ccccc4)nc3n2)CC1', 'COCCCCC(=O)CCCCCCCCCC(=O)Nc1ccc(C(=O)O)cc1', 'CCC(C)c1ccc(OCCN(C)C(=O)Nccccc(C(=O)NC(C)C)c2)c1', 'CC(C)COC(=O)Cn1c2ccc(NC(=O)CN3CCN(C(=O)c4ccc(Cl)cc4)CC3)cc2C(=O)NC(C)C(=O)OCC1CCCCCCCCCCCCCCCCCCCCCCCC', 'CC(=Cc1ccn(C)cc1)Nc1ccc(Cl)cc1', 'CC1CN=C2CCN(C(=O)CCCCCCNC(=O)c2ccc(N3CCCC3)nc2)C1', 'CCOc1cc(N(C(=O)NCc2ccccc2)C(=O)N2CCCCC2)c(-c2ccc(Cl)cc2)n1', 'CCOc1ccc(-c2c(-c3ccccc3)ccc2NC(=O)c2ccc(Cl)cc2)cc1', 'COc1ccc2c(c1)nn1CC(NC(=O)c1cc(C(=O)NC(C)(C)C)cc(C(=O)O)c1)C(=O)N2CCCCCCCCCCCCCCCN(C(=O)C(C)C)C(=O)NC(C', 'C(=O)c1ccn2ccc(NCCCNCCCCCCNC(=O)c3ccc(Cl)cc3)cc12', 'COC(=Nc1nc(-c2ccc(F)cc2)ccc1)C(=O)NCCCCCCCCCCCCCCCCCCCCCCCCCCCCCCCCCCCCCCCCCCCCCCCCCCCCCCCCCCCCCCCCCCC', 'CC(O)C(N=C(O)C1C(=O)Nc2ccc(Cl)cc2)c1c1ccc(Cl)cc1', 'CCC(Cc1cccc(Cl)c1)NCCCCCCCCCCCNC(=O)C(C)C', 'CN(C)c1cc(C(=O)NC2CCC(C(N)=NN(C)C(=O)NC(C)C)CC2)cc(C(=O)NCC(=O)NCCCCCCCCCCCCCCCCCCCCCCCCCCCCCCCCCCCCCC', 'O=C(Nc1ccc(N)cc1)c1nc2ccc(Cl)cc2n1Cc1ccccc1', 'O=C1CCN(c2ccc(CCN(CCCCCCCCCCCCCCN(C)C)c3ccccc32)c2ccccc2)CC1', 'COc1c(NC(=O)c2ccccc2NC(=O)C(CC(=O)NCCCNC(=O)c2ccc(Cl)cc2)C(=O)O)ccc1OC', 'COc1c2cc(-c3cnc(N4CCN(C)CC4)cc3)nc(N)c2cc2ccccc21', 'CNc1nc(C)nc2c(C)c(C)n(C)c12', 'Cc1cc(Cl)c(Nc2ncc(O)cc2)nc1-c1ccccc1', 'CCCOC(=O)C1CC2(C)CCC(NC(C)C)CCCCC1CCCCCCCCCCCCCCCCCCCCCCCCCCCCCCCCCCCCCCCCCCCCCCCCCCCCCCCCCCCCCCCCCCCC', 'COc1c(C)c(Cc2ccc(C(=O)c3ccccc3)c(=O)c2C(=O)NC(C)C)cc(OC)c1OC', 'CCOc1ccc(-c2nc(C)cc(O)c2C)cc1CN1CCCC1', 'COc1cccc(CC(C)c2cc(C(=O)O)ccc2C(=O)O)c1', 'O=C(CCc1ccccc1)NC(=O)Nc1nc(C)nc2c1CCCC2', 'COC1=CC(C)C(=O)Nc2cc(C(=O)NCC(=O)O)cc2C(=O)OC1CCCCCCCCCCCCCCCCCCCCCCCCCCCCCCCCCCCCCCCCCCCCCCCCCCCCCCCC', 'CCC(C)N(C)c1nc(O)cc2ccc(NC(=O)c3ccc(C(F)(F)F)cc3)nc21', 'C=C=CC(=O)c1ccc2c(c1)OC(=O)c1ccc(-c3ccccc3)cc12', 'CC(=O)Nc1c(-c2ccc(Cl)c(Cl)c2)ccc1Cl', 'O=C(CCCN)CCNc1ccc2ncccc2n1Cc1ccc(Cl)cc1', 'COc1nc(CCN2CCC(C(=O)Nc3ccccc3)CC2)c(C)c(C)c1C', 'CN(Cn1cccn1)CCNCc1ccc(-c2ccc(Cl)cc2)cc1', 'C=CN1CCCC2CCC(=O)C1CC1CCC(=O)N1CCN(c2ccc(Cl)cc2)C1', 'COc1c(C2CCCN(C)C2)c(=O)n(Cc2ccc(Cl)cc2)n1CC1CCCC1', 'CN1CCC2(CC(=O)Nc3ccc(Cl)cc3)CCCC21', 'CC(=O)Nc1ncc(O)cc1CC1CCCC1', 'Cc1c(Oc2cc(Cl)cc(OCCN3CCCCC3)n2)nc(-c2ccc(N3CCN(C(=O)CCCCCCCCCCCCCCCCCCCCCCCCCCCCCCCCCCCCCCCCCCCCCCCCC', 'N#CC1=C(C2CCC(C)(C)C2CC2C(=O)OC(C)(C)C2=O)C(=O)N1c1ccc(C(=O)O)cc1', 'CC(C)N1CCC2CC(CCN3CCCCCC3)CCCC12', 'O=Cc1nc(Nc2ccccn2)c2ccc(NC(=O)c3ccccc3)cc21', 'Cc1nc(C)nc(N2C(=O)c3cc(C(=O)Nc4ccc(Cl)cc4)ccc3c2=O)C1', 'CC(C)c1ccccc1CNC(=O)CC(=O)NC(Cc1ccccc1)C(=O)NC(CC(=O)O)C(=O)NC(CC(=O)O)C(=O)O', 'CC(=O)c1ccc(Nc2ncnc3ccccc23)cc1', 'CCOC(=O)CCn1c(C)c(CNC(=O)c2ccc(Cl)cc2)nc1-c1ccc(Cl)cc1', 'Cc1c(CN2CCC(C)(Cc3ccc(NC(=O)CC(=O)Nc4ccccc4)cc3)CC2)cc(C(F)(F)F)c1C(=O)O', 'Cc1cnc(C)c1NC(=O)C1=C(C)C2=C(C)C(=O)C2CCCC2C1CCCC1', 'CCOCc1cc2c(Nc3ccc(O)c(O)c3)nc(N)nc2c1', 'CCN1CCC(C)C(=Cc2ccc(C(=O)c3ccccc3)cc2)C(=O)N1', 'CCNCc1ccc(C)c(NC2CCCC2)c1NC(=O)c1ccc(C(=O)N2CCCCC2)cc1', 'COCC(=O)CCNc1ncnc2c1CCCC2', 'Clc1cccc(CCCC(N2CCCCCC2)C(=O)NC(CC(C)C)C(=O)O)c1', 'CNCCC(NC(CC1CCCC1)N(Cc1ccccc1)C(=O)OCCO)c1ccccc1', 'COC(=O)c1ccc2c(c1)c1c(Oc3ccc(Cl)cc3C(=O)NC(=O)c3ccc(Cl)cc3)ccc2c1', 'CCc1c(Cl)cc(Cl)cc1NC(=O)NCc1ncnc2c1ncn2C1OCCOCC1', 'COC(=O)N1Cc2ccc(C(=O)NCCN3CCCCC3)cc2C1=O', 'O=C(Nc1ccccc1Cl)c1nc(CN2CCC(C(=O)Nc3ccc(Cl)cc3)CC2)cc1Cl', 'C(=O)Nc1cccc(-c2nc3ccccc3c2)cc1', 'COc1ccc(NC(=O)OC(=O)C(=O)c2cccc(NC(=O)c3ccc(Cl)cc3)c2)cc1', 'CC1c2cc(CCCC(=O)NCC(=O)NCCCCCCCCC(=O)Nc3ccc(C(=O)O)cc3)cccc2C(=O)N1CCCCCCCCCCCCCCCCCCCCCCCCCCCCCCCCCCC', 'COc1ccc(NC(=O)C2CCN(c3cccnc3)n2C(C)C(=O)NC(C)C)cc1', 'COC1Cn2c(C)cc(CNC(=O)CCCCCCCCCCNCCCCCN(Cc3ccccc3)CC2)c2c1CCCC2', 'COc1c(C(=NNc2ccc(C(F)(F)F)cc2)cc2ccccc2)nc1C(=O)NCCCCCCCCCCCCCCCCCCNC(=O)C(C)C', 'COC(=O)c1ccc(-c2ccc(-c3ccc(C(=O)O)cc3)cc2)cc1', 'CCC(Cc1c(Cl)c(Cl)ccc1Cl)N1CCN(C(=O)c2ccccc2)CC1', 'O=C1Cc2c(C(C)(C)NC(=O)Nc3nc(C)nc(N)n3)nc2C)c1C', 'O=C1NCCc2nc(N3CCN(C(=O)c4ccccc4)CC3)c(=O)n(C)c2c1', 'CCOC(=O)CNc1ccc(-c2cc3c(cc2O)OCO3)cc1', 'Cc1cc(-c2ccnc(CNC(=O)CCCCCCCCCCN2CCCC2)n2c(C)nnc2-c2ccccc2)cc1', 'CC1=C2c3c(O)cccc3CCN2C1=O', 'Cc1cnc(N2CCCC(Nc3ccc(C(F)(F)F)cc3)C2)cc1', 'CCN(c1ccc(-c2ccccc2)nc1)Nc1ccc(Cl)cc1N1CCN(CCCCCCCCCCCCC(=O)O)CC1', 'COc1cc(C(=O)c2ccc(C(=O)O)cc2)c2cc(C(=O)NCCCCCCCCCCCCCCCCCCCCCCCCCCN(CCCCCN(C)C)CC3CC(=O)NCC3CCCC3CCCC3', 'CCCc1c(O)cc(N2CCN(Cc3ccccc3)CC2)cc1C(=O)NCCCCCCNC(=O)NC(C)C', 'COC(=O)Nc1nc2ccccc2n(CC(=O)NC(C)C)c1=O', 'CC(c1ccc(C2CCCCCCCCCCCCCCCCCCCCC)c1cccc1)c1ccccc1', 'CCC(=Nc1ccccc1C(=O)NCCNC(=O)C(N)C(=O)NC(C)C)C(=O)NC(CC(=O)O)C(=O)O', 'CC(CO)c1ccc(C(NC(=O)CCCCCCCC(=O)NC(C)C)c2ccc(C(=O)NC(C)C)cc2)cc1', 'CCN(c1ccc(F)cc1)Nc1ncnc2c1nn(CC(=O)NCC2CCCCC2)c1c1ccc(Cl)cc1', 'O=C(Nc1cccc(F)c1)Nc1cccc(NC(=O)c2ccccc2)c1', 'CCOc1c(N2CC(C)(C)CC2)c(OC)c(OC)c1OC', 'CN(C)c1cc(NC(=O)CSc2c(C)c(C)nc(N)c2)c(=O)n(C)c1=O', 'CCC(C)NC(=O)NC(=O)C(=O)c1ccc(OCC(=O)NCCCCCCCCCCCCCCCCCCCCCCCCN(Cc2ccccc2)C(=O)NC(C)C)cc1', 'CCOc1ccc2c(c1)c1c(OC)c(C(=O)c3ccc(OC)c(OC)c3)C(=O)N(Cc3ccc(O)cc3)C(=O)C12', 'Oc1cc(CN2CC(C(=O)Nc3ccccc3)c3ccccc32)cc(OC)c1OC', 'Cc1c(-c2ccc(Nc3ccc(N4CCN(C)CC4)cc3)nc2-c2ccc(Cl)cc2)nn2ccccc21', 'CO=C(N)CCCNc1nc2c(c1)n(Cc1ccc(-c3ccc(OC(F)(F)F)cc3)nc1)C(=O)NC(=O)C(Cc1ccc(Cl)cc1)C(=O)N2CCN(Cc1ccccc1', 'CCn1cc(C2CC(CC(=O)O)CC2)nc1-c1ccc(Cl)cc1', 'COc1ccc(-c2nc(C(=O)NO)cc(-c3ccc(Cl)cc3)c2)cc1', 'COC(c1cccc(O)c1)N1CCN(c2ccccc2Cl)CC1', 'COc1ccc(-c2nc(C)cc(C)c2-c2ccccc2)cc1', 'COc1nc2ccc(NC(=O)Nc3ccc(NC(=O)CCCCCCCCCCCCCCCCCCCCCCCCCCCCCCCCCCCCCCCCCCCCCCCCCCCCCCCCCCCCCCCCCCCCCCCC', 'COc1ccc(C2C(NCCOCC3)C2)cc1', 'CC1CCCCCC1(CCNc2cc(Cl)c(Cl)c(Cl)c2)C(=O)N1CCN(Cc2ccccc2)CC1', 'CC1=C(C)c2ccc(-c3ccc(N4CCN(C(=O)Nc5ccc(Cl)cc5)cc4)CC3)cc2C1=O', 'CCn1c(=O)c(C(=O)Nc2nc(C)nc2C)nc2ccccc21', 'CCCC(O)c1ccc(NCCNC(=O)c2ccccc2)nc1-c1ccc(C(=O)NCCCCCCCCCCCCCCCCCCCCCCCCCCCCCCCN(C(=O)C(C)C)CCCCCCCCCCC', 'O=C(C(O)CC1OC(=O)Nc2cc(N3CCCC3)ccc2C1=O)Nc1ccccc1', 'O=C(c1ccc(CNC(=O)C2CCCCC2)cc1)c1ccccc1N1CCCCC1', 'Cc1cc(OC)c(-c2c(C(=O)Nc3ccc(C(=O)NC(C)C)cc3)c(=O)[nH]c3ccccc23)c(=O)n1', 'CCOc1ccc(-c2cc(C)c(C)cc2C)cc1C(=O)O', 'CCN(C)CCCNC(=O)C1CC(=O)c2cc(OC)cc(OC)c2C1=O', 'CCCC(=O)CCCc1c(O)cc(C(=O)NCCNC(=O)C(C)C)c(=O)n1Cc1ccc(Cl)cc1', 'O=C(NC1CCOc1cccc1-c1ccc(NC(=O)c2ccc(Cl)cc2)c1)NC(=O)C(CC(=O)NC(C)C)C(=O)NC(C)C', 'Oc1ccc(-n2ccc(C)c2C)cc1Cl', 'NC1CC(=O)OCCN1C(=O)c1cc(C(=O)N2CCCCC2)c(C)c(C)c1C', 'CC1CCCCn1c(=Nc2cc(C)nn(C)c2)CCCC1', 'COC(=NCc1ccccc1)CNCCNC(=O)c1ccc(Cl)cc1', 'CC(c1ccc(O)cc1)NC(=O)CCN(Cc1ccc(Cl)cc1)C(=O)NC(Cc1ccccc1)C(=O)NC(CC(=O)O)C(=O)O', 'C(O)c1cc(-c2nc(N)ccc2C(=O)Nc2ccccc2)cc(C(=O)O)c1', 'CN(=O)c1c(-c2ccccc2)cc(OC)c1C', 'CCCC(O)C1NC(=Nc2cc(C(F)(F)F)ccc2Cl)CC1CC1CCCCC1', 'CCOC(=O)C1=NCC(c2cccnc2N)n1CCN1CCCC(C(=O)N2CCCCC2)CC1', 'CC(C)C1CC2(C)=C(C)c3ccc(OC)cc3C21', 'COc1n2c(-c3ccccc3)nc(NC(=O)c3ccccc3)c2c(=O)n1CCCCCCCCCCCCCCCCCCCCCCCCCCCCCCCCCCCCCCCCCCCCCCCCCCCCCCCCC', 'COC(=O)C1C2c3ccccc3C(NC(=O)c3ccccc3)CC12', 'CCOc1ccc(CN(C)C)c(OC)c1', 'Cc1c2ccc(NC(=O)CCN3CCCCC3)c(-c3ccc(Cl)cc3)n2Cc2ccccc2C(=O)Nc1ccccc1', 'CCc1cc(O)nc(N2CCOc3ccc(-c4ccc(C(F)(F)F)cc4)cc3)c2c1', 'CCC1CCc2c(cc(NC(=O)CCN3CCC(C)CC3)c3c(N)ncnc32)C1', 'CCCC(Nc1c(C(=O)NCCCCCCN)c(=O)[nH]c2ccccc12)NC(=O)C(CC(=O)NC(C)C)C(=O)NC(CC(C)C)C(=O)NC(C)C', 'COC1CN(c2ccc(NC(=O)C(C)C(=O)NC(C)C)c(C)c2)C(=O)NC(C)C(=O)NC1CCCCC1', 'CCCCC(=O)NCCCCCC(=O)Nc1ccc(Cl)cc1', 'CC(O)c1cccc2c1c(OC)c1ccccc1C2=O', 'CC(=O)c1cc(-c2ccccc2-n2cnc3ccccc23)nc(Nc2ccc(Cl)cc2)n1', 'O=[N+]([O-])c1cccc2ccc(OC)cc12', 'CC1CCCCCN1CCN(c2ccc(Cl)cc2)CC1', 'CCCC(=O)Cc1cc(C2CC(O)C(O)C2)ccc1OC', 'COc1c2cc(CCCCCCN(C)C)nc(-c3ccccc3)c2ccc(OC)c1OC', 'COC(=O)NC(=O)CCc1nc2c(c(N)nc3c(=O)n(C)c(=O)c3ccccc23)c2ccccc12', 'O=C(N1CCOc2ccccc2)c1ccccc1', 'COC(=O)C1CCN(C(=O)c2cc(NC(=O)c3ccc(Cl)cc3)nc2C)CC1', 'CNc1cc(C2CCN(c3ccccc3)c2c(=O)n(CCCCCCCCCCCCCCCCCCCCCCN(C(=O)N3CCN(C(=O)C(C)C)CCC3)CC3)ccc2C(=O)OCCCCCC', 'COC(CCc1ccc2c(NC(=O)c3ccccc3)nc(N3CCN(C(=O)CCCCCCCCCCCCCCCCCCCCCCCCCCCCCCCCCCCCCCCCCCCCCCCCCCCCCCCCCCC', 'Cc1cc(OC)c(NC(=O)c2ccc(-c3ccccc3)cc2)cc1', 'Cc1ccc2c(c1)C(CNC(=O)NC(=O)c1cc(C(=O)Nc3ccc(Cl)cc3)nc(N)n2)C1', 'Cc1c(-c2cnc3ccc(NC(=O)CCCCCCCCCCCCCCCCCCCN(C)CCCCCCCCCCCCCCCCOCCOCCOCCOCC3O)c(OC)cc(C)c2c1', 'O=C(O)c1cccc(NC(=O)CS(=O)(=O)c2cccc(Cl)c2)c1', 'Cc1cc(NCc2ccc(N)cc2)nc2cc(NC(=O)c3ccc(Cl)cc3)ccc12', 'CCc1c(O)c(O)c(O)n1-c1c(Cl)c(Cl)c(-c2ccc(Cl)cc2)n1Cc1ccc(Cl)c(Cl)c1', 'COC(=O)N1CC(CN)C(=O)c2ccccc21', 'CC(c1ccc(O)c(Nc2ccc(N3CCNCC3)cc2)n1)Nc1ccc(-c2cc(Cl)cc(Cl)c2)nc1-c1ccc(Cl)cc1', 'CCN1CC=C(c2cccc(OCc3ccc(NC(=O)c4ccccc4)cc3)c2)CC1', 'Cc1cc(C2CN(Cc3ccc(N)c(C)c3)n2CCN(C)C(=O)NC(C)C)c(=O)[nH]c1=O', 'O=C(Nc1ccc(O)cc1)c1ccccc1Oc1cc(C(=O)O)ccc1C(=O)NCCc1ccccc1', 'C=CNC(C(=O)OCCCCNC(=O)C1CCCC1)C(=O)NCc1ccccc1', 'CC(=O)Nc1ccc2nc(NC(=O)C(C)(C)C)ccc2c1', 'CCOc1ncc(CNC(C)C(=O)NCCCCCCCCCCCCCCCCCN2CCCCCC2)c(=O)n1', 'CN1CCc2cc(OC)c(OCCN(C)C(=O)Nc3ccc(C(=O)NC(C)C)cc3)c(C(=O)O)c2c1', 'CC(C)CC(C)Cc1ncc(N2CCCC(C(=O)NCCCCCCCCCCCCCCCCCCCCCCN(C)CC(=O)O)CCCCCCCCCC3(C)CCC3(C)CCC3(C)CCC3(C)CCC', 'OC(=O)CNc1cc(NC(=O)C2(C)C(=O)N(C)CC2)ccc1OC', 'Cc1nc(N2CCCCC2)nc(-c2nc(C)nn2C)c1C', 'CC1CC(=O)Oc2ccccc2C(=O)NC1CCN(Cc2ccc(Cl)cc2)C(=O)N1CCCCCCCCCCCNC(=O)NC(Cc2ccccc2)C(=O)N1CCCCCCCCCCCCCC', 'COC(=O)CCc1cc2ccc(Nc3ncnc4ccccc34)cc2c1=O', 'Cc1ncc(CNC(CCCCCN2CCCCC2)c2cc(C(=O)NCCCCCCCCCCCCCCCCCCCCCCCCCCCCCCCCCCC(=O)NC(=O)CC(=O)NCCCCCCCCCCCCCC', 'COCC(=Oc1ccc(-c2nccnc2)nc2cc(Cl)c(Cl)c(Cl)c12)Nc1ccc(Cl)cc1', 'C1CN(CC(=O)NC2CCCC2)c2ccccc21', 'CC(O)NC1=OCC(O)C(O)C1(c2ccccc2)C(=O)N1CCCCCCCCCCCCCCCCCCCCCCCCCCC(=O)NC(C)C(=O)NC1CCCCC1', 'Cc1ccc(C)c(C(=O)NC2CCN(Cc3ccccc3)CC2)c1', 'C=Cc1nc2ccc(NC(=O)NC(C)C(=O)NCCCCCCCCCCCCCCCN(CCCCCCCCNC(=O)c3ccc(Cl)cc3)ccc2C)CC1', 'CN(C)c1ccc(-n2cnc3cc(-c4ccccc4)nc3c2)cc1', 'Cc1ccc(N(C)NC(=O)c2ccccc2)c(Cl)c1', 'Cc1ccc(C(=O)NNCc2ccccc2C(=O)Nc2ccccc2)cc1', 'C=C(N)c1ccc(NC2CCCC2)c(NC(=O)c2ccc(Cl)cc2)c1', 'COC1c2cc(O)ccc2CCCCCCCCCCCC(=O)N(Cc2ccccc2)C(=O)N1CCCCCCCCCCCCCCCCCCC(=O)NC(CC(=O)O)C(=O)NC(C)C', 'O=C(Oc1ccccc1)Nc1nnn(-c2ccccc2)n1C(=O)NC(Cc1ccc(Cl)cc1)C(=O)NC(Cc1ccccc1)C(=O)NC(CC(=O)O)C(=O)O', 'NC(=O)CC1=CNc2nc(N)n(C)c2C(=O)N1CCCCCCN1CCN(c2ccc(Cl)cc2)CC1', 'CNCCOc1cc2c(O)cccc2cc1OC', 'O=C(Cc1ccc(NC(=O)Nc2ccccc2)nc1NC(=O)C(C)C)Nc1ccc(C(=O)NC(C)C)cc1', 'OC1CCN(c2cccccc2)CC1C(=O)Nc1ccc(C(=O)NCCCCCCCCCCCCCCCCCCCCCCCCCCCCCCCCCCCCCCCCCCCCCCCCCCCCCCCCCCCCCCCC', 'CC(C)c1cccc(CCNC(=O)C2CCCCC2)c1', 'Oc1ccc(C2(=O)N(CCN3CCCCC3)C(=O)NC2=O)cc1OC', 'CC(CO)c1nc(N)nc(NC(=O)c2ccccc2)c1C(=O)NC(Cc1ccccc1)C(=O)O', 'Cc1cc(O)cc(OC(=O)Nc2ccc(Cl)cc2)c1', 'C=CCc1ccc(C2CN(CCCCCCCCCCCCCCCCCCCCCCCCCCCCCCCCCCCCCCCCCCCCC3CCCC3)CC2C(=O)OCCCCCCCCCCCCCCCCCCCCCCCCCC', 'Cc1ccn(CCC2CCCC2)c1Nc1ccc(C(=O)Nc2ccccc2)cc1', 'COc1ccc(NC(=O)CCC(=O)N2CCCC(C(=O)Nc3ccccc3)CC2)cc1', 'COC(=O)c1c(-c2cc(O)cc(OC)c2)n(-c2ccc(C(=O)NC(C)(C)C)cc2)c2cc(OC)c(OC)c(OC)c12', 'Cn1c(=O)c2ccccc2nn1CCN1CCCCC1', 'CN(C)Cc1ccc(OC)cc1NCc1ccc(-c2ccccc2)nc1', 'CCc1nc(N(C)C(=O)c2ccccc2)nc1-c1cc(Cl)ccc1Cl', 'Cc1ncc(NC(=NCCN2CCCCC2)c2cc(C(=O)NCCCCCCCCCCCCCCCCCCCCCCCCCCCCCN(C)CC(=O)O)c(C)cc3ccc(-c4ccccc4)cc3c2c', 'CN(C)C=C(O)c1cc2c(nc3cncnc32)c(N)n1C', 'CN1CCc2cccc(C(C(=O)NCCC(C)C)C(=O)NC(C)C)cc2C1=O', 'C=N1(C)OC(=O)C(O)C12', 'Nc1ccc(NC(=O)COc2ccccc2-c2ccc(Cl)cc2)n1', 'N#Cc1ccc2c(c1)CCC2C1CCCCC1', 'NC(=c1ccccc1-c1ccc(Cl)cc1)c1ccc(Cl)cc1', 'Cn1ccc(NC(=O)c2nc3c(N)nc(N)nc3c2)cc1', 'O=C(NC(=O)Cc1ccc2ncncc2n1C(=O)Nc1ccc(-c2ccc(C(=O)NC(C)(C)C)cc2)c1)c1ccc(C(=O)NC(C)C)cc1', 'COC=Cc1c(C2CCN(CC(=O)Nc3ccccc3)CC2)cc2ccccc2n1', 'CC(C)NC(=O)C1CCN2c1cc(-c2ccccc2)nc1C', 'CNc1nc2cc(Cl)ccc2nn1-c1ccc(NC(=O)C2CCCC2)cc1', 'CCOc1ccc(C=C2C(=O)NN=Cc3ccc(OC)cc32)cc1', 'C=CN(CC(=O)Nc5ccc(Cl)cc(Cl)c1)C(C)C)CC(=O)NC(CC(=O)O)C(C)C', 'CC(N1C(c2cc(Cl)c(Cl)cc2)CCCC1)C(=O)NCCCCCCCCCCCCCCCCCCCCCCCCCCCCCCCCCCCCCCCCCCCCCCCCCCCCCCCCCCCCCCCCCC', 'NCCOc1cc(OC)c(C)nc1CNC(=O)c1ccc(C(=O)NCCCCCCCCCCCCCCCCCCCCCCCCCCCCCCCN2CCCCCC2)c(=O)n1', 'OC(COC1CC(=O)CC(=O)NC2CCCCC2(C)C(=O)NC(Cc2ccccc2)C(=O)N1CCCCCCCCCCCCCCCCCCCCCCCCCCCCCCCCCCCCCCCCCCCCCC', 'CCC(C)(C)NC1=NCC(O)C1C(=O)N(CCNC(=O)C(Cc2ccccc2)NC(=O)C(C)C)C(=O)N1CCCCCCCCCCCCCCCCCCCCCCCCCCCCCCCCCCC', 'CCS(=O)(CCC)c1cc(C(=O)NC(C(=O)Nc2ccc(-c3ccc(C(=O)NC(C)(C)C)c(C(=O)NC(C)(C)C)c3)c2)cc(C)c(C)c2)nc1C(=O)', 'CCOC(=O)OC1C(=O)C2(C)NC(=O)C(C(=O)NC(CC(=O)Nc3ccc(C(F)(F)F)cc3)CC2)C1=O', 'COC(=O)c1cncnc1-c1ccc2ccccc2n1', 'O=C(NC(=O)c1cnc(N)nc1)c1ccc(O)c2c1', 'CCn1c(=O)c(CNC(=O)c2cccc(Cl)c2)nn(CC2CCCC2)n1', 'COCC(=O)c1ccc(C(=O)C2CCC2(C)CC2c3ccc(OC)cc3OC2)cc1', 'CCNc1ccc(C2CN(CCCCCCN3CCCCC3)CC2)cc1', 'CNC(=O)C1OC2(CNC(=O)C(C(=O)NC(C)C(=O)NC(=O)C(C)C)C(=O)NC(=O)C(C)C(=O)NC(Cc3ccccc3)C(=O)N3CCCCC3)CC12', 'COc1cc(CC(=O)NC2CCCCC2)ccc1N1CCN(CCCCCCCCCCCCCC(=O)O)CC1', 'C=CCN1C(=O)c2ccccc2C(=O)N1CCN(Cc2ccccc2)CC1', 'O=C1NCCC(c2ncncn2)CC1c1ccc(Cl)cc1', 'CCC1(N)Cn2cc(Cl)cc2C1=O', 'O=C(C(=O)Nc1ccc(C(=O)N2CCCC2)cc1)N1CCN(c2ccc(Cl)cc2)CC1', 'COC(=O)Cc1ccc(NC(=O)N2CCCCC2)cc1Nc1ccc(Cl)cc1', 'CC(=O)NC1CC(OC(=O)C(C(=O)Nc2ccc(Cl)cc2)C(=O)N2CCCCC2)CC1', 'Cc1cc(Nc2c(-c3ccc(NC(=O)NCC(=O)O)cc3)ccc2C(=O)NC(C)C)cc(C(=O)NCCCCCCCCCCCCCCCCCCCCCCCCCCCCCCCCCCCCCCCC', 'CCOC1=C(C2CC3(C)C(=O)CC3(C)C(=O)Nc3ccc(OC)cc3)C2(C)C1CCC(=O)NC(C)C', 'CC(C)CN1CCCC(CN2CCCCC2)C(=O)N1CCCCCCCCCCCCCCCCCCCCCCCCCCCCCCCCCCCCCCCCCCCCCCCCCCCCCCCCCCCCCCCCCCCCCCCC', 'CN(c1ccc(Cl)c(Cl)c1)NC(=O)C(CCCNC(=O)NC(C)C)C(=O)NC(CC(=O)NC(C)C)C(=O)NC(CC(C)C)C(=O)NC(C)C', 'COc1nn(-c2ccccc2)c(=O)n(-c2cc(Cl)c(Cl)cc2)n1', 'COC(=C(=O)c1c2cc3c(cc2c1)OCCO3)CCN1CCCC1', 'CN(C)CC1CCC2(c3ccccc3)CCCCCCCCCCCCCC(C)C(C)C(C)C(C)C(C)C(C)C1CC2(C)CCCCC12', 'CN1C(=O)CCCc1c2c(Nc3ccc(Cl)cc3Cl)nc(NC(=O)CCCCCCN3CCCCC3)nc2c1', 'COC(=NCCc1ccccn1)NC(=O)N(Cc1nc(-c2ccc(Cl)cc2)ccc1)NC(=O)C(C)C', 'CC1=Cc2c(O)c(O)c(OC)c(OC)c2C(=O)C1CC(=O)N1CCCC1C(=O)NC(Cc1ccccc1)C(=O)NC(CC(=O)O)C(=O)NC(C)C', 'CC(N)=OCC(O)C1OCc2ccccc2N1C(=O)CCCCCCCCCCN(C(=O)C(C)C)C(=O)NC(C)C', 'COC(=O)c1cc(O)cc2ncc(CNC(=O)c3ccc(Cl)cc3)c(=O)c2c1', 'CCCCNC(=O)CC1CCc2ccc(C(=O)c3ccccc3)cc2C1=O', 'C1(CN2CCCc3ccccc3C2)CC1)c1ccc(NC(=O)c2ccc(Cl)cc2)cc1', 'CCc1cc(NC(=O)OCc2ccccc2)ccc1OC', 'CC1(O)CN2c3c(C(=O)Nc4ccccc4C(=O)NCCCCCCCCCCCCCCCCCCCCCCCCCCCCCCCCCCCCCCCCCCCCCCCCCCCCCCCCCCCCCCCC3CCCC', 'CN(C)Cc1cccc(CC(=O)NCCNC(=O)c2ccc(Cl)cc2)c1', 'Cc1c(C(=O)NCCCCCCCCCCCCCCCCCCC2CCN(c3ccccc3)C2=O)cc2ccccc2n1', 'CCOC12C(C(=O)CCCC(=O)C(=O)C3(C)C(C)C(C)(C)C3CC(C)(C)C3CC(C)(C)C3CCC(C(=O)NC(C)C)C3CCCC3(C)CCC12C', 'CCOC(=O)Nc1nc2c(n1)C(=O)N(CCCCCCCCCCCCCCCCCCCCCCCCCCCCCCCCCCCCCCCCCCCCCCCCCCCCCCCCCCCCCCCCCCCCCCCCCCCC', 'CCCc1ccc(CN2C(=O)C(CC(=O)O)CC2)cc1', 'C=Cc1ccc(C)cc1CN1CCCC1CCN1CCN(c2ccccc2)CC1', 'CCC(Cc1cc(F)ccc1)NC(=O)NCc1ccc(Cl)cc1', 'CC1=C(CNc2ccc(Cl)cc2)C(=O)NCCCCCCCCCN(C(=O)C(C)C)C(=O)NC(CC(=O)NC(C)C)C(=O)NC(C)C(=O)NC(C)C(=O)NC(C)C(', 'CCn1c(=O)c2c(Nc3nc(N)cc(OC)c3)nc(N)nc2c2c1CCCCCCCCCCCCCCCCCCCCCCCCCCCCCCCC(=O)NC(C)C(=O)NC(C)C(=O)NC(C', 'CCNC(=O)C1OCc2cc(C(=O)Nc3ccccc3)ccc21', 'Cc1cc(-c2ccccc2)cc2c(c1)OC(=O)N1CCN(C(=O)c3ccccc3)CC12', 'Cc1cc(-c2nccc(CNCCCCCCCCCCCCCCCCCN2CCCCC2)n2c(C)ncn2Cc2ccccc2)c1', 'COc1nc2ccc(NCCNCCOc3ccc(N4CCN(C(=O)CC(C)C)CC4)cc3)nc(Nc3ccc(Cl)cc3)c2c1', 'CC(NC(=O)C(O)C(O)CN1CCOCC1)N(Cc1ccc(Cl)cc1)C(=O)NC(Cc1ccccc1)C(=O)O', 'O=c1nc(N)c2ccc(OC)cc2c1=O', 'Nc1ncc(CC2C(=NNC(=O)CCCCCCCCNC(=O)c3ccc(C(F)(F)F)cc3)CC2)cc1', 'CCN1CCCC(n2cnc(N3CCC(NC(=O)c4ccc(Cl)cc4)CC3)CC2)c1C', 'Cc1ccc(-n2cnc3cc(C(=O)NCCN4CCCCC4)nc(NC(=O)CCCCCCCN4CCCCCC4)n3)c2c1C(=O)NCC1', 'CS(=O)(=NCCc1ccc(Cl)n(C)c1)C(=O)NCCCCCCCCCCCCCCCCCCCCCCCCCCCCCCCCCCCCCCCCCCCCCCCCCCCCCCCCCCCCCCCCCCCCC', 'COc1cccc(CNC(=O)CNC(=O)CNC(=O)c2ccccc2)c1', 'CN(CCc1ccc(C(=O)CC2CCN(Cc3ccc(C(=O)NC(C)C)cc3)C(=O)N2CCOCC(C)C)cc1)C(=O)NC(CC(=O)O)C(=O)O', 'CCCc1ncnc2c(NC(=O)CN3CCCCC3)cc(C(=O)NCCCCCCCCCCCCCCCCCCCCCCCCCCCCCCNC(=O)C(C)C)C(=O)NC(C)C(=O)OCC(=O)O', 'CC(=O)c1ccccc1-c1ncc2ccc(NC(=O)CCN3CCCCC3)cc21', 'CC1C(C)NC(=O)c2ccc3ccc(N4CCN(C)CC4)cc3c2=O)c1', 'CC(C)c1nccnc1N=C(O)c1cc(-c2nc(N)nc3ccccc23)nc(N)n1', 'CC(=O)c1cc(OC)cc2c1CCCC2', 'COC(=NCCc1ccccc1)Nc1ccccc1Cl', 'COC1=C(O)Cc2cc(NC(=O)Nc3ccc(Cl)cc3)nn(CC(=O)N3CCCCC3)c2n1', 'COC(=O)c1ccc(C2CN(C(=O)CCCCN3CCCCC3)CC2)c(C(=O)NCC(=O)NCCCCCCCCCCCCCCCCCCCCCCCCCCCCCCCCCCCCCCCCCCCCCCC', 'Cc1nc2c(CCC(C)C)nn(C)c2c1C', 'Cc1ncnc2c1Nc1cc(Oc3ccccc3[nH]c3c(=O)n(C)c(=O)n3C)cc12', 'CC(=O)c1ccccc1N(C(=O)NCc1ccc(-c2ccccc2)cc1)NC(=O)C(CC(=O)NC(C)C)C(=O)NC(C)C', 'Cc1nc(C)nc(C2CCN(C(=O)c3ccccc3)n2CCN(C)C)C1', 'COCCc1ccn2c(NC(=O)CC(=O)Nc3ccccc3)ccc2c1', 'CCOc1cc(NC2CCCC2)nc(N2CCCCC2(C)N(Cc3ccc(Cl)cc3)CC2)c1', 'C=C(O)N1C(C)C(=O)C(c2ccccc2)C(=O)N1Cc1ccc(Cl)cc1', 'CC(=O)c1nccc(C)c1Cl)NC(=O)CCCCCCCCCCCCCCCCCN(CCCCCCCCCCNC(=O)c1ccc(Cl)cc1)C(=O)O', 'Cc1nccnc1Nc1ccc2nc(-c3ccccc3)ccc2c1', 'CCOC(=O)c1ccc(NC(=O)CC(C)C)cc1C(=O)NCCNC(=O)c1ccccc1', 'CC(C)c1c(-c2cccc(-c3ccc(OCc4ccccc4)cc3)n2)nc2cc(NC(=O)NCc3ccccc3)ccc21', 'O=C(N(Cc1c2c(F)cccc2c2)CCCCCCCCCCCCCCCCCCCCCCCCCCCCCCCCCCCCCCCCCCCCCCCCCCCCCCCCCCCCCCCCCCCCCCCCCCCCCCC', 'Cc1c(C)nc(CCN2CC(C(=O)NC(Cc3ccc(Cl)cc3)C(=O)NC3CCCCC3)CC2)c(C(=O)NCCCCCCCCNC(=O)C(C)C)C1CCCCCCCCCCCCCC', 'COc1cc2c(c(=O)[nH]c3c(O)cccc3c2=O)c2ccccc21', 'CC(c1ccc(F)cc1)NC(=O)CN1CCCCC1c1ccc(C(=O)Nc2ccccc2)cc1', 'Cc1ccc(CCCNC(=O)C2CCN(CCCCCCCCCCCCCCCCCCCCCCCCCCCCCCCCCCCCCCCCCCCCCCCCCCCCCCCCCCCCCCCCCCCCCCCCCCCCCCCC', 'COC(=Oc1cc(-c2ccc(O)cc2)nc2ccc(NC(=O)c3ccccc3)cc12)NC(=O)C(C)C', 'CCCCCOC(=O)c1ccc(C)cc1C(=O)OCCCCCCCCCCCCCCCCCN(Cc1ccc(C(=O)O)cc2)c1CCCCCCCCCCCCCCCCCCCCCCCCCCC(=O)NC(C', 'OC(c1cccc(C(=O)N2CCCCC2)n1)Nc1ccc(Cl)cc1', 'CCCCNc1cc(C2CC(C(C)C)C(C)C(C)C)c2ccc(C(=O)O)cc12', 'CCO1C(=O)C(C)C2=C(C)C1=C(C)C1CCC(c3ccccc3)C1=O', 'Nc1cc2nc(C)ccc2c(C)c1C', 'COc1cc(C=Cc2cc(O)cc(O)c2)ccc1OC', 'CCOC(COc1ccc(O)c2c1cccc1Cl)c1ccccc1', 'COC(=O)c1ccc(N2CCOC(=O)c2cc(O)cc2OC)cc1OC', 'CCOc1cc(-c2c(Cl)ccc(NC(=O)NCCCCCCCCCCCCCCCCNCCCCNC(=O)c3ccc(Cl)cc3)c2C)cc(C(=O)NCCCCNC(=O)C(C)C)c1', 'NC(=O)Cc1cccc(CNC(=O)CSc2nc(-c3cccc(C(=O)NC(=O)CC(=O)O)c3)cc2)c1C(=O)NC(C)C', 'CN(C)N=C(N)c1cc(NC(=O)CNC(=O)c2ccc(-c3ccc(Cl)cc3)nc2)cc(OC)c1OC', 'Oc1cc(N(CCN2CCOCC2)c2cc(-c3ccc(Cl)cc3)nc3ccccc23)c(=O)n(C)c1', 'CCCOCCn1c(=O)n(-c2ccc(C(F)(F)F)cc2)c2ccccc21', 'Cc1cc(N2CCN(c3ccccc3)c3c(c2)C(=O)N(CCCCCCCCCCCC(=O)O)CC2)nc(NC(=O)CCCCCCCCCCCCCCCCCCCCCC3CCCC3CCC3CCC3', 'COc1ccc(CNCCOCC(=O)Nc2ccc(NC(=O)c3ccc(C(=O)NCC(=O)O)cc3)cc2)cc1', 'N=CN1N=C(O)c2ccc(OCc3ccccc3)cc2C1=O', 'CN1CCCc2ccc(-c3cc(C(=O)NCCCCC(=O)O)ccc3OC)cc(OC)c21', 'CC(C)N1CCC(OC2CCCC2)C1(C)C(=O)Nc1ccc(Cl)cc1', 'CCN(C)CCCOc1cc(O)c(Cl)cc1C(=O)NCCCNC(=O)C(C)C', 'CN(C)C(=O)c1cc2c(c1)CCN(Cc1ccccc1)C2', 'COCC1Oc2cc(OCc3ccc(N)cc3)ccc2N1CCN(C)C', 'CN(C)C(=O)c1ccc(-c2c(C)c(C)c(C)c(C)c2)c(=O)n1', 'Cn1ncnc1C(N)C(=O)NC(Cc1ccc(C(=O)NC(C)C)cc1)NC(=O)C(Cc1ccccc1)C(=O)NC(CC(=O)O)C(=O)O', 'COC1=Nc2c(C)nc(-c3ccccc3)n2C(=O)N1CCCCCCCCN1CCN(C(=O)c2ccc(Cl)cc2)CC1', 'CCc1ccc(NC(=O)O)cc1NCc1ccccc1', 'CNC(=O)Nc1ccc(C(F)(F)F)nc1CCCCCCCCCCNC(=O)C(C)C', 'CCC(N)cc1ccc(N)nc1Cl', 'Cc1c2c(nc3cc(-c4ccccc4)ccc3n2)c2ccccc2n1', 'CC(=O)NC1CC(=O)Nc2ccc(Cl)cc2N1CCN1CCCC1', 'COc1cc(Nc2ncnc3c2nncn2C)ccc1OC', 'COc1cc(-c2nnc(N3CCN(Cc4ccccc4)CC3)nn2-c2ccc(C(=O)NC(C)C)cc2)cc1OC', 'C=N1CCNc2nc3ccc(Cl)cc3c2C1', 'CCCCOC(=O)c1ccccc1NC(=O)CNC(=O)c1ccc(N2CCN(C(=O)C3CCCC3)CC2)cc1', 'O=C(c1cccc(Oc2ccc(O)cc2)c1)N1CCN(c2ccc(-c3ccc(Cl)cc3)cc2)CC1', 'CCCCCCN(C)COc1ccc(OC)cc1', 'CCC(=O)N1CC(N2C(=O)C(C(=O)c3ccccc3)CC2)CC1', 'CC(NC(=O)O)c1ncc(CNCCO)cc1C(=O)Nc1ccccc1Cl', 'NCCOC(=O)c1c2cc(NCCN3CCCCC3)nc(Nc3ccc(C(F)(F)F)cc3)c2ccc(-c2ccccc2)n1', 'Cc1cc2nc(-c3c(O)nc(N)cc3C(=O)NCCN3CCCC3)cc2c2ccccc12', 'CC(O)NC(Cc1cc2ccc(Cl)c(Cl)c2)n1', 'COC(=O)C1CCCCN1C(=O)Nc1cc(-c2nnc(NC(=O)C3CCCC3)n2)cc(C(F)(F)F)c1', 'O=C(OC1CCOc2cc(OCc3ccc(OC)cc3)ccc2N1CCOCC1)C(=O)NC(Cc1ccccc1)C(=O)NC(CC(=O)O)C(=O)O', 'C=C(NCCC(=O)O)C1c2ccccc2CCCCCCCCCCCCN(C(=O)C(C)C)C(=O)NC(Cc2ccccc2)C(=O)N1CCCCCCCCCCCCCCCCCCCCCCCCCCCC', 'COC(c1ccc2ccc(O)cc2c1)C1CCCC1', 'Cnc1nc(CNc2cc(Cl)cc(Cl)c2)nn1Cc1ccc(-c2ccccc2)nc1', 'CC(COc1cccc(NCCCN)c1)N1CCCC(c2ccccc2)C1=O', 'CCOC(=C1c2ccccc2)C1', 'O=C(O)1Cc2c(nc3ccccc3n2)C1=NN1CCN(Cc2ccccc2)CC1', 'COc1ccc(C(=O)NCCNC(=O)c2ccccc2)cc1', 'COCc1ccc(NC(=O)NCC2CCN(c3ccc(C(F)(F)F)cc3)n2CCN(C)C(=O)NC(C)C)c1', 'COc1c(C2(O)c3c(nc4c(OC)cccc4c3=O)N(CCCCCCCCCCCCCCCCCCCCCCCCCCCCCCCCCCCCCCCCCCCCCCCCCCCC3(C)C(=O)NCC3CC', 'CCCc1ccccc1C(=O)Cc1cc(C(=O)O)ccc1-c1ccc(Cl)cc1', 'Cc1ccc2c(NC(C)(C)Cc3ccc(Cl)cc3)nc(NCCCCCCCCCCCCCCCCCCCCCCCCCCCCCCCCN(C(=O)CCCCCCCCCCCCCCCCCCCCCCCCCCCC', 'CN(C)Cc1ccccc1NC(=O)NCCCNc1cc(C(=O)Nc2ccc(C(=O)NC(C)C)cc2)ccc1OC', 'CCN(CC)c1cc(C2CCCC2)nn1-c1ccc(Cl)cc1', 'COCc1cc(-c2nnc(-c3ccccc3)n2)nc(-c2ccc(Cl)cc2)c2ccccc12', 'Cc1cc(C2CCCC2)nc2ccccc12', 'CC(O)c1ccc(OC(=O)NCCCCCC(=O)O)cc1', 'COc1cc(N(Cc2cc(O)c(O)cc2)c2c(=O)[nH]c(=O)n(C)c3c2C(=O)N(C)CCCC3)cc1', 'O=C1Nc2c(C)cc(C)c(C)c2CC1CCCCCCCCCCCCCCCCN(C(=O)C(C)C)C(=O)NC(C)C(=O)NC(C)C', 'O=c1cc(N2CCC(C(F)(F)F)CC2)nc2ccc(NC(=O)c3ccccc3)cc12', 'CCOc1nc2c(Nc3cc(C(F)(F)F)ccc3Cl)nnc(N)n2Cc1ccccc1', 'CC(=O)Nc1nc2c(cc(Cl)cc2Cl)c2ccccc21', 'CC(O)Nc1nc(C(=O)O)cn1-c1ccc(Cl)cc1C(=O)N1CCCCC1', 'CCOc1cc(CNC(=O)Nc2ccc(-c3nc(N)nc4ccccc34)cc2)cc(OC)c1OC', 'CC(Oc1ccc(Cl)cc1C(=O)c1ccc(Cl)cc1)c1ccc(Cl)cc1', 'CC(=O)NCC(Cc1ccc(O)cc1)N1CCCC1C(=O)NCc1ccccc1', 'CNC(CCc1nc2c(O)c(O)c(-c3ccc(Cl)cc3)cc2n1)C(=O)NCCCCCCCCCCCCCN(CCCCCCCCCCCCCCCCCCCCCCN1C(=O)C(C)C)C1', 'OC(=O)CC1(C)Cc2nc(N3CCOCC3)nc(N3CCCC3)c2c1C', 'CN(CCN1Cc2ccccc2C(=O)NC1CCCCC1)C(=O)NC(CC(=O)O)C(=O)O', 'C(C)C1(C)NCCN(Cc2ccccc2)CC1', 'COCC(=O)Nc1ccc(N2CCN(CCCCCCCCCCCCCCCCCCCCCCCCCCCCCCCCCC3)CC2)cc1', 'CCc1cnc(C2CCCC2)nc1Nc1ccc(Cl)cc1', 'COCCN1CCC(Oc2cc(C(=O)Nc3ccc(C(F)(F)F)cc3)ccc2C(=O)O)C1', 'COc1c(N(C)(C)C2=NC(=O)c3ccc(C(F)(F)F)cc3)c2cc(C(=O)O)cc(OC)c2c1OC', 'CC1(O)CCN(Cc2cccc(C(=O)Nc3ccccc3)c2)CC1', 'CC(=O)N1CCC(Oc2cc(NC(=O)c3ccc(NC(=O)c4ccc(C(=O)NC(C)C)cc4)cc3)CC2)cc(C(=O)NCCCCCCCCCCCCCCCCCCCCCCC(=O)', 'O=C(=O)c1cn2CCCCCCC2CCN(C)CC2c2ccccc2Cl', 'CCOC(=O)CCCc1ccc(N2CCN(Cc3ccccc3)C(=O)N(Cc3ccc(C(=O)NC(C)(C)C)cc3)C2)cc1', 'CN(C)CC(=O)CC(=O)Nc1cccc(C(=O)c2ccc(Cl)cc2)c1', 'Cc1ccc(NC(=O)COCCN2CCN(c3ccc(C(=O)NCCCCCC(=O)O)cc3)CC2)cc1', 'O=c1cccc(CN2CCCCCC2)c(C(=O)NCCCCCCCCCCCCCCCCCCCCCCCCCCCCCCCCCCCCCCCCCCCCCCCCCCCCCCCCCCCCCCCCCCCCCCCCCC', 'CNCc1ccc(-c2c(C)nc3ccccc3n2)cc1', 'COCc1cc(C=Cc2cc(O)c(OC)cc2OC(C)C(=O)NC(C)C(=O)NC(C)C)c(=O)[nH]c1=O', 'CCCOC(=O)c1c(Cl)cc(-c2ccccc2)nc1-c1ccc(Cl)cc1', 'CC1NCc2ccc(Cl)cc2Cl', 'CCC(O)Oc1cc(Cl)ccc1NC(=O)Nc1ccccc1C(=O)NCCN1CCCCC1', 'COc1cc(C(C)(C)N2CCOC(c3ccccc3)C2=O)c(C(=O)NCCCCCCCCCCCCCCCCCCCCCCCCCCCCCCCCCCCCCCCCCN(Cc2ccc(C(=O)O)cc', 'Cc1ccc2c(c1)OCCN1Cc2cc(NC(=O)Nc3ccc(C(=O)N4CCN(C(=O)CC(C)C)CC4)cc3)ncnc21', 'CCN1CCC(Oc2cc(-c3ccccc3)nc2)CC1', 'CC1CCCN(Cc2ccc(NC(=O)C3CCCC3)cc2)CC1', 'Cc1cc(CNC(=O)CNC(=O)c2ccccn2)cc(C(F)(F)F)c1', 'COC(=Cc1cc(-c2ccc(OCc3ccc(Cl)cc3)c(=O)c2)c(-c2ccc(Cl)cc2)nc1)N1CCC(C(=O)NCCCCCCCCCCCCCCCCCCCCCCCCCCCCC', 'Cc1nc(N)nc2c1c1c(Cl)cccc1C2=NO', 'Oc1ccc(Nc2ncc3nc(-c4ccccc4)ncc32)cc1', 'CCN(C)CNC(=O)C1CN(C)C2=Cc3ccccc3C2=O', 'O=C(Nc1ccccc1NC1CCN(C(=O)c2ccc(NC(=O)c3ccccc3)cc2)CC1)c1ccccc1', 'N#CC(=c1cc(-c2ccc(Cl)cc2)nn2Cc3ccccc3n2)c1', 'O=CCN1C(=O)CCN(C)c1ccccc1', 'COc1ccc(NC(=O)c2cccc(OC)c2)cc1', 'OCOc1ccc(-c2nc(NCC3CCCC3)nc(N3CCCC3)n2)cc1', 'CC(C)(C)c1ncc(CNC(=O)C(NC(=O)Cc2ccccc2)C(=O)NCc2ccccc2)c1', 'CCc1ccc(-c2nc(CCCCCCNC(=O)C3CCCC3)nc2C)cc1', 'COP(=O)(CC1CCC1)c1cc(Cl)c(Cl)cc1Cl', 'CNC(C)C(=O)c1cc2cc(Nc3ncnc4c(N)ncnc34)ccc2c1', 'CC(=O)NCC1CN(C)CC(O)C1Oc1cc(-c2ccc(NC(=O)NC(=O)c3ccc(Cl)cc3)cc2)ccc1OC', 'Cc1c(N)cc(-c2cccc(Cl)c2)nc1-c1ccc(Cl)cc1', 'CCOc1ccc(OC)cc1NC(=O)c1ccc(-c2ccc(Cl)cc2)nc1-c1ccc(Cl)cc1', 'C(=O)N1C(=O)C(Cc2ccc(N3CCCC3)cc2)CC1', 'CCOCC1(c2ccc(Cl)cc2)nnn1-c1ccc(Cl)cc1Cl', 'C1=NNc2c(C)cc(C)c2c2c1CCCC2', 'CCN(CC(=O)OCCCC(=O)c1ccc(OCc2ccccc2)cc1)C(=O)NC1CCCCC1', 'OCc1ccc(-c2c(O)cc(OC)cc2C)cc1', 'COCc1ccc(NC(=O)NCCN2CCN(C(=O)c3ccc(Cl)cc3)CC2)cc1', 'CCn1c(CN2CCCCC2)c2c(NC(=O)c3cc(C(F)(F)F)cc(C(F)(F)F)c3)nnc(Nc3ccc(Cl)cc3)c2c1', 'COS(=O)(=O)c1cccc(NC(=O)N2CCN(c3ccc(N4CCCC4)cc3)CC2)c1', 'CCN(C)C=Cc1c(-c2ccc(Cl)c(Cl)c2)nn2c(C)nc(-c3ccc(Cl)cc3)c2c1', 'N#Cc1cc(C(C)(C)C(=O)c2ccc(Cl)cc2)c(C)c(C)c1', 'Cc1cc(CNC(=O)c2ccc(NC(=O)Nc3ccc(C(=O)NCC(=O)O)cc3)cc2)cc(C(=O)NCCCCCCCCCCCCCCCCCCCCNC(=O)C(Cc2ccccc2)C', 'O=C(CN1CCc2ccccc2)N1CCN(Cc2ccccc2)CC1C(=O)Nc1ccc(C(=O)NC(C)C)cc1', 'COc1c(Cl)cc2ncncc2n1Cc1ccc(-c2ccccc2)nc1', 'CCN(C)CCCN(C)Cc1ccccc1', 'O=c1cc(NCCCCCCCCCCCCCCCCCCCNc2ccc3ccccc3c2=O)cc1OC', 'CN(C)C(=O)Oc1ccc(NC(=O)CC(=O)Nc2ccc(C(=O)NC(C)(C)C)cc2)cc1C(=O)NC(C)C(=O)NC(C)C', 'Cc1cn2cc(Cl)ccc2n1', 'NC(Cc1ccccc1)CCC(C)C(=O)NC(CCCCCCCCCCCCCCCCCCCCCCCCCCCCCCCCCCCCCCCCCCCC(=O)N1CCCC1)C(=O)O', 'CC1(C)NCCCN(CC(=O)O)c1cccc(Cl)c1', 'CCN(CC)Cc1ccc(NC(=O)CC(=O)NCCNC(=O)c2ccccc2)cc1', 'O=C(Nc1cc2ncccc2n1)c1ccccc1Cl', 'COc1ccc(C(=O)c2cc(-c3ccccc3)nc2C)cc1', 'CC=C1C(C(=O)NCCc2ccccc2)C(=O)N1CCCCCCCCCCCCCCCCCCCCCCCCCCCCCCCCCCCCCCCCCCCCCCCCCCCCCCCCCCCCCCCCCCCCCCC', 'CN1c2ccc(Cl)cc2CCCCCCCCN(C)CCCCCCCCCCCCCCCCCCCCCCCCCCCCCCCCCCC(=O)NC2CCC2CCC2C(C)CCC2C1CCCC1', 'COC1C(c2ccc(Cl)cc2)NC(=O)C(Cc2ccccc2)NC(=O)C1CCCCCCCCCCCCCCCCCCCCCCCCCCCCC(=O)NC(C)C(=O)NC(C)C(=O)OCC(', 'CNC(=O)CCC1CNC2CN(c3ccc(C(F)(F)F)cc3)C(=O)N(Cc3ccc(C(F)(F)F)cc3)CC12', 'COc1c(C(=O)OCC2CCCC2)ccc2cc(C(=O)NCCCCCCCCCCCCCCCCCCCCCCCC(=O)NC(C(=O)NCCCCCCCCCCCCCCCCCCCC(=O)O)c3ccc', 'C=CC(C=CCc1ccc2ccccc2c1)C(=O)O', 'COc1ccc(-c2c(C(=O)O)c(=O)n(CCC(=O)O)c3ccccc23)c(=O)c1C', 'Cc1ncc(NCCN2CCC(C(=O)Nc3ccccc3)CC2)cc1', 'Cc1cccc2nc(N3CCN(C(=O)c4ccc(Cl)cc4)CC3)ccc12', 'Cc1c(C)nc(N)c(O)c1-c1nc(-c2ccc(Cl)cc2)nc2ccccc12', 'Cc1cc(C(=O)NCCOc2ccc(-c3ccccc3)cc2)c(=O)n(C)c1=O', 'O=C(Nc1nc(C)c(C)nc1)C(C)C', 'CN(C)Cc1cc(OC(=O)NCCNC(=O)C(C)C)c(NC(=O)c2ccc(Cl)cc2)cc1Cl', 'Nc1cccc2c(NCCc3ccc(Cl)cc3)nc(N)cc12', 'CCCn1c2cc(O)ccc2nc1NC(=O)c1ccc(C(=O)N2CCCCC2)c(C(=O)NCCCCCCCCCCCCCCCCCCCCCCCCCCCCNC(=O)c1ccc(Cl)cc1)C(', 'O=C(CCCCCCNCCCNCCNC(=O)c1ccc(C(=O)Nc2ccc(C(=O)Nc3ccc(C(F)(F)F)cc3)cc2)cc1)NC(=O)C(C)C', 'CCc1cc(C)nn(CCN2CCCCC2)c1NC(=O)c1ccc(Cl)cc1', 'Cc1c(C)nc(CCCN2CCCCC2)c2ccc(Cl)cc12', 'c1ccc(Cl)cc1NC(=O)N1CCCCC1', 'CN(CC)C(=O)Nc1cccc2ncnc12', 'COCCN1C(=O)C(C)NC(=O)CN1CCN(c2ccccc2)CC1', 'CNC(C)C(=O)Nc1ccc2ccccc2n1Cc1ccc(-c2ccccc2)nc1', 'COc1ccc2c(Nc3c(C(=O)Nc4ccc(Cl)cc4)ccc3C(=O)NC(C)C)ccc(C(=O)N3CCCCC3)c2c1', 'Oc1cc2c(cn1)NCCC2c1ccc(-c2ccc(Cl)cc2)n1', 'CN(Cc1ccc(Cl)cc1)Nc1cc(NC(=O)C2CCN(C(=O)C(C)C(=O)NC(Cc3ccccc3)C(=O)NC3CCCCC3)CC2)cc(C(F)(F)F)c1', 'CC(=O)NC(C(=O)NCCC(=O)NC(C)C)c1ccc(C(=O)NCCCCCCCCCCCCCCCCCCCCCCCCCCCCCCCCCCCCCCNC(=O)C(Cc2ccccc2)C(=O)', 'Cc1ccc(C)c(NC(=O)C(C)NC(=O)COc2ccccc2)c1', 'Cc1cnc(-c2cccnc2N2CCN(C(=O)c3ccccc3)CC2)nc1-c1ccc(Cl)cc1', 'C1CCC2c3ccc(-c4ccc(C(=O)NCC(C)C)cc4)cc3CC12', 'C=CC1CC(=O)CCCCc1ccccc1', 'CCN(CCCCCc1cccc2ccc(C(=O)O)cc12)N(Cc1ccccc1)C(=O)NC(Cc1ccccc1)C(=O)O', 'O=C(NC(=O)Nc1ccc(-n2ccc3ccccc3n2)c2cc(Cl)cc(Cl)c12)N1CCCCC1', 'COC(=O)c1ccc(-c2ccc(O)cc2)cc1', 'COc1ccc(-c2cc3c(cc2OC)ccc(OC)c2cc(OC)c(OC)c2)c1', 'CC(=O)COc1ccc(C=Cc2cc(O)c(O)c(O)c2)cc1OC', 'COC(=O)Nc1cc2cc(CNC(=O)CN(C)C)ccc2n1', 'CC(c1ccccc1)N1CCN(C(=O)COC(=O)c2ccc(C(=O)N3CCCCC3)cc2)C(=O)N1Cc1ccccc1', 'O=C1C(NC(=O)c2ccccc2)CCN1Cc1cc(C(=O)NCCCCCCCCCCCCCCCCCCCCCCCCCCCCCCCCCCCCCCCCCN(C(=O)C(CCCCCCCCCCCCCCC', 'CN(C)c1cccc2c1c(NCc3cccc(C(=O)NC(=O)c4ccc(Cl)cc4)c3)cc(C(=O)NCCCCCCCCCCCCCCCCCCCCCCCCCCCCCCCCCCCCCCCCC', 'COCC1c2ccc(C(=O)CCC(=O)Nc3ccc(C(F)(F)F)cc3)cc2C(=O)N1CCCCCCCCCCCCCCCCCCCCCCCCCCCCCCCCCCCCCCCCCCCCCCCCC', 'CC(=Nc1nc2c(-c3ccccc3)nc(N3CCCCC3)nc2-c2ccccc2)c1', 'N#CCc1ncnc(NC(=O)CCCCCCNc2cc(C(=O)O)ccc2Cl)c1', 'C=CC1NC(n2cccn2)CC1C(=O)NC1CCCCC1', 'C=C1Cc2ccc(NC(=O)Nc3ccccc3)cc2C1=O', 'O=C(O)CC1c2ccc(Cl)cc2C(=O)c2ccc(OC)cc21', 'COc1ccc2c(Nc3cccc(Cl)c3)nc(Nc3ccc(C(F)(F)F)cc3)cc2c1=O', 'CCC(=O)CCCCNC(=O)N1CCc2ccc(-c3ccc(N4CCN(CCCCCC4)CC3)cc3)cc2C1', 'CNCCCCCNCCCNC(=O)c1cccc(Cl)c1', 'CCCN1C(=O)c2cc(C(=O)CC(=O)Nc3ccc(Cl)cc3)ccc2C(=O)OC1CCCCCCCCCCCCCCCCCCCCCCCCCCCCCCCCCCCCCCCCCCCCCCCCCC', 'Cc1ccc2[nH]c(-c3ccc(CN4CCCC(C(=O)NCCCCCCCCCC4)c4ccc(Cl)cc4)c3)cc2c1', 'CCCc1cc(CNC(=O)CC(=O)NC(C)C(=O)NC(C)C(=O)NC(Cc2ccccc2)C(=O)NC(C)C)cc1C(=O)O', 'CC(N)(C)N(C)c1cc(OCC(=O)NCCc2ccccc2)cc(OC)c1OC', 'O=C1C(N)CCC1Oc1cccc(O)c1', 'COc1cc(CN2CCc3c(c4ccccc4c3=O)C(=O)N3CCCCC3)cc2cccc1OC', 'Clccccc1NC(=O)CCNC(=O)Cc1ccccc1', 'CCOP(=O)(O)C1CCC2NC(=O)C(CCN1C(=O)NC(=O)C(Cc1ccccc1)NC(=O)C2CCCCCCCCCCCCCCCCCCCCCCCCC(=O)NC(Cc1ccccc1)', 'CC(=O)c1cc2nc(N3CCC(O)CC3)nc(Nc3ccc(Cl)cc3)c2c1', 'CO1C(=O)C2(C)CC1C(c1ccccc1)C2', 'CN(C)Cc1ccc(NC(=O)c2ccc(NC(=O)c3ccc(C(F)(F)F)cc3)cc2)cc1', 'C=C(Nc1cc(CN2CCCCCC2)nn(CCCCCCCN2CCCCC2)c1)N1CCC(C(=O)NCCCCCCCCCCCCCCCCCCCCCCCCCCCCCCCCCCCCCCCCCCCCCCC', 'CCOc1cc(C(=O)CCC(=O)Nc2cc(C(=O)O)cc(C)c2)cc(OC)c1OC', 'CNc1ncc(C)cc1CNCCCN1CCC(c2ccc(Cl)cc2)CC1', 'CCc1cc2c(cc1O)NCCN(c1ccc(-c3ccc(Cl)cc3)nc1)C(=O)N2CCCCCC1', 'CC1=C(O)CNCCN(CC=Cc2cc(-c3ccc(OC(F)(F)F)cc3)nc(N)n2)C1', 'COC1c2ccc(O)cc2C1=O', 'CCOC(=O)N1CC2(c3ccc(OC)cc3C(=O)NC(Cc3ccc(Cl)cc3)C(=O)OC2)C(=O)N1', 'O=C1CNC(=O)Nc1ccc(-c2ccc(Cl)cc2)c(=O)n1', 'COc1cc(C2CCC2(C)C(=O)CC2CCCCCCC(=O)Nc2ccc(C(=O)O)cc2)c(=O)c2ccccc21', 'CCC1CC(C(=O)Nc2ccccc2Cl)CC1', 'O=C1NC(c2ccccc2)c2cc(NC(=O)c3ccc(C(=O)Nc4ccc(C(=O)NC(C)(C)C)cc4)cc3)cc(C(=O)NCC(=O)NCCCCCCCCCCCCCCCCCC', 'C=NC(C)c1cccc(-c2ccccn2)c1', 'CC1CNC(=O)CCC(NC(=O)c2ccc(-c3cc(C(=O)NCCN(C)C)ccc3)cc2)CC1', 'COc1ccc(Oc2c(C)cc(O)cc2C)cc1OC', 'CCOC(=O)Cc1ccn2ccc(OCCNC(=O)c3ccc(Cl)cc3)c(=O)c2c1', 'COc1c(CC(=O)NCC2CCN(CCCCCCCCCCCCCCCCCCCCCCCCCCCCCCCCCCCCN(Cc3ccc(C)cc3)C2=O)cc(C(=O)NCCCCCCCCCCCCCCCCC', 'CCC1CC(C)(C)c2ccccc2C1C(=O)OCCCCCCCCCCCCCCCCCCCCCCCCCCCCCCCCCCCCCCCCCCCCCCCCCCCCCCCCCCCCCCCCCCCCCCCCCC', 'O=c1[nH]cc(-c2ccccc2)n1Cc1ccc(Cl)cc1', 'OC(=O)c1ccc(N2CCCN(Cc3ccccc3)C2)cc1', 'COC(=O)c1cn(CNc2ccc(F)cc2)cc1', 'Cc1nnc(C)cc1CCNCCCCCNCCCCCNC(=O)C(C)C', 'CCC1(C)OC(=O)C2c3c(C(=O)Nc4ccc(C(=O)NC(C)C)cc4)cc(C(=O)NC(C)C)c3c2C1', 'Cc1cc(NC(=O)COCC(=O)Nc2ccc(Cl)c(Cl)c2)nc(-c2ccc(Cl)cc2)n1', 'Cc1cc(OC(=O)N(Cc2ccccc2)OC(C)(C)C)ccc1OC', 'O=C1N(C(=O)OCc2ccccc2)c2c(c1)C(=O)N(Cc1ccc(Cl)cc1)C(=O)N2', 'N#CC1=CCN(c2nc(NC(=O)c3ccc(Cl)cc3)nc2C)CC1', 'Cc1cccc(C(=O)NN=Cc2c(NC(=O)c3ccc(Cl)cc3)nc(NC(=O)CCCCCCCCCCCCCCCCCCCCCCCCCCCCCN(C(=O)NCCCCCCCCCCCCCCCC', 'CCOc1c(-c2cc(O)c(O)c(O)c2)c(OC)c(OC)c2cc(OC)c(OC)cc12', 'COc1ccc(-c2ccc(Cl)cc2NC(=O)c2ccc(Cl)cc2)cc1', 'CC(=O)Nc1ccc(NC(=O)OCC(=O)NC(=O)c2ccc(N3CCN(C)CC3)cc2)cc1', 'CC(=C)c1nc2cccc(NC(=O)CNCCN2CCCC2)c(-c2ccc(NC(=O)c3ccccc3)cc2)c1', 'C1CN(c2ccc(Cl)cc2)CC1C(=O)NCc1ccccc1', 'CN1CC(=O)Nc1ccc(-c2c(O)cc(OC)c(OC)c2)cc1', 'COC(=C(N)Nc1ccc(Cl)cc1)c1ccccc1', 'COCC=C(O)Cc1ccn2c(n1)CCCCCN1CCN(c2ccccc2)CC1', 'CC(Cc1cccc(F)c1)NCCNCCCCCNC(=O)c1ccccc1', 'COc1c(Cl)ccnc1N1CCN(C(=O)NCCCCCCCN2CCCCC2)C(=O)N1CCCCCCCCCCCCCCCCCCCCCCCCCCCCCCCCCCCCCCCCCCCCCCCCCCCCC', 'CNc1cc2nc(C(C)N3CCCC3)nc(N)c2c1', 'COC(=O)Cc1ccc(NC(=O)C2CCCC2)nc1', 'Cc1cc(C2CCN(C)CC2)ccc1OC', 'CCc1cc(O)ccc1N1CCN(Cc2ccc(NC(=O)NC(=O)c3ccc(Cl)cc3)cc2)CC1', 'COCCN(CC(=O)OCc1cccc(-c2ccc(Cl)cc2)c1)c1c(Cl)c(Cl)c(Cl)c(Cl)c1Cl', 'CC(=O)NC1C(O)C(NC(=O)c2ccc(OC(C)(C)C)cc2)C(=O)N1Cc1ccc(Cl)cc1', 'NC(=O)C1CCN(c2ccccc2)CC1', 'CCOC1CCN(Cc2ncccn2)CC1', 'Cc1ccc(NC(=O)CNCc2ccccc2)cc1', 'CCOc1c(C)nc(NC(=O)c2ccccc2N(Cc2ccccc2)C(=O)NC(Cc2ccccc2)C(=O)NC(C)C)cc1', 'c1nc2nc(C(C)C)nc2c1CCCCCCCCCCCCCCCNC(=O)C(C)C', 'CCNCCCc1ncc(Nc2ccc(NC(=O)NCc3ccccc3)cc2)nc1-c1ccccc1', 'Cc1cc(N2CCN(CCCCCCNc3ccc(C(=O)O)cc3)cc2C(=O)O)ccc1OC', 'CNCC(=O)c1ccc(Nc2ncnc3ccc(-c4ccccc4)nc23)cc1', 'CO=C1CN(C)Cc2cccc(NC(=O)c3ccc(N4CCN(C(=O)c4ccccc4)CC3)cc2)C1=O', 'Clc1ccc(NCCCNCCOc2cc(C(=O)NCCc3ccc(Cl)cc3)nc3ccc(-c4ccccc4)cc23)cc1', 'CCC1(c2ccccc2)NC(=O)c2ccccc2N1C(=O)c1ccccc1', 'CC1CC(C)=CCC1=C(c2ccccc2)C(=O)C1CCCC1CCN(C(=O)c2ccc(Cl)cc2)CC1', 'Cc1cnc(C2CCN(C(C)C)CC2)nc1NC(=O)C1CCCC1', 'C1=CC(CC(C)C)c2cc(Cl)ccc21', 'CCc1ncnc(N2CCCN(C(=O)c3ccccc3)CC2)c1', 'CN(=O)Nc1c(Cl)c2c(c1)NC(=O)NC(=O)Nc1cc(C(=O)Nc3ccc(Cl)cc3)ccc12', 'CC1CC(O)C(N2CCCC(C(C)CCCCCCCCCCCCCCCCCCCCCCCCCCCCCCCCCCCCCCCCCCCCCCCCCCCCCCCCCCCCCCCCCCCCCCCCCCCCCCCCC', 'O=c1ncncc1OCc1ccccc1', 'CCOc1ccc(-c2cc(-c3ccccc3)cc2)cc(OC)c1OC', 'Cc1ccc(C)nn1CCCCCNC(=O)C(C)C', 'COc1c2cc(-c3ccc(N4CCN(C(=O)NCCCCCCCCCCCCCCC(=O)NCCCCCCCCN4CCCCC4)c4ccccc43)cc3)ccc2C(=O)OCCCCCCCCCCCCC', 'C1=C(O)NC2CC1C(Nc2ccccc2C(=O)NC1CCCCC1)C(=O)NC(Cc1ccccc1)C(=O)O', 'Oc1cc(CNC(=O)CCCNC(=O)c2ccccc2)nc2cc(OC)c(OC)cc21', 'NC(=c1ccc2ccccc2c1)N1CCN(C(=O)CCCCCCCCCCCCCCCCCCCCCCCCCCCCCCCCCCCCCCCCCCCCCCCCCCCCCCCN(C(=O)C(C)C)CC2)', 'CCC(c1ncc2c(O)cccc12)C(=O)c1ccc(Cl)cc1', 'CC(=O)CCN1CCC(C(N)C(=O)NCCCCCCCCCCCCCCCCCCCCCCCCCCCCCCCCCCCCCN(Cc2ccccc2)C(=O)NC(C)C)CC1', 'Cc1nnc2c1CCC(C)CC(C)(C)CC2', 'CCn1c(CNc2ccc(C(F)(F)F)cn2)nc2cc(C(=O)NCCCCCCCCCCCCCCCCCCCCCCCCCCCCN(CCCCCN3CCOCC3)c3ccccc3nc3ccccc32)', 'CC(C)Nc1cc(N=Cc2ccc(O)c(N)n2)ccc1N1CCCCC1', 'CC(=O)Nc1ccc(CN2CCCCC2)cc1C(=O)Nc1ccccc1', 'CC1(C)c2nc(N)nc(C)c2C1', 'Cc1cc(C)nc(NC(=O)CCNC(=O)c2ccccc2)n1', 'COC(=O)N(CC(=O)C1CCC(O)C1)C(=O)c1ccccc1', 'COCCOc1cc(-c2nc3cc(OC)c(OC)c(OC)c3c2C(=O)NCCCCCCCCCCCCCCCCCCN2CCCCC2)c(-c2ccc(Cl)cc2)cc1', 'Cc1cc(N2CCC(C(=O)Nc3ccccc3)C(=O)N2CCN(C)C)ccc1C(=O)NC1CCCCC1', 'Cc1nc2cc(-c3ccc(N4CCN(C)CC4)ccc3)cc2c2ccccc12', 'C=Cc1c(N)cc(C(=O)NCCNC(=O)c2cc(C(=O)NCCCCCCCCCCCCCCCCCCC(=O)N3CCCC3)nc3ccccc3n2C)c2ccccc12', 'Cc1cc2c(c1)N(Cc1ccc(O)cc1)C(=O)N2', 'CN1CCc2cc(C(=O)CC(=O)O)ccc2C(=O)N1CCCCCCCCCCCCCCCCCCCCCCCCCCCCCCCCCCCCCCCCCCCCCCCCCCCCCCCCCCCCCCCCCCCC', 'CN1c2nn(-c3ccccc3)cc2C(=O)N1CCN(c1ccccc1)C(=O)NCCCCCCCCCCCCCCCCCCCCCCCCCCCCCCCCCCCCCCCCCCCCCCCCCCCCCCC', 'CC1=C(O)c2cc(C(=O)NC3CCCC3)c(NC(=O)c3ccccc3)cc2C1=O', 'O=C1Cc2ccc(C(N)=O)c(C)n2CC1CCCCCCCCCCN(C(=O)C(C)C)C(=O)NC(Cc1ccccc1)C(=O)O', 'C=C(C)c1nc(C2CCCCC2)nc2cccc1N2C(=O)CCCC1CCN(C(=O)CCCCCCCCCCCCCCCCCCCCCCCCCCCCCCCCCCCCCCCCCCCCCCCCCCCCC', 'CC(=O)c1c2cc(-c3ncnc3c(N)nc(N)nc3c2)c(OC)c(OC)c1OC', 'Nc1ccc(CNC(=O)c2cc(Cl)c(Cl)cc2Cl)nc1-c1ccc(Cl)cc1', 'COc1cc(OC)c(-c2ccc(Cl)cc2)cc1', 'COCCn1c(Nc2cccc(Cl)c2)nc2ccc(NC(=O)c3ccccc3)cc21', 'CC1CC(=O)NC(C(=O)C(CCNC(=O)c2ccc(Cl)c(Cl)c2)C(=O)O)CC1', 'CCOc1cc(CNC(=O)C2CCN(C(=O)c3ccc(Cl)cc3)CC2)cc(C(F)(F)F)c1', 'CC(=NNc1ccc(OC)cc1)NC(=O)N1CCN(C(=O)c2ccc(Cl)cc2)CC1', 'COc1ccc(C(=NN=Nc2ccc(-c3ccccc3)cc2)C(=O)NC(Cc2ccccc2)C(=O)NC(C)C)cc1', 'O=C1Nc2cc(Cl)ccc2CN1CCN(C)C', 'CCCC(=O)c1ccc2nc(Nc3ccc(Cl)cc3)nc2c1', 'COc1cc(OC)c(C)c(NC(=O)Cc2ccccc2-c2nnc(-c3ccccc3)c2)c1', 'CCOC(=O)Nc1nc2c(ccn2C)CCC(C)c1ccc(NC(=O)c2ccccc2)cc1', 'O=C1NC(c2ccc(Cl)cc2)NCCN(CCCCCCCCCCCCCCCCCCCCCCCCCCCCCCCCN(Cc2ccccc2)C(=O)O)c1', 'COc1cc(OC)c2c(c1)CCC(C)(C)C2=O', 'Cc1ccccn1CN1CCCCN(c2ccc(N3CCN(C(=O)C4CCCC4)CC3)cc2)CC1', 'COc1c(O)c2ccc(CNCCc3ccc(C(=O)NCC(C)C)cc3)cc2c1=O', 'COCc1ccc2nc(CC(C)C)n(C)n2c1=O', 'Cc1nn(CCCNC(=O)Cc2ccc(Cl)cc2)nc1C', 'CCOC(=Nc1ccccc1NCCN1CCCCC1)N(C(=O)c1ccccc1)C(=O)NCCCCCCCCCCCCCCCCCCCCCCCCCCCCCCCCCCCCCCCCCCCCCCCCCCCCC', 'COc1cc(C(=O)c2cccc(-c3ccccc3)n2)c2cc(Cl)ccc2n1', 'O=C(CNc1ccccc1)C(=O)NCCCNC(=O)C(C)C', 'C1=C(CCc2ccccn2)CCN1C(=O)c1ccccc1', 'CNCC1CN(CCO)C(=O)c1c2c(cc1OC)C(=O)CC2', 'NC(=CCN1CCCC(CNC(=O)NCCCCCCCCCCCCCCCCCCCCCCCCCCCCCCCCCC(=O)N1CCCCC1)C(=O)NC(CCCCCCCCCCCCCCCCCCCCCCCCCC', 'CO=C1NC(=O)c2ccn(CCCCN3CCCCC3)c2c1', 'NC1=Cc2cc(Oc3ccc(C(=O)O)cc3)cc(C(=O)Nc3ccc(C(=O)O)cc3)c2c1', 'CCC(=O)Nc1ccc(NC(=O)CCCNC(=O)c2ccccc2)cc1', 'O=C(c1cnc(N)cc1)c1ccccc1C(=O)NCCNC(=O)CCCCCCCCCCCCCCCCCCCCCCCCCCCCCCCCCCCCCCCCCCCCCCCCCCCCCCCCCCCCCCCC', 'CCc1ccc(-c2ccc(O)cc2)c(OC)c1C', 'CN(C)C(=O)c1nc(-c2c(N)nc3ccccc3n2)c2ccccc2n1', 'Oc1c(=O)c(-c2ccccc2)nn(-c2ccc(Cl)cc2)n1-c1ccc(Cl)cc1', 'CN1c2cc(C(C)CC(N)C(=O)Nc3ccc(Cl)cc3)ccc2C(=O)NC1c1ccccc1', 'COC(=Oc1ccc(Cl)cc1)c1c(O)c(O)c2ccc(OC)cc2c1=O', 'CN(Cc1ccc(Cl)cc1)C(=O)Nc1ccc(C(=O)NC(CC(C)C)C(=O)NC(C)C)cc1', 'Cc1cc(C)c(Nc2nc(C)cc(OC)c2)nc1-c1ccc(Cl)cc1', 'COC(=Nc1cc(-c2cccnc2)nc2ccc(NC(=O)c3ccccc3)cc1)c1c2ccccc2n1', 'O=COC(=O)c1cccc(Oc2ccc(N3CCN(CCOCCN4CCC(=O)Nc4ccc(C(F)(F)F)cc4)CC3)ccc2OC1OC(C)C)C(=O)O', 'COC1(OC(=O)c2ccc(C(=O)Nc3ccc(C(=O)NC(C)C)cc3)cc2)C(=O)NC1c1ccccc1', 'CSc1ncc(C)c(NC(=O)c2ccccc2NC(=O)C(C)NC(=O)C(C)C)N1CCCCC1', 'CC(Cc1cccc(Cl)c1)N1CCN(C(=O)C2CC(NC(=O)c3ccc(Cl)cc3)CC2)CC1', 'CCOc1c(O)c(C(=O)Nc2ccccc2)ccc1NC(=O)c1ccccc1', 'Cn1ccc(NC2=CCC3CCN(Cc4ccccc4)C3=O)c2c1', 'COc1ccc(C(=O)Nc2ccc(C(=O)NC(C)C)cc2)cc1', 'COC(=O)c1c2ccccc2CCNC(=O)c2ccccc2C(=O)Nc2ccccc21', 'CC(C)NC1C(=NC(C)(C)c2cccnc2)NC(=O)C(CC(C)C)NC(=O)C(C)C(=O)NC(C)C(=O)NC(C)C(=O)NC(C)C(=O)NC(C)C(=O)NC(C', 'Cc1ccc(Nc2ncc(O)cc2)cc1', 'O=C(Cc1cccnc1)NC(=O)Cc1ccc(CN2CCCCC2)c(-c2ccc(Cl)cc2)c1', 'CCc1nc(C)cc(NCCNc2ccc(NC(=O)c3ccccc3)nc2N)c1', 'Cc1cc(NC(=O)Nc2ccccc2)nc2ccc(C(=O)NCCCCCCCCCCCCCCCCCCCCCCCCCCCCCCCCCCCNC(=O)c2ccccc2)cc1', 'CCCCOC(=O)C(N)(Cc1cccc(O)c1)C(=O)NC(Cc1ccccc1)C(=O)NC(CC(=O)O)C(=O)NC(CC(C)C)C(=O)NC(C)C', 'CC(C)n1nc(-c2cnc3c(N)ncnc32)cc1OC', 'O=C1NC2CC3(CCCCCC3)CC12', 'CNc1cc(C2CC3(CCCCCC3)C2)ccc1OC', 'CC(C)C(CO)N1CCC(C(=O)N2CCN(C(=O)C3CCCC3)CC2)CC1', 'Cc1cccc(CNC(=O)c2cc(C(N)=NC(=O)NC(C)C)ccc2C(=O)NCc1ccccc1)c1ccccc1', 'Cc1nc2c(C(=O)NCCCCCCCCCCN(Cc3ccccc3)CCCCCN3CCN(CCCCCCCCCCCCCCCCCCCCCCCCCCCCCCCCCCC(=O)OC(C)(C)CCC3CC(=', 'CS(=O)(c1cccc(NC(=O)Nc2ccccc2)c1)N1CCCCC1', 'CCC(=NNc1ccccc1)c1cccc(Cl)c1', 'Cc1nc(CCCCNc2ccc3c(c2)nn(-c2ccc(C(F)(F)F)cc2)C3)nc1C', 'COC(=O)Cn1cccc1C(=O)NCCCN1CCCCC1', 'C#Cc1nc(CNCCCNC(=O)c2ccccc2)nc1C', 'COc1c(OC(=O)c2c(Cl)cccc2Cl)n2ccc(Cl)cc2n1', 'CNCc1nc(-c2cc(Cl)cc(NC(=O)Nc3ccc(Cl)cc3)c2)nc2cc(Cl)cc(Cl)c12', 'COc1ccc(C2NC(=NC(C)C(=O)NCCCCCCCCCCCCCCCCCCCCCCCCCCCCCCCCCCCCCCCCCCCCCCCCC3CCCC3CC2C(=O)OCC(C)(C)C)c1', 'C=CCN1C(=O)C=Cc2c(C(=O)O)cccc21', 'COc1ccc(C(F)(F)F)cc1C(=O)NCCCCCCCCCCNC(=O)C(C)C', 'CNc1c(C)c2cc(NC(=O)Cc3ccccc3)nc(Nc3ccc(Cl)cc3)c2c1C', 'COc1cc(C(=O)c2cc(NC(=O)C(C)C)ccc2Cl)cc1C(=O)NCCCCCCCCCCCCCCCCNC(=O)C(C)C', 'Cc1cc(C=Cc2cc(OC)cc(OC)c2)cc(OC)c1OC', 'CCc1c(O)cc(-c2ccc(NC(=O)c3ccc(NC(=O)CC(=O)Nc4ccc(Cl)cc4)cc3)cc2)cc1C(=O)NCCCCCCCCNC(=O)NC(C)C', 'Cc1cc(C)nc(Nc2cc(O)cc(O)c2)c1', 'CC(CN1CCC(=O)Nc2ccccc2C1)NC(=O)C1CCCCC1', 'Cc1cc(CNC(=O)Nc2ncnc(N3CCCCC3)n2)c(C)n1', 'CSc1nnc(-c2ccc(-c3ccccc3)c(=O)n2)c(C)c1C(=O)NCCCCCNC(=O)C(C)C', 'CO1C(C2CCN(C(=O)N(C(C)C(=O)Nc3ccc(Cl)cc3)CC2)CC2)c1C(=O)NCCCCCCCNC(=O)NC(Cc1ccccc1)C(=O)O', 'O=C(CCn1ccc(O)c1)c1ccccc1Cl', 'COc1ccc2c(c1)cc1c(c1)CCC(C)(C)Cc1cc(C(=O)Nc3ccc(Cl)cc3)ccc12', 'O=C(NC(=O)c1ccccc1)NCc1ccc(Cl)cc1', 'O=C(c1ccc(-c2ccccc2N)nc1)N1CCN(C(=O)c2ccc(Cl)cc2)CC1', 'Cc1ccc(C(=O)NC(CC(=O)O)c2ccccc2)cc1', 'COC(=Oc1cccc(NCc2ccccc2)c1)N1CCCCC1', 'CCn1cc(-c2ccc(Cl)cc2Cl)nc2c1CCCC2', 'Clc1cc(NCCCNCCOc2ccc(Cl)cc2)c(=O)c2ccc(OC)cc12', 'CCC(O)NC(=O)c1cccc(-c2ccc3ncnc3c2OC)c1', 'CCNCCOC(=O)c1ccccc1C(=O)c1ccccc1', 'Cc1nc(C2CNCC2(NC(=O)c3ccc(C(=O)NC(C)C)c(C(=O)O)c3)c2)c(C)n1C', 'C=C(NCc1cccc(CN2CCNCC2)c1)NC(=O)C(CCCCNC(=O)NC(C)C)C(=O)NC(C)C', 'COc1nc2ccc(OC)cc2n1Cc1ccc(Cl)cc1', 'CCc1ccc(C(=O)O)c(NC(=O)c2ccc3c(c2)C(=O)N(C)CC3)c1', 'CN(C(=O)OC1CCCCC1)C1CCCCC1NC(=O)Nc1ccc(Cl)cc1', 'COc1ccn2c(NC(=O)Nc3ccccc3Cl)nc(Nc3ccccc3)c2c1', 'CN(CC1CCN(C)CCC(=O)NC1CCCC1)C(=O)NC(Cc1ccc(Cl)cc1)C(=O)NC(CC(=O)O)C(=O)O', 'O=C(O)CCCNc1cccc(N2CCN(c3ncnc4ccc(NC(=O)CCCCCCCCCCCCCCCCCCCCCCCCCCCCCCCCCCC(=O)NCCCCCCCCCCCCCCCCCCCCCC', 'CCOC(=O)N1C(C2CC3CC(C)(C)C3)c2ccccc12', 'C1=C(NCC2CC(O)C(C)C(O)C(C)C(C)C(C)C(C)C(C)C(C)C(C)C(C)C(O)C(O)C(O)C(O)C(O)C(O)C(O)C(C)C)CC1', 'CN1CCN(c2ccc(Cl)c(Cl)c2)C(=O)N1Cc1ccc(-c2ccc(Cl)cc2)nc1', 'N=C(NN=Cc1cc2ccc(-c3ccccc3)cc2)c1NC(=O)CN1CCCCC1', 'COC(=O)Nc1cccc(-c2ccccc2)c1', 'C1(NC(=O)c2ccccc2)C(=O)N1Cc1ccc(C(=O)NCCc2ccccc2)cc1', 'COC(=O)c1ccn(Nc2nc(N)c(O)c3cc(-c4ccccc4)nc23)cc1', 'CC1C(=O)c2cccc(-c3ccc(C(=O)NCCCCCCCCCCCCCCCCCCCCCCCCCCCCCCCCCCCCCCCCCCCCCCCCCCCCCCCCCCCCCCCCCCCCCCCCCC', 'CCC(C)CNCc1nc2cccc(Nc3ccc(C(=O)NCCN4CCCCC4)cc3)c2n1', 'COC(=c1ccc2ccccc2c1)c1ccccc1', 'CNc1c2c(cc1O)c1ccc(-c3ccc(OC(F)(F)F)cc3)nc1-c1ccc(C(=O)NC(C)C)cc1C(=O)NCC1CCCCC1', 'Cc1nc(-c2nc3ccc(Cl)cc3n2CCCCCCCCCCCCCNC(=O)C(C)C)c(=O)[nH]c1=O', 'Nc1nc(C)nc(O)c1Cc1ccc(-c2ccc(Cl)cc2)cc1', 'COc1c(Cl)c(NC(=O)c2ccccc2)nnc1NC(=O)C1CCCC1', 'NC(=O)CNC(c1nc2c(NC(=O)c3ccccc3)ncn2)c1Cl', 'CCOC(=O)c1ccc(C(C)C)c(C(=O)N2CCCCC2)c1C', 'CC(=O)N1C(C(=O)C(C)C)C(=O)C1(C)C', 'CC(=O)Nc1cc(CCNC(=O)C2CCCCC2)ccc1OC', 'CN1CC(C)CC(=O)CC1CC1', 'COc1cc(C(=O)c2c(N3CCN(C)CC3)cccc2Cl)cc1C(=O)NCCCCCCNC(=O)NC(C)C', 'CN(COc1cc(N=Cc2ccc(N3CCOCC3)cc2)nn2c(C)nc(N)c2c1)C(=O)O', 'C=C(c1cc(Cl)cc(N2CCCCCC2)c1)N1CCCCC1', 'O=Cc1ncnc(Nc2ccccc2)n1Cc1ccc(Cl)cc1', 'CC(N)NC(=O)c1c2cc(-c3ccccc3)cc(C(=O)NCCCCCCCCCCCCCCCCCCCCCCCCCCCCCCN2C(=O)NC(Cc2ccccc2)C(=O)O)cc1', 'O=C(NCc1ccc2cnc(Nc3ccc(N4CCN(C)CC4)cc3)nc2c1)NC(=O)C(C)C', 'COC1CCC2(CC(C)(C)N3CCCC3)c(=O)c2c1', 'CCc1c(C)c(C(=O)N2CCCCC2)nn1C(=O)NC1CCCC1', 'COc1cc(CN(C)C(=O)Nc2ccc3c(c2)nnn2-c2ccc(Cl)cc2)ccc1OC', 'COC(=O)Cn1c(Cc2ccc(C(F)(F)F)cc2)nn2CCCCCC2CCCCCCCCCCCCCCCCCCCCCCC(=O)NC(CCCCCCCCCCCCCCCCCCCCCCCCCCCCCC', 'CN(CC)c1nc2ccc(N3CCCC3)cc2c1C', 'O=C(NCCO)Nc1nc(-c2ccccc2)nc(-c2ccccc2)n1', 'CC1OC(=O)c2c(NC(C)C)c(NC(=O)c3ccc(Cl)cc3)ccc2C1=O', 'O=C(NC1CC2(Cc3ccccc3)c3ccccc32)C1=O', 'O=C(C)(C)NC(=O)c1ccccc1C(=O)NC(CC(=O)NC(C)C)C(=O)NC(Cc1ccccc1)C(=O)O', 'CCc1cc2c(c1O)c1ncnc2c1nc(-c2ccc(Cl)cc2)n1CCCCCCCCCCN(CCCNC(=O)C(C)C)C(=O)NC(C)C', 'CCNCCC(C)C(=O)NC(Cc1ccccc1)C(=O)O', 'COCc1cc(-c2c(C(=O)O)cc(OC)c2C)cc(OC)c1OC', 'CCc1nc(CN2CCOCC2)ccc1-c1ccc(Cl)cc1', 'NC(C)CC(=O)OCCOc1ccccc1Cl', 'CC(=O)NCCc1nc2cccnc2n1Cc1ccc(Cl)cc1', 'COc1cccc(CN2CC(C(=O)NCCCCCCCCCCCCCCCCCCCCCCCCCCCN(C)C)c3ccccc3c2=O)c1', 'COc1ccc(C(=O)NC2CCC(CO)C(O)C2)cc1', 'Cc1cc(NC(=O)Cc2ccccc2)ccc1NC(=O)c1ccc(Cl)cc1', 'Cc1cc(C)c(Nc2nc(C(=O)O)ccc2NC(=O)c2ccccc2)cc1', 'CC(C)C1CCc2ccc(Cl)cc2N1', 'CNC(=O)CCCc1nc2ccc(Cl)cc2n1CC1CCCC1', 'C=Cc1ccc(NC(C2CCCCC(NC(=O)C(C)C)CC2)C(C)C)cc1', 'COc1cc(C(=O)C=C2C(=O)Nc3ccc(OC)c(OC)c3)c2cc(OC)cc1OC', 'CCN(CCCC)c1nc(C)c2ccccc2n1', 'OC1(CC2CCC3c4ccccc4C(=O)C(C)(C)C3)C2=O)c1', 'O=C(NCc1ccc2nc(C)ccc2n1)C(=O)NC1CCCCC1', 'COc1ccc(NC(=NN2CCOCC2)c2ccc(Cl)cc2)nc1-c1ccc(Cl)cc1', 'CON=C(Nc1ccccc1)c1ccc2c(c1)NC(=O)NC2=O', 'CCN(C)CC1OC(=O)C2CC(c3cc(C(=O)O)cc(C(=O)NC(C)C)c3)CC2(C)C1', 'Cc1ccc(C(=O)N2CCCC2CCN2Cc3ccc(N4CCN(C(=O)CCCCCCCCCCCCCCCCCCCCCCCCCCCCCCCCCCCCCCCCCCCCCCCCCCCCCCCCCCCCC', 'Cc1cc(C)nn2c1CCC(CN(C)C)C(=O)N1CCCCC1', 'CCC(CNC(=O)C(c1ccccc1)C(=O)NCCCCCCCCCCCCCCCCCCCNC(=O)c1ccc(C(F)(F)F)cc1)C(=O)NC(C)C', 'CCc1cc(C)c(OC(=O)Nc2cccc(C(F)(F)F)c2)cc1', 'C(C)(C)Nc1ccc(NC(=O)COc2cc(Cl)cc(Cl)c2)cc1', 'CC1CC(C2(O)Cc3ccc(N4CCN(C)CC4)cc3)CC2C1=O', 'Cc1cc(C)c(C(C)CNC(=O)C2CCN(Cc3ccccc3)C2=O)cc1', 'Cc1cc(-c2cccc(OC)c2)nc(-c2ccc(C(=O)NC(C)C)cc2)c1', 'COc1cc(-c2nn(-c3ccccc3)c(C)c2)c(=O)n(C)c1C', 'CCOC(=O)c1c2c(-c3ccccc3)ncnc2c1NC(=O)c1ccccc1', 'CCC1(C)c1ccnc(NC(=O)c2ccccc2-c2nc(-c3ccc(Cl)cc3)nc2N)c1', 'CC(=O)c1c2ccc(Cl)cc2c2c(=O)n(C)c(=O)nc2c1', 'OCNc1nc(C)cc2nc(Nc3ccc(Cl)cc3)nc1-c2ccc(Cl)cc21', 'COc1cnc2nc(C(=O)NC(C)(C)C)c(=O)n(Cc3ccccc3)c2c1', 'Cc1ccc2c(c1)OCCO2', 'COc1ccc(NC2CCCCCC2)nc1N', 'CNC(=O)CCN1CCN(C(=O)c2cc(C(F)(F)F)ccc2Cl)CC1', 'O=C(NCCOc1cnc2c(O)c3ccc(OC)cc3nc2c1)C(=O)NC(C)C', 'CO(C)(c1ccc(N2CCNCC2)nc1-c1nc(C)nc(N)n1)C1CCC(C(=O)O)C1', 'CCc1c(Nc2ccc(O)cc2)nnc1Nc1nc(-c2ccc(Cl)cc2)nn1Cc1ccc(Cl)cc1', 'CCCCC(=O)OCCCC(=O)OCC(=O)OCC(=O)OCC(=O)O', 'Cc1ccc(OC)c(Nc2nc3c(c2n1CCN(Cc1ccc(Cl)cc1)C(=O)N3CCN(C)CCCCCCCCCCCCCCCCCCCCCCCCCCCCCCCCCCCCCCCCCCCCCCC', 'CC=CCOC(=O)NCc1cc2c(nc3ccc(-c4ccccc4)c(=O)n3C)cc2c1', 'CC(NC(=O)NC(=O)c1ccc(Cl)cc1)C(C)C', 'C1CCC(C(C)CN2CCCCCC2)C1', 'COc1ccc(N(C(=O)COc2ccccc2)c2ccccc2)cc1', 'CC(CNC(=O)CCNc1cccc(Cl)c1)N1CCCCC1', 'CCOc1cc(Cl)ccc1NC(=O)C1CCCC1', 'Cc1cc(CN2CCCCC2)nc(N)c1', 'Nc1c(O)c2ccccc2c2ccccc12', 'O=Cc1ccc(NC(=O)CCc2ncnc3ccccc23)nc1', 'CC1(Cc2cccccc2)CCNC(=O)CCCCCCCCCCCCCCCN(CCCCCCCCCCCCCCCCCCCCCCCCCCCCCCCCCC3CCC2C1OC(C)C)C1', 'NC(N)=Nc1ccc(CNC(=O)N2CCCC(C(=O)Nc3ccccc3)CC2)cc1', 'COC(=c1ccc(C(=O)N2CCc3ccccc32)c(=O)n(C)c1=O)c1ccc(C(=O)O)cc1', 'COc1cc2c(c1)OCO2', 'CC1Cc2cc(C(C)C)c(C)c(C(=O)OCC(=O)NCCCCCCCCCCCCCCN(C(=O)c3ccc(Cl)cc3)CC2)c2ccccc21', 'CCCOc1ccc(OC(=O)Nc2ccc(Cl)cc2)cc1', 'CC(O)(COC(=O)C1CCCC1)C(=O)c1ccccc1', 'CCN1CC2(c3cccc(NC(=O)Nc4ccc(C(F)(F)F)cc4)c3)CCCC2C1=O', 'C=CNc1cc(CCNC(=O)c2ccccc2)c(C)c(=O)n1C', 'CC1(C)c2ccccc(C(=O)Nc2cc(C(F)(F)F)cc2)C1=O', 'CCN(c1ccc(C(=O)NCCCCC(=O)O)cc1)c1c(C(=O)O)c(C)c(C)c1C(=O)NCCCCCCCNC(=O)NC(C)C', 'CC(=Oc1cc(Cl)cc2c1ccc(Cl)c1Cl)c1ccccc1', 'O=c1c(-c2ccccc2)nn2CCCCCCCCCCN(C)CCCCCCCCCCCCCCCCCCCCCCCCCCCCCCCCCCCCCCCCCCCCCCCCCCCCCCCCCCCCCCCCCCCCC', 'Cc1ccc(N2CCCN(CCOc3ccccc3)n2CCN(C(=O)c2ccc(Cl)cc2)CC2)cc1', 'CC(=O)c1cccn2nc(Nc3ccccc3)cc12', 'CCCC(=O)Cc1ccccc1Cl)C(=O)NCCCCCCCCCCCCCCNC(=O)NC(C)C', 'Cc1ccc(NS(=O)(=O)c2nc(-c3ccc(Cl)cc3)nn2-c2ccc(Cl)cc2)cc1', 'Cc1nc2ccc(N3CCCCC3)cc2c1Cl', 'CCc1cc(O)c(-c2ccc(OC(=O)NCc3ccccc3)cc2)cc1', 'COC(=O)C=Cc1c(NC(=O)c2ccc(Cl)cc2)c2ccc(C(=O)NC(C)C)cc2C(=O)Nc1ccccc1', 'CCN(CCn1c(=O)cc(CCN2CCCC(C(=O)Nc3ccc(Cl)cc3)C2)c2ccc(Cl)cc2)n1', 'CCOCC(NC1=C(O)C(CC2CCCC2)C(=O)N1Cc1ccccc1)C(=O)NC(Cc1ccccc1)C(=O)O', 'Nc1cc(CNC(=O)c2ccccn2)nc(C)c1', 'CCOc1c(N)nc(C)c(NC(=O)c2ccc(-c3ccc(C(=O)NCC(=O)Nc4ccccc4)cc3)c2)c1']\n"
     ]
    }
   ],
   "source": [
    "import numpy as np\n",
    "import matplotlib.pyplot as plt\n",
    "import os\n",
    "import pickle\n",
    "import torch\n",
    "from smiles_vocab import SmilesVocabulary\n",
    "\n",
    "from rdkit import Chem\n",
    "from rdkit import RDLogger\n",
    "lg = RDLogger.logger()\n",
    "lg.setLevel(RDLogger.CRITICAL)\n",
    "\n",
    "def valid_ratio(smiles_list):\n",
    "    n_success = 0\n",
    "    for each_smiles in smiles_list:\n",
    "        try:\n",
    "            Chem.MolToSmiles(Chem.MolFromSmiles(each_smiles))\n",
    "            n_success += 1\n",
    "        except:\n",
    "            pass\n",
    "    return n_success / len(smiles_list)\n",
    "\n",
    "\n",
    "smiles_vocab = SmilesVocabulary()\n",
    "train_tensor = smiles_vocab.batch_update_from_file(\"data/train.smi\", ratio=0.1)\n",
    "val_tensor = smiles_vocab.batch_update_from_file(\"data/valid.smi\", ratio=0.1)\n",
    "max_len = val_tensor.shape[1]\n",
    "\n",
    "vae = SmilesVAE(\n",
    "    vocab=smiles_vocab, latent_dim=64, emb_dim=256,\n",
    "    encoder_params={\"hidden_size\": 512, \"num_layers\": 1, \"bidirectional\": False, \"dropout\": 0},\n",
    "    decoder_params={\"hidden_size\": 512, \"num_layers\": 1, \"dropout\": 0},\n",
    "    encoder2out_params={\"out_dim_list\": [256]},\n",
    "    max_len=max_len\n",
    ")\n",
    "train_loss_list, val_loss_list, val_reconstruct_rate_list = trainer(\n",
    "    model=vae,\n",
    "    train_tensor=train_tensor,\n",
    "    val_tensor=val_tensor,\n",
    "    smiles_vocab=smiles_vocab,\n",
    "    lr=1e-4,\n",
    "    n_epoch=10,\n",
    "    batch_size=256,\n",
    "    beta_schedule=[0.1],\n",
    "    print_freq=100,\n",
    "    device=\"cuda\"\n",
    ")\n",
    "\n",
    "plt.plot(*list(zip(*train_loss_list)), label=\"train loss\")\n",
    "plt.plot(*list(zip(*val_loss_list)), label=\"validation loss\", marker=\"*\")\n",
    "plt.legend()\n",
    "plt.xlabel(\"# of updates\")\n",
    "plt.ylabel(\"Loss function\")\n",
    "plt.show()\n",
    "\n",
    "plt.plot(*list(zip(*val_reconstruct_rate_list)), label=\"reconstruction rate\")\n",
    "plt.legend()\n",
    "plt.xlabel(\"# of updates\")\n",
    "plt.ylabel(\"Reconstruction rate\")\n",
    "plt.show()\n",
    "\n",
    "smiles_list = vae.generate(sample_size=1000, deterministic=True)\n",
    "print(f\"success rate: {valid_ratio(smiles_list)}\")\n",
    "torch.save(vae.state_dict(), \"data/vae.pt\")\n",
    "\n",
    "with open(\"data/vae_smiles.pkl\", \"wb\") as f:\n",
    "    pickle.dump(smiles_list, f)\n",
    "\n",
    "print(smiles_list)"
   ]
  },
  {
   "cell_type": "code",
   "execution_count": null,
   "metadata": {},
   "outputs": [],
   "source": []
  }
 ],
 "metadata": {
  "kernelspec": {
   "display_name": ".venv",
   "language": "python",
   "name": "python3"
  },
  "language_info": {
   "codemirror_mode": {
    "name": "ipython",
    "version": 3
   },
   "file_extension": ".py",
   "mimetype": "text/x-python",
   "name": "python",
   "nbconvert_exporter": "python",
   "pygments_lexer": "ipython3",
   "version": "3.11.6"
  }
 },
 "nbformat": 4,
 "nbformat_minor": 2
}
