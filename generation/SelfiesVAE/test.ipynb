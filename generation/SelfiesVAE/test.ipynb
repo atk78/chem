{
 "cells": [
  {
   "cell_type": "code",
   "execution_count": 5,
   "metadata": {},
   "outputs": [
    {
     "name": "stderr",
     "output_type": "stream",
     "text": [
      "100%|██████████| 10000/10000 [00:00<00:00, 84497.16it/s]\n"
     ]
    },
    {
     "data": {
      "text/plain": [
       "tensor([[ 1,  6,  6,  ...,  0,  0,  0],\n",
       "        [ 1,  6,  6,  ...,  0,  0,  0],\n",
       "        [ 1, 13, 14,  ...,  0,  0,  0],\n",
       "        ...,\n",
       "        [ 1, 12,  6,  ...,  0,  0,  0],\n",
       "        [ 1,  6,  6,  ...,  0,  0,  0],\n",
       "        [ 1,  6, 14,  ...,  0,  0,  0]])"
      ]
     },
     "execution_count": 5,
     "metadata": {},
     "output_type": "execute_result"
    }
   ],
   "source": [
    "from src import token\n",
    "import selfies as sf\n",
    "\n",
    "with open(\"data/train.smi\") as f:\n",
    "    smiles_list = f.readlines()[:10000]\n",
    "\n",
    "smiles_vocab = token.SmilesVocabulary()\n",
    "smiles_tensor = smiles_vocab.batch_update(smiles_list)\n",
    "smiles_tensor"
   ]
  },
  {
   "cell_type": "code",
   "execution_count": 9,
   "metadata": {},
   "outputs": [
    {
     "data": {
      "text/plain": [
       "[' ',\n",
       " '!',\n",
       " '?',\n",
       " '(',\n",
       " ')',\n",
       " 'B',\n",
       " 'C',\n",
       " 'r',\n",
       " '-',\n",
       " '1',\n",
       " '2',\n",
       " '=',\n",
       " 'N',\n",
       " 'O',\n",
       " 'c',\n",
       " '3',\n",
       " 'S',\n",
       " '4',\n",
       " 'l',\n",
       " 'n',\n",
       " '#',\n",
       " 'o',\n",
       " 'F',\n",
       " 'H',\n",
       " '[',\n",
       " ']',\n",
       " '5',\n",
       " 'P',\n",
       " 's',\n",
       " '+',\n",
       " 'I',\n",
       " '6',\n",
       " 'i',\n",
       " '7',\n",
       " 'e',\n",
       " '8']"
      ]
     },
     "execution_count": 9,
     "metadata": {},
     "output_type": "execute_result"
    }
   ],
   "source": [
    "smiles_vocab.char_list"
   ]
  },
  {
   "cell_type": "code",
   "execution_count": 18,
   "metadata": {},
   "outputs": [
    {
     "data": {
      "text/plain": [
       "'CC1(C)CN1CC(O)CNC(=O)C=Cc1ccc([N+](=O)[O-])o1'"
      ]
     },
     "execution_count": 18,
     "metadata": {},
     "output_type": "execute_result"
    }
   ],
   "source": [
    "smiles_list[1110].strip()"
   ]
  },
  {
   "cell_type": "code",
   "execution_count": 40,
   "metadata": {},
   "outputs": [
    {
     "name": "stdout",
     "output_type": "stream",
     "text": [
      "[C][C][C][Branch1][C][C][Branch1][C][C][Br]\n",
      "CCC(C)(C)Br\n"
     ]
    },
    {
     "data": {
      "text/plain": [
       "['[C]',\n",
       " '[C]',\n",
       " '[C]',\n",
       " '[Branch1]',\n",
       " '[C]',\n",
       " '[C]',\n",
       " '[Branch1]',\n",
       " '[C]',\n",
       " '[C]',\n",
       " '[Br]']"
      ]
     },
     "execution_count": 40,
     "metadata": {},
     "output_type": "execute_result"
    }
   ],
   "source": [
    "import re\n",
    "\n",
    "selfies = sf.encoder(smiles_list[0].strip())\n",
    "print(selfies)\n",
    "print(sf.decoder(selfies))\n",
    "selfies = re.findall(pattern=r\"\\[[^\\[\\]]*]\", string=selfies)\n",
    "selfies"
   ]
  },
  {
   "cell_type": "code",
   "execution_count": null,
   "metadata": {},
   "outputs": [],
   "source": []
  }
 ],
 "metadata": {
  "kernelspec": {
   "display_name": ".venv",
   "language": "python",
   "name": "python3"
  },
  "language_info": {
   "codemirror_mode": {
    "name": "ipython",
    "version": 3
   },
   "file_extension": ".py",
   "mimetype": "text/x-python",
   "name": "python",
   "nbconvert_exporter": "python",
   "pygments_lexer": "ipython3",
   "version": "3.11.9"
  }
 },
 "nbformat": 4,
 "nbformat_minor": 2
}
