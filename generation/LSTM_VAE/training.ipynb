{
 "cells": [
  {
   "cell_type": "code",
   "execution_count": 1,
   "metadata": {},
   "outputs": [
    {
     "name": "stdout",
     "output_type": "stream",
     "text": [
      "Loading training SMILES data.\n"
     ]
    },
    {
     "name": "stderr",
     "output_type": "stream",
     "text": [
      "100%|██████████| 1273104/1273104 [00:17<00:00, 73954.36it/s]\n"
     ]
    },
    {
     "name": "stdout",
     "output_type": "stream",
     "text": [
      "Data size: torch.Size([1273104, 102])\n",
      "\n",
      "Loading validation SMILES data.\n"
     ]
    },
    {
     "name": "stderr",
     "output_type": "stream",
     "text": [
      "100%|██████████| 79568/79568 [00:01<00:00, 77025.30it/s]\n"
     ]
    },
    {
     "name": "stdout",
     "output_type": "stream",
     "text": [
      "Data size: torch.Size([79568, 102])\n",
      "\n",
      "Shows the initial molecular SMILES of the training data.\n",
      "CCC(C)(C)Br\n",
      "Convert to token.\n",
      "tensor([1, 6, 6, 6, 3, 6, 4, 3, 6, 4, 5, 7, 2])\n"
     ]
    },
    {
     "name": "stderr",
     "output_type": "stream",
     "text": [
      "GPU available: True (cuda), used: True\n",
      "TPU available: False, using: 0 TPU cores\n",
      "IPU available: False, using: 0 IPUs\n",
      "HPU available: False, using: 0 HPUs\n",
      "You are using a CUDA device ('NVIDIA GeForce RTX 4060 Ti') that has Tensor Cores. To properly utilize them, you should set `torch.set_float32_matmul_precision('medium' | 'high')` which will trade-off precision for performance. For more details, read https://pytorch.org/docs/stable/generated/torch.set_float32_matmul_precision.html#torch.set_float32_matmul_precision\n",
      "LOCAL_RANK: 0 - CUDA_VISIBLE_DEVICES: [0]\n",
      "\n",
      "  | Name           | Type             | Params\n",
      "----------------------------------------------------\n",
      "0 | lstm           | LSTM             | 5.3 M \n",
      "1 | out_linear     | Linear           | 21.0 K\n",
      "2 | out_activation | Softmax          | 0     \n",
      "3 | loss_func      | CrossEntropyLoss | 0     \n",
      "----------------------------------------------------\n",
      "5.4 M     Trainable params\n",
      "0         Non-trainable params\n",
      "5.4 M     Total params\n",
      "21.441    Total estimated model params size (MB)\n",
      "Epoch 1:   6%|▌         | 615/9946 [00:28<04:40, 33.22it/s, loss=0.046] "
     ]
    }
   ],
   "source": [
    "import warnings\n",
    "from src import train\n",
    "\n",
    "warnings.simplefilter(\"ignore\")\n",
    "\n",
    "\n",
    "with open(\"data/train.smi\") as f:\n",
    "    train_smiles_list = f.readlines()\n",
    "\n",
    "with open(\"data/valid.smi\") as f:\n",
    "    valid_smiles_list = f.readlines()\n",
    "\n",
    "train.main(train_smiles_list, valid_smiles_list, epochs=2, output_dir=\"outputs\")"
   ]
  },
  {
   "cell_type": "code",
   "execution_count": null,
   "metadata": {},
   "outputs": [],
   "source": []
  }
 ],
 "metadata": {
  "kernelspec": {
   "display_name": ".venv",
   "language": "python",
   "name": "python3"
  },
  "language_info": {
   "codemirror_mode": {
    "name": "ipython",
    "version": 3
   },
   "file_extension": ".py",
   "mimetype": "text/x-python",
   "name": "python",
   "nbconvert_exporter": "python",
   "pygments_lexer": "ipython3",
   "version": "3.11.8"
  }
 },
 "nbformat": 4,
 "nbformat_minor": 2
}
