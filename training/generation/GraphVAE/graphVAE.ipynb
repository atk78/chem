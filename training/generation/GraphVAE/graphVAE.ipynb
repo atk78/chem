{
 "cells": [
  {
   "cell_type": "markdown",
   "metadata": {},
   "source": [
    "https://sponde25.github.io/approxbayes/graph%20generation/pytorch/pygeometric/tutorial/2020/06/24/graphvae.html"
   ]
  },
  {
   "cell_type": "code",
   "execution_count": null,
   "metadata": {},
   "outputs": [],
   "source": []
  }
 ],
 "metadata": {
  "language_info": {
   "name": "python"
  }
 },
 "nbformat": 4,
 "nbformat_minor": 2
}
