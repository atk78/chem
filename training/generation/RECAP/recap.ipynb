{
 "cells": [
  {
   "cell_type": "markdown",
   "metadata": {},
   "source": [
    "# RECAP\n",
    "分子を合成する際に逆合成の可能性が高い構造（アミド基やエステル基など11種類の部分構造）に基づいてフラグメント化する。(Retrosynthetic Combinatorial Analysis Procedure)\n",
    "\n",
    "https://qiita.com/ottantachinque/items/c2b2e2528f097afe8eeb"
   ]
  },
  {
   "cell_type": "code",
   "execution_count": 3,
   "metadata": {},
   "outputs": [
    {
     "data": {
      "text/plain": [
       "sample_1                C=CC#N\n",
       "sample_2                C=CC=O\n",
       "sample_3             C=CC(=O)O\n",
       "sample_4                C=CCCl\n",
       "sample_5                  C=CC\n",
       "                    ...       \n",
       "sample_290    CCCCCCCCCCCCCCCC\n",
       "sample_291             CC(C)Br\n",
       "sample_292          CC(C)(C)Cl\n",
       "sample_293           Cc1ccncc1\n",
       "sample_294           CCCCCOC=O\n",
       "Name: SMILES, Length: 294, dtype: object"
      ]
     },
     "metadata": {},
     "output_type": "display_data"
    }
   ],
   "source": [
    "import pandas as pd\n",
    "from rdkit import rdBase, Chem\n",
    "from rdkit.Chem import AllChem, Draw, BRICS, Recap\n",
    "\n",
    "filename = \"molecule.csv\"\n",
    "number_of_generated_structures = 1000\n",
    "\n",
    "dataset = pd.read_csv(filename, index_col=0)\n",
    "smiles = dataset.iloc[:, 0]\n",
    "display(smiles)"
   ]
  },
  {
   "cell_type": "code",
   "execution_count": 11,
   "metadata": {},
   "outputs": [
    {
     "name": "stdout",
     "output_type": "stream",
     "text": [
      "読み込んだ分子の数 : 294\n",
      "フラグメントへの分解\n",
      "生成されたフラグメントの数 : 75\n",
      "1番目のフラグメント : *CC(C)(C)C\n"
     ]
    }
   ],
   "source": [
    "molecules = [Chem.MolFromSmiles(smiles_i) for smiles_i in smiles]\n",
    "print(\"読み込んだ分子の数 :\", len(molecules))\n",
    "print(\"フラグメントへの分解\")\n",
    "fragments = set()\n",
    "for mol in molecules:\n",
    "    fragment = Recap.RecapDecompose(mol, minFragmentSize=1)\n",
    "    fragment = [leaf.mol for leaf in fragment.GetLeaves().values()]\n",
    "    fragment = set([Chem.MolToSmiles(mol) for mol in fragment])\n",
    "    fragments.update(fragment)\n",
    "print(\"生成されたフラグメントの数 :\", len(fragments))\n",
    "print(\"1番目のフラグメント :\", list(fragments)[0])"
   ]
  },
  {
   "cell_type": "code",
   "execution_count": 17,
   "metadata": {},
   "outputs": [
    {
     "name": "stdout",
     "output_type": "stream",
     "text": [
      "<generator object BRICSBuild at 0x000001E095AB41C0>\n"
     ]
    },
    {
     "data": {
      "text/html": [
       "<div>\n",
       "<style scoped>\n",
       "    .dataframe tbody tr th:only-of-type {\n",
       "        vertical-align: middle;\n",
       "    }\n",
       "\n",
       "    .dataframe tbody tr th {\n",
       "        vertical-align: top;\n",
       "    }\n",
       "\n",
       "    .dataframe thead th {\n",
       "        text-align: right;\n",
       "    }\n",
       "</style>\n",
       "<table border=\"1\" class=\"dataframe\">\n",
       "  <thead>\n",
       "    <tr style=\"text-align: right;\">\n",
       "      <th></th>\n",
       "      <th>SMILES</th>\n",
       "    </tr>\n",
       "  </thead>\n",
       "  <tbody>\n",
       "  </tbody>\n",
       "</table>\n",
       "</div>"
      ],
      "text/plain": [
       "Empty DataFrame\n",
       "Columns: [SMILES]\n",
       "Index: []"
      ]
     },
     "execution_count": 17,
     "metadata": {},
     "output_type": "execute_result"
    }
   ],
   "source": [
    "# 化学構造生成\n",
    "generated_structures = BRICS.BRICSBuild([Chem.MolFromSmiles(fragment) for fragment in list(fragments)])\n",
    "smiles_of_generated_structures = []\n",
    "for idx, structure in enumerate(generated_structures):\n",
    "    print(f\"{idx + 1}/ {number_of_generated_structures}\")\n",
    "    structure.UpdatePropertyCache(True)\n",
    "    smiles_of_generated_structures.append(Chem.MolToSmiles(structure))\n",
    "    if idx + 1 >= number_of_generated_structures:\n",
    "        break\n",
    "smiles_of_generated_structures = pd.DataFrame(smiles_of_generated_structures, columns=[\"SMILES\"])\n",
    "smiles_of_generated_structures.to_csv(\"generate_structure_RECAP.csv\", header=False, index=False)\n",
    "smiles_of_generated_structures"
   ]
  },
  {
   "cell_type": "code",
   "execution_count": null,
   "metadata": {},
   "outputs": [],
   "source": []
  }
 ],
 "metadata": {
  "kernelspec": {
   "display_name": ".venv",
   "language": "python",
   "name": "python3"
  },
  "language_info": {
   "codemirror_mode": {
    "name": "ipython",
    "version": 3
   },
   "file_extension": ".py",
   "mimetype": "text/x-python",
   "name": "python",
   "nbconvert_exporter": "python",
   "pygments_lexer": "ipython3",
   "version": "3.11.8"
  }
 },
 "nbformat": 4,
 "nbformat_minor": 2
}
