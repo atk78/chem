{
 "cells": [
  {
   "cell_type": "code",
   "execution_count": null,
   "metadata": {},
   "outputs": [
    {
     "name": "stdout",
     "output_type": "stream",
     "text": [
      "shape: (5, 2)\n",
      "┌───────────┬────────┐\n",
      "│ smiles    ┆ tg     │\n",
      "│ ---       ┆ ---    │\n",
      "│ str       ┆ f64    │\n",
      "╞═══════════╪════════╡\n",
      "│ *C*       ┆ -120.0 │\n",
      "│ *CC*      ┆ -120.0 │\n",
      "│ *CC(*)C   ┆ -3.0   │\n",
      "│ *CC(*)CC  ┆ -24.1  │\n",
      "│ *CC(*)CCC ┆ -37.0  │\n",
      "└───────────┴────────┘\n",
      "2024-11-20 22:31:43 | INFO |    OS: Windows\n",
      "2024-11-20 22:31:43 | INFO |    precision is 16\n",
      "2024-11-20 22:31:54 | INFO |    Scaling output.\n",
      "2024-11-20 22:31:54 | INFO |    Dava validation method: kfold.\n",
      "2024-11-20 22:31:54 | INFO |    Num of fold: 3\n"
     ]
    },
    {
     "name": "stderr",
     "output_type": "stream",
     "text": [
      "[I 2024-11-20 22:31:54,150] A new study created in memory with name: no-name-e8b691b0-a8e1-4361-97bd-a8e300aa882a\n"
     ]
    },
    {
     "name": "stdout",
     "output_type": "stream",
     "text": [
      "2024-11-20 22:31:54 | INFO |    A new study created in memory with name: no-name-e8b691b0-a8e1-4361-97bd-a8e300aa882a\n"
     ]
    },
    {
     "name": "stderr",
     "output_type": "stream",
     "text": [
      "Fold: 0: 100%|██████████| 20/20 [00:19<00:00,  1.01it/s, loss=0.0010 valid_loss=0.0010 valid_r2=0.7859]\n",
      "Fold: 1: 100%|██████████| 20/20 [00:19<00:00,  1.03it/s, loss=0.0010 valid_loss=0.0010 valid_r2=0.8037]\n",
      "Fold: 2: 100%|██████████| 20/20 [00:20<00:00,  1.03s/it, loss=0.0010 valid_loss=0.0010 valid_r2=0.8066] \n",
      "[I 2024-11-20 22:32:57,032] Trial 0 finished with value: 0.00046694915708635166 and parameters: {'learning_rate': 0.0013292918943162175, 'n_conv_hidden_layer': 5, 'n_dense_hidden_layer': 4, 'n_graph_dim': 5, 'n_dense_dim': 3, 'drop_rate': 0.0}. Best is trial 0 with value: 0.00046694915708635166.\n"
     ]
    },
    {
     "name": "stdout",
     "output_type": "stream",
     "text": [
      "2024-11-20 22:32:57 | INFO |    Trial 0 finished with value: 0.00046694915708635166 and parameters: {'learning_rate': 0.0013292918943162175, 'n_conv_hidden_layer': 5, 'n_dense_hidden_layer': 4, 'n_graph_dim': 5, 'n_dense_dim': 3, 'drop_rate': 0.0}. Best is trial 0 with value: 0.00046694915708635166.\n"
     ]
    },
    {
     "name": "stderr",
     "output_type": "stream",
     "text": [
      "Fold: 0: 100%|██████████| 20/20 [00:20<00:00,  1.02s/it, loss=0.0028 valid_loss=0.0026 valid_r2=-1.0756]\n",
      "Fold: 1: 100%|██████████| 20/20 [00:20<00:00,  1.00s/it, loss=0.0028 valid_loss=0.0026 valid_r2=-0.7633]\n",
      "Fold: 2: 100%|██████████| 20/20 [00:19<00:00,  1.04it/s, loss=0.0027 valid_loss=0.0027 valid_r2=-0.5940]\n",
      "[I 2024-11-20 22:33:59,984] Trial 1 finished with value: 0.0012694995414857808 and parameters: {'learning_rate': 0.00014936568554617635, 'n_conv_hidden_layer': 5, 'n_dense_hidden_layer': 4, 'n_graph_dim': 6, 'n_dense_dim': 3, 'drop_rate': 0.3}. Best is trial 0 with value: 0.00046694915708635166.\n"
     ]
    },
    {
     "name": "stdout",
     "output_type": "stream",
     "text": [
      "2024-11-20 22:33:59 | INFO |    Trial 1 finished with value: 0.0012694995414857808 and parameters: {'learning_rate': 0.00014936568554617635, 'n_conv_hidden_layer': 5, 'n_dense_hidden_layer': 4, 'n_graph_dim': 6, 'n_dense_dim': 3, 'drop_rate': 0.3}. Best is trial 0 with value: 0.00046694915708635166.\n"
     ]
    },
    {
     "name": "stderr",
     "output_type": "stream",
     "text": [
      "Fold: 0: 100%|██████████| 20/20 [00:16<00:00,  1.21it/s, loss=0.0011 valid_loss=0.0011 valid_r2=0.7669]\n",
      "Fold: 1: 100%|██████████| 20/20 [00:16<00:00,  1.21it/s, loss=0.0011 valid_loss=0.0011 valid_r2=0.7426]\n",
      "Fold: 2: 100%|██████████| 20/20 [00:16<00:00,  1.22it/s, loss=0.0011 valid_loss=0.0014 valid_r2=0.4634] \n",
      "[I 2024-11-20 22:34:52,544] Trial 2 finished with value: 0.0006313453256239218 and parameters: {'learning_rate': 0.03142880890840111, 'n_conv_hidden_layer': 2, 'n_dense_hidden_layer': 1, 'n_graph_dim': 3, 'n_dense_dim': 4, 'drop_rate': 0.2}. Best is trial 0 with value: 0.00046694915708635166.\n"
     ]
    },
    {
     "name": "stdout",
     "output_type": "stream",
     "text": [
      "2024-11-20 22:34:52 | INFO |    Trial 2 finished with value: 0.0006313453256239218 and parameters: {'learning_rate': 0.03142880890840111, 'n_conv_hidden_layer': 2, 'n_dense_hidden_layer': 1, 'n_graph_dim': 3, 'n_dense_dim': 4, 'drop_rate': 0.2}. Best is trial 0 with value: 0.00046694915708635166.\n"
     ]
    },
    {
     "name": "stderr",
     "output_type": "stream",
     "text": [
      "Fold: 0: 100%|██████████| 20/20 [00:16<00:00,  1.21it/s, loss=0.0013 valid_loss=0.0012 valid_r2=0.5986]\n",
      "Fold: 1: 100%|██████████| 20/20 [00:16<00:00,  1.18it/s, loss=0.0012 valid_loss=0.0012 valid_r2=0.5192]\n",
      "Fold: 2: 100%|██████████| 20/20 [00:16<00:00,  1.19it/s, loss=0.0013 valid_loss=0.0012 valid_r2=0.5723]\n",
      "[I 2024-11-20 22:35:45,954] Trial 3 finished with value: 0.0005917800783110369 and parameters: {'learning_rate': 0.0019762189340280074, 'n_conv_hidden_layer': 2, 'n_dense_hidden_layer': 4, 'n_graph_dim': 3, 'n_dense_dim': 4, 'drop_rate': 0.1}. Best is trial 0 with value: 0.00046694915708635166.\n"
     ]
    },
    {
     "name": "stdout",
     "output_type": "stream",
     "text": [
      "2024-11-20 22:35:45 | INFO |    Trial 3 finished with value: 0.0005917800783110369 and parameters: {'learning_rate': 0.0019762189340280074, 'n_conv_hidden_layer': 2, 'n_dense_hidden_layer': 4, 'n_graph_dim': 3, 'n_dense_dim': 4, 'drop_rate': 0.1}. Best is trial 0 with value: 0.00046694915708635166.\n"
     ]
    },
    {
     "name": "stderr",
     "output_type": "stream",
     "text": [
      "Fold: 0: 100%|██████████| 20/20 [00:18<00:00,  1.10it/s, loss=0.0009 valid_loss=0.0012 valid_r2=0.3982]\n",
      "Fold: 1: 100%|██████████| 20/20 [00:17<00:00,  1.12it/s, loss=0.0008 valid_loss=0.0010 valid_r2=0.7974]\n",
      "Fold: 2: 100%|██████████| 20/20 [00:17<00:00,  1.12it/s, loss=0.0009 valid_loss=0.0009 valid_r2=0.7963]\n",
      "[I 2024-11-20 22:36:43,054] Trial 4 finished with value: 0.000462987442157628 and parameters: {'learning_rate': 0.0023345864076016252, 'n_conv_hidden_layer': 4, 'n_dense_hidden_layer': 1, 'n_graph_dim': 5, 'n_dense_dim': 5, 'drop_rate': 0.0}. Best is trial 4 with value: 0.000462987442157628.\n"
     ]
    },
    {
     "name": "stdout",
     "output_type": "stream",
     "text": [
      "2024-11-20 22:36:43 | INFO |    Trial 4 finished with value: 0.000462987442157628 and parameters: {'learning_rate': 0.0023345864076016252, 'n_conv_hidden_layer': 4, 'n_dense_hidden_layer': 1, 'n_graph_dim': 5, 'n_dense_dim': 5, 'drop_rate': 0.0}. Best is trial 4 with value: 0.000462987442157628.\n"
     ]
    },
    {
     "name": "stderr",
     "output_type": "stream",
     "text": [
      "Fold: 0: 100%|██████████| 20/20 [00:15<00:00,  1.33it/s, loss=0.0010 valid_loss=0.0073 valid_r2=0.0087]\n",
      "Fold: 1: 100%|██████████| 20/20 [00:14<00:00,  1.35it/s, loss=0.0011 valid_loss=0.0011 valid_r2=0.7482]\n",
      "Fold: 2: 100%|██████████| 20/20 [00:15<00:00,  1.32it/s, loss=0.0011 valid_loss=0.0010 valid_r2=0.8039]\n",
      "[I 2024-11-20 22:37:31,143] Trial 5 finished with value: 0.0007389106782567158 and parameters: {'learning_rate': 0.006647135865318032, 'n_conv_hidden_layer': 1, 'n_dense_hidden_layer': 1, 'n_graph_dim': 7, 'n_dense_dim': 7, 'drop_rate': 0.3}. Best is trial 4 with value: 0.000462987442157628.\n"
     ]
    },
    {
     "name": "stdout",
     "output_type": "stream",
     "text": [
      "2024-11-20 22:37:31 | INFO |    Trial 5 finished with value: 0.0007389106782567158 and parameters: {'learning_rate': 0.006647135865318032, 'n_conv_hidden_layer': 1, 'n_dense_hidden_layer': 1, 'n_graph_dim': 7, 'n_dense_dim': 7, 'drop_rate': 0.3}. Best is trial 4 with value: 0.000462987442157628.\n"
     ]
    },
    {
     "name": "stderr",
     "output_type": "stream",
     "text": [
      "Fold: 0: 100%|██████████| 20/20 [00:15<00:00,  1.26it/s, loss=0.0014 valid_loss=0.0013 valid_r2=0.4510]\n",
      "Fold: 1: 100%|██████████| 20/20 [00:15<00:00,  1.27it/s, loss=0.0014 valid_loss=0.0014 valid_r2=0.4527]\n",
      "Fold: 2: 100%|██████████| 20/20 [00:15<00:00,  1.27it/s, loss=0.0014 valid_loss=0.0014 valid_r2=0.4914]\n",
      "[I 2024-11-20 22:38:21,513] Trial 6 finished with value: 0.0006529343725987308 and parameters: {'learning_rate': 0.0008200518402245837, 'n_conv_hidden_layer': 1, 'n_dense_hidden_layer': 4, 'n_graph_dim': 5, 'n_dense_dim': 3, 'drop_rate': 0.1}. Best is trial 4 with value: 0.000462987442157628.\n"
     ]
    },
    {
     "name": "stdout",
     "output_type": "stream",
     "text": [
      "2024-11-20 22:38:21 | INFO |    Trial 6 finished with value: 0.0006529343725987308 and parameters: {'learning_rate': 0.0008200518402245837, 'n_conv_hidden_layer': 1, 'n_dense_hidden_layer': 4, 'n_graph_dim': 5, 'n_dense_dim': 3, 'drop_rate': 0.1}. Best is trial 4 with value: 0.000462987442157628.\n"
     ]
    },
    {
     "name": "stderr",
     "output_type": "stream",
     "text": [
      "Fold: 0: 100%|██████████| 20/20 [00:19<00:00,  1.03it/s, loss=0.0019 valid_loss=0.0019 valid_r2=0.4068]\n",
      "Fold: 1: 100%|██████████| 20/20 [00:19<00:00,  1.04it/s, loss=0.0019 valid_loss=0.0019 valid_r2=0.4073]\n",
      "Fold: 2: 100%|██████████| 20/20 [00:19<00:00,  1.02it/s, loss=0.0019 valid_loss=0.0019 valid_r2=0.4373]\n",
      "[I 2024-11-20 22:39:22,980] Trial 7 finished with value: 0.0008970819216668012 and parameters: {'learning_rate': 0.00012681352169084607, 'n_conv_hidden_layer': 5, 'n_dense_hidden_layer': 2, 'n_graph_dim': 6, 'n_dense_dim': 4, 'drop_rate': 0.2}. Best is trial 4 with value: 0.000462987442157628.\n"
     ]
    },
    {
     "name": "stdout",
     "output_type": "stream",
     "text": [
      "2024-11-20 22:39:22 | INFO |    Trial 7 finished with value: 0.0008970819216668012 and parameters: {'learning_rate': 0.00012681352169084607, 'n_conv_hidden_layer': 5, 'n_dense_hidden_layer': 2, 'n_graph_dim': 6, 'n_dense_dim': 4, 'drop_rate': 0.2}. Best is trial 4 with value: 0.000462987442157628.\n"
     ]
    },
    {
     "name": "stderr",
     "output_type": "stream",
     "text": [
      "Fold: 0: 100%|██████████| 20/20 [00:15<00:00,  1.28it/s, loss=0.0010 valid_loss=0.0011 valid_r2=0.7919]\n",
      "Fold: 1: 100%|██████████| 20/20 [00:15<00:00,  1.29it/s, loss=0.0011 valid_loss=0.0011 valid_r2=0.7483]\n",
      "Fold: 2: 100%|██████████| 20/20 [00:15<00:00,  1.29it/s, loss=0.0011 valid_loss=0.0011 valid_r2=0.7944]\n",
      "[I 2024-11-20 22:40:12,588] Trial 8 finished with value: 0.0005441733304303539 and parameters: {'learning_rate': 0.004366473592979638, 'n_conv_hidden_layer': 1, 'n_dense_hidden_layer': 5, 'n_graph_dim': 6, 'n_dense_dim': 7, 'drop_rate': 0.3}. Best is trial 4 with value: 0.000462987442157628.\n"
     ]
    },
    {
     "name": "stdout",
     "output_type": "stream",
     "text": [
      "2024-11-20 22:40:12 | INFO |    Trial 8 finished with value: 0.0005441733304303539 and parameters: {'learning_rate': 0.004366473592979638, 'n_conv_hidden_layer': 1, 'n_dense_hidden_layer': 5, 'n_graph_dim': 6, 'n_dense_dim': 7, 'drop_rate': 0.3}. Best is trial 4 with value: 0.000462987442157628.\n"
     ]
    },
    {
     "name": "stderr",
     "output_type": "stream",
     "text": [
      "Fold: 0: 100%|██████████| 20/20 [00:19<00:00,  1.02it/s, loss=0.0011 valid_loss=0.0011 valid_r2=0.7651]\n",
      "Fold: 1: 100%|██████████| 20/20 [00:19<00:00,  1.04it/s, loss=0.0011 valid_loss=0.0011 valid_r2=0.7202]\n",
      "Fold: 2: 100%|██████████| 20/20 [00:18<00:00,  1.06it/s, loss=0.0011 valid_loss=0.0011 valid_r2=0.7832]\n",
      "[I 2024-11-20 22:41:13,724] Trial 9 finished with value: 0.0005274327006133453 and parameters: {'learning_rate': 0.00621870472776908, 'n_conv_hidden_layer': 5, 'n_dense_hidden_layer': 1, 'n_graph_dim': 3, 'n_dense_dim': 3, 'drop_rate': 0.1}. Best is trial 4 with value: 0.000462987442157628.\n"
     ]
    },
    {
     "name": "stdout",
     "output_type": "stream",
     "text": [
      "2024-11-20 22:41:13 | INFO |    Trial 9 finished with value: 0.0005274327006133453 and parameters: {'learning_rate': 0.00621870472776908, 'n_conv_hidden_layer': 5, 'n_dense_hidden_layer': 1, 'n_graph_dim': 3, 'n_dense_dim': 3, 'drop_rate': 0.1}. Best is trial 4 with value: 0.000462987442157628.\n"
     ]
    },
    {
     "name": "stderr",
     "output_type": "stream",
     "text": [
      "Fold: 0: 100%|██████████| 20/20 [00:17<00:00,  1.16it/s, loss=0.0014 valid_loss=0.0013 valid_r2=0.4923]\n",
      "Fold: 1: 100%|██████████| 20/20 [00:16<00:00,  1.18it/s, loss=0.0014 valid_loss=0.0013 valid_r2=0.4773]\n",
      "Fold: 2: 100%|██████████| 20/20 [00:16<00:00,  1.18it/s, loss=0.0014 valid_loss=0.0013 valid_r2=0.4787]\n",
      "[I 2024-11-20 22:42:08,032] Trial 10 finished with value: 0.0006436933262472126 and parameters: {'learning_rate': 0.001465655388622534, 'n_conv_hidden_layer': 2, 'n_dense_hidden_layer': 5, 'n_graph_dim': 4, 'n_dense_dim': 4, 'drop_rate': 0.2}. Best is trial 4 with value: 0.000462987442157628.\n"
     ]
    },
    {
     "name": "stdout",
     "output_type": "stream",
     "text": [
      "2024-11-20 22:42:08 | INFO |    Trial 10 finished with value: 0.0006436933262472126 and parameters: {'learning_rate': 0.001465655388622534, 'n_conv_hidden_layer': 2, 'n_dense_hidden_layer': 5, 'n_graph_dim': 4, 'n_dense_dim': 4, 'drop_rate': 0.2}. Best is trial 4 with value: 0.000462987442157628.\n"
     ]
    },
    {
     "name": "stderr",
     "output_type": "stream",
     "text": [
      "Fold: 0: 100%|██████████| 20/20 [00:18<00:00,  1.06it/s, loss=0.0008 valid_loss=0.0009 valid_r2=0.8274]\n",
      "Fold: 1: 100%|██████████| 20/20 [00:19<00:00,  1.05it/s, loss=0.0008 valid_loss=0.0010 valid_r2=0.8296]\n",
      "Fold: 2: 100%|██████████| 20/20 [00:18<00:00,  1.06it/s, loss=0.0008 valid_loss=0.0010 valid_r2=0.8221]\n",
      "[I 2024-11-20 22:43:07,944] Trial 11 finished with value: 0.00046342713708843254 and parameters: {'learning_rate': 0.00026471141828218194, 'n_conv_hidden_layer': 5, 'n_dense_hidden_layer': 1, 'n_graph_dim': 7, 'n_dense_dim': 6, 'drop_rate': 0.0}. Best is trial 4 with value: 0.000462987442157628.\n"
     ]
    },
    {
     "name": "stdout",
     "output_type": "stream",
     "text": [
      "2024-11-20 22:43:07 | INFO |    Trial 11 finished with value: 0.00046342713708843254 and parameters: {'learning_rate': 0.00026471141828218194, 'n_conv_hidden_layer': 5, 'n_dense_hidden_layer': 1, 'n_graph_dim': 7, 'n_dense_dim': 6, 'drop_rate': 0.0}. Best is trial 4 with value: 0.000462987442157628.\n"
     ]
    },
    {
     "name": "stderr",
     "output_type": "stream",
     "text": [
      "Fold: 0: 100%|██████████| 20/20 [00:19<00:00,  1.02it/s, loss=0.0011 valid_loss=0.0011 valid_r2=0.7179]\n",
      "Fold: 1: 100%|██████████| 20/20 [00:19<00:00,  1.02it/s, loss=0.0011 valid_loss=0.0012 valid_r2=0.7105]\n",
      "Fold: 2: 100%|██████████| 20/20 [00:19<00:00,  1.04it/s, loss=0.0011 valid_loss=0.0012 valid_r2=0.7175]\n",
      "[I 2024-11-20 22:44:09,483] Trial 12 finished with value: 0.0005625358027648211 and parameters: {'learning_rate': 0.00010388823104027947, 'n_conv_hidden_layer': 5, 'n_dense_hidden_layer': 4, 'n_graph_dim': 6, 'n_dense_dim': 6, 'drop_rate': 0.0}. Best is trial 4 with value: 0.000462987442157628.\n"
     ]
    },
    {
     "name": "stdout",
     "output_type": "stream",
     "text": [
      "2024-11-20 22:44:09 | INFO |    Trial 12 finished with value: 0.0005625358027648211 and parameters: {'learning_rate': 0.00010388823104027947, 'n_conv_hidden_layer': 5, 'n_dense_hidden_layer': 4, 'n_graph_dim': 6, 'n_dense_dim': 6, 'drop_rate': 0.0}. Best is trial 4 with value: 0.000462987442157628.\n"
     ]
    },
    {
     "name": "stderr",
     "output_type": "stream",
     "text": [
      "Fold: 0: 100%|██████████| 20/20 [00:15<00:00,  1.31it/s, loss=0.0009 valid_loss=0.0010 valid_r2=0.7935]\n",
      "Fold: 1: 100%|██████████| 20/20 [00:15<00:00,  1.30it/s, loss=0.0010 valid_loss=0.0011 valid_r2=0.6956]\n",
      "Fold: 2: 100%|██████████| 20/20 [00:15<00:00,  1.30it/s, loss=0.0010 valid_loss=0.0010 valid_r2=0.7901]\n",
      "[I 2024-11-20 22:44:58,642] Trial 13 finished with value: 0.0004853039737852535 and parameters: {'learning_rate': 0.0011895896737553553, 'n_conv_hidden_layer': 1, 'n_dense_hidden_layer': 5, 'n_graph_dim': 6, 'n_dense_dim': 4, 'drop_rate': 0.0}. Best is trial 4 with value: 0.000462987442157628.\n"
     ]
    },
    {
     "name": "stdout",
     "output_type": "stream",
     "text": [
      "2024-11-20 22:44:58 | INFO |    Trial 13 finished with value: 0.0004853039737852535 and parameters: {'learning_rate': 0.0011895896737553553, 'n_conv_hidden_layer': 1, 'n_dense_hidden_layer': 5, 'n_graph_dim': 6, 'n_dense_dim': 4, 'drop_rate': 0.0}. Best is trial 4 with value: 0.000462987442157628.\n"
     ]
    },
    {
     "name": "stderr",
     "output_type": "stream",
     "text": [
      "Fold: 0: 100%|██████████| 20/20 [00:16<00:00,  1.21it/s, loss=0.0009 valid_loss=0.0010 valid_r2=0.8153]\n",
      "Fold: 1: 100%|██████████| 20/20 [00:16<00:00,  1.21it/s, loss=0.0009 valid_loss=0.0010 valid_r2=0.7882]\n",
      "Fold: 2: 100%|██████████| 20/20 [00:16<00:00,  1.22it/s, loss=0.0009 valid_loss=0.0010 valid_r2=0.7842]\n",
      "[I 2024-11-20 22:45:51,180] Trial 14 finished with value: 0.00047749050385260017 and parameters: {'learning_rate': 0.0008569331925053991, 'n_conv_hidden_layer': 2, 'n_dense_hidden_layer': 4, 'n_graph_dim': 6, 'n_dense_dim': 7, 'drop_rate': 0.1}. Best is trial 4 with value: 0.000462987442157628.\n"
     ]
    },
    {
     "name": "stdout",
     "output_type": "stream",
     "text": [
      "2024-11-20 22:45:51 | INFO |    Trial 14 finished with value: 0.00047749050385260017 and parameters: {'learning_rate': 0.0008569331925053991, 'n_conv_hidden_layer': 2, 'n_dense_hidden_layer': 4, 'n_graph_dim': 6, 'n_dense_dim': 7, 'drop_rate': 0.1}. Best is trial 4 with value: 0.000462987442157628.\n"
     ]
    },
    {
     "name": "stderr",
     "output_type": "stream",
     "text": [
      "Fold: 0: 100%|██████████| 20/20 [00:19<00:00,  1.05it/s, loss=0.0014 valid_loss=0.0013 valid_r2=0.5701]\n",
      "Fold: 1: 100%|██████████| 20/20 [00:18<00:00,  1.08it/s, loss=0.0014 valid_loss=0.0013 valid_r2=0.5992]\n",
      "Fold: 2: 100%|██████████| 20/20 [00:18<00:00,  1.07it/s, loss=0.0014 valid_loss=0.0014 valid_r2=0.5590]\n",
      "[I 2024-11-20 22:46:50,678] Trial 15 finished with value: 0.0006524759114764546 and parameters: {'learning_rate': 0.00022844556850020554, 'n_conv_hidden_layer': 4, 'n_dense_hidden_layer': 4, 'n_graph_dim': 5, 'n_dense_dim': 6, 'drop_rate': 0.1}. Best is trial 4 with value: 0.000462987442157628.\n"
     ]
    },
    {
     "name": "stdout",
     "output_type": "stream",
     "text": [
      "2024-11-20 22:46:50 | INFO |    Trial 15 finished with value: 0.0006524759114764546 and parameters: {'learning_rate': 0.00022844556850020554, 'n_conv_hidden_layer': 4, 'n_dense_hidden_layer': 4, 'n_graph_dim': 5, 'n_dense_dim': 6, 'drop_rate': 0.1}. Best is trial 4 with value: 0.000462987442157628.\n"
     ]
    },
    {
     "name": "stderr",
     "output_type": "stream",
     "text": [
      "Fold: 0: 100%|██████████| 20/20 [00:17<00:00,  1.17it/s, loss=0.0012 valid_loss=0.0011 valid_r2=0.6782]\n",
      "Fold: 1: 100%|██████████| 20/20 [00:17<00:00,  1.16it/s, loss=0.0012 valid_loss=0.0013 valid_r2=0.5824]\n",
      "Fold: 2: 100%|██████████| 20/20 [00:17<00:00,  1.16it/s, loss=0.0012 valid_loss=0.0011 valid_r2=0.7232]\n",
      "[I 2024-11-20 22:47:45,490] Trial 16 finished with value: 0.0005640909990466564 and parameters: {'learning_rate': 0.0036999724314638123, 'n_conv_hidden_layer': 3, 'n_dense_hidden_layer': 1, 'n_graph_dim': 3, 'n_dense_dim': 3, 'drop_rate': 0.2}. Best is trial 4 with value: 0.000462987442157628.\n"
     ]
    },
    {
     "name": "stdout",
     "output_type": "stream",
     "text": [
      "2024-11-20 22:47:45 | INFO |    Trial 16 finished with value: 0.0005640909990466564 and parameters: {'learning_rate': 0.0036999724314638123, 'n_conv_hidden_layer': 3, 'n_dense_hidden_layer': 1, 'n_graph_dim': 3, 'n_dense_dim': 3, 'drop_rate': 0.2}. Best is trial 4 with value: 0.000462987442157628.\n"
     ]
    },
    {
     "name": "stderr",
     "output_type": "stream",
     "text": [
      "Fold: 0: 100%|██████████| 20/20 [00:18<00:00,  1.11it/s, loss=0.0015 valid_loss=0.0014 valid_r2=0.4062] \n",
      "Fold: 1: 100%|██████████| 20/20 [00:17<00:00,  1.12it/s, loss=0.0015 valid_loss=0.0014 valid_r2=0.4241]\n",
      "Fold: 2: 100%|██████████| 20/20 [00:17<00:00,  1.14it/s, loss=0.0014 valid_loss=0.0014 valid_r2=0.4353]\n",
      "[I 2024-11-20 22:48:42,105] Trial 17 finished with value: 0.0006670105595348192 and parameters: {'learning_rate': 0.0008771380343280567, 'n_conv_hidden_layer': 3, 'n_dense_hidden_layer': 5, 'n_graph_dim': 4, 'n_dense_dim': 5, 'drop_rate': 0.3}. Best is trial 4 with value: 0.000462987442157628.\n"
     ]
    },
    {
     "name": "stdout",
     "output_type": "stream",
     "text": [
      "2024-11-20 22:48:42 | INFO |    Trial 17 finished with value: 0.0006670105595348192 and parameters: {'learning_rate': 0.0008771380343280567, 'n_conv_hidden_layer': 3, 'n_dense_hidden_layer': 5, 'n_graph_dim': 4, 'n_dense_dim': 5, 'drop_rate': 0.3}. Best is trial 4 with value: 0.000462987442157628.\n"
     ]
    },
    {
     "name": "stderr",
     "output_type": "stream",
     "text": [
      "Fold: 0: 100%|██████████| 20/20 [00:14<00:00,  1.34it/s, loss=0.0013 valid_loss=0.0013 valid_r2=0.5398]\n",
      "Fold: 1: 100%|██████████| 20/20 [00:15<00:00,  1.31it/s, loss=0.0013 valid_loss=0.0013 valid_r2=0.5656]\n",
      "Fold: 2: 100%|██████████| 20/20 [00:15<00:00,  1.30it/s, loss=0.0013 valid_loss=0.0013 valid_r2=0.5922]\n",
      "[I 2024-11-20 22:49:30,797] Trial 18 finished with value: 0.0006206009019798293 and parameters: {'learning_rate': 0.000485729517921717, 'n_conv_hidden_layer': 1, 'n_dense_hidden_layer': 2, 'n_graph_dim': 3, 'n_dense_dim': 7, 'drop_rate': 0.3}. Best is trial 4 with value: 0.000462987442157628.\n"
     ]
    },
    {
     "name": "stdout",
     "output_type": "stream",
     "text": [
      "2024-11-20 22:49:30 | INFO |    Trial 18 finished with value: 0.0006206009019798293 and parameters: {'learning_rate': 0.000485729517921717, 'n_conv_hidden_layer': 1, 'n_dense_hidden_layer': 2, 'n_graph_dim': 3, 'n_dense_dim': 7, 'drop_rate': 0.3}. Best is trial 4 with value: 0.000462987442157628.\n"
     ]
    },
    {
     "name": "stderr",
     "output_type": "stream",
     "text": [
      "Fold: 0: 100%|██████████| 20/20 [00:19<00:00,  1.01it/s, loss=0.0011 valid_loss=0.0011 valid_r2=0.7615]\n",
      "Fold: 1: 100%|██████████| 20/20 [00:19<00:00,  1.03it/s, loss=0.0011 valid_loss=0.0011 valid_r2=0.6918]\n",
      "Fold: 2: 100%|██████████| 20/20 [00:20<00:00,  1.01s/it, loss=0.0011 valid_loss=0.0015 valid_r2=-0.1557]\n",
      "[I 2024-11-20 22:50:33,245] Trial 19 finished with value: 0.0006615038770006196 and parameters: {'learning_rate': 0.007947147424653748, 'n_conv_hidden_layer': 5, 'n_dense_hidden_layer': 5, 'n_graph_dim': 3, 'n_dense_dim': 7, 'drop_rate': 0.2}. Best is trial 4 with value: 0.000462987442157628.\n"
     ]
    },
    {
     "name": "stdout",
     "output_type": "stream",
     "text": [
      "2024-11-20 22:50:33 | INFO |    Trial 19 finished with value: 0.0006615038770006196 and parameters: {'learning_rate': 0.007947147424653748, 'n_conv_hidden_layer': 5, 'n_dense_hidden_layer': 5, 'n_graph_dim': 3, 'n_dense_dim': 7, 'drop_rate': 0.2}. Best is trial 4 with value: 0.000462987442157628.\n"
     ]
    },
    {
     "name": "stderr",
     "output_type": "stream",
     "text": [
      "Fold: 0: 100%|██████████| 20/20 [00:19<00:00,  1.02it/s, loss=0.0011 valid_loss=0.0012 valid_r2=0.6180] \n",
      "Fold: 1: 100%|██████████| 20/20 [00:19<00:00,  1.03it/s, loss=0.0011 valid_loss=0.0016 valid_r2=-0.0221]\n",
      "Exception ignored in: <function _MultiProcessingDataLoaderIter.__del__ at 0x000001DF0B4F6FC0>\n",
      "Traceback (most recent call last):\n",
      "  File \"d:\\programming\\python\\chem\\.venv\\Lib\\site-packages\\torch\\utils\\data\\dataloader.py\", line 1479, in __del__\n",
      "    self._shutdown_workers()\n",
      "  File \"d:\\programming\\python\\chem\\.venv\\Lib\\site-packages\\torch\\utils\\data\\dataloader.py\", line 1443, in _shutdown_workers\n",
      "    w.join(timeout=_utils.MP_STATUS_CHECK_INTERVAL)\n",
      "  File \"C:\\Program Files\\WindowsApps\\PythonSoftwareFoundation.Python.3.11_3.11.2544.0_x64__qbz5n2kfra8p0\\Lib\\multiprocessing\\process.py\", line 149, in join\n",
      "    res = self._popen.wait(timeout)\n",
      "          ^^^^^^^^^^^^^^^^^^^^^^^^^\n",
      "  File \"C:\\Program Files\\WindowsApps\\PythonSoftwareFoundation.Python.3.11_3.11.2544.0_x64__qbz5n2kfra8p0\\Lib\\multiprocessing\\popen_spawn_win32.py\", line 112, in wait\n",
      "    res = _winapi.WaitForSingleObject(int(self._handle), msecs)\n",
      "          ^^^^^^^^^^^^^^^^^^^^^^^^^^^^^^^^^^^^^^^^^^^^^^^^^^^^^\n",
      "KeyboardInterrupt: \n",
      "Fold: 2:   0%|          | 0/20 [00:00<?, ?it/s]"
     ]
    }
   ],
   "source": [
    "import sys\n",
    "import shutil\n",
    "\n",
    "sys.path.append(\"./../\")\n",
    "\n",
    "from pathlib import Path\n",
    "from src import train\n",
    "\n",
    "data_name = \"Tg\"\n",
    "config_dirpath = Path(\"./../configs\")\n",
    "config_filepath = config_dirpath.joinpath(f\"{data_name}.yaml\")\n",
    "train.run(config_filepath=config_filepath)"
   ]
  }
 ],
 "metadata": {
  "kernelspec": {
   "display_name": ".venv",
   "language": "python",
   "name": "python3"
  },
  "language_info": {
   "codemirror_mode": {
    "name": "ipython",
    "version": 3
   },
   "file_extension": ".py",
   "mimetype": "text/x-python",
   "name": "python",
   "nbconvert_exporter": "python",
   "pygments_lexer": "ipython3",
   "version": "3.11.9"
  }
 },
 "nbformat": 4,
 "nbformat_minor": 2
}
