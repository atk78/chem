{
 "cells": [
  {
   "cell_type": "code",
   "execution_count": 1,
   "metadata": {},
   "outputs": [
    {
     "name": "stderr",
     "output_type": "stream",
     "text": [
      "100%|██████████| 3/3 [00:00<?, ?it/s]"
     ]
    },
    {
     "name": "stdout",
     "output_type": "stream",
     "text": [
      "['sos', 'eos', 'C', '(', '*', ')']\n",
      "6\n",
      "9\n",
      "0.0\n"
     ]
    },
    {
     "name": "stderr",
     "output_type": "stream",
     "text": [
      "\n"
     ]
    },
    {
     "data": {
      "text/plain": [
       "tensor([[2, 6, 4, 6, 3, 0, 0, 0, 0],\n",
       "        [2, 6, 4, 4, 6, 3, 0, 0, 0],\n",
       "        [2, 6, 4, 4, 5, 6, 7, 4, 3]], dtype=torch.int32)"
      ]
     },
     "execution_count": 1,
     "metadata": {},
     "output_type": "execute_result"
    }
   ],
   "source": [
    "import polars as pl\n",
    "from src import token\n",
    "\n",
    "length = 3\n",
    "df = pl.read_csv(\"./datasets/processed/Tg.csv\")\n",
    "df = df[:length, :]\n",
    "smiles = df[\"smiles\"]\n",
    "y = df[\"tg\"]\n",
    "\n",
    "\n",
    "tokenized_smiles = token.get_tokens(smiles)\n",
    "# print(token.smiles_tokenizer(smiles[1010]))\n",
    "tokens = list(token.extract_vocab(tokenized_smiles))\n",
    "print(tokens)\n",
    "print(len(tokens))\n",
    "tokens, vocab_size = token.add_extra_tokens(tokens, len(tokens))\n",
    "max_length = max([len(i_smiles) for i_smiles in tokenized_smiles])\n",
    "print(max_length)\n",
    "\n",
    "int_tokens, y = token.convert_to_int_tensor(tokenized_smiles, y, max_length, tokens)\n",
    "\n",
    "int_tokens  # 0.0819"
   ]
  },
  {
   "cell_type": "code",
   "execution_count": 5,
   "metadata": {},
   "outputs": [
    {
     "data": {
      "text/plain": [
       "array([2, 6, 5, 6, 3, 0, 0, 0, 0])"
      ]
     },
     "execution_count": 5,
     "metadata": {},
     "output_type": "execute_result"
    }
   ],
   "source": [
    "int_tokens[0]"
   ]
  },
  {
   "cell_type": "code",
   "execution_count": 2,
   "metadata": {},
   "outputs": [
    {
     "name": "stdout",
     "output_type": "stream",
     "text": [
      "1\n",
      "2\n",
      "3\n"
     ]
    }
   ],
   "source": [
    "for i in set([1, 2, 3]):\n",
    "    print(i)"
   ]
  },
  {
   "cell_type": "code",
   "execution_count": 3,
   "metadata": {},
   "outputs": [
    {
     "ename": "KeyboardInterrupt",
     "evalue": "",
     "output_type": "error",
     "traceback": [
      "\u001b[1;31m---------------------------------------------------------------------------\u001b[0m",
      "\u001b[1;31mKeyboardInterrupt\u001b[0m                         Traceback (most recent call last)",
      "Cell \u001b[1;32mIn[3], line 3\u001b[0m\n\u001b[0;32m      1\u001b[0m \u001b[38;5;28;01mfrom\u001b[39;00m \u001b[38;5;21;01msrc\u001b[39;00m \u001b[38;5;28;01mimport\u001b[39;00m augm\n\u001b[0;32m      2\u001b[0m \u001b[38;5;28;01mimport\u001b[39;00m \u001b[38;5;21;01mnumpy\u001b[39;00m \u001b[38;5;28;01mas\u001b[39;00m \u001b[38;5;21;01mnp\u001b[39;00m\n\u001b[1;32m----> 3\u001b[0m smiles, card, y \u001b[38;5;241m=\u001b[39m \u001b[43maugm\u001b[49m\u001b[38;5;241;43m.\u001b[39;49m\u001b[43maugment_data\u001b[49m\u001b[43m(\u001b[49m\u001b[43msmiles\u001b[49m\u001b[43m,\u001b[49m\u001b[43m \u001b[49m\u001b[43my\u001b[49m\u001b[43m,\u001b[49m\u001b[43m \u001b[49m\u001b[38;5;28;43;01mTrue\u001b[39;49;00m\u001b[43m)\u001b[49m\n\u001b[0;32m      4\u001b[0m tokenized_smiles \u001b[38;5;241m=\u001b[39m token\u001b[38;5;241m.\u001b[39mget_tokens(smiles)\n\u001b[0;32m      5\u001b[0m \u001b[38;5;66;03m# print(token.smiles_tokenizer(smiles[1010]))\u001b[39;00m\n",
      "File \u001b[1;32md:\\programming\\python\\chem\\prediction\\SMILES-X2\\src\\augm.py:73\u001b[0m, in \u001b[0;36maugment_data\u001b[1;34m(smiles_array, prop_array, augmentation)\u001b[0m\n\u001b[0;32m     71\u001b[0m smiles_enum_card \u001b[38;5;241m=\u001b[39m \u001b[38;5;28mlist\u001b[39m()\n\u001b[0;32m     72\u001b[0m \u001b[38;5;28;01mfor\u001b[39;00m idx, i_smiles \u001b[38;5;129;01min\u001b[39;00m \u001b[38;5;28menumerate\u001b[39m(smiles_array):\n\u001b[1;32m---> 73\u001b[0m     enumerated_smiles \u001b[38;5;241m=\u001b[39m \u001b[43mgenerate_smiles\u001b[49m\u001b[43m(\u001b[49m\u001b[43mi_smiles\u001b[49m\u001b[43m,\u001b[49m\u001b[43m \u001b[49m\u001b[43maugmentation\u001b[49m\u001b[43m)\u001b[49m\n\u001b[0;32m     74\u001b[0m     \u001b[38;5;28;01mif\u001b[39;00m \u001b[38;5;124m\"\u001b[39m\u001b[38;5;124mNone\u001b[39m\u001b[38;5;124m\"\u001b[39m \u001b[38;5;129;01mnot\u001b[39;00m \u001b[38;5;129;01min\u001b[39;00m enumerated_smiles:\n\u001b[0;32m     75\u001b[0m         smiles_enum_card\u001b[38;5;241m.\u001b[39mappend(\u001b[38;5;28mlen\u001b[39m(enumerated_smiles))\n",
      "File \u001b[1;32md:\\programming\\python\\chem\\prediction\\SMILES-X2\\src\\augm.py:38\u001b[0m, in \u001b[0;36mgenerate_smiles\u001b[1;34m(smiles, augmentation, kekule)\u001b[0m\n\u001b[0;32m     36\u001b[0m         \u001b[38;5;28;01mexcept\u001b[39;00m:\n\u001b[0;32m     37\u001b[0m             smiles \u001b[38;5;241m=\u001b[39m \u001b[38;5;124m\"\u001b[39m\u001b[38;5;124mNone\u001b[39m\u001b[38;5;124m\"\u001b[39m\n\u001b[1;32m---> 38\u001b[0m         smiles_list\u001b[38;5;241m.\u001b[39mappend(smiles)\n\u001b[0;32m     39\u001b[0m \u001b[38;5;28;01melse\u001b[39;00m:\n\u001b[0;32m     40\u001b[0m     smiles \u001b[38;5;241m=\u001b[39m \u001b[38;5;124m\"\u001b[39m\u001b[38;5;124mNone\u001b[39m\u001b[38;5;124m\"\u001b[39m\n",
      "\u001b[1;31mKeyboardInterrupt\u001b[0m: "
     ]
    }
   ],
   "source": [
    "from src import augm\n",
    "import numpy as np\n",
    "smiles, card, y = augm.augment_data(smiles, y, True)\n",
    "tokenized_smiles = token.get_tokens(smiles)\n",
    "# print(token.smiles_tokenizer(smiles[1010]))\n",
    "tokens = list(token.extract_vocab(tokenized_smiles))\n",
    "print(tokens)\n",
    "print(len(tokens))\n",
    "tokens, vocab_size = token.add_extra_tokens(tokens, len(tokens))\n",
    "max_length = max([len(i_smiles) for i_smiles in tokenized_smiles])\n",
    "print(max_length)\n",
    "\n",
    "int_tokens, y = token.convert_to_int_tensor(tokenized_smiles, y, max_length, tokens)\n",
    "\n",
    "int_tokens"
   ]
  },
  {
   "cell_type": "code",
   "execution_count": null,
   "metadata": {},
   "outputs": [],
   "source": []
  },
  {
   "cell_type": "code",
   "execution_count": null,
   "metadata": {},
   "outputs": [
    {
     "ename": "TypeError",
     "evalue": "'int' object is not iterable",
     "output_type": "error",
     "traceback": [
      "\u001b[1;31m---------------------------------------------------------------------------\u001b[0m",
      "\u001b[1;31mTypeError\u001b[0m                                 Traceback (most recent call last)",
      "Cell \u001b[1;32mIn[3], line 1\u001b[0m\n\u001b[1;32m----> 1\u001b[0m \u001b[38;5;28;43mmax\u001b[39;49m\u001b[43m(\u001b[49m\u001b[43mmax_length\u001b[49m\u001b[43m)\u001b[49m\n",
      "\u001b[1;31mTypeError\u001b[0m: 'int' object is not iterable"
     ]
    }
   ],
   "source": [
    "max(max_length)"
   ]
  },
  {
   "cell_type": "code",
   "execution_count": null,
   "metadata": {},
   "outputs": [],
   "source": []
  }
 ],
 "metadata": {
  "kernelspec": {
   "display_name": ".venv",
   "language": "python",
   "name": "python3"
  },
  "language_info": {
   "codemirror_mode": {
    "name": "ipython",
    "version": 3
   },
   "file_extension": ".py",
   "mimetype": "text/x-python",
   "name": "python",
   "nbconvert_exporter": "python",
   "pygments_lexer": "ipython3",
   "version": "3.11.9"
  }
 },
 "nbformat": 4,
 "nbformat_minor": 2
}
